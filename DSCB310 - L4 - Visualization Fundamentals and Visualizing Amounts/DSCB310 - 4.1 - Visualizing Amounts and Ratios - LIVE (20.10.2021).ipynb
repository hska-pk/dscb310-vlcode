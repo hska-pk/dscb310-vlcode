{
 "cells": [
  {
   "cell_type": "code",
   "execution_count": 1,
   "id": "extensive-barbados",
   "metadata": {},
   "outputs": [],
   "source": [
    "import pandas as pd\n",
    "import numpy as np\n",
    "import missingno as msno\n",
    "import seaborn as sns\n",
    "import plotly.express as px"
   ]
  },
  {
   "cell_type": "code",
   "execution_count": 2,
   "id": "interstate-japan",
   "metadata": {},
   "outputs": [
    {
     "data": {
      "text/html": [
       "<div>\n",
       "<style scoped>\n",
       "    .dataframe tbody tr th:only-of-type {\n",
       "        vertical-align: middle;\n",
       "    }\n",
       "\n",
       "    .dataframe tbody tr th {\n",
       "        vertical-align: top;\n",
       "    }\n",
       "\n",
       "    .dataframe thead th {\n",
       "        text-align: right;\n",
       "    }\n",
       "</style>\n",
       "<table border=\"1\" class=\"dataframe\">\n",
       "  <thead>\n",
       "    <tr style=\"text-align: right;\">\n",
       "      <th></th>\n",
       "      <th>survived</th>\n",
       "      <th>pclass</th>\n",
       "      <th>sex</th>\n",
       "      <th>age</th>\n",
       "      <th>sibsp</th>\n",
       "      <th>parch</th>\n",
       "      <th>fare</th>\n",
       "      <th>embarked</th>\n",
       "      <th>class</th>\n",
       "      <th>who</th>\n",
       "      <th>adult_male</th>\n",
       "      <th>deck</th>\n",
       "      <th>embark_town</th>\n",
       "      <th>alive</th>\n",
       "      <th>alone</th>\n",
       "    </tr>\n",
       "  </thead>\n",
       "  <tbody>\n",
       "    <tr>\n",
       "      <th>0</th>\n",
       "      <td>0</td>\n",
       "      <td>3</td>\n",
       "      <td>male</td>\n",
       "      <td>22.0</td>\n",
       "      <td>1</td>\n",
       "      <td>0</td>\n",
       "      <td>7.2500</td>\n",
       "      <td>S</td>\n",
       "      <td>Third</td>\n",
       "      <td>man</td>\n",
       "      <td>True</td>\n",
       "      <td>NaN</td>\n",
       "      <td>Southampton</td>\n",
       "      <td>no</td>\n",
       "      <td>False</td>\n",
       "    </tr>\n",
       "    <tr>\n",
       "      <th>1</th>\n",
       "      <td>1</td>\n",
       "      <td>1</td>\n",
       "      <td>female</td>\n",
       "      <td>38.0</td>\n",
       "      <td>1</td>\n",
       "      <td>0</td>\n",
       "      <td>71.2833</td>\n",
       "      <td>C</td>\n",
       "      <td>First</td>\n",
       "      <td>woman</td>\n",
       "      <td>False</td>\n",
       "      <td>C</td>\n",
       "      <td>Cherbourg</td>\n",
       "      <td>yes</td>\n",
       "      <td>False</td>\n",
       "    </tr>\n",
       "    <tr>\n",
       "      <th>2</th>\n",
       "      <td>1</td>\n",
       "      <td>3</td>\n",
       "      <td>female</td>\n",
       "      <td>26.0</td>\n",
       "      <td>0</td>\n",
       "      <td>0</td>\n",
       "      <td>7.9250</td>\n",
       "      <td>S</td>\n",
       "      <td>Third</td>\n",
       "      <td>woman</td>\n",
       "      <td>False</td>\n",
       "      <td>NaN</td>\n",
       "      <td>Southampton</td>\n",
       "      <td>yes</td>\n",
       "      <td>True</td>\n",
       "    </tr>\n",
       "    <tr>\n",
       "      <th>3</th>\n",
       "      <td>1</td>\n",
       "      <td>1</td>\n",
       "      <td>female</td>\n",
       "      <td>35.0</td>\n",
       "      <td>1</td>\n",
       "      <td>0</td>\n",
       "      <td>53.1000</td>\n",
       "      <td>S</td>\n",
       "      <td>First</td>\n",
       "      <td>woman</td>\n",
       "      <td>False</td>\n",
       "      <td>C</td>\n",
       "      <td>Southampton</td>\n",
       "      <td>yes</td>\n",
       "      <td>False</td>\n",
       "    </tr>\n",
       "    <tr>\n",
       "      <th>4</th>\n",
       "      <td>0</td>\n",
       "      <td>3</td>\n",
       "      <td>male</td>\n",
       "      <td>35.0</td>\n",
       "      <td>0</td>\n",
       "      <td>0</td>\n",
       "      <td>8.0500</td>\n",
       "      <td>S</td>\n",
       "      <td>Third</td>\n",
       "      <td>man</td>\n",
       "      <td>True</td>\n",
       "      <td>NaN</td>\n",
       "      <td>Southampton</td>\n",
       "      <td>no</td>\n",
       "      <td>True</td>\n",
       "    </tr>\n",
       "  </tbody>\n",
       "</table>\n",
       "</div>"
      ],
      "text/plain": [
       "   survived  pclass     sex   age  sibsp  parch     fare embarked  class  \\\n",
       "0         0       3    male  22.0      1      0   7.2500        S  Third   \n",
       "1         1       1  female  38.0      1      0  71.2833        C  First   \n",
       "2         1       3  female  26.0      0      0   7.9250        S  Third   \n",
       "3         1       1  female  35.0      1      0  53.1000        S  First   \n",
       "4         0       3    male  35.0      0      0   8.0500        S  Third   \n",
       "\n",
       "     who  adult_male deck  embark_town alive  alone  \n",
       "0    man        True  NaN  Southampton    no  False  \n",
       "1  woman       False    C    Cherbourg   yes  False  \n",
       "2  woman       False  NaN  Southampton   yes   True  \n",
       "3  woman       False    C  Southampton   yes  False  \n",
       "4    man        True  NaN  Southampton    no   True  "
      ]
     },
     "execution_count": 2,
     "metadata": {},
     "output_type": "execute_result"
    }
   ],
   "source": [
    "df = sns.load_dataset('titanic')\n",
    "df.head()"
   ]
  },
  {
   "cell_type": "code",
   "execution_count": 3,
   "id": "industrial-algebra",
   "metadata": {},
   "outputs": [
    {
     "data": {
      "text/html": [
       "<div>\n",
       "<style scoped>\n",
       "    .dataframe tbody tr th:only-of-type {\n",
       "        vertical-align: middle;\n",
       "    }\n",
       "\n",
       "    .dataframe tbody tr th {\n",
       "        vertical-align: top;\n",
       "    }\n",
       "\n",
       "    .dataframe thead th {\n",
       "        text-align: right;\n",
       "    }\n",
       "</style>\n",
       "<table border=\"1\" class=\"dataframe\">\n",
       "  <thead>\n",
       "    <tr style=\"text-align: right;\">\n",
       "      <th>survived</th>\n",
       "      <th>0</th>\n",
       "      <th>1</th>\n",
       "      <th>All</th>\n",
       "    </tr>\n",
       "    <tr>\n",
       "      <th>sex</th>\n",
       "      <th></th>\n",
       "      <th></th>\n",
       "      <th></th>\n",
       "    </tr>\n",
       "  </thead>\n",
       "  <tbody>\n",
       "    <tr>\n",
       "      <th>female</th>\n",
       "      <td>81</td>\n",
       "      <td>233</td>\n",
       "      <td>314</td>\n",
       "    </tr>\n",
       "    <tr>\n",
       "      <th>male</th>\n",
       "      <td>468</td>\n",
       "      <td>109</td>\n",
       "      <td>577</td>\n",
       "    </tr>\n",
       "    <tr>\n",
       "      <th>All</th>\n",
       "      <td>549</td>\n",
       "      <td>342</td>\n",
       "      <td>891</td>\n",
       "    </tr>\n",
       "  </tbody>\n",
       "</table>\n",
       "</div>"
      ],
      "text/plain": [
       "survived    0    1  All\n",
       "sex                    \n",
       "female     81  233  314\n",
       "male      468  109  577\n",
       "All       549  342  891"
      ]
     },
     "execution_count": 3,
     "metadata": {},
     "output_type": "execute_result"
    }
   ],
   "source": [
    "pd.crosstab(df['sex'], df['survived'], margins='True')"
   ]
  },
  {
   "cell_type": "code",
   "execution_count": 4,
   "id": "compliant-craps",
   "metadata": {},
   "outputs": [
    {
     "data": {
      "text/plain": [
       "<AxesSubplot:xlabel='sex', ylabel='count'>"
      ]
     },
     "execution_count": 4,
     "metadata": {},
     "output_type": "execute_result"
    },
    {
     "data": {
      "image/png": "[encoded data removed]",
      "text/plain": [
       "<Figure size 432x288 with 1 Axes>"
      ]
     },
     "metadata": {
      "needs_background": "light"
     },
     "output_type": "display_data"
    }
   ],
   "source": [
    "sns.countplot(data=df, x='sex')"
   ]
  },
  {
   "cell_type": "code",
   "execution_count": 18,
   "id": "announced-vacuum",
   "metadata": {},
   "outputs": [
    {
     "data": {
      "application/vnd.plotly.v1+json": {
       "config": {
        "plotlyServerURL": "https://plot.ly"
       },
       "data": [
        {
         "alignmentgroup": "True",
         "hovertemplate": "survived=0<br>sex=%{x}<br>no_of_passengers=%{y}<extra></extra>",
         "legendgroup": "0",
         "marker": {
          "color": "#636efa"
         },
         "name": "0",
         "offsetgroup": "0",
         "orientation": "v",
         "showlegend": true,
         "textposition": "auto",
         "type": "bar",
         "x": [
          "female",
          "male"
         ],
         "xaxis": "x",
         "y": [
          81,
          468
         ],
         "yaxis": "y"
        },
        {
         "alignmentgroup": "True",
         "hovertemplate": "survived=1<br>sex=%{x}<br>no_of_passengers=%{y}<extra></extra>",
         "legendgroup": "1",
         "marker": {
          "color": "#EF553B"
         },
         "name": "1",
         "offsetgroup": "1",
         "orientation": "v",
         "showlegend": true,
         "textposition": "auto",
         "type": "bar",
         "x": [
          "female",
          "male"
         ],
         "xaxis": "x",
         "y": [
          231,
          109
         ],
         "yaxis": "y"
        }
       ],
       "layout": {
        "barmode": "relative",
        "legend": {
         "title": {
          "text": "survived"
         },
         "tracegroupgap": 0
        },
        "margin": {
         "t": 60
        },
        "template": {
         "data": {
          "bar": [
           {
            "error_x": {
             "color": "#2a3f5f"
            },
            "error_y": {
             "color": "#2a3f5f"
            },
            "marker": {
             "line": {
              "color": "#E5ECF6",
              "width": 0.5
             }
            },
            "type": "bar"
           }
          ],
          "barpolar": [
           {
            "marker": {
             "line": {
              "color": "#E5ECF6",
              "width": 0.5
             }
            },
            "type": "barpolar"
           }
          ],
          "carpet": [
           {
            "aaxis": {
             "endlinecolor": "#2a3f5f",
             "gridcolor": "white",
             "linecolor": "white",
             "minorgridcolor": "white",
             "startlinecolor": "#2a3f5f"
            },
            "baxis": {
             "endlinecolor": "#2a3f5f",
             "gridcolor": "white",
             "linecolor": "white",
             "minorgridcolor": "white",
             "startlinecolor": "#2a3f5f"
            },
            "type": "carpet"
           }
          ],
          "choropleth": [
           {
            "colorbar": {
             "outlinewidth": 0,
             "ticks": ""
            },
            "type": "choropleth"
           }
          ],
          "contour": [
           {
            "colorbar": {
             "outlinewidth": 0,
             "ticks": ""
            },
            "colorscale": [
             [
              0,
              "#0d0887"
             ],
             [
              0.1111111111111111,
              "#46039f"
             ],
             [
              0.2222222222222222,
              "#7201a8"
             ],
             [
              0.3333333333333333,
              "#9c179e"
             ],
             [
              0.4444444444444444,
              "#bd3786"
             ],
             [
              0.5555555555555556,
              "#d8576b"
             ],
             [
              0.6666666666666666,
              "#ed7953"
             ],
             [
              0.7777777777777778,
              "#fb9f3a"
             ],
             [
              0.8888888888888888,
              "#fdca26"
             ],
             [
              1,
              "#f0f921"
             ]
            ],
            "type": "contour"
           }
          ],
          "contourcarpet": [
           {
            "colorbar": {
             "outlinewidth": 0,
             "ticks": ""
            },
            "type": "contourcarpet"
           }
          ],
          "heatmap": [
           {
            "colorbar": {
             "outlinewidth": 0,
             "ticks": ""
            },
            "colorscale": [
             [
              0,
              "#0d0887"
             ],
             [
              0.1111111111111111,
              "#46039f"
             ],
             [
              0.2222222222222222,
              "#7201a8"
             ],
             [
              0.3333333333333333,
              "#9c179e"
             ],
             [
              0.4444444444444444,
              "#bd3786"
             ],
             [
              0.5555555555555556,
              "#d8576b"
             ],
             [
              0.6666666666666666,
              "#ed7953"
             ],
             [
              0.7777777777777778,
              "#fb9f3a"
             ],
             [
              0.8888888888888888,
              "#fdca26"
             ],
             [
              1,
              "#f0f921"
             ]
            ],
            "type": "heatmap"
           }
          ],
          "heatmapgl": [
           {
            "colorbar": {
             "outlinewidth": 0,
             "ticks": ""
            },
            "colorscale": [
             [
              0,
              "#0d0887"
             ],
             [
              0.1111111111111111,
              "#46039f"
             ],
             [
              0.2222222222222222,
              "#7201a8"
             ],
             [
              0.3333333333333333,
              "#9c179e"
             ],
             [
              0.4444444444444444,
              "#bd3786"
             ],
             [
              0.5555555555555556,
              "#d8576b"
             ],
             [
              0.6666666666666666,
              "#ed7953"
             ],
             [
              0.7777777777777778,
              "#fb9f3a"
             ],
             [
              0.8888888888888888,
              "#fdca26"
             ],
             [
              1,
              "#f0f921"
             ]
            ],
            "type": "heatmapgl"
           }
          ],
          "histogram": [
           {
            "marker": {
             "colorbar": {
              "outlinewidth": 0,
              "ticks": ""
             }
            },
            "type": "histogram"
           }
          ],
          "histogram2d": [
           {
            "colorbar": {
             "outlinewidth": 0,
             "ticks": ""
            },
            "colorscale": [
             [
              0,
              "#0d0887"
             ],
             [
              0.1111111111111111,
              "#46039f"
             ],
             [
              0.2222222222222222,
              "#7201a8"
             ],
             [
              0.3333333333333333,
              "#9c179e"
             ],
             [
              0.4444444444444444,
              "#bd3786"
             ],
             [
              0.5555555555555556,
              "#d8576b"
             ],
             [
              0.6666666666666666,
              "#ed7953"
             ],
             [
              0.7777777777777778,
              "#fb9f3a"
             ],
             [
              0.8888888888888888,
              "#fdca26"
             ],
             [
              1,
              "#f0f921"
             ]
            ],
            "type": "histogram2d"
           }
          ],
          "histogram2dcontour": [
           {
            "colorbar": {
             "outlinewidth": 0,
             "ticks": ""
            },
            "colorscale": [
             [
              0,
              "#0d0887"
             ],
             [
              0.1111111111111111,
              "#46039f"
             ],
             [
              0.2222222222222222,
              "#7201a8"
             ],
             [
              0.3333333333333333,
              "#9c179e"
             ],
             [
              0.4444444444444444,
              "#bd3786"
             ],
             [
              0.5555555555555556,
              "#d8576b"
             ],
             [
              0.6666666666666666,
              "#ed7953"
             ],
             [
              0.7777777777777778,
              "#fb9f3a"
             ],
             [
              0.8888888888888888,
              "#fdca26"
             ],
             [
              1,
              "#f0f921"
             ]
            ],
            "type": "histogram2dcontour"
           }
          ],
          "mesh3d": [
           {
            "colorbar": {
             "outlinewidth": 0,
             "ticks": ""
            },
            "type": "mesh3d"
           }
          ],
          "parcoords": [
           {
            "line": {
             "colorbar": {
              "outlinewidth": 0,
              "ticks": ""
             }
            },
            "type": "parcoords"
           }
          ],
          "pie": [
           {
            "automargin": true,
            "type": "pie"
           }
          ],
          "scatter": [
           {
            "marker": {
             "colorbar": {
              "outlinewidth": 0,
              "ticks": ""
             }
            },
            "type": "scatter"
           }
          ],
          "scatter3d": [
           {
            "line": {
             "colorbar": {
              "outlinewidth": 0,
              "ticks": ""
             }
            },
            "marker": {
             "colorbar": {
              "outlinewidth": 0,
              "ticks": ""
             }
            },
            "type": "scatter3d"
           }
          ],
          "scattercarpet": [
           {
            "marker": {
             "colorbar": {
              "outlinewidth": 0,
              "ticks": ""
             }
            },
            "type": "scattercarpet"
           }
          ],
          "scattergeo": [
           {
            "marker": {
             "colorbar": {
              "outlinewidth": 0,
              "ticks": ""
             }
            },
            "type": "scattergeo"
           }
          ],
          "scattergl": [
           {
            "marker": {
             "colorbar": {
              "outlinewidth": 0,
              "ticks": ""
             }
            },
            "type": "scattergl"
           }
          ],
          "scattermapbox": [
           {
            "marker": {
             "colorbar": {
              "outlinewidth": 0,
              "ticks": ""
             }
            },
            "type": "scattermapbox"
           }
          ],
          "scatterpolar": [
           {
            "marker": {
             "colorbar": {
              "outlinewidth": 0,
              "ticks": ""
             }
            },
            "type": "scatterpolar"
           }
          ],
          "scatterpolargl": [
           {
            "marker": {
             "colorbar": {
              "outlinewidth": 0,
              "ticks": ""
             }
            },
            "type": "scatterpolargl"
           }
          ],
          "scatterternary": [
           {
            "marker": {
             "colorbar": {
              "outlinewidth": 0,
              "ticks": ""
             }
            },
            "type": "scatterternary"
           }
          ],
          "surface": [
           {
            "colorbar": {
             "outlinewidth": 0,
             "ticks": ""
            },
            "colorscale": [
             [
              0,
              "#0d0887"
             ],
             [
              0.1111111111111111,
              "#46039f"
             ],
             [
              0.2222222222222222,
              "#7201a8"
             ],
             [
              0.3333333333333333,
              "#9c179e"
             ],
             [
              0.4444444444444444,
              "#bd3786"
             ],
             [
              0.5555555555555556,
              "#d8576b"
             ],
             [
              0.6666666666666666,
              "#ed7953"
             ],
             [
              0.7777777777777778,
              "#fb9f3a"
             ],
             [
              0.8888888888888888,
              "#fdca26"
             ],
             [
              1,
              "#f0f921"
             ]
            ],
            "type": "surface"
           }
          ],
          "table": [
           {
            "cells": {
             "fill": {
              "color": "#EBF0F8"
             },
             "line": {
              "color": "white"
             }
            },
            "header": {
             "fill": {
              "color": "#C8D4E3"
             },
             "line": {
              "color": "white"
             }
            },
            "type": "table"
           }
          ]
         },
         "layout": {
          "annotationdefaults": {
           "arrowcolor": "#2a3f5f",
           "arrowhead": 0,
           "arrowwidth": 1
          },
          "coloraxis": {
           "colorbar": {
            "outlinewidth": 0,
            "ticks": ""
           }
          },
          "colorscale": {
           "diverging": [
            [
             0,
             "#8e0152"
            ],
            [
             0.1,
             "#c51b7d"
            ],
            [
             0.2,
             "#de77ae"
            ],
            [
             0.3,
             "#f1b6da"
            ],
            [
             0.4,
             "#fde0ef"
            ],
            [
             0.5,
             "#f7f7f7"
            ],
            [
             0.6,
             "#e6f5d0"
            ],
            [
             0.7,
             "#b8e186"
            ],
            [
             0.8,
             "#7fbc41"
            ],
            [
             0.9,
             "#4d9221"
            ],
            [
             1,
             "#276419"
            ]
           ],
           "sequential": [
            [
             0,
             "#0d0887"
            ],
            [
             0.1111111111111111,
             "#46039f"
            ],
            [
             0.2222222222222222,
             "#7201a8"
            ],
            [
             0.3333333333333333,
             "#9c179e"
            ],
            [
             0.4444444444444444,
             "#bd3786"
            ],
            [
             0.5555555555555556,
             "#d8576b"
            ],
            [
             0.6666666666666666,
             "#ed7953"
            ],
            [
             0.7777777777777778,
             "#fb9f3a"
            ],
            [
             0.8888888888888888,
             "#fdca26"
            ],
            [
             1,
             "#f0f921"
            ]
           ],
           "sequentialminus": [
            [
             0,
             "#0d0887"
            ],
            [
             0.1111111111111111,
             "#46039f"
            ],
            [
             0.2222222222222222,
             "#7201a8"
            ],
            [
             0.3333333333333333,
             "#9c179e"
            ],
            [
             0.4444444444444444,
             "#bd3786"
            ],
            [
             0.5555555555555556,
             "#d8576b"
            ],
            [
             0.6666666666666666,
             "#ed7953"
            ],
            [
             0.7777777777777778,
             "#fb9f3a"
            ],
            [
             0.8888888888888888,
             "#fdca26"
            ],
            [
             1,
             "#f0f921"
            ]
           ]
          },
          "colorway": [
           "#636efa",
           "#EF553B",
           "#00cc96",
           "#ab63fa",
           "#FFA15A",
           "#19d3f3",
           "#FF6692",
           "#B6E880",
           "#FF97FF",
           "#FECB52"
          ],
          "font": {
           "color": "#2a3f5f"
          },
          "geo": {
           "bgcolor": "white",
           "lakecolor": "white",
           "landcolor": "#E5ECF6",
           "showlakes": true,
           "showland": true,
           "subunitcolor": "white"
          },
          "hoverlabel": {
           "align": "left"
          },
          "hovermode": "closest",
          "mapbox": {
           "style": "light"
          },
          "paper_bgcolor": "white",
          "plot_bgcolor": "#E5ECF6",
          "polar": {
           "angularaxis": {
            "gridcolor": "white",
            "linecolor": "white",
            "ticks": ""
           },
           "bgcolor": "#E5ECF6",
           "radialaxis": {
            "gridcolor": "white",
            "linecolor": "white",
            "ticks": ""
           }
          },
          "scene": {
           "xaxis": {
            "backgroundcolor": "#E5ECF6",
            "gridcolor": "white",
            "gridwidth": 2,
            "linecolor": "white",
            "showbackground": true,
            "ticks": "",
            "zerolinecolor": "white"
           },
           "yaxis": {
            "backgroundcolor": "#E5ECF6",
            "gridcolor": "white",
            "gridwidth": 2,
            "linecolor": "white",
            "showbackground": true,
            "ticks": "",
            "zerolinecolor": "white"
           },
           "zaxis": {
            "backgroundcolor": "#E5ECF6",
            "gridcolor": "white",
            "gridwidth": 2,
            "linecolor": "white",
            "showbackground": true,
            "ticks": "",
            "zerolinecolor": "white"
           }
          },
          "shapedefaults": {
           "line": {
            "color": "#2a3f5f"
           }
          },
          "ternary": {
           "aaxis": {
            "gridcolor": "white",
            "linecolor": "white",
            "ticks": ""
           },
           "baxis": {
            "gridcolor": "white",
            "linecolor": "white",
            "ticks": ""
           },
           "bgcolor": "#E5ECF6",
           "caxis": {
            "gridcolor": "white",
            "linecolor": "white",
            "ticks": ""
           }
          },
          "title": {
           "x": 0.05
          },
          "xaxis": {
           "automargin": true,
           "gridcolor": "white",
           "linecolor": "white",
           "ticks": "",
           "title": {
            "standoff": 15
           },
           "zerolinecolor": "white",
           "zerolinewidth": 2
          },
          "yaxis": {
           "automargin": true,
           "gridcolor": "white",
           "linecolor": "white",
           "ticks": "",
           "title": {
            "standoff": 15
           },
           "zerolinecolor": "white",
           "zerolinewidth": 2
          }
         }
        },
        "xaxis": {
         "anchor": "y",
         "domain": [
          0,
          1
         ],
         "title": {
          "text": "sex"
         }
        },
        "yaxis": {
         "anchor": "x",
         "domain": [
          0,
          1
         ],
         "title": {
          "text": "no_of_passengers"
         }
        }
       }
      },
      "text/html": [
       "<div>                            <div id=\"6f92ac8a-4a0e-469f-bf9d-01e151f31c8f\" class=\"plotly-graph-div\" style=\"height:525px; width:100%;\"></div>            <script type=\"text/javascript\">                require([\"plotly\"], function(Plotly) {                    window.PLOTLYENV=window.PLOTLYENV || {};                                    if (document.getElementById(\"6f92ac8a-4a0e-469f-bf9d-01e151f31c8f\")) {                    Plotly.newPlot(                        \"6f92ac8a-4a0e-469f-bf9d-01e151f31c8f\",                        [{\"alignmentgroup\": \"True\", \"hovertemplate\": \"survived=0<br>sex=%{x}<br>no_of_passengers=%{y}<extra></extra>\", \"legendgroup\": \"0\", \"marker\": {\"color\": \"#636efa\"}, \"name\": \"0\", \"offsetgroup\": \"0\", \"orientation\": \"v\", \"showlegend\": true, \"textposition\": \"auto\", \"type\": \"bar\", \"x\": [\"female\", \"male\"], \"xaxis\": \"x\", \"y\": [81, 468], \"yaxis\": \"y\"}, {\"alignmentgroup\": \"True\", \"hovertemplate\": \"survived=1<br>sex=%{x}<br>no_of_passengers=%{y}<extra></extra>\", \"legendgroup\": \"1\", \"marker\": {\"color\": \"#EF553B\"}, \"name\": \"1\", \"offsetgroup\": \"1\", \"orientation\": \"v\", \"showlegend\": true, \"textposition\": \"auto\", \"type\": \"bar\", \"x\": [\"female\", \"male\"], \"xaxis\": \"x\", \"y\": [231, 109], \"yaxis\": \"y\"}],                        {\"barmode\": \"relative\", \"legend\": {\"title\": {\"text\": \"survived\"}, \"tracegroupgap\": 0}, \"margin\": {\"t\": 60}, \"template\": {\"data\": {\"bar\": [{\"error_x\": {\"color\": \"#2a3f5f\"}, \"error_y\": {\"color\": \"#2a3f5f\"}, \"marker\": {\"line\": {\"color\": \"#E5ECF6\", \"width\": 0.5}}, \"type\": \"bar\"}], \"barpolar\": [{\"marker\": {\"line\": {\"color\": \"#E5ECF6\", \"width\": 0.5}}, \"type\": \"barpolar\"}], \"carpet\": [{\"aaxis\": {\"endlinecolor\": \"#2a3f5f\", \"gridcolor\": \"white\", \"linecolor\": \"white\", \"minorgridcolor\": \"white\", \"startlinecolor\": \"#2a3f5f\"}, \"baxis\": {\"endlinecolor\": \"#2a3f5f\", \"gridcolor\": \"white\", \"linecolor\": \"white\", \"minorgridcolor\": \"white\", \"startlinecolor\": \"#2a3f5f\"}, \"type\": \"carpet\"}], \"choropleth\": [{\"colorbar\": {\"outlinewidth\": 0, \"ticks\": \"\"}, \"type\": \"choropleth\"}], \"contour\": [{\"colorbar\": {\"outlinewidth\": 0, \"ticks\": \"\"}, \"colorscale\": [[0.0, \"#0d0887\"], [0.1111111111111111, \"#46039f\"], [0.2222222222222222, \"#7201a8\"], [0.3333333333333333, \"#9c179e\"], [0.4444444444444444, \"#bd3786\"], [0.5555555555555556, \"#d8576b\"], [0.6666666666666666, \"#ed7953\"], [0.7777777777777778, \"#fb9f3a\"], [0.8888888888888888, \"#fdca26\"], [1.0, \"#f0f921\"]], \"type\": \"contour\"}], \"contourcarpet\": [{\"colorbar\": {\"outlinewidth\": 0, \"ticks\": \"\"}, \"type\": \"contourcarpet\"}], \"heatmap\": [{\"colorbar\": {\"outlinewidth\": 0, \"ticks\": \"\"}, \"colorscale\": [[0.0, \"#0d0887\"], [0.1111111111111111, \"#46039f\"], [0.2222222222222222, \"#7201a8\"], [0.3333333333333333, \"#9c179e\"], [0.4444444444444444, \"#bd3786\"], [0.5555555555555556, \"#d8576b\"], [0.6666666666666666, \"#ed7953\"], [0.7777777777777778, \"#fb9f3a\"], [0.8888888888888888, \"#fdca26\"], [1.0, \"#f0f921\"]], \"type\": \"heatmap\"}], \"heatmapgl\": [{\"colorbar\": {\"outlinewidth\": 0, \"ticks\": \"\"}, \"colorscale\": [[0.0, \"#0d0887\"], [0.1111111111111111, \"#46039f\"], [0.2222222222222222, \"#7201a8\"], [0.3333333333333333, \"#9c179e\"], [0.4444444444444444, \"#bd3786\"], [0.5555555555555556, \"#d8576b\"], [0.6666666666666666, \"#ed7953\"], [0.7777777777777778, \"#fb9f3a\"], [0.8888888888888888, \"#fdca26\"], [1.0, \"#f0f921\"]], \"type\": \"heatmapgl\"}], \"histogram\": [{\"marker\": {\"colorbar\": {\"outlinewidth\": 0, \"ticks\": \"\"}}, \"type\": \"histogram\"}], \"histogram2d\": [{\"colorbar\": {\"outlinewidth\": 0, \"ticks\": \"\"}, \"colorscale\": [[0.0, \"#0d0887\"], [0.1111111111111111, \"#46039f\"], [0.2222222222222222, \"#7201a8\"], [0.3333333333333333, \"#9c179e\"], [0.4444444444444444, \"#bd3786\"], [0.5555555555555556, \"#d8576b\"], [0.6666666666666666, \"#ed7953\"], [0.7777777777777778, \"#fb9f3a\"], [0.8888888888888888, \"#fdca26\"], [1.0, \"#f0f921\"]], \"type\": \"histogram2d\"}], \"histogram2dcontour\": [{\"colorbar\": {\"outlinewidth\": 0, \"ticks\": \"\"}, \"colorscale\": [[0.0, \"#0d0887\"], [0.1111111111111111, \"#46039f\"], [0.2222222222222222, \"#7201a8\"], [0.3333333333333333, \"#9c179e\"], [0.4444444444444444, \"#bd3786\"], [0.5555555555555556, \"#d8576b\"], [0.6666666666666666, \"#ed7953\"], [0.7777777777777778, \"#fb9f3a\"], [0.8888888888888888, \"#fdca26\"], [1.0, \"#f0f921\"]], \"type\": \"histogram2dcontour\"}], \"mesh3d\": [{\"colorbar\": {\"outlinewidth\": 0, \"ticks\": \"\"}, \"type\": \"mesh3d\"}], \"parcoords\": [{\"line\": {\"colorbar\": {\"outlinewidth\": 0, \"ticks\": \"\"}}, \"type\": \"parcoords\"}], \"pie\": [{\"automargin\": true, \"type\": \"pie\"}], \"scatter\": [{\"marker\": {\"colorbar\": {\"outlinewidth\": 0, \"ticks\": \"\"}}, \"type\": \"scatter\"}], \"scatter3d\": [{\"line\": {\"colorbar\": {\"outlinewidth\": 0, \"ticks\": \"\"}}, \"marker\": {\"colorbar\": {\"outlinewidth\": 0, \"ticks\": \"\"}}, \"type\": \"scatter3d\"}], \"scattercarpet\": [{\"marker\": {\"colorbar\": {\"outlinewidth\": 0, \"ticks\": \"\"}}, \"type\": \"scattercarpet\"}], \"scattergeo\": [{\"marker\": {\"colorbar\": {\"outlinewidth\": 0, \"ticks\": \"\"}}, \"type\": \"scattergeo\"}], \"scattergl\": [{\"marker\": {\"colorbar\": {\"outlinewidth\": 0, \"ticks\": \"\"}}, \"type\": \"scattergl\"}], \"scattermapbox\": [{\"marker\": {\"colorbar\": {\"outlinewidth\": 0, \"ticks\": \"\"}}, \"type\": \"scattermapbox\"}], \"scatterpolar\": [{\"marker\": {\"colorbar\": {\"outlinewidth\": 0, \"ticks\": \"\"}}, \"type\": \"scatterpolar\"}], \"scatterpolargl\": [{\"marker\": {\"colorbar\": {\"outlinewidth\": 0, \"ticks\": \"\"}}, \"type\": \"scatterpolargl\"}], \"scatterternary\": [{\"marker\": {\"colorbar\": {\"outlinewidth\": 0, \"ticks\": \"\"}}, \"type\": \"scatterternary\"}], \"surface\": [{\"colorbar\": {\"outlinewidth\": 0, \"ticks\": \"\"}, \"colorscale\": [[0.0, \"#0d0887\"], [0.1111111111111111, \"#46039f\"], [0.2222222222222222, \"#7201a8\"], [0.3333333333333333, \"#9c179e\"], [0.4444444444444444, \"#bd3786\"], [0.5555555555555556, \"#d8576b\"], [0.6666666666666666, \"#ed7953\"], [0.7777777777777778, \"#fb9f3a\"], [0.8888888888888888, \"#fdca26\"], [1.0, \"#f0f921\"]], \"type\": \"surface\"}], \"table\": [{\"cells\": {\"fill\": {\"color\": \"#EBF0F8\"}, \"line\": {\"color\": \"white\"}}, \"header\": {\"fill\": {\"color\": \"#C8D4E3\"}, \"line\": {\"color\": \"white\"}}, \"type\": \"table\"}]}, \"layout\": {\"annotationdefaults\": {\"arrowcolor\": \"#2a3f5f\", \"arrowhead\": 0, \"arrowwidth\": 1}, \"coloraxis\": {\"colorbar\": {\"outlinewidth\": 0, \"ticks\": \"\"}}, \"colorscale\": {\"diverging\": [[0, \"#8e0152\"], [0.1, \"#c51b7d\"], [0.2, \"#de77ae\"], [0.3, \"#f1b6da\"], [0.4, \"#fde0ef\"], [0.5, \"#f7f7f7\"], [0.6, \"#e6f5d0\"], [0.7, \"#b8e186\"], [0.8, \"#7fbc41\"], [0.9, \"#4d9221\"], [1, \"#276419\"]], \"sequential\": [[0.0, \"#0d0887\"], [0.1111111111111111, \"#46039f\"], [0.2222222222222222, \"#7201a8\"], [0.3333333333333333, \"#9c179e\"], [0.4444444444444444, \"#bd3786\"], [0.5555555555555556, \"#d8576b\"], [0.6666666666666666, \"#ed7953\"], [0.7777777777777778, \"#fb9f3a\"], [0.8888888888888888, \"#fdca26\"], [1.0, \"#f0f921\"]], \"sequentialminus\": [[0.0, \"#0d0887\"], [0.1111111111111111, \"#46039f\"], [0.2222222222222222, \"#7201a8\"], [0.3333333333333333, \"#9c179e\"], [0.4444444444444444, \"#bd3786\"], [0.5555555555555556, \"#d8576b\"], [0.6666666666666666, \"#ed7953\"], [0.7777777777777778, \"#fb9f3a\"], [0.8888888888888888, \"#fdca26\"], [1.0, \"#f0f921\"]]}, \"colorway\": [\"#636efa\", \"#EF553B\", \"#00cc96\", \"#ab63fa\", \"#FFA15A\", \"#19d3f3\", \"#FF6692\", \"#B6E880\", \"#FF97FF\", \"#FECB52\"], \"font\": {\"color\": \"#2a3f5f\"}, \"geo\": {\"bgcolor\": \"white\", \"lakecolor\": \"white\", \"landcolor\": \"#E5ECF6\", \"showlakes\": true, \"showland\": true, \"subunitcolor\": \"white\"}, \"hoverlabel\": {\"align\": \"left\"}, \"hovermode\": \"closest\", \"mapbox\": {\"style\": \"light\"}, \"paper_bgcolor\": \"white\", \"plot_bgcolor\": \"#E5ECF6\", \"polar\": {\"angularaxis\": {\"gridcolor\": \"white\", \"linecolor\": \"white\", \"ticks\": \"\"}, \"bgcolor\": \"#E5ECF6\", \"radialaxis\": {\"gridcolor\": \"white\", \"linecolor\": \"white\", \"ticks\": \"\"}}, \"scene\": {\"xaxis\": {\"backgroundcolor\": \"#E5ECF6\", \"gridcolor\": \"white\", \"gridwidth\": 2, \"linecolor\": \"white\", \"showbackground\": true, \"ticks\": \"\", \"zerolinecolor\": \"white\"}, \"yaxis\": {\"backgroundcolor\": \"#E5ECF6\", \"gridcolor\": \"white\", \"gridwidth\": 2, \"linecolor\": \"white\", \"showbackground\": true, \"ticks\": \"\", \"zerolinecolor\": \"white\"}, \"zaxis\": {\"backgroundcolor\": \"#E5ECF6\", \"gridcolor\": \"white\", \"gridwidth\": 2, \"linecolor\": \"white\", \"showbackground\": true, \"ticks\": \"\", \"zerolinecolor\": \"white\"}}, \"shapedefaults\": {\"line\": {\"color\": \"#2a3f5f\"}}, \"ternary\": {\"aaxis\": {\"gridcolor\": \"white\", \"linecolor\": \"white\", \"ticks\": \"\"}, \"baxis\": {\"gridcolor\": \"white\", \"linecolor\": \"white\", \"ticks\": \"\"}, \"bgcolor\": \"#E5ECF6\", \"caxis\": {\"gridcolor\": \"white\", \"linecolor\": \"white\", \"ticks\": \"\"}}, \"title\": {\"x\": 0.05}, \"xaxis\": {\"automargin\": true, \"gridcolor\": \"white\", \"linecolor\": \"white\", \"ticks\": \"\", \"title\": {\"standoff\": 15}, \"zerolinecolor\": \"white\", \"zerolinewidth\": 2}, \"yaxis\": {\"automargin\": true, \"gridcolor\": \"white\", \"linecolor\": \"white\", \"ticks\": \"\", \"title\": {\"standoff\": 15}, \"zerolinecolor\": \"white\", \"zerolinewidth\": 2}}}, \"xaxis\": {\"anchor\": \"y\", \"domain\": [0.0, 1.0], \"title\": {\"text\": \"sex\"}}, \"yaxis\": {\"anchor\": \"x\", \"domain\": [0.0, 1.0], \"title\": {\"text\": \"no_of_passengers\"}}},                        {\"responsive\": true}                    ).then(function(){\n",
       "                            \n",
       "var gd = document.getElementById('6f92ac8a-4a0e-469f-bf9d-01e151f31c8f');\n",
       "var x = new MutationObserver(function (mutations, observer) {{\n",
       "        var display = window.getComputedStyle(gd).display;\n",
       "        if (!display || display === 'none') {{\n",
       "            console.log([gd, 'removed!']);\n",
       "            Plotly.purge(gd);\n",
       "            observer.disconnect();\n",
       "        }}\n",
       "}});\n",
       "\n",
       "// Listen for the removal of the full notebook cells\n",
       "var notebookContainer = gd.closest('#notebook-container');\n",
       "if (notebookContainer) {{\n",
       "    x.observe(notebookContainer, {childList: true});\n",
       "}}\n",
       "\n",
       "// Listen for the clearing of the current output cell\n",
       "var outputEl = gd.closest('.output');\n",
       "if (outputEl) {{\n",
       "    x.observe(outputEl, {childList: true});\n",
       "}}\n",
       "\n",
       "                        })                };                });            </script>        </div>"
      ]
     },
     "metadata": {},
     "output_type": "display_data"
    }
   ],
   "source": [
    "df_agg = df.groupby(['sex', 'survived'], as_index=False)[['embark_town']].count()\n",
    "df_agg.columns = ['sex', 'survived', 'no_of_passengers']\n",
    "df_agg['survived'] = df_agg.survived.astype('object')\n",
    "px.bar(df_agg, x='sex', y='no_of_passengers', color='survived')"
   ]
  },
  {
   "cell_type": "code",
   "execution_count": 19,
   "id": "fancy-graham",
   "metadata": {},
   "outputs": [
    {
     "data": {
      "text/plain": [
       "<AxesSubplot:xlabel='age', ylabel='embark_town'>"
      ]
     },
     "execution_count": 19,
     "metadata": {},
     "output_type": "execute_result"
    },
    {
     "data": {
      "image/png": "[encoded data removed]",
      "text/plain": [
       "<Figure size 432x288 with 1 Axes>"
      ]
     },
     "metadata": {
      "needs_background": "light"
     },
     "output_type": "display_data"
    }
   ],
   "source": [
    "sns.barplot(data=df, x='age', y='embark_town')"
   ]
  },
  {
   "cell_type": "code",
   "execution_count": 7,
   "id": "excess-synthesis",
   "metadata": {},
   "outputs": [
    {
     "data": {
      "text/plain": [
       "<AxesSubplot:>"
      ]
     },
     "execution_count": 7,
     "metadata": {},
     "output_type": "execute_result"
    },
    {
     "data": {
      "image/png": "[encoded data removed]",
      "text/plain": [
       "<Figure size 432x288 with 1 Axes>"
      ]
     },
     "metadata": {
      "needs_background": "light"
     },
     "output_type": "display_data"
    }
   ],
   "source": [
    "df.sex.hist()"
   ]
  },
  {
   "cell_type": "code",
   "execution_count": 25,
   "id": "sorted-representative",
   "metadata": {},
   "outputs": [
    {
     "data": {
      "text/plain": [
       "<AxesSubplot:xlabel='embark_town', ylabel='Count'>"
      ]
     },
     "execution_count": 25,
     "metadata": {},
     "output_type": "execute_result"
    },
    {
     "data": {
      "image/png": "[encoded data removed]",
      "text/plain": [
       "<Figure size 432x288 with 1 Axes>"
      ]
     },
     "metadata": {
      "needs_background": "light"
     },
     "output_type": "display_data"
    }
   ],
   "source": [
    "sns.histplot(data=df[~df.embark_town.isna()], x='embark_town')"
   ]
  },
  {
   "cell_type": "code",
   "execution_count": 33,
   "id": "adopted-tonight",
   "metadata": {},
   "outputs": [
    {
     "data": {
      "text/plain": [
       "<AxesSubplot:xlabel='sex', ylabel='Density'>"
      ]
     },
     "execution_count": 33,
     "metadata": {},
     "output_type": "execute_result"
    },
    {
     "data": {
      "image/png": "[encoded data removed]",
      "text/plain": [
       "<Figure size 432x288 with 1 Axes>"
      ]
     },
     "metadata": {
      "needs_background": "light"
     },
     "output_type": "display_data"
    }
   ],
   "source": [
    "sns.histplot(data=df, x='sex', stat='density', hue='survived', multiple='stack')"
   ]
  },
  {
   "cell_type": "code",
   "execution_count": 48,
   "id": "based-revision",
   "metadata": {},
   "outputs": [
    {
     "data": {
      "application/vnd.plotly.v1+json": {
       "config": {
        "plotlyServerURL": "https://plot.ly"
       },
       "data": [
        {
         "alignmentgroup": "True",
         "bingroup": "x",
         "histnorm": "density",
         "hovertemplate": "class=Third<br>embark_town=%{x}<br>count=%{y}<extra></extra>",
         "legendgroup": "Third",
         "marker": {
          "color": "#636efa"
         },
         "name": "Third",
         "offsetgroup": "Third",
         "orientation": "v",
         "showlegend": true,
         "type": "histogram",
         "x": [
          "Southampton",
          "Southampton",
          "Southampton",
          "Queenstown",
          "Southampton",
          "Southampton",
          "Southampton",
          "Southampton",
          "Southampton",
          "Southampton",
          "Queenstown",
          "Southampton",
          "Cherbourg",
          "Queenstown",
          "Southampton",
          "Southampton",
          "Cherbourg",
          "Queenstown",
          "Southampton",
          "Queenstown",
          "Cherbourg",
          "Southampton",
          "Southampton",
          "Cherbourg",
          "Southampton",
          "Cherbourg",
          "Queenstown",
          "Southampton",
          "Queenstown",
          "Queenstown",
          "Cherbourg",
          "Southampton",
          "Southampton",
          "Southampton",
          "Cherbourg",
          "Southampton",
          "Cherbourg",
          "Southampton",
          "Cherbourg",
          "Southampton",
          "Southampton",
          "Southampton",
          "Southampton",
          "Cherbourg",
          "Southampton",
          "Southampton",
          "Southampton",
          "Southampton",
          "Southampton",
          "Southampton",
          "Southampton",
          "Queenstown",
          "Southampton",
          "Southampton",
          "Southampton",
          "Southampton",
          "Southampton",
          "Southampton",
          "Southampton",
          "Southampton",
          "Southampton",
          "Southampton",
          "Southampton",
          "Southampton",
          "Southampton",
          "Southampton",
          "Southampton",
          "Southampton",
          "Southampton",
          "Queenstown",
          "Cherbourg",
          "Southampton",
          "Southampton",
          "Cherbourg",
          "Southampton",
          "Queenstown",
          "Southampton",
          "Southampton",
          "Cherbourg",
          "Queenstown",
          "Southampton",
          "Cherbourg",
          "Southampton",
          "Cherbourg",
          "Southampton",
          "Southampton",
          "Southampton",
          "Cherbourg",
          "Southampton",
          "Southampton",
          "Queenstown",
          "Southampton",
          "Southampton",
          "Southampton",
          "Southampton",
          "Southampton",
          "Queenstown",
          "Southampton",
          "Southampton",
          "Southampton",
          "Southampton",
          "Southampton",
          "Southampton",
          "Southampton",
          "Southampton",
          "Southampton",
          "Southampton",
          "Queenstown",
          "Southampton",
          "Southampton",
          "Southampton",
          "Southampton",
          "Southampton",
          "Southampton",
          "Southampton",
          "Southampton",
          "Queenstown",
          "Queenstown",
          "Southampton",
          "Southampton",
          "Queenstown",
          "Southampton",
          "Queenstown",
          "Southampton",
          "Southampton",
          "Southampton",
          "Cherbourg",
          "Southampton",
          "Southampton",
          "Southampton",
          "Cherbourg",
          "Queenstown",
          "Southampton",
          "Southampton",
          "Queenstown",
          "Southampton",
          "Southampton",
          "Southampton",
          "Southampton",
          "Southampton",
          "Southampton",
          "Southampton",
          "Southampton",
          "Southampton",
          "Southampton",
          "Cherbourg",
          "Queenstown",
          "Southampton",
          "Cherbourg",
          "Southampton",
          "Southampton",
          "Southampton",
          "Southampton",
          "Southampton",
          "Cherbourg",
          "Queenstown",
          "Southampton",
          "Queenstown",
          "Southampton",
          "Southampton",
          "Southampton",
          "Queenstown",
          "Southampton",
          "Queenstown",
          "Southampton",
          "Queenstown",
          "Southampton",
          "Southampton",
          "Southampton",
          "Cherbourg",
          "Southampton",
          "Southampton",
          "Queenstown",
          "Southampton",
          "Southampton",
          "Cherbourg",
          "Queenstown",
          "Queenstown",
          "Southampton",
          "Southampton",
          "Southampton",
          "Southampton",
          "Southampton",
          "Southampton",
          "Southampton",
          "Southampton",
          "Southampton",
          "Queenstown",
          "Southampton",
          "Southampton",
          "Southampton",
          "Southampton",
          "Southampton",
          "Southampton",
          "Southampton",
          "Cherbourg",
          "Southampton",
          "Cherbourg",
          "Southampton",
          "Queenstown",
          "Queenstown",
          "Southampton",
          "Cherbourg",
          "Southampton",
          "Queenstown",
          "Southampton",
          "Cherbourg",
          "Queenstown",
          "Southampton",
          "Southampton",
          "Southampton",
          "Southampton",
          "Cherbourg",
          "Southampton",
          "Cherbourg",
          "Southampton",
          "Southampton",
          "Southampton",
          "Queenstown",
          "Southampton",
          "Southampton",
          "Southampton",
          "Southampton",
          "Southampton",
          "Southampton",
          "Southampton",
          "Southampton",
          "Southampton",
          "Southampton",
          "Southampton",
          "Southampton",
          "Southampton",
          "Southampton",
          "Queenstown",
          "Southampton",
          "Southampton",
          "Southampton",
          "Cherbourg",
          "Queenstown",
          "Southampton",
          "Southampton",
          "Southampton",
          "Southampton",
          "Queenstown",
          "Southampton",
          "Southampton",
          "Southampton",
          "Southampton",
          "Southampton",
          "Southampton",
          "Southampton",
          "Cherbourg",
          "Southampton",
          "Southampton",
          "Cherbourg",
          "Queenstown",
          "Southampton",
          "Southampton",
          "Southampton",
          "Queenstown",
          "Cherbourg",
          "Southampton",
          "Southampton",
          "Southampton",
          "Southampton",
          "Southampton",
          "Southampton",
          "Southampton",
          "Southampton",
          "Southampton",
          "Southampton",
          "Southampton",
          "Southampton",
          "Southampton",
          "Southampton",
          "Southampton",
          "Cherbourg",
          "Southampton",
          "Southampton",
          "Southampton",
          "Queenstown",
          "Queenstown",
          "Southampton",
          "Southampton",
          "Southampton",
          "Queenstown",
          "Southampton",
          "Southampton",
          "Queenstown",
          "Southampton",
          "Southampton",
          "Cherbourg",
          "Cherbourg",
          "Queenstown",
          "Southampton",
          "Cherbourg",
          "Cherbourg",
          "Cherbourg",
          "Southampton",
          "Southampton",
          "Southampton",
          "Southampton",
          "Southampton",
          "Queenstown",
          "Cherbourg",
          "Southampton",
          "Southampton",
          "Queenstown",
          "Southampton",
          "Southampton",
          "Southampton",
          "Southampton",
          "Southampton",
          "Southampton",
          "Cherbourg",
          "Southampton",
          "Queenstown",
          "Southampton",
          "Southampton",
          "Cherbourg",
          "Southampton",
          "Cherbourg",
          "Southampton",
          "Southampton",
          "Southampton",
          "Southampton",
          "Queenstown",
          "Southampton",
          "Southampton",
          "Cherbourg",
          "Southampton",
          "Southampton",
          "Southampton",
          "Southampton",
          "Southampton",
          "Southampton",
          "Queenstown",
          "Queenstown",
          "Southampton",
          "Southampton",
          "Southampton",
          "Cherbourg",
          "Cherbourg",
          "Southampton",
          "Southampton",
          "Southampton",
          "Queenstown",
          "Southampton",
          "Southampton",
          "Southampton",
          "Southampton",
          "Southampton",
          "Southampton",
          "Southampton",
          "Southampton",
          "Cherbourg",
          "Southampton",
          "Southampton",
          "Southampton",
          "Southampton",
          "Southampton",
          "Queenstown",
          "Queenstown",
          "Southampton",
          "Queenstown",
          "Cherbourg",
          "Southampton",
          "Southampton",
          "Southampton",
          "Southampton",
          "Southampton",
          "Southampton",
          "Southampton",
          "Southampton",
          "Queenstown",
          "Southampton",
          "Southampton",
          "Southampton",
          "Southampton",
          "Southampton",
          "Cherbourg",
          "Southampton",
          "Cherbourg",
          "Southampton",
          "Queenstown",
          "Southampton",
          "Cherbourg",
          "Queenstown",
          "Southampton",
          "Cherbourg",
          "Southampton",
          "Southampton",
          "Queenstown",
          "Southampton",
          "Southampton",
          "Southampton",
          "Queenstown",
          "Southampton",
          "Cherbourg",
          "Southampton",
          "Southampton",
          "Southampton",
          "Southampton",
          "Southampton",
          "Southampton",
          "Southampton",
          "Queenstown",
          "Southampton",
          "Southampton",
          "Southampton",
          "Southampton",
          "Southampton",
          "Southampton",
          "Southampton",
          "Cherbourg",
          "Southampton",
          "Queenstown",
          "Queenstown",
          "Southampton",
          "Southampton",
          "Southampton",
          "Cherbourg",
          "Southampton",
          "Queenstown",
          "Southampton",
          "Queenstown",
          "Cherbourg",
          "Southampton",
          "Southampton",
          "Southampton",
          "Southampton",
          "Queenstown",
          "Southampton",
          "Queenstown",
          "Southampton",
          "Southampton",
          "Southampton",
          "Cherbourg",
          "Southampton",
          "Cherbourg",
          "Southampton",
          "Southampton",
          "Southampton",
          "Southampton",
          "Southampton",
          "Southampton",
          "Southampton",
          "Southampton",
          "Southampton",
          "Southampton",
          "Southampton",
          "Southampton",
          "Southampton",
          "Queenstown",
          "Southampton",
          "Queenstown",
          "Cherbourg",
          "Cherbourg",
          "Southampton",
          "Southampton",
          "Southampton",
          "Southampton",
          "Southampton",
          "Southampton",
          "Cherbourg",
          "Southampton",
          "Southampton",
          "Southampton",
          "Cherbourg",
          "Southampton",
          "Southampton",
          "Cherbourg",
          "Southampton",
          "Cherbourg",
          "Cherbourg",
          "Southampton",
          "Southampton",
          "Southampton",
          "Southampton",
          "Southampton",
          "Southampton",
          "Cherbourg",
          "Southampton",
          "Southampton",
          "Southampton",
          "Southampton",
          "Southampton",
          "Southampton",
          "Queenstown",
          "Southampton",
          "Queenstown"
         ],
         "xaxis": "x",
         "yaxis": "y"
        },
        {
         "alignmentgroup": "True",
         "bingroup": "x",
         "histnorm": "density",
         "hovertemplate": "class=Second<br>embark_town=%{x}<br>count=%{y}<extra></extra>",
         "legendgroup": "Second",
         "marker": {
          "color": "#EF553B"
         },
         "name": "Second",
         "offsetgroup": "Second",
         "orientation": "v",
         "showlegend": true,
         "type": "histogram",
         "x": [
          "Cherbourg",
          "Southampton",
          "Southampton",
          "Southampton",
          "Southampton",
          "Southampton",
          "Southampton",
          "Cherbourg",
          "Southampton",
          "Southampton",
          "Southampton",
          "Southampton",
          "Southampton",
          "Southampton",
          "Southampton",
          "Southampton",
          "Southampton",
          "Southampton",
          "Southampton",
          "Southampton",
          "Cherbourg",
          "Southampton",
          "Southampton",
          "Southampton",
          "Cherbourg",
          "Southampton",
          "Southampton",
          "Southampton",
          "Southampton",
          "Southampton",
          "Southampton",
          "Southampton",
          "Cherbourg",
          "Southampton",
          "Southampton",
          "Southampton",
          "Southampton",
          "Southampton",
          "Southampton",
          "Southampton",
          "Southampton",
          "Southampton",
          "Southampton",
          "Southampton",
          "Southampton",
          "Southampton",
          "Southampton",
          "Southampton",
          "Southampton",
          "Southampton",
          "Southampton",
          "Southampton",
          "Southampton",
          "Southampton",
          "Southampton",
          "Southampton",
          "Southampton",
          "Southampton",
          "Southampton",
          "Cherbourg",
          "Queenstown",
          "Cherbourg",
          "Southampton",
          "Southampton",
          "Southampton",
          "Southampton",
          "Queenstown",
          "Southampton",
          "Southampton",
          "Southampton",
          "Southampton",
          "Southampton",
          "Southampton",
          "Southampton",
          "Southampton",
          "Southampton",
          "Cherbourg",
          "Southampton",
          "Southampton",
          "Cherbourg",
          "Southampton",
          "Southampton",
          "Southampton",
          "Southampton",
          "Southampton",
          "Southampton",
          "Southampton",
          "Southampton",
          "Southampton",
          "Southampton",
          "Southampton",
          "Southampton",
          "Southampton",
          "Southampton",
          "Southampton",
          "Southampton",
          "Southampton",
          "Southampton",
          "Southampton",
          "Southampton",
          "Southampton",
          "Southampton",
          "Cherbourg",
          "Southampton",
          "Southampton",
          "Southampton",
          "Southampton",
          "Southampton",
          "Southampton",
          "Southampton",
          "Southampton",
          "Southampton",
          "Southampton",
          "Southampton",
          "Cherbourg",
          "Southampton",
          "Southampton",
          "Southampton",
          "Southampton",
          "Southampton",
          "Southampton",
          "Southampton",
          "Southampton",
          "Southampton",
          "Southampton",
          "Southampton",
          "Cherbourg",
          "Southampton",
          "Southampton",
          "Southampton",
          "Queenstown",
          "Southampton",
          "Southampton",
          "Southampton",
          "Southampton",
          "Southampton",
          "Southampton",
          "Southampton",
          "Southampton",
          "Southampton",
          "Southampton",
          "Southampton",
          "Southampton",
          "Cherbourg",
          "Southampton",
          "Southampton",
          "Southampton",
          "Southampton",
          "Southampton",
          "Southampton",
          "Southampton",
          "Southampton",
          "Southampton",
          "Southampton",
          "Southampton",
          "Southampton",
          "Southampton",
          "Southampton",
          "Southampton",
          "Southampton",
          "Southampton",
          "Southampton",
          "Southampton",
          "Southampton",
          "Southampton",
          "Southampton",
          "Southampton",
          "Southampton",
          "Southampton",
          "Southampton",
          "Cherbourg",
          "Cherbourg",
          "Southampton",
          "Southampton",
          "Southampton",
          "Southampton",
          "Southampton",
          "Southampton",
          "Southampton",
          "Cherbourg",
          "Cherbourg",
          "Southampton",
          "Southampton",
          "Southampton"
         ],
         "xaxis": "x",
         "yaxis": "y"
        },
        {
         "alignmentgroup": "True",
         "bingroup": "x",
         "histnorm": "density",
         "hovertemplate": "class=First<br>embark_town=%{x}<br>count=%{y}<extra></extra>",
         "legendgroup": "First",
         "marker": {
          "color": "#00cc96"
         },
         "name": "First",
         "offsetgroup": "First",
         "orientation": "v",
         "showlegend": true,
         "type": "histogram",
         "x": [
          "Cherbourg",
          "Southampton",
          "Southampton",
          "Southampton",
          "Southampton",
          "Southampton",
          "Cherbourg",
          "Cherbourg",
          "Cherbourg",
          "Southampton",
          "Cherbourg",
          "Cherbourg",
          "Southampton",
          null,
          "Southampton",
          "Cherbourg",
          "Southampton",
          "Southampton",
          "Southampton",
          "Cherbourg",
          "Cherbourg",
          "Southampton",
          "Southampton",
          "Cherbourg",
          "Southampton",
          "Southampton",
          "Southampton",
          "Cherbourg",
          "Southampton",
          "Cherbourg",
          "Southampton",
          "Southampton",
          "Southampton",
          "Cherbourg",
          "Cherbourg",
          "Southampton",
          "Southampton",
          "Cherbourg",
          "Cherbourg",
          "Cherbourg",
          "Cherbourg",
          "Cherbourg",
          "Southampton",
          "Southampton",
          "Queenstown",
          "Southampton",
          "Southampton",
          "Cherbourg",
          "Southampton",
          "Cherbourg",
          "Southampton",
          "Southampton",
          "Southampton",
          "Southampton",
          "Southampton",
          "Cherbourg",
          "Southampton",
          "Southampton",
          "Southampton",
          "Cherbourg",
          "Cherbourg",
          "Southampton",
          "Southampton",
          "Cherbourg",
          "Southampton",
          "Cherbourg",
          "Cherbourg",
          "Cherbourg",
          "Cherbourg",
          "Cherbourg",
          "Southampton",
          "Cherbourg",
          "Cherbourg",
          "Cherbourg",
          "Southampton",
          "Southampton",
          "Southampton",
          "Southampton",
          "Cherbourg",
          "Southampton",
          "Southampton",
          "Southampton",
          "Southampton",
          "Cherbourg",
          "Cherbourg",
          "Cherbourg",
          "Cherbourg",
          "Cherbourg",
          "Cherbourg",
          "Cherbourg",
          "Southampton",
          "Southampton",
          "Cherbourg",
          "Queenstown",
          "Southampton",
          "Southampton",
          "Southampton",
          "Southampton",
          "Southampton",
          "Southampton",
          "Southampton",
          "Cherbourg",
          "Cherbourg",
          "Southampton",
          "Southampton",
          "Southampton",
          "Southampton",
          "Southampton",
          "Southampton",
          "Cherbourg",
          "Southampton",
          "Cherbourg",
          "Southampton",
          "Cherbourg",
          "Cherbourg",
          "Southampton",
          "Southampton",
          "Cherbourg",
          "Southampton",
          "Southampton",
          "Cherbourg",
          "Southampton",
          "Southampton",
          "Cherbourg",
          "Southampton",
          "Southampton",
          "Cherbourg",
          "Cherbourg",
          "Southampton",
          "Cherbourg",
          "Southampton",
          "Cherbourg",
          "Southampton",
          "Cherbourg",
          "Cherbourg",
          "Southampton",
          "Southampton",
          "Southampton",
          "Southampton",
          "Cherbourg",
          "Cherbourg",
          "Southampton",
          "Cherbourg",
          "Cherbourg",
          "Cherbourg",
          "Southampton",
          "Cherbourg",
          "Southampton",
          "Southampton",
          "Southampton",
          "Southampton",
          "Southampton",
          "Southampton",
          "Cherbourg",
          "Southampton",
          "Cherbourg",
          "Cherbourg",
          "Cherbourg",
          "Cherbourg",
          "Southampton",
          "Southampton",
          "Southampton",
          "Southampton",
          "Cherbourg",
          "Cherbourg",
          "Southampton",
          "Southampton",
          "Southampton",
          "Cherbourg",
          "Cherbourg",
          "Southampton",
          "Southampton",
          "Southampton",
          "Cherbourg",
          "Southampton",
          "Southampton",
          "Cherbourg",
          "Southampton",
          "Southampton",
          "Cherbourg",
          "Southampton",
          "Southampton",
          "Cherbourg",
          "Southampton",
          "Southampton",
          "Southampton",
          "Southampton",
          "Southampton",
          "Cherbourg",
          "Southampton",
          "Southampton",
          "Southampton",
          "Cherbourg",
          "Cherbourg",
          "Southampton",
          "Southampton",
          "Southampton",
          "Southampton",
          "Southampton",
          "Southampton",
          "Southampton",
          null,
          "Cherbourg",
          "Cherbourg",
          "Cherbourg",
          "Cherbourg",
          "Southampton",
          "Southampton",
          "Southampton",
          "Southampton",
          "Southampton",
          "Southampton",
          "Southampton",
          "Cherbourg",
          "Southampton",
          "Cherbourg"
         ],
         "xaxis": "x",
         "yaxis": "y"
        }
       ],
       "layout": {
        "barmode": "relative",
        "barnorm": "fraction",
        "legend": {
         "title": {
          "text": "class"
         },
         "tracegroupgap": 0
        },
        "margin": {
         "t": 60
        },
        "template": {
         "data": {
          "bar": [
           {
            "error_x": {
             "color": "#2a3f5f"
            },
            "error_y": {
             "color": "#2a3f5f"
            },
            "marker": {
             "line": {
              "color": "#E5ECF6",
              "width": 0.5
             }
            },
            "type": "bar"
           }
          ],
          "barpolar": [
           {
            "marker": {
             "line": {
              "color": "#E5ECF6",
              "width": 0.5
             }
            },
            "type": "barpolar"
           }
          ],
          "carpet": [
           {
            "aaxis": {
             "endlinecolor": "#2a3f5f",
             "gridcolor": "white",
             "linecolor": "white",
             "minorgridcolor": "white",
             "startlinecolor": "#2a3f5f"
            },
            "baxis": {
             "endlinecolor": "#2a3f5f",
             "gridcolor": "white",
             "linecolor": "white",
             "minorgridcolor": "white",
             "startlinecolor": "#2a3f5f"
            },
            "type": "carpet"
           }
          ],
          "choropleth": [
           {
            "colorbar": {
             "outlinewidth": 0,
             "ticks": ""
            },
            "type": "choropleth"
           }
          ],
          "contour": [
           {
            "colorbar": {
             "outlinewidth": 0,
             "ticks": ""
            },
            "colorscale": [
             [
              0,
              "#0d0887"
             ],
             [
              0.1111111111111111,
              "#46039f"
             ],
             [
              0.2222222222222222,
              "#7201a8"
             ],
             [
              0.3333333333333333,
              "#9c179e"
             ],
             [
              0.4444444444444444,
              "#bd3786"
             ],
             [
              0.5555555555555556,
              "#d8576b"
             ],
             [
              0.6666666666666666,
              "#ed7953"
             ],
             [
              0.7777777777777778,
              "#fb9f3a"
             ],
             [
              0.8888888888888888,
              "#fdca26"
             ],
             [
              1,
              "#f0f921"
             ]
            ],
            "type": "contour"
           }
          ],
          "contourcarpet": [
           {
            "colorbar": {
             "outlinewidth": 0,
             "ticks": ""
            },
            "type": "contourcarpet"
           }
          ],
          "heatmap": [
           {
            "colorbar": {
             "outlinewidth": 0,
             "ticks": ""
            },
            "colorscale": [
             [
              0,
              "#0d0887"
             ],
             [
              0.1111111111111111,
              "#46039f"
             ],
             [
              0.2222222222222222,
              "#7201a8"
             ],
             [
              0.3333333333333333,
              "#9c179e"
             ],
             [
              0.4444444444444444,
              "#bd3786"
             ],
             [
              0.5555555555555556,
              "#d8576b"
             ],
             [
              0.6666666666666666,
              "#ed7953"
             ],
             [
              0.7777777777777778,
              "#fb9f3a"
             ],
             [
              0.8888888888888888,
              "#fdca26"
             ],
             [
              1,
              "#f0f921"
             ]
            ],
            "type": "heatmap"
           }
          ],
          "heatmapgl": [
           {
            "colorbar": {
             "outlinewidth": 0,
             "ticks": ""
            },
            "colorscale": [
             [
              0,
              "#0d0887"
             ],
             [
              0.1111111111111111,
              "#46039f"
             ],
             [
              0.2222222222222222,
              "#7201a8"
             ],
             [
              0.3333333333333333,
              "#9c179e"
             ],
             [
              0.4444444444444444,
              "#bd3786"
             ],
             [
              0.5555555555555556,
              "#d8576b"
             ],
             [
              0.6666666666666666,
              "#ed7953"
             ],
             [
              0.7777777777777778,
              "#fb9f3a"
             ],
             [
              0.8888888888888888,
              "#fdca26"
             ],
             [
              1,
              "#f0f921"
             ]
            ],
            "type": "heatmapgl"
           }
          ],
          "histogram": [
           {
            "marker": {
             "colorbar": {
              "outlinewidth": 0,
              "ticks": ""
             }
            },
            "type": "histogram"
           }
          ],
          "histogram2d": [
           {
            "colorbar": {
             "outlinewidth": 0,
             "ticks": ""
            },
            "colorscale": [
             [
              0,
              "#0d0887"
             ],
             [
              0.1111111111111111,
              "#46039f"
             ],
             [
              0.2222222222222222,
              "#7201a8"
             ],
             [
              0.3333333333333333,
              "#9c179e"
             ],
             [
              0.4444444444444444,
              "#bd3786"
             ],
             [
              0.5555555555555556,
              "#d8576b"
             ],
             [
              0.6666666666666666,
              "#ed7953"
             ],
             [
              0.7777777777777778,
              "#fb9f3a"
             ],
             [
              0.8888888888888888,
              "#fdca26"
             ],
             [
              1,
              "#f0f921"
             ]
            ],
            "type": "histogram2d"
           }
          ],
          "histogram2dcontour": [
           {
            "colorbar": {
             "outlinewidth": 0,
             "ticks": ""
            },
            "colorscale": [
             [
              0,
              "#0d0887"
             ],
             [
              0.1111111111111111,
              "#46039f"
             ],
             [
              0.2222222222222222,
              "#7201a8"
             ],
             [
              0.3333333333333333,
              "#9c179e"
             ],
             [
              0.4444444444444444,
              "#bd3786"
             ],
             [
              0.5555555555555556,
              "#d8576b"
             ],
             [
              0.6666666666666666,
              "#ed7953"
             ],
             [
              0.7777777777777778,
              "#fb9f3a"
             ],
             [
              0.8888888888888888,
              "#fdca26"
             ],
             [
              1,
              "#f0f921"
             ]
            ],
            "type": "histogram2dcontour"
           }
          ],
          "mesh3d": [
           {
            "colorbar": {
             "outlinewidth": 0,
             "ticks": ""
            },
            "type": "mesh3d"
           }
          ],
          "parcoords": [
           {
            "line": {
             "colorbar": {
              "outlinewidth": 0,
              "ticks": ""
             }
            },
            "type": "parcoords"
           }
          ],
          "pie": [
           {
            "automargin": true,
            "type": "pie"
           }
          ],
          "scatter": [
           {
            "marker": {
             "colorbar": {
              "outlinewidth": 0,
              "ticks": ""
             }
            },
            "type": "scatter"
           }
          ],
          "scatter3d": [
           {
            "line": {
             "colorbar": {
              "outlinewidth": 0,
              "ticks": ""
             }
            },
            "marker": {
             "colorbar": {
              "outlinewidth": 0,
              "ticks": ""
             }
            },
            "type": "scatter3d"
           }
          ],
          "scattercarpet": [
           {
            "marker": {
             "colorbar": {
              "outlinewidth": 0,
              "ticks": ""
             }
            },
            "type": "scattercarpet"
           }
          ],
          "scattergeo": [
           {
            "marker": {
             "colorbar": {
              "outlinewidth": 0,
              "ticks": ""
             }
            },
            "type": "scattergeo"
           }
          ],
          "scattergl": [
           {
            "marker": {
             "colorbar": {
              "outlinewidth": 0,
              "ticks": ""
             }
            },
            "type": "scattergl"
           }
          ],
          "scattermapbox": [
           {
            "marker": {
             "colorbar": {
              "outlinewidth": 0,
              "ticks": ""
             }
            },
            "type": "scattermapbox"
           }
          ],
          "scatterpolar": [
           {
            "marker": {
             "colorbar": {
              "outlinewidth": 0,
              "ticks": ""
             }
            },
            "type": "scatterpolar"
           }
          ],
          "scatterpolargl": [
           {
            "marker": {
             "colorbar": {
              "outlinewidth": 0,
              "ticks": ""
             }
            },
            "type": "scatterpolargl"
           }
          ],
          "scatterternary": [
           {
            "marker": {
             "colorbar": {
              "outlinewidth": 0,
              "ticks": ""
             }
            },
            "type": "scatterternary"
           }
          ],
          "surface": [
           {
            "colorbar": {
             "outlinewidth": 0,
             "ticks": ""
            },
            "colorscale": [
             [
              0,
              "#0d0887"
             ],
             [
              0.1111111111111111,
              "#46039f"
             ],
             [
              0.2222222222222222,
              "#7201a8"
             ],
             [
              0.3333333333333333,
              "#9c179e"
             ],
             [
              0.4444444444444444,
              "#bd3786"
             ],
             [
              0.5555555555555556,
              "#d8576b"
             ],
             [
              0.6666666666666666,
              "#ed7953"
             ],
             [
              0.7777777777777778,
              "#fb9f3a"
             ],
             [
              0.8888888888888888,
              "#fdca26"
             ],
             [
              1,
              "#f0f921"
             ]
            ],
            "type": "surface"
           }
          ],
          "table": [
           {
            "cells": {
             "fill": {
              "color": "#EBF0F8"
             },
             "line": {
              "color": "white"
             }
            },
            "header": {
             "fill": {
              "color": "#C8D4E3"
             },
             "line": {
              "color": "white"
             }
            },
            "type": "table"
           }
          ]
         },
         "layout": {
          "annotationdefaults": {
           "arrowcolor": "#2a3f5f",
           "arrowhead": 0,
           "arrowwidth": 1
          },
          "coloraxis": {
           "colorbar": {
            "outlinewidth": 0,
            "ticks": ""
           }
          },
          "colorscale": {
           "diverging": [
            [
             0,
             "#8e0152"
            ],
            [
             0.1,
             "#c51b7d"
            ],
            [
             0.2,
             "#de77ae"
            ],
            [
             0.3,
             "#f1b6da"
            ],
            [
             0.4,
             "#fde0ef"
            ],
            [
             0.5,
             "#f7f7f7"
            ],
            [
             0.6,
             "#e6f5d0"
            ],
            [
             0.7,
             "#b8e186"
            ],
            [
             0.8,
             "#7fbc41"
            ],
            [
             0.9,
             "#4d9221"
            ],
            [
             1,
             "#276419"
            ]
           ],
           "sequential": [
            [
             0,
             "#0d0887"
            ],
            [
             0.1111111111111111,
             "#46039f"
            ],
            [
             0.2222222222222222,
             "#7201a8"
            ],
            [
             0.3333333333333333,
             "#9c179e"
            ],
            [
             0.4444444444444444,
             "#bd3786"
            ],
            [
             0.5555555555555556,
             "#d8576b"
            ],
            [
             0.6666666666666666,
             "#ed7953"
            ],
            [
             0.7777777777777778,
             "#fb9f3a"
            ],
            [
             0.8888888888888888,
             "#fdca26"
            ],
            [
             1,
             "#f0f921"
            ]
           ],
           "sequentialminus": [
            [
             0,
             "#0d0887"
            ],
            [
             0.1111111111111111,
             "#46039f"
            ],
            [
             0.2222222222222222,
             "#7201a8"
            ],
            [
             0.3333333333333333,
             "#9c179e"
            ],
            [
             0.4444444444444444,
             "#bd3786"
            ],
            [
             0.5555555555555556,
             "#d8576b"
            ],
            [
             0.6666666666666666,
             "#ed7953"
            ],
            [
             0.7777777777777778,
             "#fb9f3a"
            ],
            [
             0.8888888888888888,
             "#fdca26"
            ],
            [
             1,
             "#f0f921"
            ]
           ]
          },
          "colorway": [
           "#636efa",
           "#EF553B",
           "#00cc96",
           "#ab63fa",
           "#FFA15A",
           "#19d3f3",
           "#FF6692",
           "#B6E880",
           "#FF97FF",
           "#FECB52"
          ],
          "font": {
           "color": "#2a3f5f"
          },
          "geo": {
           "bgcolor": "white",
           "lakecolor": "white",
           "landcolor": "#E5ECF6",
           "showlakes": true,
           "showland": true,
           "subunitcolor": "white"
          },
          "hoverlabel": {
           "align": "left"
          },
          "hovermode": "closest",
          "mapbox": {
           "style": "light"
          },
          "paper_bgcolor": "white",
          "plot_bgcolor": "#E5ECF6",
          "polar": {
           "angularaxis": {
            "gridcolor": "white",
            "linecolor": "white",
            "ticks": ""
           },
           "bgcolor": "#E5ECF6",
           "radialaxis": {
            "gridcolor": "white",
            "linecolor": "white",
            "ticks": ""
           }
          },
          "scene": {
           "xaxis": {
            "backgroundcolor": "#E5ECF6",
            "gridcolor": "white",
            "gridwidth": 2,
            "linecolor": "white",
            "showbackground": true,
            "ticks": "",
            "zerolinecolor": "white"
           },
           "yaxis": {
            "backgroundcolor": "#E5ECF6",
            "gridcolor": "white",
            "gridwidth": 2,
            "linecolor": "white",
            "showbackground": true,
            "ticks": "",
            "zerolinecolor": "white"
           },
           "zaxis": {
            "backgroundcolor": "#E5ECF6",
            "gridcolor": "white",
            "gridwidth": 2,
            "linecolor": "white",
            "showbackground": true,
            "ticks": "",
            "zerolinecolor": "white"
           }
          },
          "shapedefaults": {
           "line": {
            "color": "#2a3f5f"
           }
          },
          "ternary": {
           "aaxis": {
            "gridcolor": "white",
            "linecolor": "white",
            "ticks": ""
           },
           "baxis": {
            "gridcolor": "white",
            "linecolor": "white",
            "ticks": ""
           },
           "bgcolor": "#E5ECF6",
           "caxis": {
            "gridcolor": "white",
            "linecolor": "white",
            "ticks": ""
           }
          },
          "title": {
           "x": 0.05
          },
          "xaxis": {
           "automargin": true,
           "gridcolor": "white",
           "linecolor": "white",
           "ticks": "",
           "title": {
            "standoff": 15
           },
           "zerolinecolor": "white",
           "zerolinewidth": 2
          },
          "yaxis": {
           "automargin": true,
           "gridcolor": "white",
           "linecolor": "white",
           "ticks": "",
           "title": {
            "standoff": 15
           },
           "zerolinecolor": "white",
           "zerolinewidth": 2
          }
         }
        },
        "xaxis": {
         "anchor": "y",
         "domain": [
          0,
          1
         ],
         "title": {
          "text": "embark_town"
         }
        },
        "yaxis": {
         "anchor": "x",
         "domain": [
          0,
          1
         ],
         "title": {
          "text": "count"
         }
        }
       }
      },
      "text/html": [
       "<div>                            <div id=\"daa5c4b9-a5db-4bff-9140-ef6e72227214\" class=\"plotly-graph-div\" style=\"height:525px; width:100%;\"></div>            <script type=\"text/javascript\">                require([\"plotly\"], function(Plotly) {                    window.PLOTLYENV=window.PLOTLYENV || {};                                    if (document.getElementById(\"daa5c4b9-a5db-4bff-9140-ef6e72227214\")) {                    Plotly.newPlot(                        \"daa5c4b9-a5db-4bff-9140-ef6e72227214\",                        [{\"alignmentgroup\": \"True\", \"bingroup\": \"x\", \"histnorm\": \"density\", \"hovertemplate\": \"class=Third<br>embark_town=%{x}<br>count=%{y}<extra></extra>\", \"legendgroup\": \"Third\", \"marker\": {\"color\": \"#636efa\"}, \"name\": \"Third\", \"offsetgroup\": \"Third\", \"orientation\": \"v\", \"showlegend\": true, \"type\": \"histogram\", \"x\": [\"Southampton\", \"Southampton\", \"Southampton\", \"Queenstown\", \"Southampton\", \"Southampton\", \"Southampton\", \"Southampton\", \"Southampton\", \"Southampton\", \"Queenstown\", \"Southampton\", \"Cherbourg\", \"Queenstown\", \"Southampton\", \"Southampton\", \"Cherbourg\", \"Queenstown\", \"Southampton\", \"Queenstown\", \"Cherbourg\", \"Southampton\", \"Southampton\", \"Cherbourg\", \"Southampton\", \"Cherbourg\", \"Queenstown\", \"Southampton\", \"Queenstown\", \"Queenstown\", \"Cherbourg\", \"Southampton\", \"Southampton\", \"Southampton\", \"Cherbourg\", \"Southampton\", \"Cherbourg\", \"Southampton\", \"Cherbourg\", \"Southampton\", \"Southampton\", \"Southampton\", \"Southampton\", \"Cherbourg\", \"Southampton\", \"Southampton\", \"Southampton\", \"Southampton\", \"Southampton\", \"Southampton\", \"Southampton\", \"Queenstown\", \"Southampton\", \"Southampton\", \"Southampton\", \"Southampton\", \"Southampton\", \"Southampton\", \"Southampton\", \"Southampton\", \"Southampton\", \"Southampton\", \"Southampton\", \"Southampton\", \"Southampton\", \"Southampton\", \"Southampton\", \"Southampton\", \"Southampton\", \"Queenstown\", \"Cherbourg\", \"Southampton\", \"Southampton\", \"Cherbourg\", \"Southampton\", \"Queenstown\", \"Southampton\", \"Southampton\", \"Cherbourg\", \"Queenstown\", \"Southampton\", \"Cherbourg\", \"Southampton\", \"Cherbourg\", \"Southampton\", \"Southampton\", \"Southampton\", \"Cherbourg\", \"Southampton\", \"Southampton\", \"Queenstown\", \"Southampton\", \"Southampton\", \"Southampton\", \"Southampton\", \"Southampton\", \"Queenstown\", \"Southampton\", \"Southampton\", \"Southampton\", \"Southampton\", \"Southampton\", \"Southampton\", \"Southampton\", \"Southampton\", \"Southampton\", \"Southampton\", \"Queenstown\", \"Southampton\", \"Southampton\", \"Southampton\", \"Southampton\", \"Southampton\", \"Southampton\", \"Southampton\", \"Southampton\", \"Queenstown\", \"Queenstown\", \"Southampton\", \"Southampton\", \"Queenstown\", \"Southampton\", \"Queenstown\", \"Southampton\", \"Southampton\", \"Southampton\", \"Cherbourg\", \"Southampton\", \"Southampton\", \"Southampton\", \"Cherbourg\", \"Queenstown\", \"Southampton\", \"Southampton\", \"Queenstown\", \"Southampton\", \"Southampton\", \"Southampton\", \"Southampton\", \"Southampton\", \"Southampton\", \"Southampton\", \"Southampton\", \"Southampton\", \"Southampton\", \"Cherbourg\", \"Queenstown\", \"Southampton\", \"Cherbourg\", \"Southampton\", \"Southampton\", \"Southampton\", \"Southampton\", \"Southampton\", \"Cherbourg\", \"Queenstown\", \"Southampton\", \"Queenstown\", \"Southampton\", \"Southampton\", \"Southampton\", \"Queenstown\", \"Southampton\", \"Queenstown\", \"Southampton\", \"Queenstown\", \"Southampton\", \"Southampton\", \"Southampton\", \"Cherbourg\", \"Southampton\", \"Southampton\", \"Queenstown\", \"Southampton\", \"Southampton\", \"Cherbourg\", \"Queenstown\", \"Queenstown\", \"Southampton\", \"Southampton\", \"Southampton\", \"Southampton\", \"Southampton\", \"Southampton\", \"Southampton\", \"Southampton\", \"Southampton\", \"Queenstown\", \"Southampton\", \"Southampton\", \"Southampton\", \"Southampton\", \"Southampton\", \"Southampton\", \"Southampton\", \"Cherbourg\", \"Southampton\", \"Cherbourg\", \"Southampton\", \"Queenstown\", \"Queenstown\", \"Southampton\", \"Cherbourg\", \"Southampton\", \"Queenstown\", \"Southampton\", \"Cherbourg\", \"Queenstown\", \"Southampton\", \"Southampton\", \"Southampton\", \"Southampton\", \"Cherbourg\", \"Southampton\", \"Cherbourg\", \"Southampton\", \"Southampton\", \"Southampton\", \"Queenstown\", \"Southampton\", \"Southampton\", \"Southampton\", \"Southampton\", \"Southampton\", \"Southampton\", \"Southampton\", \"Southampton\", \"Southampton\", \"Southampton\", \"Southampton\", \"Southampton\", \"Southampton\", \"Southampton\", \"Queenstown\", \"Southampton\", \"Southampton\", \"Southampton\", \"Cherbourg\", \"Queenstown\", \"Southampton\", \"Southampton\", \"Southampton\", \"Southampton\", \"Queenstown\", \"Southampton\", \"Southampton\", \"Southampton\", \"Southampton\", \"Southampton\", \"Southampton\", \"Southampton\", \"Cherbourg\", \"Southampton\", \"Southampton\", \"Cherbourg\", \"Queenstown\", \"Southampton\", \"Southampton\", \"Southampton\", \"Queenstown\", \"Cherbourg\", \"Southampton\", \"Southampton\", \"Southampton\", \"Southampton\", \"Southampton\", \"Southampton\", \"Southampton\", \"Southampton\", \"Southampton\", \"Southampton\", \"Southampton\", \"Southampton\", \"Southampton\", \"Southampton\", \"Southampton\", \"Cherbourg\", \"Southampton\", \"Southampton\", \"Southampton\", \"Queenstown\", \"Queenstown\", \"Southampton\", \"Southampton\", \"Southampton\", \"Queenstown\", \"Southampton\", \"Southampton\", \"Queenstown\", \"Southampton\", \"Southampton\", \"Cherbourg\", \"Cherbourg\", \"Queenstown\", \"Southampton\", \"Cherbourg\", \"Cherbourg\", \"Cherbourg\", \"Southampton\", \"Southampton\", \"Southampton\", \"Southampton\", \"Southampton\", \"Queenstown\", \"Cherbourg\", \"Southampton\", \"Southampton\", \"Queenstown\", \"Southampton\", \"Southampton\", \"Southampton\", \"Southampton\", \"Southampton\", \"Southampton\", \"Cherbourg\", \"Southampton\", \"Queenstown\", \"Southampton\", \"Southampton\", \"Cherbourg\", \"Southampton\", \"Cherbourg\", \"Southampton\", \"Southampton\", \"Southampton\", \"Southampton\", \"Queenstown\", \"Southampton\", \"Southampton\", \"Cherbourg\", \"Southampton\", \"Southampton\", \"Southampton\", \"Southampton\", \"Southampton\", \"Southampton\", \"Queenstown\", \"Queenstown\", \"Southampton\", \"Southampton\", \"Southampton\", \"Cherbourg\", \"Cherbourg\", \"Southampton\", \"Southampton\", \"Southampton\", \"Queenstown\", \"Southampton\", \"Southampton\", \"Southampton\", \"Southampton\", \"Southampton\", \"Southampton\", \"Southampton\", \"Southampton\", \"Cherbourg\", \"Southampton\", \"Southampton\", \"Southampton\", \"Southampton\", \"Southampton\", \"Queenstown\", \"Queenstown\", \"Southampton\", \"Queenstown\", \"Cherbourg\", \"Southampton\", \"Southampton\", \"Southampton\", \"Southampton\", \"Southampton\", \"Southampton\", \"Southampton\", \"Southampton\", \"Queenstown\", \"Southampton\", \"Southampton\", \"Southampton\", \"Southampton\", \"Southampton\", \"Cherbourg\", \"Southampton\", \"Cherbourg\", \"Southampton\", \"Queenstown\", \"Southampton\", \"Cherbourg\", \"Queenstown\", \"Southampton\", \"Cherbourg\", \"Southampton\", \"Southampton\", \"Queenstown\", \"Southampton\", \"Southampton\", \"Southampton\", \"Queenstown\", \"Southampton\", \"Cherbourg\", \"Southampton\", \"Southampton\", \"Southampton\", \"Southampton\", \"Southampton\", \"Southampton\", \"Southampton\", \"Queenstown\", \"Southampton\", \"Southampton\", \"Southampton\", \"Southampton\", \"Southampton\", \"Southampton\", \"Southampton\", \"Cherbourg\", \"Southampton\", \"Queenstown\", \"Queenstown\", \"Southampton\", \"Southampton\", \"Southampton\", \"Cherbourg\", \"Southampton\", \"Queenstown\", \"Southampton\", \"Queenstown\", \"Cherbourg\", \"Southampton\", \"Southampton\", \"Southampton\", \"Southampton\", \"Queenstown\", \"Southampton\", \"Queenstown\", \"Southampton\", \"Southampton\", \"Southampton\", \"Cherbourg\", \"Southampton\", \"Cherbourg\", \"Southampton\", \"Southampton\", \"Southampton\", \"Southampton\", \"Southampton\", \"Southampton\", \"Southampton\", \"Southampton\", \"Southampton\", \"Southampton\", \"Southampton\", \"Southampton\", \"Southampton\", \"Queenstown\", \"Southampton\", \"Queenstown\", \"Cherbourg\", \"Cherbourg\", \"Southampton\", \"Southampton\", \"Southampton\", \"Southampton\", \"Southampton\", \"Southampton\", \"Cherbourg\", \"Southampton\", \"Southampton\", \"Southampton\", \"Cherbourg\", \"Southampton\", \"Southampton\", \"Cherbourg\", \"Southampton\", \"Cherbourg\", \"Cherbourg\", \"Southampton\", \"Southampton\", \"Southampton\", \"Southampton\", \"Southampton\", \"Southampton\", \"Cherbourg\", \"Southampton\", \"Southampton\", \"Southampton\", \"Southampton\", \"Southampton\", \"Southampton\", \"Queenstown\", \"Southampton\", \"Queenstown\"], \"xaxis\": \"x\", \"yaxis\": \"y\"}, {\"alignmentgroup\": \"True\", \"bingroup\": \"x\", \"histnorm\": \"density\", \"hovertemplate\": \"class=Second<br>embark_town=%{x}<br>count=%{y}<extra></extra>\", \"legendgroup\": \"Second\", \"marker\": {\"color\": \"#EF553B\"}, \"name\": \"Second\", \"offsetgroup\": \"Second\", \"orientation\": \"v\", \"showlegend\": true, \"type\": \"histogram\", \"x\": [\"Cherbourg\", \"Southampton\", \"Southampton\", \"Southampton\", \"Southampton\", \"Southampton\", \"Southampton\", \"Cherbourg\", \"Southampton\", \"Southampton\", \"Southampton\", \"Southampton\", \"Southampton\", \"Southampton\", \"Southampton\", \"Southampton\", \"Southampton\", \"Southampton\", \"Southampton\", \"Southampton\", \"Cherbourg\", \"Southampton\", \"Southampton\", \"Southampton\", \"Cherbourg\", \"Southampton\", \"Southampton\", \"Southampton\", \"Southampton\", \"Southampton\", \"Southampton\", \"Southampton\", \"Cherbourg\", \"Southampton\", \"Southampton\", \"Southampton\", \"Southampton\", \"Southampton\", \"Southampton\", \"Southampton\", \"Southampton\", \"Southampton\", \"Southampton\", \"Southampton\", \"Southampton\", \"Southampton\", \"Southampton\", \"Southampton\", \"Southampton\", \"Southampton\", \"Southampton\", \"Southampton\", \"Southampton\", \"Southampton\", \"Southampton\", \"Southampton\", \"Southampton\", \"Southampton\", \"Southampton\", \"Cherbourg\", \"Queenstown\", \"Cherbourg\", \"Southampton\", \"Southampton\", \"Southampton\", \"Southampton\", \"Queenstown\", \"Southampton\", \"Southampton\", \"Southampton\", \"Southampton\", \"Southampton\", \"Southampton\", \"Southampton\", \"Southampton\", \"Southampton\", \"Cherbourg\", \"Southampton\", \"Southampton\", \"Cherbourg\", \"Southampton\", \"Southampton\", \"Southampton\", \"Southampton\", \"Southampton\", \"Southampton\", \"Southampton\", \"Southampton\", \"Southampton\", \"Southampton\", \"Southampton\", \"Southampton\", \"Southampton\", \"Southampton\", \"Southampton\", \"Southampton\", \"Southampton\", \"Southampton\", \"Southampton\", \"Southampton\", \"Southampton\", \"Southampton\", \"Cherbourg\", \"Southampton\", \"Southampton\", \"Southampton\", \"Southampton\", \"Southampton\", \"Southampton\", \"Southampton\", \"Southampton\", \"Southampton\", \"Southampton\", \"Southampton\", \"Cherbourg\", \"Southampton\", \"Southampton\", \"Southampton\", \"Southampton\", \"Southampton\", \"Southampton\", \"Southampton\", \"Southampton\", \"Southampton\", \"Southampton\", \"Southampton\", \"Cherbourg\", \"Southampton\", \"Southampton\", \"Southampton\", \"Queenstown\", \"Southampton\", \"Southampton\", \"Southampton\", \"Southampton\", \"Southampton\", \"Southampton\", \"Southampton\", \"Southampton\", \"Southampton\", \"Southampton\", \"Southampton\", \"Southampton\", \"Cherbourg\", \"Southampton\", \"Southampton\", \"Southampton\", \"Southampton\", \"Southampton\", \"Southampton\", \"Southampton\", \"Southampton\", \"Southampton\", \"Southampton\", \"Southampton\", \"Southampton\", \"Southampton\", \"Southampton\", \"Southampton\", \"Southampton\", \"Southampton\", \"Southampton\", \"Southampton\", \"Southampton\", \"Southampton\", \"Southampton\", \"Southampton\", \"Southampton\", \"Southampton\", \"Southampton\", \"Cherbourg\", \"Cherbourg\", \"Southampton\", \"Southampton\", \"Southampton\", \"Southampton\", \"Southampton\", \"Southampton\", \"Southampton\", \"Cherbourg\", \"Cherbourg\", \"Southampton\", \"Southampton\", \"Southampton\"], \"xaxis\": \"x\", \"yaxis\": \"y\"}, {\"alignmentgroup\": \"True\", \"bingroup\": \"x\", \"histnorm\": \"density\", \"hovertemplate\": \"class=First<br>embark_town=%{x}<br>count=%{y}<extra></extra>\", \"legendgroup\": \"First\", \"marker\": {\"color\": \"#00cc96\"}, \"name\": \"First\", \"offsetgroup\": \"First\", \"orientation\": \"v\", \"showlegend\": true, \"type\": \"histogram\", \"x\": [\"Cherbourg\", \"Southampton\", \"Southampton\", \"Southampton\", \"Southampton\", \"Southampton\", \"Cherbourg\", \"Cherbourg\", \"Cherbourg\", \"Southampton\", \"Cherbourg\", \"Cherbourg\", \"Southampton\", null, \"Southampton\", \"Cherbourg\", \"Southampton\", \"Southampton\", \"Southampton\", \"Cherbourg\", \"Cherbourg\", \"Southampton\", \"Southampton\", \"Cherbourg\", \"Southampton\", \"Southampton\", \"Southampton\", \"Cherbourg\", \"Southampton\", \"Cherbourg\", \"Southampton\", \"Southampton\", \"Southampton\", \"Cherbourg\", \"Cherbourg\", \"Southampton\", \"Southampton\", \"Cherbourg\", \"Cherbourg\", \"Cherbourg\", \"Cherbourg\", \"Cherbourg\", \"Southampton\", \"Southampton\", \"Queenstown\", \"Southampton\", \"Southampton\", \"Cherbourg\", \"Southampton\", \"Cherbourg\", \"Southampton\", \"Southampton\", \"Southampton\", \"Southampton\", \"Southampton\", \"Cherbourg\", \"Southampton\", \"Southampton\", \"Southampton\", \"Cherbourg\", \"Cherbourg\", \"Southampton\", \"Southampton\", \"Cherbourg\", \"Southampton\", \"Cherbourg\", \"Cherbourg\", \"Cherbourg\", \"Cherbourg\", \"Cherbourg\", \"Southampton\", \"Cherbourg\", \"Cherbourg\", \"Cherbourg\", \"Southampton\", \"Southampton\", \"Southampton\", \"Southampton\", \"Cherbourg\", \"Southampton\", \"Southampton\", \"Southampton\", \"Southampton\", \"Cherbourg\", \"Cherbourg\", \"Cherbourg\", \"Cherbourg\", \"Cherbourg\", \"Cherbourg\", \"Cherbourg\", \"Southampton\", \"Southampton\", \"Cherbourg\", \"Queenstown\", \"Southampton\", \"Southampton\", \"Southampton\", \"Southampton\", \"Southampton\", \"Southampton\", \"Southampton\", \"Cherbourg\", \"Cherbourg\", \"Southampton\", \"Southampton\", \"Southampton\", \"Southampton\", \"Southampton\", \"Southampton\", \"Cherbourg\", \"Southampton\", \"Cherbourg\", \"Southampton\", \"Cherbourg\", \"Cherbourg\", \"Southampton\", \"Southampton\", \"Cherbourg\", \"Southampton\", \"Southampton\", \"Cherbourg\", \"Southampton\", \"Southampton\", \"Cherbourg\", \"Southampton\", \"Southampton\", \"Cherbourg\", \"Cherbourg\", \"Southampton\", \"Cherbourg\", \"Southampton\", \"Cherbourg\", \"Southampton\", \"Cherbourg\", \"Cherbourg\", \"Southampton\", \"Southampton\", \"Southampton\", \"Southampton\", \"Cherbourg\", \"Cherbourg\", \"Southampton\", \"Cherbourg\", \"Cherbourg\", \"Cherbourg\", \"Southampton\", \"Cherbourg\", \"Southampton\", \"Southampton\", \"Southampton\", \"Southampton\", \"Southampton\", \"Southampton\", \"Cherbourg\", \"Southampton\", \"Cherbourg\", \"Cherbourg\", \"Cherbourg\", \"Cherbourg\", \"Southampton\", \"Southampton\", \"Southampton\", \"Southampton\", \"Cherbourg\", \"Cherbourg\", \"Southampton\", \"Southampton\", \"Southampton\", \"Cherbourg\", \"Cherbourg\", \"Southampton\", \"Southampton\", \"Southampton\", \"Cherbourg\", \"Southampton\", \"Southampton\", \"Cherbourg\", \"Southampton\", \"Southampton\", \"Cherbourg\", \"Southampton\", \"Southampton\", \"Cherbourg\", \"Southampton\", \"Southampton\", \"Southampton\", \"Southampton\", \"Southampton\", \"Cherbourg\", \"Southampton\", \"Southampton\", \"Southampton\", \"Cherbourg\", \"Cherbourg\", \"Southampton\", \"Southampton\", \"Southampton\", \"Southampton\", \"Southampton\", \"Southampton\", \"Southampton\", null, \"Cherbourg\", \"Cherbourg\", \"Cherbourg\", \"Cherbourg\", \"Southampton\", \"Southampton\", \"Southampton\", \"Southampton\", \"Southampton\", \"Southampton\", \"Southampton\", \"Cherbourg\", \"Southampton\", \"Cherbourg\"], \"xaxis\": \"x\", \"yaxis\": \"y\"}],                        {\"barmode\": \"relative\", \"barnorm\": \"fraction\", \"legend\": {\"title\": {\"text\": \"class\"}, \"tracegroupgap\": 0}, \"margin\": {\"t\": 60}, \"template\": {\"data\": {\"bar\": [{\"error_x\": {\"color\": \"#2a3f5f\"}, \"error_y\": {\"color\": \"#2a3f5f\"}, \"marker\": {\"line\": {\"color\": \"#E5ECF6\", \"width\": 0.5}}, \"type\": \"bar\"}], \"barpolar\": [{\"marker\": {\"line\": {\"color\": \"#E5ECF6\", \"width\": 0.5}}, \"type\": \"barpolar\"}], \"carpet\": [{\"aaxis\": {\"endlinecolor\": \"#2a3f5f\", \"gridcolor\": \"white\", \"linecolor\": \"white\", \"minorgridcolor\": \"white\", \"startlinecolor\": \"#2a3f5f\"}, \"baxis\": {\"endlinecolor\": \"#2a3f5f\", \"gridcolor\": \"white\", \"linecolor\": \"white\", \"minorgridcolor\": \"white\", \"startlinecolor\": \"#2a3f5f\"}, \"type\": \"carpet\"}], \"choropleth\": [{\"colorbar\": {\"outlinewidth\": 0, \"ticks\": \"\"}, \"type\": \"choropleth\"}], \"contour\": [{\"colorbar\": {\"outlinewidth\": 0, \"ticks\": \"\"}, \"colorscale\": [[0.0, \"#0d0887\"], [0.1111111111111111, \"#46039f\"], [0.2222222222222222, \"#7201a8\"], [0.3333333333333333, \"#9c179e\"], [0.4444444444444444, \"#bd3786\"], [0.5555555555555556, \"#d8576b\"], [0.6666666666666666, \"#ed7953\"], [0.7777777777777778, \"#fb9f3a\"], [0.8888888888888888, \"#fdca26\"], [1.0, \"#f0f921\"]], \"type\": \"contour\"}], \"contourcarpet\": [{\"colorbar\": {\"outlinewidth\": 0, \"ticks\": \"\"}, \"type\": \"contourcarpet\"}], \"heatmap\": [{\"colorbar\": {\"outlinewidth\": 0, \"ticks\": \"\"}, \"colorscale\": [[0.0, \"#0d0887\"], [0.1111111111111111, \"#46039f\"], [0.2222222222222222, \"#7201a8\"], [0.3333333333333333, \"#9c179e\"], [0.4444444444444444, \"#bd3786\"], [0.5555555555555556, \"#d8576b\"], [0.6666666666666666, \"#ed7953\"], [0.7777777777777778, \"#fb9f3a\"], [0.8888888888888888, \"#fdca26\"], [1.0, \"#f0f921\"]], \"type\": \"heatmap\"}], \"heatmapgl\": [{\"colorbar\": {\"outlinewidth\": 0, \"ticks\": \"\"}, \"colorscale\": [[0.0, \"#0d0887\"], [0.1111111111111111, \"#46039f\"], [0.2222222222222222, \"#7201a8\"], [0.3333333333333333, \"#9c179e\"], [0.4444444444444444, \"#bd3786\"], [0.5555555555555556, \"#d8576b\"], [0.6666666666666666, \"#ed7953\"], [0.7777777777777778, \"#fb9f3a\"], [0.8888888888888888, \"#fdca26\"], [1.0, \"#f0f921\"]], \"type\": \"heatmapgl\"}], \"histogram\": [{\"marker\": {\"colorbar\": {\"outlinewidth\": 0, \"ticks\": \"\"}}, \"type\": \"histogram\"}], \"histogram2d\": [{\"colorbar\": {\"outlinewidth\": 0, \"ticks\": \"\"}, \"colorscale\": [[0.0, \"#0d0887\"], [0.1111111111111111, \"#46039f\"], [0.2222222222222222, \"#7201a8\"], [0.3333333333333333, \"#9c179e\"], [0.4444444444444444, \"#bd3786\"], [0.5555555555555556, \"#d8576b\"], [0.6666666666666666, \"#ed7953\"], [0.7777777777777778, \"#fb9f3a\"], [0.8888888888888888, \"#fdca26\"], [1.0, \"#f0f921\"]], \"type\": \"histogram2d\"}], \"histogram2dcontour\": [{\"colorbar\": {\"outlinewidth\": 0, \"ticks\": \"\"}, \"colorscale\": [[0.0, \"#0d0887\"], [0.1111111111111111, \"#46039f\"], [0.2222222222222222, \"#7201a8\"], [0.3333333333333333, \"#9c179e\"], [0.4444444444444444, \"#bd3786\"], [0.5555555555555556, \"#d8576b\"], [0.6666666666666666, \"#ed7953\"], [0.7777777777777778, \"#fb9f3a\"], [0.8888888888888888, \"#fdca26\"], [1.0, \"#f0f921\"]], \"type\": \"histogram2dcontour\"}], \"mesh3d\": [{\"colorbar\": {\"outlinewidth\": 0, \"ticks\": \"\"}, \"type\": \"mesh3d\"}], \"parcoords\": [{\"line\": {\"colorbar\": {\"outlinewidth\": 0, \"ticks\": \"\"}}, \"type\": \"parcoords\"}], \"pie\": [{\"automargin\": true, \"type\": \"pie\"}], \"scatter\": [{\"marker\": {\"colorbar\": {\"outlinewidth\": 0, \"ticks\": \"\"}}, \"type\": \"scatter\"}], \"scatter3d\": [{\"line\": {\"colorbar\": {\"outlinewidth\": 0, \"ticks\": \"\"}}, \"marker\": {\"colorbar\": {\"outlinewidth\": 0, \"ticks\": \"\"}}, \"type\": \"scatter3d\"}], \"scattercarpet\": [{\"marker\": {\"colorbar\": {\"outlinewidth\": 0, \"ticks\": \"\"}}, \"type\": \"scattercarpet\"}], \"scattergeo\": [{\"marker\": {\"colorbar\": {\"outlinewidth\": 0, \"ticks\": \"\"}}, \"type\": \"scattergeo\"}], \"scattergl\": [{\"marker\": {\"colorbar\": {\"outlinewidth\": 0, \"ticks\": \"\"}}, \"type\": \"scattergl\"}], \"scattermapbox\": [{\"marker\": {\"colorbar\": {\"outlinewidth\": 0, \"ticks\": \"\"}}, \"type\": \"scattermapbox\"}], \"scatterpolar\": [{\"marker\": {\"colorbar\": {\"outlinewidth\": 0, \"ticks\": \"\"}}, \"type\": \"scatterpolar\"}], \"scatterpolargl\": [{\"marker\": {\"colorbar\": {\"outlinewidth\": 0, \"ticks\": \"\"}}, \"type\": \"scatterpolargl\"}], \"scatterternary\": [{\"marker\": {\"colorbar\": {\"outlinewidth\": 0, \"ticks\": \"\"}}, \"type\": \"scatterternary\"}], \"surface\": [{\"colorbar\": {\"outlinewidth\": 0, \"ticks\": \"\"}, \"colorscale\": [[0.0, \"#0d0887\"], [0.1111111111111111, \"#46039f\"], [0.2222222222222222, \"#7201a8\"], [0.3333333333333333, \"#9c179e\"], [0.4444444444444444, \"#bd3786\"], [0.5555555555555556, \"#d8576b\"], [0.6666666666666666, \"#ed7953\"], [0.7777777777777778, \"#fb9f3a\"], [0.8888888888888888, \"#fdca26\"], [1.0, \"#f0f921\"]], \"type\": \"surface\"}], \"table\": [{\"cells\": {\"fill\": {\"color\": \"#EBF0F8\"}, \"line\": {\"color\": \"white\"}}, \"header\": {\"fill\": {\"color\": \"#C8D4E3\"}, \"line\": {\"color\": \"white\"}}, \"type\": \"table\"}]}, \"layout\": {\"annotationdefaults\": {\"arrowcolor\": \"#2a3f5f\", \"arrowhead\": 0, \"arrowwidth\": 1}, \"coloraxis\": {\"colorbar\": {\"outlinewidth\": 0, \"ticks\": \"\"}}, \"colorscale\": {\"diverging\": [[0, \"#8e0152\"], [0.1, \"#c51b7d\"], [0.2, \"#de77ae\"], [0.3, \"#f1b6da\"], [0.4, \"#fde0ef\"], [0.5, \"#f7f7f7\"], [0.6, \"#e6f5d0\"], [0.7, \"#b8e186\"], [0.8, \"#7fbc41\"], [0.9, \"#4d9221\"], [1, \"#276419\"]], \"sequential\": [[0.0, \"#0d0887\"], [0.1111111111111111, \"#46039f\"], [0.2222222222222222, \"#7201a8\"], [0.3333333333333333, \"#9c179e\"], [0.4444444444444444, \"#bd3786\"], [0.5555555555555556, \"#d8576b\"], [0.6666666666666666, \"#ed7953\"], [0.7777777777777778, \"#fb9f3a\"], [0.8888888888888888, \"#fdca26\"], [1.0, \"#f0f921\"]], \"sequentialminus\": [[0.0, \"#0d0887\"], [0.1111111111111111, \"#46039f\"], [0.2222222222222222, \"#7201a8\"], [0.3333333333333333, \"#9c179e\"], [0.4444444444444444, \"#bd3786\"], [0.5555555555555556, \"#d8576b\"], [0.6666666666666666, \"#ed7953\"], [0.7777777777777778, \"#fb9f3a\"], [0.8888888888888888, \"#fdca26\"], [1.0, \"#f0f921\"]]}, \"colorway\": [\"#636efa\", \"#EF553B\", \"#00cc96\", \"#ab63fa\", \"#FFA15A\", \"#19d3f3\", \"#FF6692\", \"#B6E880\", \"#FF97FF\", \"#FECB52\"], \"font\": {\"color\": \"#2a3f5f\"}, \"geo\": {\"bgcolor\": \"white\", \"lakecolor\": \"white\", \"landcolor\": \"#E5ECF6\", \"showlakes\": true, \"showland\": true, \"subunitcolor\": \"white\"}, \"hoverlabel\": {\"align\": \"left\"}, \"hovermode\": \"closest\", \"mapbox\": {\"style\": \"light\"}, \"paper_bgcolor\": \"white\", \"plot_bgcolor\": \"#E5ECF6\", \"polar\": {\"angularaxis\": {\"gridcolor\": \"white\", \"linecolor\": \"white\", \"ticks\": \"\"}, \"bgcolor\": \"#E5ECF6\", \"radialaxis\": {\"gridcolor\": \"white\", \"linecolor\": \"white\", \"ticks\": \"\"}}, \"scene\": {\"xaxis\": {\"backgroundcolor\": \"#E5ECF6\", \"gridcolor\": \"white\", \"gridwidth\": 2, \"linecolor\": \"white\", \"showbackground\": true, \"ticks\": \"\", \"zerolinecolor\": \"white\"}, \"yaxis\": {\"backgroundcolor\": \"#E5ECF6\", \"gridcolor\": \"white\", \"gridwidth\": 2, \"linecolor\": \"white\", \"showbackground\": true, \"ticks\": \"\", \"zerolinecolor\": \"white\"}, \"zaxis\": {\"backgroundcolor\": \"#E5ECF6\", \"gridcolor\": \"white\", \"gridwidth\": 2, \"linecolor\": \"white\", \"showbackground\": true, \"ticks\": \"\", \"zerolinecolor\": \"white\"}}, \"shapedefaults\": {\"line\": {\"color\": \"#2a3f5f\"}}, \"ternary\": {\"aaxis\": {\"gridcolor\": \"white\", \"linecolor\": \"white\", \"ticks\": \"\"}, \"baxis\": {\"gridcolor\": \"white\", \"linecolor\": \"white\", \"ticks\": \"\"}, \"bgcolor\": \"#E5ECF6\", \"caxis\": {\"gridcolor\": \"white\", \"linecolor\": \"white\", \"ticks\": \"\"}}, \"title\": {\"x\": 0.05}, \"xaxis\": {\"automargin\": true, \"gridcolor\": \"white\", \"linecolor\": \"white\", \"ticks\": \"\", \"title\": {\"standoff\": 15}, \"zerolinecolor\": \"white\", \"zerolinewidth\": 2}, \"yaxis\": {\"automargin\": true, \"gridcolor\": \"white\", \"linecolor\": \"white\", \"ticks\": \"\", \"title\": {\"standoff\": 15}, \"zerolinecolor\": \"white\", \"zerolinewidth\": 2}}}, \"xaxis\": {\"anchor\": \"y\", \"domain\": [0.0, 1.0], \"title\": {\"text\": \"embark_town\"}}, \"yaxis\": {\"anchor\": \"x\", \"domain\": [0.0, 1.0], \"title\": {\"text\": \"count\"}}},                        {\"responsive\": true}                    ).then(function(){\n",
       "                            \n",
       "var gd = document.getElementById('daa5c4b9-a5db-4bff-9140-ef6e72227214');\n",
       "var x = new MutationObserver(function (mutations, observer) {{\n",
       "        var display = window.getComputedStyle(gd).display;\n",
       "        if (!display || display === 'none') {{\n",
       "            console.log([gd, 'removed!']);\n",
       "            Plotly.purge(gd);\n",
       "            observer.disconnect();\n",
       "        }}\n",
       "}});\n",
       "\n",
       "// Listen for the removal of the full notebook cells\n",
       "var notebookContainer = gd.closest('#notebook-container');\n",
       "if (notebookContainer) {{\n",
       "    x.observe(notebookContainer, {childList: true});\n",
       "}}\n",
       "\n",
       "// Listen for the clearing of the current output cell\n",
       "var outputEl = gd.closest('.output');\n",
       "if (outputEl) {{\n",
       "    x.observe(outputEl, {childList: true});\n",
       "}}\n",
       "\n",
       "                        })                };                });            </script>        </div>"
      ]
     },
     "metadata": {},
     "output_type": "display_data"
    }
   ],
   "source": [
    "px.histogram(df, x='embark_town', \n",
    "             histnorm='density', \n",
    "             color='class', \n",
    "             barnorm='fraction', \n",
    "             category_orders={'class': ['Third', 'Second', 'First']})"
   ]
  },
  {
   "cell_type": "markdown",
   "id": "proprietary-class",
   "metadata": {},
   "source": [
    "# Barplots containing information about mulitple attributes"
   ]
  },
  {
   "cell_type": "code",
   "execution_count": 35,
   "id": "original-calendar",
   "metadata": {},
   "outputs": [
    {
     "data": {
      "text/plain": [
       "<AxesSubplot:xlabel='embark_town', ylabel='count'>"
      ]
     },
     "execution_count": 35,
     "metadata": {},
     "output_type": "execute_result"
    },
    {
     "data": {
      "image/png": "[encoded data removed]",
      "text/plain": [
       "<Figure size 432x288 with 1 Axes>"
      ]
     },
     "metadata": {
      "needs_background": "light"
     },
     "output_type": "display_data"
    }
   ],
   "source": [
    "sns.countplot(data=df, x='embark_town', hue='survived')"
   ]
  },
  {
   "cell_type": "code",
   "execution_count": 38,
   "id": "straight-poverty",
   "metadata": {},
   "outputs": [
    {
     "data": {
      "text/plain": [
       "<AxesSubplot:xlabel='sex', ylabel='Density'>"
      ]
     },
     "execution_count": 38,
     "metadata": {},
     "output_type": "execute_result"
    },
    {
     "data": {
      "image/png": "[encoded data removed]",
      "text/plain": [
       "<Figure size 432x288 with 1 Axes>"
      ]
     },
     "metadata": {
      "needs_background": "light"
     },
     "output_type": "display_data"
    }
   ],
   "source": [
    "sns.histplot(data=df, x='sex', hue='embark_town', stat='density', multiple='stack')"
   ]
  },
  {
   "cell_type": "code",
   "execution_count": 51,
   "id": "optimum-wednesday",
   "metadata": {},
   "outputs": [
    {
     "data": {
      "application/vnd.plotly.v1+json": {
       "config": {
        "plotlyServerURL": "https://plot.ly"
       },
       "data": [
        {
         "alignmentgroup": "True",
         "bingroup": "x",
         "hovertemplate": "survived=0<br>class=Third<br>sex=%{x}<br>count=%{y}<extra></extra>",
         "legendgroup": "0",
         "marker": {
          "color": "#636efa"
         },
         "name": "0",
         "offsetgroup": "0",
         "orientation": "v",
         "showlegend": true,
         "type": "histogram",
         "x": [
          "male",
          "male",
          "male",
          "male",
          "male",
          "male",
          "female",
          "male",
          "female",
          "female",
          "male",
          "male",
          "male",
          "female",
          "female",
          "male",
          "male",
          "male",
          "male",
          "female",
          "male",
          "male",
          "male",
          "male",
          "male",
          "male",
          "male",
          "male",
          "female",
          "male",
          "male",
          "male",
          "male",
          "male",
          "male",
          "male",
          "male",
          "male",
          "male",
          "male",
          "male",
          "male",
          "female",
          "male",
          "male",
          "male",
          "male",
          "male",
          "female",
          "male",
          "female",
          "female",
          "male",
          "male",
          "female",
          "male",
          "male",
          "male",
          "male",
          "male",
          "female",
          "male",
          "female",
          "male",
          "female",
          "male",
          "male",
          "male",
          "male",
          "male",
          "male",
          "male",
          "male",
          "male",
          "male",
          "female",
          "male",
          "male",
          "male",
          "male",
          "male",
          "male",
          "female",
          "male",
          "male",
          "male",
          "male",
          "male",
          "male",
          "male",
          "male",
          "male",
          "female",
          "male",
          "male",
          "male",
          "male",
          "male",
          "male",
          "male",
          "male",
          "female",
          "male",
          "female",
          "female",
          "male",
          "male",
          "female",
          "male",
          "female",
          "male",
          "female",
          "male",
          "female",
          "male",
          "female",
          "male",
          "male",
          "male",
          "male",
          "male",
          "male",
          "female",
          "male",
          "male",
          "male",
          "male",
          "male",
          "male",
          "male",
          "male",
          "male",
          "male",
          "male",
          "male",
          "male",
          "male",
          "male",
          "male",
          "male",
          "male",
          "female",
          "male",
          "male",
          "male",
          "male",
          "male",
          "female",
          "male",
          "male",
          "male",
          "male",
          "male",
          "male",
          "male",
          "male",
          "female",
          "male",
          "female",
          "male",
          "female",
          "male",
          "male",
          "female",
          "male",
          "male",
          "female",
          "female",
          "male",
          "male",
          "male",
          "female",
          "male",
          "male",
          "male",
          "male",
          "female",
          "male",
          "male",
          "male",
          "male",
          "male",
          "male",
          "male",
          "male",
          "male",
          "male",
          "male",
          "female",
          "male",
          "male",
          "male",
          "male",
          "female",
          "male",
          "male",
          "male",
          "male",
          "male",
          "male",
          "male",
          "male",
          "female",
          "female",
          "female",
          "male",
          "male",
          "male",
          "male",
          "male",
          "male",
          "male",
          "male",
          "male",
          "male",
          "male",
          "male",
          "female",
          "male",
          "female",
          "female",
          "male",
          "male",
          "male",
          "male",
          "male",
          "female",
          "male",
          "male",
          "female",
          "male",
          "male",
          "male",
          "female",
          "male",
          "male",
          "male",
          "male",
          "male",
          "female",
          "male",
          "male",
          "male",
          "male",
          "male",
          "male",
          "male",
          "female",
          "male",
          "male",
          "male",
          "male",
          "female",
          "male",
          "male",
          "male",
          "male",
          "male",
          "male",
          "female",
          "male",
          "female",
          "male",
          "male",
          "female",
          "male",
          "male",
          "male",
          "male",
          "female",
          "male",
          "female",
          "male",
          "male",
          "male",
          "male",
          "male",
          "male",
          "female",
          "female",
          "male",
          "male",
          "male",
          "male",
          "male",
          "male",
          "male",
          "male",
          "female",
          "male",
          "male",
          "male",
          "male",
          "male",
          "male",
          "male",
          "male",
          "female",
          "male",
          "male",
          "female",
          "male",
          "male",
          "male",
          "male",
          "male",
          "male",
          "male",
          "male",
          "male",
          "male",
          "male",
          "male",
          "female",
          "male",
          "male",
          "male",
          "male",
          "male",
          "male",
          "male",
          "male",
          "male",
          "male",
          "male",
          "male",
          "male",
          "female",
          "male",
          "male",
          "female",
          "male",
          "female",
          "male",
          "male",
          "female",
          "male",
          "female",
          "male",
          "male",
          "male",
          "male",
          "male",
          "male",
          "male",
          "male",
          "male",
          "male",
          "male",
          "male",
          "male",
          "male",
          "male",
          "male",
          "male",
          "male",
          "female",
          "male",
          "male",
          "female",
          "male",
          "male",
          "male",
          "male",
          "male",
          "male",
          "male",
          "female",
          "male",
          "female",
          "female",
          "male"
         ],
         "xaxis": "x",
         "yaxis": "y"
        },
        {
         "alignmentgroup": "True",
         "bingroup": "x",
         "hovertemplate": "survived=0<br>class=Second<br>sex=%{x}<br>count=%{y}<extra></extra>",
         "legendgroup": "0",
         "marker": {
          "color": "#636efa"
         },
         "name": "0",
         "offsetgroup": "0",
         "orientation": "v",
         "showlegend": false,
         "type": "histogram",
         "x": [
          "male",
          "male",
          "female",
          "male",
          "male",
          "male",
          "male",
          "male",
          "male",
          "male",
          "male",
          "male",
          "male",
          "male",
          "male",
          "male",
          "male",
          "male",
          "male",
          "female",
          "male",
          "male",
          "male",
          "male",
          "male",
          "male",
          "male",
          "male",
          "male",
          "male",
          "male",
          "male",
          "male",
          "male",
          "male",
          "male",
          "female",
          "male",
          "male",
          "male",
          "male",
          "male",
          "female",
          "male",
          "male",
          "male",
          "male",
          "male",
          "male",
          "male",
          "male",
          "male",
          "male",
          "male",
          "male",
          "male",
          "male",
          "male",
          "male",
          "male",
          "male",
          "male",
          "male",
          "male",
          "male",
          "male",
          "male",
          "male",
          "male",
          "male",
          "male",
          "male",
          "male",
          "male",
          "male",
          "male",
          "male",
          "male",
          "male",
          "male",
          "male",
          "male",
          "male",
          "female",
          "male",
          "male",
          "male",
          "male",
          "male",
          "male",
          "male",
          "male",
          "female",
          "male",
          "male",
          "male",
          "male"
         ],
         "xaxis": "x2",
         "yaxis": "y2"
        },
        {
         "alignmentgroup": "True",
         "bingroup": "x",
         "hovertemplate": "survived=0<br>class=First<br>sex=%{x}<br>count=%{y}<extra></extra>",
         "legendgroup": "0",
         "marker": {
          "color": "#636efa"
         },
         "name": "0",
         "offsetgroup": "0",
         "orientation": "v",
         "showlegend": false,
         "type": "histogram",
         "x": [
          "male",
          "male",
          "male",
          "male",
          "male",
          "male",
          "male",
          "male",
          "male",
          "male",
          "male",
          "male",
          "male",
          "male",
          "male",
          "male",
          "male",
          "male",
          "male",
          "male",
          "male",
          "female",
          "male",
          "male",
          "male",
          "male",
          "male",
          "male",
          "male",
          "male",
          "male",
          "female",
          "male",
          "male",
          "male",
          "male",
          "male",
          "male",
          "male",
          "male",
          "male",
          "male",
          "male",
          "male",
          "male",
          "male",
          "male",
          "male",
          "male",
          "female",
          "male",
          "male",
          "male",
          "male",
          "male",
          "male",
          "male",
          "male",
          "male",
          "male",
          "male",
          "male",
          "male",
          "male",
          "male",
          "male",
          "male",
          "male",
          "male",
          "male",
          "male",
          "male",
          "male",
          "male",
          "male",
          "male",
          "male",
          "male",
          "male",
          "male"
         ],
         "xaxis": "x3",
         "yaxis": "y3"
        },
        {
         "alignmentgroup": "True",
         "bingroup": "x",
         "hovertemplate": "survived=1<br>class=Third<br>sex=%{x}<br>count=%{y}<extra></extra>",
         "legendgroup": "1",
         "marker": {
          "color": "#EF553B"
         },
         "name": "1",
         "offsetgroup": "1",
         "orientation": "v",
         "showlegend": true,
         "type": "histogram",
         "x": [
          "female",
          "female",
          "female",
          "female",
          "female",
          "female",
          "female",
          "female",
          "male",
          "female",
          "female",
          "female",
          "male",
          "female",
          "male",
          "female",
          "male",
          "female",
          "female",
          "female",
          "male",
          "female",
          "male",
          "male",
          "female",
          "female",
          "female",
          "male",
          "female",
          "male",
          "female",
          "female",
          "female",
          "female",
          "female",
          "male",
          "male",
          "female",
          "female",
          "male",
          "female",
          "female",
          "female",
          "male",
          "male",
          "male",
          "female",
          "female",
          "male",
          "male",
          "female",
          "female",
          "male",
          "female",
          "female",
          "female",
          "male",
          "female",
          "male",
          "female",
          "female",
          "female",
          "female",
          "female",
          "female",
          "male",
          "female",
          "male",
          "male",
          "male",
          "female",
          "male",
          "female",
          "male",
          "female",
          "female",
          "female",
          "male",
          "male",
          "male",
          "female",
          "male",
          "female",
          "female",
          "male",
          "female",
          "male",
          "female",
          "male",
          "male",
          "female",
          "female",
          "female",
          "male",
          "female",
          "female",
          "male",
          "female",
          "male",
          "female",
          "male",
          "male",
          "male",
          "female",
          "female",
          "female",
          "male",
          "female",
          "male",
          "male",
          "male",
          "female",
          "male",
          "female",
          "male",
          "female",
          "female",
          "male",
          "female"
         ],
         "xaxis": "x",
         "yaxis": "y"
        },
        {
         "alignmentgroup": "True",
         "bingroup": "x",
         "hovertemplate": "survived=1<br>class=Second<br>sex=%{x}<br>count=%{y}<extra></extra>",
         "legendgroup": "1",
         "marker": {
          "color": "#EF553B"
         },
         "name": "1",
         "offsetgroup": "1",
         "orientation": "v",
         "showlegend": false,
         "type": "histogram",
         "x": [
          "female",
          "female",
          "male",
          "male",
          "female",
          "female",
          "female",
          "female",
          "female",
          "male",
          "female",
          "female",
          "female",
          "female",
          "female",
          "male",
          "female",
          "male",
          "female",
          "male",
          "female",
          "female",
          "female",
          "female",
          "male",
          "female",
          "female",
          "female",
          "female",
          "female",
          "male",
          "female",
          "female",
          "female",
          "female",
          "female",
          "male",
          "female",
          "female",
          "female",
          "female",
          "female",
          "female",
          "female",
          "female",
          "female",
          "female",
          "female",
          "female",
          "female",
          "female",
          "female",
          "female",
          "female",
          "female",
          "male",
          "female",
          "male",
          "male",
          "male",
          "female",
          "female",
          "female",
          "female",
          "female",
          "female",
          "female",
          "female",
          "female",
          "female",
          "male",
          "female",
          "female",
          "female",
          "female",
          "female",
          "female",
          "female",
          "male",
          "female",
          "female",
          "male",
          "male",
          "female",
          "female",
          "female",
          "female"
         ],
         "xaxis": "x2",
         "yaxis": "y2"
        },
        {
         "alignmentgroup": "True",
         "bingroup": "x",
         "hovertemplate": "survived=1<br>class=First<br>sex=%{x}<br>count=%{y}<extra></extra>",
         "legendgroup": "1",
         "marker": {
          "color": "#EF553B"
         },
         "name": "1",
         "offsetgroup": "1",
         "orientation": "v",
         "showlegend": false,
         "type": "histogram",
         "x": [
          "female",
          "female",
          "female",
          "male",
          "female",
          "female",
          "male",
          "female",
          "female",
          "male",
          "female",
          "female",
          "female",
          "male",
          "female",
          "female",
          "male",
          "female",
          "female",
          "male",
          "female",
          "male",
          "female",
          "female",
          "female",
          "female",
          "female",
          "female",
          "female",
          "female",
          "male",
          "female",
          "male",
          "female",
          "female",
          "female",
          "female",
          "female",
          "female",
          "female",
          "female",
          "female",
          "female",
          "female",
          "female",
          "female",
          "female",
          "female",
          "male",
          "female",
          "female",
          "female",
          "male",
          "female",
          "female",
          "male",
          "female",
          "male",
          "male",
          "male",
          "male",
          "female",
          "male",
          "male",
          "female",
          "female",
          "female",
          "male",
          "male",
          "female",
          "female",
          "female",
          "female",
          "female",
          "female",
          "male",
          "female",
          "female",
          "female",
          "male",
          "female",
          "female",
          "female",
          "male",
          "female",
          "male",
          "male",
          "male",
          "female",
          "male",
          "female",
          "male",
          "male",
          "female",
          "male",
          "male",
          "male",
          "female",
          "male",
          "male",
          "female",
          "male",
          "female",
          "male",
          "male",
          "female",
          "female",
          "male",
          "female",
          "male",
          "female",
          "male",
          "male",
          "female",
          "female",
          "female",
          "female",
          "female",
          "female",
          "female",
          "male",
          "female",
          "female",
          "female",
          "female",
          "male",
          "female",
          "female",
          "female",
          "female",
          "male",
          "female",
          "female",
          "female",
          "female",
          "male"
         ],
         "xaxis": "x3",
         "yaxis": "y3"
        }
       ],
       "layout": {
        "annotations": [
         {
          "font": {},
          "showarrow": false,
          "text": "class=Third",
          "x": 0.15999999999999998,
          "xanchor": "center",
          "xref": "paper",
          "y": 1,
          "yanchor": "bottom",
          "yref": "paper"
         },
         {
          "font": {},
          "showarrow": false,
          "text": "class=Second",
          "x": 0.49999999999999994,
          "xanchor": "center",
          "xref": "paper",
          "y": 1,
          "yanchor": "bottom",
          "yref": "paper"
         },
         {
          "font": {},
          "showarrow": false,
          "text": "class=First",
          "x": 0.8399999999999999,
          "xanchor": "center",
          "xref": "paper",
          "y": 1,
          "yanchor": "bottom",
          "yref": "paper"
         }
        ],
        "barmode": "relative",
        "barnorm": "fraction",
        "legend": {
         "title": {
          "text": "survived"
         },
         "tracegroupgap": 0
        },
        "margin": {
         "t": 60
        },
        "template": {
         "data": {
          "bar": [
           {
            "error_x": {
             "color": "#2a3f5f"
            },
            "error_y": {
             "color": "#2a3f5f"
            },
            "marker": {
             "line": {
              "color": "#E5ECF6",
              "width": 0.5
             }
            },
            "type": "bar"
           }
          ],
          "barpolar": [
           {
            "marker": {
             "line": {
              "color": "#E5ECF6",
              "width": 0.5
             }
            },
            "type": "barpolar"
           }
          ],
          "carpet": [
           {
            "aaxis": {
             "endlinecolor": "#2a3f5f",
             "gridcolor": "white",
             "linecolor": "white",
             "minorgridcolor": "white",
             "startlinecolor": "#2a3f5f"
            },
            "baxis": {
             "endlinecolor": "#2a3f5f",
             "gridcolor": "white",
             "linecolor": "white",
             "minorgridcolor": "white",
             "startlinecolor": "#2a3f5f"
            },
            "type": "carpet"
           }
          ],
          "choropleth": [
           {
            "colorbar": {
             "outlinewidth": 0,
             "ticks": ""
            },
            "type": "choropleth"
           }
          ],
          "contour": [
           {
            "colorbar": {
             "outlinewidth": 0,
             "ticks": ""
            },
            "colorscale": [
             [
              0,
              "#0d0887"
             ],
             [
              0.1111111111111111,
              "#46039f"
             ],
             [
              0.2222222222222222,
              "#7201a8"
             ],
             [
              0.3333333333333333,
              "#9c179e"
             ],
             [
              0.4444444444444444,
              "#bd3786"
             ],
             [
              0.5555555555555556,
              "#d8576b"
             ],
             [
              0.6666666666666666,
              "#ed7953"
             ],
             [
              0.7777777777777778,
              "#fb9f3a"
             ],
             [
              0.8888888888888888,
              "#fdca26"
             ],
             [
              1,
              "#f0f921"
             ]
            ],
            "type": "contour"
           }
          ],
          "contourcarpet": [
           {
            "colorbar": {
             "outlinewidth": 0,
             "ticks": ""
            },
            "type": "contourcarpet"
           }
          ],
          "heatmap": [
           {
            "colorbar": {
             "outlinewidth": 0,
             "ticks": ""
            },
            "colorscale": [
             [
              0,
              "#0d0887"
             ],
             [
              0.1111111111111111,
              "#46039f"
             ],
             [
              0.2222222222222222,
              "#7201a8"
             ],
             [
              0.3333333333333333,
              "#9c179e"
             ],
             [
              0.4444444444444444,
              "#bd3786"
             ],
             [
              0.5555555555555556,
              "#d8576b"
             ],
             [
              0.6666666666666666,
              "#ed7953"
             ],
             [
              0.7777777777777778,
              "#fb9f3a"
             ],
             [
              0.8888888888888888,
              "#fdca26"
             ],
             [
              1,
              "#f0f921"
             ]
            ],
            "type": "heatmap"
           }
          ],
          "heatmapgl": [
           {
            "colorbar": {
             "outlinewidth": 0,
             "ticks": ""
            },
            "colorscale": [
             [
              0,
              "#0d0887"
             ],
             [
              0.1111111111111111,
              "#46039f"
             ],
             [
              0.2222222222222222,
              "#7201a8"
             ],
             [
              0.3333333333333333,
              "#9c179e"
             ],
             [
              0.4444444444444444,
              "#bd3786"
             ],
             [
              0.5555555555555556,
              "#d8576b"
             ],
             [
              0.6666666666666666,
              "#ed7953"
             ],
             [
              0.7777777777777778,
              "#fb9f3a"
             ],
             [
              0.8888888888888888,
              "#fdca26"
             ],
             [
              1,
              "#f0f921"
             ]
            ],
            "type": "heatmapgl"
           }
          ],
          "histogram": [
           {
            "marker": {
             "colorbar": {
              "outlinewidth": 0,
              "ticks": ""
             }
            },
            "type": "histogram"
           }
          ],
          "histogram2d": [
           {
            "colorbar": {
             "outlinewidth": 0,
             "ticks": ""
            },
            "colorscale": [
             [
              0,
              "#0d0887"
             ],
             [
              0.1111111111111111,
              "#46039f"
             ],
             [
              0.2222222222222222,
              "#7201a8"
             ],
             [
              0.3333333333333333,
              "#9c179e"
             ],
             [
              0.4444444444444444,
              "#bd3786"
             ],
             [
              0.5555555555555556,
              "#d8576b"
             ],
             [
              0.6666666666666666,
              "#ed7953"
             ],
             [
              0.7777777777777778,
              "#fb9f3a"
             ],
             [
              0.8888888888888888,
              "#fdca26"
             ],
             [
              1,
              "#f0f921"
             ]
            ],
            "type": "histogram2d"
           }
          ],
          "histogram2dcontour": [
           {
            "colorbar": {
             "outlinewidth": 0,
             "ticks": ""
            },
            "colorscale": [
             [
              0,
              "#0d0887"
             ],
             [
              0.1111111111111111,
              "#46039f"
             ],
             [
              0.2222222222222222,
              "#7201a8"
             ],
             [
              0.3333333333333333,
              "#9c179e"
             ],
             [
              0.4444444444444444,
              "#bd3786"
             ],
             [
              0.5555555555555556,
              "#d8576b"
             ],
             [
              0.6666666666666666,
              "#ed7953"
             ],
             [
              0.7777777777777778,
              "#fb9f3a"
             ],
             [
              0.8888888888888888,
              "#fdca26"
             ],
             [
              1,
              "#f0f921"
             ]
            ],
            "type": "histogram2dcontour"
           }
          ],
          "mesh3d": [
           {
            "colorbar": {
             "outlinewidth": 0,
             "ticks": ""
            },
            "type": "mesh3d"
           }
          ],
          "parcoords": [
           {
            "line": {
             "colorbar": {
              "outlinewidth": 0,
              "ticks": ""
             }
            },
            "type": "parcoords"
           }
          ],
          "pie": [
           {
            "automargin": true,
            "type": "pie"
           }
          ],
          "scatter": [
           {
            "marker": {
             "colorbar": {
              "outlinewidth": 0,
              "ticks": ""
             }
            },
            "type": "scatter"
           }
          ],
          "scatter3d": [
           {
            "line": {
             "colorbar": {
              "outlinewidth": 0,
              "ticks": ""
             }
            },
            "marker": {
             "colorbar": {
              "outlinewidth": 0,
              "ticks": ""
             }
            },
            "type": "scatter3d"
           }
          ],
          "scattercarpet": [
           {
            "marker": {
             "colorbar": {
              "outlinewidth": 0,
              "ticks": ""
             }
            },
            "type": "scattercarpet"
           }
          ],
          "scattergeo": [
           {
            "marker": {
             "colorbar": {
              "outlinewidth": 0,
              "ticks": ""
             }
            },
            "type": "scattergeo"
           }
          ],
          "scattergl": [
           {
            "marker": {
             "colorbar": {
              "outlinewidth": 0,
              "ticks": ""
             }
            },
            "type": "scattergl"
           }
          ],
          "scattermapbox": [
           {
            "marker": {
             "colorbar": {
              "outlinewidth": 0,
              "ticks": ""
             }
            },
            "type": "scattermapbox"
           }
          ],
          "scatterpolar": [
           {
            "marker": {
             "colorbar": {
              "outlinewidth": 0,
              "ticks": ""
             }
            },
            "type": "scatterpolar"
           }
          ],
          "scatterpolargl": [
           {
            "marker": {
             "colorbar": {
              "outlinewidth": 0,
              "ticks": ""
             }
            },
            "type": "scatterpolargl"
           }
          ],
          "scatterternary": [
           {
            "marker": {
             "colorbar": {
              "outlinewidth": 0,
              "ticks": ""
             }
            },
            "type": "scatterternary"
           }
          ],
          "surface": [
           {
            "colorbar": {
             "outlinewidth": 0,
             "ticks": ""
            },
            "colorscale": [
             [
              0,
              "#0d0887"
             ],
             [
              0.1111111111111111,
              "#46039f"
             ],
             [
              0.2222222222222222,
              "#7201a8"
             ],
             [
              0.3333333333333333,
              "#9c179e"
             ],
             [
              0.4444444444444444,
              "#bd3786"
             ],
             [
              0.5555555555555556,
              "#d8576b"
             ],
             [
              0.6666666666666666,
              "#ed7953"
             ],
             [
              0.7777777777777778,
              "#fb9f3a"
             ],
             [
              0.8888888888888888,
              "#fdca26"
             ],
             [
              1,
              "#f0f921"
             ]
            ],
            "type": "surface"
           }
          ],
          "table": [
           {
            "cells": {
             "fill": {
              "color": "#EBF0F8"
             },
             "line": {
              "color": "white"
             }
            },
            "header": {
             "fill": {
              "color": "#C8D4E3"
             },
             "line": {
              "color": "white"
             }
            },
            "type": "table"
           }
          ]
         },
         "layout": {
          "annotationdefaults": {
           "arrowcolor": "#2a3f5f",
           "arrowhead": 0,
           "arrowwidth": 1
          },
          "coloraxis": {
           "colorbar": {
            "outlinewidth": 0,
            "ticks": ""
           }
          },
          "colorscale": {
           "diverging": [
            [
             0,
             "#8e0152"
            ],
            [
             0.1,
             "#c51b7d"
            ],
            [
             0.2,
             "#de77ae"
            ],
            [
             0.3,
             "#f1b6da"
            ],
            [
             0.4,
             "#fde0ef"
            ],
            [
             0.5,
             "#f7f7f7"
            ],
            [
             0.6,
             "#e6f5d0"
            ],
            [
             0.7,
             "#b8e186"
            ],
            [
             0.8,
             "#7fbc41"
            ],
            [
             0.9,
             "#4d9221"
            ],
            [
             1,
             "#276419"
            ]
           ],
           "sequential": [
            [
             0,
             "#0d0887"
            ],
            [
             0.1111111111111111,
             "#46039f"
            ],
            [
             0.2222222222222222,
             "#7201a8"
            ],
            [
             0.3333333333333333,
             "#9c179e"
            ],
            [
             0.4444444444444444,
             "#bd3786"
            ],
            [
             0.5555555555555556,
             "#d8576b"
            ],
            [
             0.6666666666666666,
             "#ed7953"
            ],
            [
             0.7777777777777778,
             "#fb9f3a"
            ],
            [
             0.8888888888888888,
             "#fdca26"
            ],
            [
             1,
             "#f0f921"
            ]
           ],
           "sequentialminus": [
            [
             0,
             "#0d0887"
            ],
            [
             0.1111111111111111,
             "#46039f"
            ],
            [
             0.2222222222222222,
             "#7201a8"
            ],
            [
             0.3333333333333333,
             "#9c179e"
            ],
            [
             0.4444444444444444,
             "#bd3786"
            ],
            [
             0.5555555555555556,
             "#d8576b"
            ],
            [
             0.6666666666666666,
             "#ed7953"
            ],
            [
             0.7777777777777778,
             "#fb9f3a"
            ],
            [
             0.8888888888888888,
             "#fdca26"
            ],
            [
             1,
             "#f0f921"
            ]
           ]
          },
          "colorway": [
           "#636efa",
           "#EF553B",
           "#00cc96",
           "#ab63fa",
           "#FFA15A",
           "#19d3f3",
           "#FF6692",
           "#B6E880",
           "#FF97FF",
           "#FECB52"
          ],
          "font": {
           "color": "#2a3f5f"
          },
          "geo": {
           "bgcolor": "white",
           "lakecolor": "white",
           "landcolor": "#E5ECF6",
           "showlakes": true,
           "showland": true,
           "subunitcolor": "white"
          },
          "hoverlabel": {
           "align": "left"
          },
          "hovermode": "closest",
          "mapbox": {
           "style": "light"
          },
          "paper_bgcolor": "white",
          "plot_bgcolor": "#E5ECF6",
          "polar": {
           "angularaxis": {
            "gridcolor": "white",
            "linecolor": "white",
            "ticks": ""
           },
           "bgcolor": "#E5ECF6",
           "radialaxis": {
            "gridcolor": "white",
            "linecolor": "white",
            "ticks": ""
           }
          },
          "scene": {
           "xaxis": {
            "backgroundcolor": "#E5ECF6",
            "gridcolor": "white",
            "gridwidth": 2,
            "linecolor": "white",
            "showbackground": true,
            "ticks": "",
            "zerolinecolor": "white"
           },
           "yaxis": {
            "backgroundcolor": "#E5ECF6",
            "gridcolor": "white",
            "gridwidth": 2,
            "linecolor": "white",
            "showbackground": true,
            "ticks": "",
            "zerolinecolor": "white"
           },
           "zaxis": {
            "backgroundcolor": "#E5ECF6",
            "gridcolor": "white",
            "gridwidth": 2,
            "linecolor": "white",
            "showbackground": true,
            "ticks": "",
            "zerolinecolor": "white"
           }
          },
          "shapedefaults": {
           "line": {
            "color": "#2a3f5f"
           }
          },
          "ternary": {
           "aaxis": {
            "gridcolor": "white",
            "linecolor": "white",
            "ticks": ""
           },
           "baxis": {
            "gridcolor": "white",
            "linecolor": "white",
            "ticks": ""
           },
           "bgcolor": "#E5ECF6",
           "caxis": {
            "gridcolor": "white",
            "linecolor": "white",
            "ticks": ""
           }
          },
          "title": {
           "x": 0.05
          },
          "xaxis": {
           "automargin": true,
           "gridcolor": "white",
           "linecolor": "white",
           "ticks": "",
           "title": {
            "standoff": 15
           },
           "zerolinecolor": "white",
           "zerolinewidth": 2
          },
          "yaxis": {
           "automargin": true,
           "gridcolor": "white",
           "linecolor": "white",
           "ticks": "",
           "title": {
            "standoff": 15
           },
           "zerolinecolor": "white",
           "zerolinewidth": 2
          }
         }
        },
        "xaxis": {
         "anchor": "y",
         "domain": [
          0,
          0.31999999999999995
         ],
         "title": {
          "text": "sex"
         }
        },
        "xaxis2": {
         "anchor": "y2",
         "domain": [
          0.33999999999999997,
          0.6599999999999999
         ],
         "matches": "x",
         "title": {
          "text": "sex"
         }
        },
        "xaxis3": {
         "anchor": "y3",
         "domain": [
          0.6799999999999999,
          0.9999999999999999
         ],
         "matches": "x",
         "title": {
          "text": "sex"
         }
        },
        "yaxis": {
         "anchor": "x",
         "domain": [
          0,
          1
         ],
         "title": {
          "text": "count"
         }
        },
        "yaxis2": {
         "anchor": "x2",
         "domain": [
          0,
          1
         ],
         "matches": "y",
         "showticklabels": false
        },
        "yaxis3": {
         "anchor": "x3",
         "domain": [
          0,
          1
         ],
         "matches": "y",
         "showticklabels": false
        }
       }
      },
      "text/html": [
       "<div>                            <div id=\"fa94633f-68f4-4007-b973-9bacf47c2795\" class=\"plotly-graph-div\" style=\"height:525px; width:100%;\"></div>            <script type=\"text/javascript\">                require([\"plotly\"], function(Plotly) {                    window.PLOTLYENV=window.PLOTLYENV || {};                                    if (document.getElementById(\"fa94633f-68f4-4007-b973-9bacf47c2795\")) {                    Plotly.newPlot(                        \"fa94633f-68f4-4007-b973-9bacf47c2795\",                        [{\"alignmentgroup\": \"True\", \"bingroup\": \"x\", \"hovertemplate\": \"survived=0<br>class=Third<br>sex=%{x}<br>count=%{y}<extra></extra>\", \"legendgroup\": \"0\", \"marker\": {\"color\": \"#636efa\"}, \"name\": \"0\", \"offsetgroup\": \"0\", \"orientation\": \"v\", \"showlegend\": true, \"type\": \"histogram\", \"x\": [\"male\", \"male\", \"male\", \"male\", \"male\", \"male\", \"female\", \"male\", \"female\", \"female\", \"male\", \"male\", \"male\", \"female\", \"female\", \"male\", \"male\", \"male\", \"male\", \"female\", \"male\", \"male\", \"male\", \"male\", \"male\", \"male\", \"male\", \"male\", \"female\", \"male\", \"male\", \"male\", \"male\", \"male\", \"male\", \"male\", \"male\", \"male\", \"male\", \"male\", \"male\", \"male\", \"female\", \"male\", \"male\", \"male\", \"male\", \"male\", \"female\", \"male\", \"female\", \"female\", \"male\", \"male\", \"female\", \"male\", \"male\", \"male\", \"male\", \"male\", \"female\", \"male\", \"female\", \"male\", \"female\", \"male\", \"male\", \"male\", \"male\", \"male\", \"male\", \"male\", \"male\", \"male\", \"male\", \"female\", \"male\", \"male\", \"male\", \"male\", \"male\", \"male\", \"female\", \"male\", \"male\", \"male\", \"male\", \"male\", \"male\", \"male\", \"male\", \"male\", \"female\", \"male\", \"male\", \"male\", \"male\", \"male\", \"male\", \"male\", \"male\", \"female\", \"male\", \"female\", \"female\", \"male\", \"male\", \"female\", \"male\", \"female\", \"male\", \"female\", \"male\", \"female\", \"male\", \"female\", \"male\", \"male\", \"male\", \"male\", \"male\", \"male\", \"female\", \"male\", \"male\", \"male\", \"male\", \"male\", \"male\", \"male\", \"male\", \"male\", \"male\", \"male\", \"male\", \"male\", \"male\", \"male\", \"male\", \"male\", \"male\", \"female\", \"male\", \"male\", \"male\", \"male\", \"male\", \"female\", \"male\", \"male\", \"male\", \"male\", \"male\", \"male\", \"male\", \"male\", \"female\", \"male\", \"female\", \"male\", \"female\", \"male\", \"male\", \"female\", \"male\", \"male\", \"female\", \"female\", \"male\", \"male\", \"male\", \"female\", \"male\", \"male\", \"male\", \"male\", \"female\", \"male\", \"male\", \"male\", \"male\", \"male\", \"male\", \"male\", \"male\", \"male\", \"male\", \"male\", \"female\", \"male\", \"male\", \"male\", \"male\", \"female\", \"male\", \"male\", \"male\", \"male\", \"male\", \"male\", \"male\", \"male\", \"female\", \"female\", \"female\", \"male\", \"male\", \"male\", \"male\", \"male\", \"male\", \"male\", \"male\", \"male\", \"male\", \"male\", \"male\", \"female\", \"male\", \"female\", \"female\", \"male\", \"male\", \"male\", \"male\", \"male\", \"female\", \"male\", \"male\", \"female\", \"male\", \"male\", \"male\", \"female\", \"male\", \"male\", \"male\", \"male\", \"male\", \"female\", \"male\", \"male\", \"male\", \"male\", \"male\", \"male\", \"male\", \"female\", \"male\", \"male\", \"male\", \"male\", \"female\", \"male\", \"male\", \"male\", \"male\", \"male\", \"male\", \"female\", \"male\", \"female\", \"male\", \"male\", \"female\", \"male\", \"male\", \"male\", \"male\", \"female\", \"male\", \"female\", \"male\", \"male\", \"male\", \"male\", \"male\", \"male\", \"female\", \"female\", \"male\", \"male\", \"male\", \"male\", \"male\", \"male\", \"male\", \"male\", \"female\", \"male\", \"male\", \"male\", \"male\", \"male\", \"male\", \"male\", \"male\", \"female\", \"male\", \"male\", \"female\", \"male\", \"male\", \"male\", \"male\", \"male\", \"male\", \"male\", \"male\", \"male\", \"male\", \"male\", \"male\", \"female\", \"male\", \"male\", \"male\", \"male\", \"male\", \"male\", \"male\", \"male\", \"male\", \"male\", \"male\", \"male\", \"male\", \"female\", \"male\", \"male\", \"female\", \"male\", \"female\", \"male\", \"male\", \"female\", \"male\", \"female\", \"male\", \"male\", \"male\", \"male\", \"male\", \"male\", \"male\", \"male\", \"male\", \"male\", \"male\", \"male\", \"male\", \"male\", \"male\", \"male\", \"male\", \"male\", \"female\", \"male\", \"male\", \"female\", \"male\", \"male\", \"male\", \"male\", \"male\", \"male\", \"male\", \"female\", \"male\", \"female\", \"female\", \"male\"], \"xaxis\": \"x\", \"yaxis\": \"y\"}, {\"alignmentgroup\": \"True\", \"bingroup\": \"x\", \"hovertemplate\": \"survived=0<br>class=Second<br>sex=%{x}<br>count=%{y}<extra></extra>\", \"legendgroup\": \"0\", \"marker\": {\"color\": \"#636efa\"}, \"name\": \"0\", \"offsetgroup\": \"0\", \"orientation\": \"v\", \"showlegend\": false, \"type\": \"histogram\", \"x\": [\"male\", \"male\", \"female\", \"male\", \"male\", \"male\", \"male\", \"male\", \"male\", \"male\", \"male\", \"male\", \"male\", \"male\", \"male\", \"male\", \"male\", \"male\", \"male\", \"female\", \"male\", \"male\", \"male\", \"male\", \"male\", \"male\", \"male\", \"male\", \"male\", \"male\", \"male\", \"male\", \"male\", \"male\", \"male\", \"male\", \"female\", \"male\", \"male\", \"male\", \"male\", \"male\", \"female\", \"male\", \"male\", \"male\", \"male\", \"male\", \"male\", \"male\", \"male\", \"male\", \"male\", \"male\", \"male\", \"male\", \"male\", \"male\", \"male\", \"male\", \"male\", \"male\", \"male\", \"male\", \"male\", \"male\", \"male\", \"male\", \"male\", \"male\", \"male\", \"male\", \"male\", \"male\", \"male\", \"male\", \"male\", \"male\", \"male\", \"male\", \"male\", \"male\", \"male\", \"female\", \"male\", \"male\", \"male\", \"male\", \"male\", \"male\", \"male\", \"male\", \"female\", \"male\", \"male\", \"male\", \"male\"], \"xaxis\": \"x2\", \"yaxis\": \"y2\"}, {\"alignmentgroup\": \"True\", \"bingroup\": \"x\", \"hovertemplate\": \"survived=0<br>class=First<br>sex=%{x}<br>count=%{y}<extra></extra>\", \"legendgroup\": \"0\", \"marker\": {\"color\": \"#636efa\"}, \"name\": \"0\", \"offsetgroup\": \"0\", \"orientation\": \"v\", \"showlegend\": false, \"type\": \"histogram\", \"x\": [\"male\", \"male\", \"male\", \"male\", \"male\", \"male\", \"male\", \"male\", \"male\", \"male\", \"male\", \"male\", \"male\", \"male\", \"male\", \"male\", \"male\", \"male\", \"male\", \"male\", \"male\", \"female\", \"male\", \"male\", \"male\", \"male\", \"male\", \"male\", \"male\", \"male\", \"male\", \"female\", \"male\", \"male\", \"male\", \"male\", \"male\", \"male\", \"male\", \"male\", \"male\", \"male\", \"male\", \"male\", \"male\", \"male\", \"male\", \"male\", \"male\", \"female\", \"male\", \"male\", \"male\", \"male\", \"male\", \"male\", \"male\", \"male\", \"male\", \"male\", \"male\", \"male\", \"male\", \"male\", \"male\", \"male\", \"male\", \"male\", \"male\", \"male\", \"male\", \"male\", \"male\", \"male\", \"male\", \"male\", \"male\", \"male\", \"male\", \"male\"], \"xaxis\": \"x3\", \"yaxis\": \"y3\"}, {\"alignmentgroup\": \"True\", \"bingroup\": \"x\", \"hovertemplate\": \"survived=1<br>class=Third<br>sex=%{x}<br>count=%{y}<extra></extra>\", \"legendgroup\": \"1\", \"marker\": {\"color\": \"#EF553B\"}, \"name\": \"1\", \"offsetgroup\": \"1\", \"orientation\": \"v\", \"showlegend\": true, \"type\": \"histogram\", \"x\": [\"female\", \"female\", \"female\", \"female\", \"female\", \"female\", \"female\", \"female\", \"male\", \"female\", \"female\", \"female\", \"male\", \"female\", \"male\", \"female\", \"male\", \"female\", \"female\", \"female\", \"male\", \"female\", \"male\", \"male\", \"female\", \"female\", \"female\", \"male\", \"female\", \"male\", \"female\", \"female\", \"female\", \"female\", \"female\", \"male\", \"male\", \"female\", \"female\", \"male\", \"female\", \"female\", \"female\", \"male\", \"male\", \"male\", \"female\", \"female\", \"male\", \"male\", \"female\", \"female\", \"male\", \"female\", \"female\", \"female\", \"male\", \"female\", \"male\", \"female\", \"female\", \"female\", \"female\", \"female\", \"female\", \"male\", \"female\", \"male\", \"male\", \"male\", \"female\", \"male\", \"female\", \"male\", \"female\", \"female\", \"female\", \"male\", \"male\", \"male\", \"female\", \"male\", \"female\", \"female\", \"male\", \"female\", \"male\", \"female\", \"male\", \"male\", \"female\", \"female\", \"female\", \"male\", \"female\", \"female\", \"male\", \"female\", \"male\", \"female\", \"male\", \"male\", \"male\", \"female\", \"female\", \"female\", \"male\", \"female\", \"male\", \"male\", \"male\", \"female\", \"male\", \"female\", \"male\", \"female\", \"female\", \"male\", \"female\"], \"xaxis\": \"x\", \"yaxis\": \"y\"}, {\"alignmentgroup\": \"True\", \"bingroup\": \"x\", \"hovertemplate\": \"survived=1<br>class=Second<br>sex=%{x}<br>count=%{y}<extra></extra>\", \"legendgroup\": \"1\", \"marker\": {\"color\": \"#EF553B\"}, \"name\": \"1\", \"offsetgroup\": \"1\", \"orientation\": \"v\", \"showlegend\": false, \"type\": \"histogram\", \"x\": [\"female\", \"female\", \"male\", \"male\", \"female\", \"female\", \"female\", \"female\", \"female\", \"male\", \"female\", \"female\", \"female\", \"female\", \"female\", \"male\", \"female\", \"male\", \"female\", \"male\", \"female\", \"female\", \"female\", \"female\", \"male\", \"female\", \"female\", \"female\", \"female\", \"female\", \"male\", \"female\", \"female\", \"female\", \"female\", \"female\", \"male\", \"female\", \"female\", \"female\", \"female\", \"female\", \"female\", \"female\", \"female\", \"female\", \"female\", \"female\", \"female\", \"female\", \"female\", \"female\", \"female\", \"female\", \"female\", \"male\", \"female\", \"male\", \"male\", \"male\", \"female\", \"female\", \"female\", \"female\", \"female\", \"female\", \"female\", \"female\", \"female\", \"female\", \"male\", \"female\", \"female\", \"female\", \"female\", \"female\", \"female\", \"female\", \"male\", \"female\", \"female\", \"male\", \"male\", \"female\", \"female\", \"female\", \"female\"], \"xaxis\": \"x2\", \"yaxis\": \"y2\"}, {\"alignmentgroup\": \"True\", \"bingroup\": \"x\", \"hovertemplate\": \"survived=1<br>class=First<br>sex=%{x}<br>count=%{y}<extra></extra>\", \"legendgroup\": \"1\", \"marker\": {\"color\": \"#EF553B\"}, \"name\": \"1\", \"offsetgroup\": \"1\", \"orientation\": \"v\", \"showlegend\": false, \"type\": \"histogram\", \"x\": [\"female\", \"female\", \"female\", \"male\", \"female\", \"female\", \"male\", \"female\", \"female\", \"male\", \"female\", \"female\", \"female\", \"male\", \"female\", \"female\", \"male\", \"female\", \"female\", \"male\", \"female\", \"male\", \"female\", \"female\", \"female\", \"female\", \"female\", \"female\", \"female\", \"female\", \"male\", \"female\", \"male\", \"female\", \"female\", \"female\", \"female\", \"female\", \"female\", \"female\", \"female\", \"female\", \"female\", \"female\", \"female\", \"female\", \"female\", \"female\", \"male\", \"female\", \"female\", \"female\", \"male\", \"female\", \"female\", \"male\", \"female\", \"male\", \"male\", \"male\", \"male\", \"female\", \"male\", \"male\", \"female\", \"female\", \"female\", \"male\", \"male\", \"female\", \"female\", \"female\", \"female\", \"female\", \"female\", \"male\", \"female\", \"female\", \"female\", \"male\", \"female\", \"female\", \"female\", \"male\", \"female\", \"male\", \"male\", \"male\", \"female\", \"male\", \"female\", \"male\", \"male\", \"female\", \"male\", \"male\", \"male\", \"female\", \"male\", \"male\", \"female\", \"male\", \"female\", \"male\", \"male\", \"female\", \"female\", \"male\", \"female\", \"male\", \"female\", \"male\", \"male\", \"female\", \"female\", \"female\", \"female\", \"female\", \"female\", \"female\", \"male\", \"female\", \"female\", \"female\", \"female\", \"male\", \"female\", \"female\", \"female\", \"female\", \"male\", \"female\", \"female\", \"female\", \"female\", \"male\"], \"xaxis\": \"x3\", \"yaxis\": \"y3\"}],                        {\"annotations\": [{\"font\": {}, \"showarrow\": false, \"text\": \"class=Third\", \"x\": 0.15999999999999998, \"xanchor\": \"center\", \"xref\": \"paper\", \"y\": 1.0, \"yanchor\": \"bottom\", \"yref\": \"paper\"}, {\"font\": {}, \"showarrow\": false, \"text\": \"class=Second\", \"x\": 0.49999999999999994, \"xanchor\": \"center\", \"xref\": \"paper\", \"y\": 1.0, \"yanchor\": \"bottom\", \"yref\": \"paper\"}, {\"font\": {}, \"showarrow\": false, \"text\": \"class=First\", \"x\": 0.8399999999999999, \"xanchor\": \"center\", \"xref\": \"paper\", \"y\": 1.0, \"yanchor\": \"bottom\", \"yref\": \"paper\"}], \"barmode\": \"relative\", \"barnorm\": \"fraction\", \"legend\": {\"title\": {\"text\": \"survived\"}, \"tracegroupgap\": 0}, \"margin\": {\"t\": 60}, \"template\": {\"data\": {\"bar\": [{\"error_x\": {\"color\": \"#2a3f5f\"}, \"error_y\": {\"color\": \"#2a3f5f\"}, \"marker\": {\"line\": {\"color\": \"#E5ECF6\", \"width\": 0.5}}, \"type\": \"bar\"}], \"barpolar\": [{\"marker\": {\"line\": {\"color\": \"#E5ECF6\", \"width\": 0.5}}, \"type\": \"barpolar\"}], \"carpet\": [{\"aaxis\": {\"endlinecolor\": \"#2a3f5f\", \"gridcolor\": \"white\", \"linecolor\": \"white\", \"minorgridcolor\": \"white\", \"startlinecolor\": \"#2a3f5f\"}, \"baxis\": {\"endlinecolor\": \"#2a3f5f\", \"gridcolor\": \"white\", \"linecolor\": \"white\", \"minorgridcolor\": \"white\", \"startlinecolor\": \"#2a3f5f\"}, \"type\": \"carpet\"}], \"choropleth\": [{\"colorbar\": {\"outlinewidth\": 0, \"ticks\": \"\"}, \"type\": \"choropleth\"}], \"contour\": [{\"colorbar\": {\"outlinewidth\": 0, \"ticks\": \"\"}, \"colorscale\": [[0.0, \"#0d0887\"], [0.1111111111111111, \"#46039f\"], [0.2222222222222222, \"#7201a8\"], [0.3333333333333333, \"#9c179e\"], [0.4444444444444444, \"#bd3786\"], [0.5555555555555556, \"#d8576b\"], [0.6666666666666666, \"#ed7953\"], [0.7777777777777778, \"#fb9f3a\"], [0.8888888888888888, \"#fdca26\"], [1.0, \"#f0f921\"]], \"type\": \"contour\"}], \"contourcarpet\": [{\"colorbar\": {\"outlinewidth\": 0, \"ticks\": \"\"}, \"type\": \"contourcarpet\"}], \"heatmap\": [{\"colorbar\": {\"outlinewidth\": 0, \"ticks\": \"\"}, \"colorscale\": [[0.0, \"#0d0887\"], [0.1111111111111111, \"#46039f\"], [0.2222222222222222, \"#7201a8\"], [0.3333333333333333, \"#9c179e\"], [0.4444444444444444, \"#bd3786\"], [0.5555555555555556, \"#d8576b\"], [0.6666666666666666, \"#ed7953\"], [0.7777777777777778, \"#fb9f3a\"], [0.8888888888888888, \"#fdca26\"], [1.0, \"#f0f921\"]], \"type\": \"heatmap\"}], \"heatmapgl\": [{\"colorbar\": {\"outlinewidth\": 0, \"ticks\": \"\"}, \"colorscale\": [[0.0, \"#0d0887\"], [0.1111111111111111, \"#46039f\"], [0.2222222222222222, \"#7201a8\"], [0.3333333333333333, \"#9c179e\"], [0.4444444444444444, \"#bd3786\"], [0.5555555555555556, \"#d8576b\"], [0.6666666666666666, \"#ed7953\"], [0.7777777777777778, \"#fb9f3a\"], [0.8888888888888888, \"#fdca26\"], [1.0, \"#f0f921\"]], \"type\": \"heatmapgl\"}], \"histogram\": [{\"marker\": {\"colorbar\": {\"outlinewidth\": 0, \"ticks\": \"\"}}, \"type\": \"histogram\"}], \"histogram2d\": [{\"colorbar\": {\"outlinewidth\": 0, \"ticks\": \"\"}, \"colorscale\": [[0.0, \"#0d0887\"], [0.1111111111111111, \"#46039f\"], [0.2222222222222222, \"#7201a8\"], [0.3333333333333333, \"#9c179e\"], [0.4444444444444444, \"#bd3786\"], [0.5555555555555556, \"#d8576b\"], [0.6666666666666666, \"#ed7953\"], [0.7777777777777778, \"#fb9f3a\"], [0.8888888888888888, \"#fdca26\"], [1.0, \"#f0f921\"]], \"type\": \"histogram2d\"}], \"histogram2dcontour\": [{\"colorbar\": {\"outlinewidth\": 0, \"ticks\": \"\"}, \"colorscale\": [[0.0, \"#0d0887\"], [0.1111111111111111, \"#46039f\"], [0.2222222222222222, \"#7201a8\"], [0.3333333333333333, \"#9c179e\"], [0.4444444444444444, \"#bd3786\"], [0.5555555555555556, \"#d8576b\"], [0.6666666666666666, \"#ed7953\"], [0.7777777777777778, \"#fb9f3a\"], [0.8888888888888888, \"#fdca26\"], [1.0, \"#f0f921\"]], \"type\": \"histogram2dcontour\"}], \"mesh3d\": [{\"colorbar\": {\"outlinewidth\": 0, \"ticks\": \"\"}, \"type\": \"mesh3d\"}], \"parcoords\": [{\"line\": {\"colorbar\": {\"outlinewidth\": 0, \"ticks\": \"\"}}, \"type\": \"parcoords\"}], \"pie\": [{\"automargin\": true, \"type\": \"pie\"}], \"scatter\": [{\"marker\": {\"colorbar\": {\"outlinewidth\": 0, \"ticks\": \"\"}}, \"type\": \"scatter\"}], \"scatter3d\": [{\"line\": {\"colorbar\": {\"outlinewidth\": 0, \"ticks\": \"\"}}, \"marker\": {\"colorbar\": {\"outlinewidth\": 0, \"ticks\": \"\"}}, \"type\": \"scatter3d\"}], \"scattercarpet\": [{\"marker\": {\"colorbar\": {\"outlinewidth\": 0, \"ticks\": \"\"}}, \"type\": \"scattercarpet\"}], \"scattergeo\": [{\"marker\": {\"colorbar\": {\"outlinewidth\": 0, \"ticks\": \"\"}}, \"type\": \"scattergeo\"}], \"scattergl\": [{\"marker\": {\"colorbar\": {\"outlinewidth\": 0, \"ticks\": \"\"}}, \"type\": \"scattergl\"}], \"scattermapbox\": [{\"marker\": {\"colorbar\": {\"outlinewidth\": 0, \"ticks\": \"\"}}, \"type\": \"scattermapbox\"}], \"scatterpolar\": [{\"marker\": {\"colorbar\": {\"outlinewidth\": 0, \"ticks\": \"\"}}, \"type\": \"scatterpolar\"}], \"scatterpolargl\": [{\"marker\": {\"colorbar\": {\"outlinewidth\": 0, \"ticks\": \"\"}}, \"type\": \"scatterpolargl\"}], \"scatterternary\": [{\"marker\": {\"colorbar\": {\"outlinewidth\": 0, \"ticks\": \"\"}}, \"type\": \"scatterternary\"}], \"surface\": [{\"colorbar\": {\"outlinewidth\": 0, \"ticks\": \"\"}, \"colorscale\": [[0.0, \"#0d0887\"], [0.1111111111111111, \"#46039f\"], [0.2222222222222222, \"#7201a8\"], [0.3333333333333333, \"#9c179e\"], [0.4444444444444444, \"#bd3786\"], [0.5555555555555556, \"#d8576b\"], [0.6666666666666666, \"#ed7953\"], [0.7777777777777778, \"#fb9f3a\"], [0.8888888888888888, \"#fdca26\"], [1.0, \"#f0f921\"]], \"type\": \"surface\"}], \"table\": [{\"cells\": {\"fill\": {\"color\": \"#EBF0F8\"}, \"line\": {\"color\": \"white\"}}, \"header\": {\"fill\": {\"color\": \"#C8D4E3\"}, \"line\": {\"color\": \"white\"}}, \"type\": \"table\"}]}, \"layout\": {\"annotationdefaults\": {\"arrowcolor\": \"#2a3f5f\", \"arrowhead\": 0, \"arrowwidth\": 1}, \"coloraxis\": {\"colorbar\": {\"outlinewidth\": 0, \"ticks\": \"\"}}, \"colorscale\": {\"diverging\": [[0, \"#8e0152\"], [0.1, \"#c51b7d\"], [0.2, \"#de77ae\"], [0.3, \"#f1b6da\"], [0.4, \"#fde0ef\"], [0.5, \"#f7f7f7\"], [0.6, \"#e6f5d0\"], [0.7, \"#b8e186\"], [0.8, \"#7fbc41\"], [0.9, \"#4d9221\"], [1, \"#276419\"]], \"sequential\": [[0.0, \"#0d0887\"], [0.1111111111111111, \"#46039f\"], [0.2222222222222222, \"#7201a8\"], [0.3333333333333333, \"#9c179e\"], [0.4444444444444444, \"#bd3786\"], [0.5555555555555556, \"#d8576b\"], [0.6666666666666666, \"#ed7953\"], [0.7777777777777778, \"#fb9f3a\"], [0.8888888888888888, \"#fdca26\"], [1.0, \"#f0f921\"]], \"sequentialminus\": [[0.0, \"#0d0887\"], [0.1111111111111111, \"#46039f\"], [0.2222222222222222, \"#7201a8\"], [0.3333333333333333, \"#9c179e\"], [0.4444444444444444, \"#bd3786\"], [0.5555555555555556, \"#d8576b\"], [0.6666666666666666, \"#ed7953\"], [0.7777777777777778, \"#fb9f3a\"], [0.8888888888888888, \"#fdca26\"], [1.0, \"#f0f921\"]]}, \"colorway\": [\"#636efa\", \"#EF553B\", \"#00cc96\", \"#ab63fa\", \"#FFA15A\", \"#19d3f3\", \"#FF6692\", \"#B6E880\", \"#FF97FF\", \"#FECB52\"], \"font\": {\"color\": \"#2a3f5f\"}, \"geo\": {\"bgcolor\": \"white\", \"lakecolor\": \"white\", \"landcolor\": \"#E5ECF6\", \"showlakes\": true, \"showland\": true, \"subunitcolor\": \"white\"}, \"hoverlabel\": {\"align\": \"left\"}, \"hovermode\": \"closest\", \"mapbox\": {\"style\": \"light\"}, \"paper_bgcolor\": \"white\", \"plot_bgcolor\": \"#E5ECF6\", \"polar\": {\"angularaxis\": {\"gridcolor\": \"white\", \"linecolor\": \"white\", \"ticks\": \"\"}, \"bgcolor\": \"#E5ECF6\", \"radialaxis\": {\"gridcolor\": \"white\", \"linecolor\": \"white\", \"ticks\": \"\"}}, \"scene\": {\"xaxis\": {\"backgroundcolor\": \"#E5ECF6\", \"gridcolor\": \"white\", \"gridwidth\": 2, \"linecolor\": \"white\", \"showbackground\": true, \"ticks\": \"\", \"zerolinecolor\": \"white\"}, \"yaxis\": {\"backgroundcolor\": \"#E5ECF6\", \"gridcolor\": \"white\", \"gridwidth\": 2, \"linecolor\": \"white\", \"showbackground\": true, \"ticks\": \"\", \"zerolinecolor\": \"white\"}, \"zaxis\": {\"backgroundcolor\": \"#E5ECF6\", \"gridcolor\": \"white\", \"gridwidth\": 2, \"linecolor\": \"white\", \"showbackground\": true, \"ticks\": \"\", \"zerolinecolor\": \"white\"}}, \"shapedefaults\": {\"line\": {\"color\": \"#2a3f5f\"}}, \"ternary\": {\"aaxis\": {\"gridcolor\": \"white\", \"linecolor\": \"white\", \"ticks\": \"\"}, \"baxis\": {\"gridcolor\": \"white\", \"linecolor\": \"white\", \"ticks\": \"\"}, \"bgcolor\": \"#E5ECF6\", \"caxis\": {\"gridcolor\": \"white\", \"linecolor\": \"white\", \"ticks\": \"\"}}, \"title\": {\"x\": 0.05}, \"xaxis\": {\"automargin\": true, \"gridcolor\": \"white\", \"linecolor\": \"white\", \"ticks\": \"\", \"title\": {\"standoff\": 15}, \"zerolinecolor\": \"white\", \"zerolinewidth\": 2}, \"yaxis\": {\"automargin\": true, \"gridcolor\": \"white\", \"linecolor\": \"white\", \"ticks\": \"\", \"title\": {\"standoff\": 15}, \"zerolinecolor\": \"white\", \"zerolinewidth\": 2}}}, \"xaxis\": {\"anchor\": \"y\", \"domain\": [0.0, 0.31999999999999995], \"title\": {\"text\": \"sex\"}}, \"xaxis2\": {\"anchor\": \"y2\", \"domain\": [0.33999999999999997, 0.6599999999999999], \"matches\": \"x\", \"title\": {\"text\": \"sex\"}}, \"xaxis3\": {\"anchor\": \"y3\", \"domain\": [0.6799999999999999, 0.9999999999999999], \"matches\": \"x\", \"title\": {\"text\": \"sex\"}}, \"yaxis\": {\"anchor\": \"x\", \"domain\": [0.0, 1.0], \"title\": {\"text\": \"count\"}}, \"yaxis2\": {\"anchor\": \"x2\", \"domain\": [0.0, 1.0], \"matches\": \"y\", \"showticklabels\": false}, \"yaxis3\": {\"anchor\": \"x3\", \"domain\": [0.0, 1.0], \"matches\": \"y\", \"showticklabels\": false}},                        {\"responsive\": true}                    ).then(function(){\n",
       "                            \n",
       "var gd = document.getElementById('fa94633f-68f4-4007-b973-9bacf47c2795');\n",
       "var x = new MutationObserver(function (mutations, observer) {{\n",
       "        var display = window.getComputedStyle(gd).display;\n",
       "        if (!display || display === 'none') {{\n",
       "            console.log([gd, 'removed!']);\n",
       "            Plotly.purge(gd);\n",
       "            observer.disconnect();\n",
       "        }}\n",
       "}});\n",
       "\n",
       "// Listen for the removal of the full notebook cells\n",
       "var notebookContainer = gd.closest('#notebook-container');\n",
       "if (notebookContainer) {{\n",
       "    x.observe(notebookContainer, {childList: true});\n",
       "}}\n",
       "\n",
       "// Listen for the clearing of the current output cell\n",
       "var outputEl = gd.closest('.output');\n",
       "if (outputEl) {{\n",
       "    x.observe(outputEl, {childList: true});\n",
       "}}\n",
       "\n",
       "                        })                };                });            </script>        </div>"
      ]
     },
     "metadata": {},
     "output_type": "display_data"
    }
   ],
   "source": [
    "px.histogram(df,\n",
    "            x='sex',\n",
    "            color='survived',\n",
    "            facet_col='class',\n",
    "             barnorm='fraction',\n",
    "            category_orders={'class': ['Third', 'Second', 'First']})"
   ]
  },
  {
   "cell_type": "markdown",
   "id": "peaceful-financing",
   "metadata": {},
   "source": [
    "# Pie Chart"
   ]
  },
  {
   "cell_type": "code",
   "execution_count": 63,
   "id": "unusual-folder",
   "metadata": {},
   "outputs": [
    {
     "data": {
      "application/vnd.plotly.v1+json": {
       "config": {
        "plotlyServerURL": "https://plot.ly"
       },
       "data": [
        {
         "domain": {
          "x": [
           0,
           1
          ],
          "y": [
           0,
           1
          ]
         },
         "hovertemplate": "sex=%{label}<br>number_of_passengers=%{value}<extra></extra>",
         "labels": [
          "female",
          "male"
         ],
         "legendgroup": "",
         "name": "",
         "showlegend": true,
         "type": "pie",
         "values": [
          94,
          122
         ]
        }
       ],
       "layout": {
        "legend": {
         "tracegroupgap": 0
        },
        "template": {
         "data": {
          "bar": [
           {
            "error_x": {
             "color": "#2a3f5f"
            },
            "error_y": {
             "color": "#2a3f5f"
            },
            "marker": {
             "line": {
              "color": "#E5ECF6",
              "width": 0.5
             }
            },
            "type": "bar"
           }
          ],
          "barpolar": [
           {
            "marker": {
             "line": {
              "color": "#E5ECF6",
              "width": 0.5
             }
            },
            "type": "barpolar"
           }
          ],
          "carpet": [
           {
            "aaxis": {
             "endlinecolor": "#2a3f5f",
             "gridcolor": "white",
             "linecolor": "white",
             "minorgridcolor": "white",
             "startlinecolor": "#2a3f5f"
            },
            "baxis": {
             "endlinecolor": "#2a3f5f",
             "gridcolor": "white",
             "linecolor": "white",
             "minorgridcolor": "white",
             "startlinecolor": "#2a3f5f"
            },
            "type": "carpet"
           }
          ],
          "choropleth": [
           {
            "colorbar": {
             "outlinewidth": 0,
             "ticks": ""
            },
            "type": "choropleth"
           }
          ],
          "contour": [
           {
            "colorbar": {
             "outlinewidth": 0,
             "ticks": ""
            },
            "colorscale": [
             [
              0,
              "#0d0887"
             ],
             [
              0.1111111111111111,
              "#46039f"
             ],
             [
              0.2222222222222222,
              "#7201a8"
             ],
             [
              0.3333333333333333,
              "#9c179e"
             ],
             [
              0.4444444444444444,
              "#bd3786"
             ],
             [
              0.5555555555555556,
              "#d8576b"
             ],
             [
              0.6666666666666666,
              "#ed7953"
             ],
             [
              0.7777777777777778,
              "#fb9f3a"
             ],
             [
              0.8888888888888888,
              "#fdca26"
             ],
             [
              1,
              "#f0f921"
             ]
            ],
            "type": "contour"
           }
          ],
          "contourcarpet": [
           {
            "colorbar": {
             "outlinewidth": 0,
             "ticks": ""
            },
            "type": "contourcarpet"
           }
          ],
          "heatmap": [
           {
            "colorbar": {
             "outlinewidth": 0,
             "ticks": ""
            },
            "colorscale": [
             [
              0,
              "#0d0887"
             ],
             [
              0.1111111111111111,
              "#46039f"
             ],
             [
              0.2222222222222222,
              "#7201a8"
             ],
             [
              0.3333333333333333,
              "#9c179e"
             ],
             [
              0.4444444444444444,
              "#bd3786"
             ],
             [
              0.5555555555555556,
              "#d8576b"
             ],
             [
              0.6666666666666666,
              "#ed7953"
             ],
             [
              0.7777777777777778,
              "#fb9f3a"
             ],
             [
              0.8888888888888888,
              "#fdca26"
             ],
             [
              1,
              "#f0f921"
             ]
            ],
            "type": "heatmap"
           }
          ],
          "heatmapgl": [
           {
            "colorbar": {
             "outlinewidth": 0,
             "ticks": ""
            },
            "colorscale": [
             [
              0,
              "#0d0887"
             ],
             [
              0.1111111111111111,
              "#46039f"
             ],
             [
              0.2222222222222222,
              "#7201a8"
             ],
             [
              0.3333333333333333,
              "#9c179e"
             ],
             [
              0.4444444444444444,
              "#bd3786"
             ],
             [
              0.5555555555555556,
              "#d8576b"
             ],
             [
              0.6666666666666666,
              "#ed7953"
             ],
             [
              0.7777777777777778,
              "#fb9f3a"
             ],
             [
              0.8888888888888888,
              "#fdca26"
             ],
             [
              1,
              "#f0f921"
             ]
            ],
            "type": "heatmapgl"
           }
          ],
          "histogram": [
           {
            "marker": {
             "colorbar": {
              "outlinewidth": 0,
              "ticks": ""
             }
            },
            "type": "histogram"
           }
          ],
          "histogram2d": [
           {
            "colorbar": {
             "outlinewidth": 0,
             "ticks": ""
            },
            "colorscale": [
             [
              0,
              "#0d0887"
             ],
             [
              0.1111111111111111,
              "#46039f"
             ],
             [
              0.2222222222222222,
              "#7201a8"
             ],
             [
              0.3333333333333333,
              "#9c179e"
             ],
             [
              0.4444444444444444,
              "#bd3786"
             ],
             [
              0.5555555555555556,
              "#d8576b"
             ],
             [
              0.6666666666666666,
              "#ed7953"
             ],
             [
              0.7777777777777778,
              "#fb9f3a"
             ],
             [
              0.8888888888888888,
              "#fdca26"
             ],
             [
              1,
              "#f0f921"
             ]
            ],
            "type": "histogram2d"
           }
          ],
          "histogram2dcontour": [
           {
            "colorbar": {
             "outlinewidth": 0,
             "ticks": ""
            },
            "colorscale": [
             [
              0,
              "#0d0887"
             ],
             [
              0.1111111111111111,
              "#46039f"
             ],
             [
              0.2222222222222222,
              "#7201a8"
             ],
             [
              0.3333333333333333,
              "#9c179e"
             ],
             [
              0.4444444444444444,
              "#bd3786"
             ],
             [
              0.5555555555555556,
              "#d8576b"
             ],
             [
              0.6666666666666666,
              "#ed7953"
             ],
             [
              0.7777777777777778,
              "#fb9f3a"
             ],
             [
              0.8888888888888888,
              "#fdca26"
             ],
             [
              1,
              "#f0f921"
             ]
            ],
            "type": "histogram2dcontour"
           }
          ],
          "mesh3d": [
           {
            "colorbar": {
             "outlinewidth": 0,
             "ticks": ""
            },
            "type": "mesh3d"
           }
          ],
          "parcoords": [
           {
            "line": {
             "colorbar": {
              "outlinewidth": 0,
              "ticks": ""
             }
            },
            "type": "parcoords"
           }
          ],
          "pie": [
           {
            "automargin": true,
            "type": "pie"
           }
          ],
          "scatter": [
           {
            "marker": {
             "colorbar": {
              "outlinewidth": 0,
              "ticks": ""
             }
            },
            "type": "scatter"
           }
          ],
          "scatter3d": [
           {
            "line": {
             "colorbar": {
              "outlinewidth": 0,
              "ticks": ""
             }
            },
            "marker": {
             "colorbar": {
              "outlinewidth": 0,
              "ticks": ""
             }
            },
            "type": "scatter3d"
           }
          ],
          "scattercarpet": [
           {
            "marker": {
             "colorbar": {
              "outlinewidth": 0,
              "ticks": ""
             }
            },
            "type": "scattercarpet"
           }
          ],
          "scattergeo": [
           {
            "marker": {
             "colorbar": {
              "outlinewidth": 0,
              "ticks": ""
             }
            },
            "type": "scattergeo"
           }
          ],
          "scattergl": [
           {
            "marker": {
             "colorbar": {
              "outlinewidth": 0,
              "ticks": ""
             }
            },
            "type": "scattergl"
           }
          ],
          "scattermapbox": [
           {
            "marker": {
             "colorbar": {
              "outlinewidth": 0,
              "ticks": ""
             }
            },
            "type": "scattermapbox"
           }
          ],
          "scatterpolar": [
           {
            "marker": {
             "colorbar": {
              "outlinewidth": 0,
              "ticks": ""
             }
            },
            "type": "scatterpolar"
           }
          ],
          "scatterpolargl": [
           {
            "marker": {
             "colorbar": {
              "outlinewidth": 0,
              "ticks": ""
             }
            },
            "type": "scatterpolargl"
           }
          ],
          "scatterternary": [
           {
            "marker": {
             "colorbar": {
              "outlinewidth": 0,
              "ticks": ""
             }
            },
            "type": "scatterternary"
           }
          ],
          "surface": [
           {
            "colorbar": {
             "outlinewidth": 0,
             "ticks": ""
            },
            "colorscale": [
             [
              0,
              "#0d0887"
             ],
             [
              0.1111111111111111,
              "#46039f"
             ],
             [
              0.2222222222222222,
              "#7201a8"
             ],
             [
              0.3333333333333333,
              "#9c179e"
             ],
             [
              0.4444444444444444,
              "#bd3786"
             ],
             [
              0.5555555555555556,
              "#d8576b"
             ],
             [
              0.6666666666666666,
              "#ed7953"
             ],
             [
              0.7777777777777778,
              "#fb9f3a"
             ],
             [
              0.8888888888888888,
              "#fdca26"
             ],
             [
              1,
              "#f0f921"
             ]
            ],
            "type": "surface"
           }
          ],
          "table": [
           {
            "cells": {
             "fill": {
              "color": "#EBF0F8"
             },
             "line": {
              "color": "white"
             }
            },
            "header": {
             "fill": {
              "color": "#C8D4E3"
             },
             "line": {
              "color": "white"
             }
            },
            "type": "table"
           }
          ]
         },
         "layout": {
          "annotationdefaults": {
           "arrowcolor": "#2a3f5f",
           "arrowhead": 0,
           "arrowwidth": 1
          },
          "coloraxis": {
           "colorbar": {
            "outlinewidth": 0,
            "ticks": ""
           }
          },
          "colorscale": {
           "diverging": [
            [
             0,
             "#8e0152"
            ],
            [
             0.1,
             "#c51b7d"
            ],
            [
             0.2,
             "#de77ae"
            ],
            [
             0.3,
             "#f1b6da"
            ],
            [
             0.4,
             "#fde0ef"
            ],
            [
             0.5,
             "#f7f7f7"
            ],
            [
             0.6,
             "#e6f5d0"
            ],
            [
             0.7,
             "#b8e186"
            ],
            [
             0.8,
             "#7fbc41"
            ],
            [
             0.9,
             "#4d9221"
            ],
            [
             1,
             "#276419"
            ]
           ],
           "sequential": [
            [
             0,
             "#0d0887"
            ],
            [
             0.1111111111111111,
             "#46039f"
            ],
            [
             0.2222222222222222,
             "#7201a8"
            ],
            [
             0.3333333333333333,
             "#9c179e"
            ],
            [
             0.4444444444444444,
             "#bd3786"
            ],
            [
             0.5555555555555556,
             "#d8576b"
            ],
            [
             0.6666666666666666,
             "#ed7953"
            ],
            [
             0.7777777777777778,
             "#fb9f3a"
            ],
            [
             0.8888888888888888,
             "#fdca26"
            ],
            [
             1,
             "#f0f921"
            ]
           ],
           "sequentialminus": [
            [
             0,
             "#0d0887"
            ],
            [
             0.1111111111111111,
             "#46039f"
            ],
            [
             0.2222222222222222,
             "#7201a8"
            ],
            [
             0.3333333333333333,
             "#9c179e"
            ],
            [
             0.4444444444444444,
             "#bd3786"
            ],
            [
             0.5555555555555556,
             "#d8576b"
            ],
            [
             0.6666666666666666,
             "#ed7953"
            ],
            [
             0.7777777777777778,
             "#fb9f3a"
            ],
            [
             0.8888888888888888,
             "#fdca26"
            ],
            [
             1,
             "#f0f921"
            ]
           ]
          },
          "colorway": [
           "#636efa",
           "#EF553B",
           "#00cc96",
           "#ab63fa",
           "#FFA15A",
           "#19d3f3",
           "#FF6692",
           "#B6E880",
           "#FF97FF",
           "#FECB52"
          ],
          "font": {
           "color": "#2a3f5f"
          },
          "geo": {
           "bgcolor": "white",
           "lakecolor": "white",
           "landcolor": "#E5ECF6",
           "showlakes": true,
           "showland": true,
           "subunitcolor": "white"
          },
          "hoverlabel": {
           "align": "left"
          },
          "hovermode": "closest",
          "mapbox": {
           "style": "light"
          },
          "paper_bgcolor": "white",
          "plot_bgcolor": "#E5ECF6",
          "polar": {
           "angularaxis": {
            "gridcolor": "white",
            "linecolor": "white",
            "ticks": ""
           },
           "bgcolor": "#E5ECF6",
           "radialaxis": {
            "gridcolor": "white",
            "linecolor": "white",
            "ticks": ""
           }
          },
          "scene": {
           "xaxis": {
            "backgroundcolor": "#E5ECF6",
            "gridcolor": "white",
            "gridwidth": 2,
            "linecolor": "white",
            "showbackground": true,
            "ticks": "",
            "zerolinecolor": "white"
           },
           "yaxis": {
            "backgroundcolor": "#E5ECF6",
            "gridcolor": "white",
            "gridwidth": 2,
            "linecolor": "white",
            "showbackground": true,
            "ticks": "",
            "zerolinecolor": "white"
           },
           "zaxis": {
            "backgroundcolor": "#E5ECF6",
            "gridcolor": "white",
            "gridwidth": 2,
            "linecolor": "white",
            "showbackground": true,
            "ticks": "",
            "zerolinecolor": "white"
           }
          },
          "shapedefaults": {
           "line": {
            "color": "#2a3f5f"
           }
          },
          "ternary": {
           "aaxis": {
            "gridcolor": "white",
            "linecolor": "white",
            "ticks": ""
           },
           "baxis": {
            "gridcolor": "white",
            "linecolor": "white",
            "ticks": ""
           },
           "bgcolor": "#E5ECF6",
           "caxis": {
            "gridcolor": "white",
            "linecolor": "white",
            "ticks": ""
           }
          },
          "title": {
           "x": 0.05
          },
          "xaxis": {
           "automargin": true,
           "gridcolor": "white",
           "linecolor": "white",
           "ticks": "",
           "title": {
            "standoff": 15
           },
           "zerolinecolor": "white",
           "zerolinewidth": 2
          },
          "yaxis": {
           "automargin": true,
           "gridcolor": "white",
           "linecolor": "white",
           "ticks": "",
           "title": {
            "standoff": 15
           },
           "zerolinecolor": "white",
           "zerolinewidth": 2
          }
         }
        },
        "title": {
         "text": "First"
        }
       }
      },
      "text/html": [
       "<div>                            <div id=\"efea5579-7c7b-4ba7-aa51-8e3ed412b026\" class=\"plotly-graph-div\" style=\"height:525px; width:100%;\"></div>            <script type=\"text/javascript\">                require([\"plotly\"], function(Plotly) {                    window.PLOTLYENV=window.PLOTLYENV || {};                                    if (document.getElementById(\"efea5579-7c7b-4ba7-aa51-8e3ed412b026\")) {                    Plotly.newPlot(                        \"efea5579-7c7b-4ba7-aa51-8e3ed412b026\",                        [{\"domain\": {\"x\": [0.0, 1.0], \"y\": [0.0, 1.0]}, \"hovertemplate\": \"sex=%{label}<br>number_of_passengers=%{value}<extra></extra>\", \"labels\": [\"female\", \"male\"], \"legendgroup\": \"\", \"name\": \"\", \"showlegend\": true, \"type\": \"pie\", \"values\": [94, 122]}],                        {\"legend\": {\"tracegroupgap\": 0}, \"template\": {\"data\": {\"bar\": [{\"error_x\": {\"color\": \"#2a3f5f\"}, \"error_y\": {\"color\": \"#2a3f5f\"}, \"marker\": {\"line\": {\"color\": \"#E5ECF6\", \"width\": 0.5}}, \"type\": \"bar\"}], \"barpolar\": [{\"marker\": {\"line\": {\"color\": \"#E5ECF6\", \"width\": 0.5}}, \"type\": \"barpolar\"}], \"carpet\": [{\"aaxis\": {\"endlinecolor\": \"#2a3f5f\", \"gridcolor\": \"white\", \"linecolor\": \"white\", \"minorgridcolor\": \"white\", \"startlinecolor\": \"#2a3f5f\"}, \"baxis\": {\"endlinecolor\": \"#2a3f5f\", \"gridcolor\": \"white\", \"linecolor\": \"white\", \"minorgridcolor\": \"white\", \"startlinecolor\": \"#2a3f5f\"}, \"type\": \"carpet\"}], \"choropleth\": [{\"colorbar\": {\"outlinewidth\": 0, \"ticks\": \"\"}, \"type\": \"choropleth\"}], \"contour\": [{\"colorbar\": {\"outlinewidth\": 0, \"ticks\": \"\"}, \"colorscale\": [[0.0, \"#0d0887\"], [0.1111111111111111, \"#46039f\"], [0.2222222222222222, \"#7201a8\"], [0.3333333333333333, \"#9c179e\"], [0.4444444444444444, \"#bd3786\"], [0.5555555555555556, \"#d8576b\"], [0.6666666666666666, \"#ed7953\"], [0.7777777777777778, \"#fb9f3a\"], [0.8888888888888888, \"#fdca26\"], [1.0, \"#f0f921\"]], \"type\": \"contour\"}], \"contourcarpet\": [{\"colorbar\": {\"outlinewidth\": 0, \"ticks\": \"\"}, \"type\": \"contourcarpet\"}], \"heatmap\": [{\"colorbar\": {\"outlinewidth\": 0, \"ticks\": \"\"}, \"colorscale\": [[0.0, \"#0d0887\"], [0.1111111111111111, \"#46039f\"], [0.2222222222222222, \"#7201a8\"], [0.3333333333333333, \"#9c179e\"], [0.4444444444444444, \"#bd3786\"], [0.5555555555555556, \"#d8576b\"], [0.6666666666666666, \"#ed7953\"], [0.7777777777777778, \"#fb9f3a\"], [0.8888888888888888, \"#fdca26\"], [1.0, \"#f0f921\"]], \"type\": \"heatmap\"}], \"heatmapgl\": [{\"colorbar\": {\"outlinewidth\": 0, \"ticks\": \"\"}, \"colorscale\": [[0.0, \"#0d0887\"], [0.1111111111111111, \"#46039f\"], [0.2222222222222222, \"#7201a8\"], [0.3333333333333333, \"#9c179e\"], [0.4444444444444444, \"#bd3786\"], [0.5555555555555556, \"#d8576b\"], [0.6666666666666666, \"#ed7953\"], [0.7777777777777778, \"#fb9f3a\"], [0.8888888888888888, \"#fdca26\"], [1.0, \"#f0f921\"]], \"type\": \"heatmapgl\"}], \"histogram\": [{\"marker\": {\"colorbar\": {\"outlinewidth\": 0, \"ticks\": \"\"}}, \"type\": \"histogram\"}], \"histogram2d\": [{\"colorbar\": {\"outlinewidth\": 0, \"ticks\": \"\"}, \"colorscale\": [[0.0, \"#0d0887\"], [0.1111111111111111, \"#46039f\"], [0.2222222222222222, \"#7201a8\"], [0.3333333333333333, \"#9c179e\"], [0.4444444444444444, \"#bd3786\"], [0.5555555555555556, \"#d8576b\"], [0.6666666666666666, \"#ed7953\"], [0.7777777777777778, \"#fb9f3a\"], [0.8888888888888888, \"#fdca26\"], [1.0, \"#f0f921\"]], \"type\": \"histogram2d\"}], \"histogram2dcontour\": [{\"colorbar\": {\"outlinewidth\": 0, \"ticks\": \"\"}, \"colorscale\": [[0.0, \"#0d0887\"], [0.1111111111111111, \"#46039f\"], [0.2222222222222222, \"#7201a8\"], [0.3333333333333333, \"#9c179e\"], [0.4444444444444444, \"#bd3786\"], [0.5555555555555556, \"#d8576b\"], [0.6666666666666666, \"#ed7953\"], [0.7777777777777778, \"#fb9f3a\"], [0.8888888888888888, \"#fdca26\"], [1.0, \"#f0f921\"]], \"type\": \"histogram2dcontour\"}], \"mesh3d\": [{\"colorbar\": {\"outlinewidth\": 0, \"ticks\": \"\"}, \"type\": \"mesh3d\"}], \"parcoords\": [{\"line\": {\"colorbar\": {\"outlinewidth\": 0, \"ticks\": \"\"}}, \"type\": \"parcoords\"}], \"pie\": [{\"automargin\": true, \"type\": \"pie\"}], \"scatter\": [{\"marker\": {\"colorbar\": {\"outlinewidth\": 0, \"ticks\": \"\"}}, \"type\": \"scatter\"}], \"scatter3d\": [{\"line\": {\"colorbar\": {\"outlinewidth\": 0, \"ticks\": \"\"}}, \"marker\": {\"colorbar\": {\"outlinewidth\": 0, \"ticks\": \"\"}}, \"type\": \"scatter3d\"}], \"scattercarpet\": [{\"marker\": {\"colorbar\": {\"outlinewidth\": 0, \"ticks\": \"\"}}, \"type\": \"scattercarpet\"}], \"scattergeo\": [{\"marker\": {\"colorbar\": {\"outlinewidth\": 0, \"ticks\": \"\"}}, \"type\": \"scattergeo\"}], \"scattergl\": [{\"marker\": {\"colorbar\": {\"outlinewidth\": 0, \"ticks\": \"\"}}, \"type\": \"scattergl\"}], \"scattermapbox\": [{\"marker\": {\"colorbar\": {\"outlinewidth\": 0, \"ticks\": \"\"}}, \"type\": \"scattermapbox\"}], \"scatterpolar\": [{\"marker\": {\"colorbar\": {\"outlinewidth\": 0, \"ticks\": \"\"}}, \"type\": \"scatterpolar\"}], \"scatterpolargl\": [{\"marker\": {\"colorbar\": {\"outlinewidth\": 0, \"ticks\": \"\"}}, \"type\": \"scatterpolargl\"}], \"scatterternary\": [{\"marker\": {\"colorbar\": {\"outlinewidth\": 0, \"ticks\": \"\"}}, \"type\": \"scatterternary\"}], \"surface\": [{\"colorbar\": {\"outlinewidth\": 0, \"ticks\": \"\"}, \"colorscale\": [[0.0, \"#0d0887\"], [0.1111111111111111, \"#46039f\"], [0.2222222222222222, \"#7201a8\"], [0.3333333333333333, \"#9c179e\"], [0.4444444444444444, \"#bd3786\"], [0.5555555555555556, \"#d8576b\"], [0.6666666666666666, \"#ed7953\"], [0.7777777777777778, \"#fb9f3a\"], [0.8888888888888888, \"#fdca26\"], [1.0, \"#f0f921\"]], \"type\": \"surface\"}], \"table\": [{\"cells\": {\"fill\": {\"color\": \"#EBF0F8\"}, \"line\": {\"color\": \"white\"}}, \"header\": {\"fill\": {\"color\": \"#C8D4E3\"}, \"line\": {\"color\": \"white\"}}, \"type\": \"table\"}]}, \"layout\": {\"annotationdefaults\": {\"arrowcolor\": \"#2a3f5f\", \"arrowhead\": 0, \"arrowwidth\": 1}, \"coloraxis\": {\"colorbar\": {\"outlinewidth\": 0, \"ticks\": \"\"}}, \"colorscale\": {\"diverging\": [[0, \"#8e0152\"], [0.1, \"#c51b7d\"], [0.2, \"#de77ae\"], [0.3, \"#f1b6da\"], [0.4, \"#fde0ef\"], [0.5, \"#f7f7f7\"], [0.6, \"#e6f5d0\"], [0.7, \"#b8e186\"], [0.8, \"#7fbc41\"], [0.9, \"#4d9221\"], [1, \"#276419\"]], \"sequential\": [[0.0, \"#0d0887\"], [0.1111111111111111, \"#46039f\"], [0.2222222222222222, \"#7201a8\"], [0.3333333333333333, \"#9c179e\"], [0.4444444444444444, \"#bd3786\"], [0.5555555555555556, \"#d8576b\"], [0.6666666666666666, \"#ed7953\"], [0.7777777777777778, \"#fb9f3a\"], [0.8888888888888888, \"#fdca26\"], [1.0, \"#f0f921\"]], \"sequentialminus\": [[0.0, \"#0d0887\"], [0.1111111111111111, \"#46039f\"], [0.2222222222222222, \"#7201a8\"], [0.3333333333333333, \"#9c179e\"], [0.4444444444444444, \"#bd3786\"], [0.5555555555555556, \"#d8576b\"], [0.6666666666666666, \"#ed7953\"], [0.7777777777777778, \"#fb9f3a\"], [0.8888888888888888, \"#fdca26\"], [1.0, \"#f0f921\"]]}, \"colorway\": [\"#636efa\", \"#EF553B\", \"#00cc96\", \"#ab63fa\", \"#FFA15A\", \"#19d3f3\", \"#FF6692\", \"#B6E880\", \"#FF97FF\", \"#FECB52\"], \"font\": {\"color\": \"#2a3f5f\"}, \"geo\": {\"bgcolor\": \"white\", \"lakecolor\": \"white\", \"landcolor\": \"#E5ECF6\", \"showlakes\": true, \"showland\": true, \"subunitcolor\": \"white\"}, \"hoverlabel\": {\"align\": \"left\"}, \"hovermode\": \"closest\", \"mapbox\": {\"style\": \"light\"}, \"paper_bgcolor\": \"white\", \"plot_bgcolor\": \"#E5ECF6\", \"polar\": {\"angularaxis\": {\"gridcolor\": \"white\", \"linecolor\": \"white\", \"ticks\": \"\"}, \"bgcolor\": \"#E5ECF6\", \"radialaxis\": {\"gridcolor\": \"white\", \"linecolor\": \"white\", \"ticks\": \"\"}}, \"scene\": {\"xaxis\": {\"backgroundcolor\": \"#E5ECF6\", \"gridcolor\": \"white\", \"gridwidth\": 2, \"linecolor\": \"white\", \"showbackground\": true, \"ticks\": \"\", \"zerolinecolor\": \"white\"}, \"yaxis\": {\"backgroundcolor\": \"#E5ECF6\", \"gridcolor\": \"white\", \"gridwidth\": 2, \"linecolor\": \"white\", \"showbackground\": true, \"ticks\": \"\", \"zerolinecolor\": \"white\"}, \"zaxis\": {\"backgroundcolor\": \"#E5ECF6\", \"gridcolor\": \"white\", \"gridwidth\": 2, \"linecolor\": \"white\", \"showbackground\": true, \"ticks\": \"\", \"zerolinecolor\": \"white\"}}, \"shapedefaults\": {\"line\": {\"color\": \"#2a3f5f\"}}, \"ternary\": {\"aaxis\": {\"gridcolor\": \"white\", \"linecolor\": \"white\", \"ticks\": \"\"}, \"baxis\": {\"gridcolor\": \"white\", \"linecolor\": \"white\", \"ticks\": \"\"}, \"bgcolor\": \"#E5ECF6\", \"caxis\": {\"gridcolor\": \"white\", \"linecolor\": \"white\", \"ticks\": \"\"}}, \"title\": {\"x\": 0.05}, \"xaxis\": {\"automargin\": true, \"gridcolor\": \"white\", \"linecolor\": \"white\", \"ticks\": \"\", \"title\": {\"standoff\": 15}, \"zerolinecolor\": \"white\", \"zerolinewidth\": 2}, \"yaxis\": {\"automargin\": true, \"gridcolor\": \"white\", \"linecolor\": \"white\", \"ticks\": \"\", \"title\": {\"standoff\": 15}, \"zerolinecolor\": \"white\", \"zerolinewidth\": 2}}}, \"title\": {\"text\": \"First\"}},                        {\"responsive\": true}                    ).then(function(){\n",
       "                            \n",
       "var gd = document.getElementById('efea5579-7c7b-4ba7-aa51-8e3ed412b026');\n",
       "var x = new MutationObserver(function (mutations, observer) {{\n",
       "        var display = window.getComputedStyle(gd).display;\n",
       "        if (!display || display === 'none') {{\n",
       "            console.log([gd, 'removed!']);\n",
       "            Plotly.purge(gd);\n",
       "            observer.disconnect();\n",
       "        }}\n",
       "}});\n",
       "\n",
       "// Listen for the removal of the full notebook cells\n",
       "var notebookContainer = gd.closest('#notebook-container');\n",
       "if (notebookContainer) {{\n",
       "    x.observe(notebookContainer, {childList: true});\n",
       "}}\n",
       "\n",
       "// Listen for the clearing of the current output cell\n",
       "var outputEl = gd.closest('.output');\n",
       "if (outputEl) {{\n",
       "    x.observe(outputEl, {childList: true});\n",
       "}}\n",
       "\n",
       "                        })                };                });            </script>        </div>"
      ]
     },
     "metadata": {},
     "output_type": "display_data"
    }
   ],
   "source": [
    "df_agg = df[df['class']=='First'].groupby('sex', as_index=False)[['survived']].count()\n",
    "df_agg.columns = ['sex', 'number_of_passengers']\n",
    "\n",
    "px.pie(df_agg, \n",
    "      values='number_of_passengers',\n",
    "      names='sex',\n",
    "      title='First')"
   ]
  },
  {
   "cell_type": "code",
   "execution_count": 66,
   "id": "mature-sampling",
   "metadata": {},
   "outputs": [
    {
     "data": {
      "application/vnd.plotly.v1+json": {
       "config": {
        "plotlyServerURL": "https://plot.ly"
       },
       "data": [
        {
         "branchvalues": "total",
         "domain": {
          "x": [
           0,
           1
          ],
          "y": [
           0,
           1
          ]
         },
         "hovertemplate": "labels=%{label}<br>count=%{value}<br>parent=%{parent}<br>id=%{id}<extra></extra>",
         "ids": [
          "First/female/0",
          "Second/female/0",
          "Third/female/0",
          "First/male/0",
          "Second/male/0",
          "Third/male/0",
          "First/female/1",
          "Second/female/1",
          "Third/female/1",
          "First/male/1",
          "Second/male/1",
          "Third/male/1",
          "First/female",
          "Second/female",
          "Third/female",
          "First/male",
          "Second/male",
          "Third/male",
          "First",
          "Second",
          "Third"
         ],
         "labels": [
          "0",
          "0",
          "0",
          "0",
          "0",
          "0",
          "1",
          "1",
          "1",
          "1",
          "1",
          "1",
          "female",
          "female",
          "female",
          "male",
          "male",
          "male",
          "First",
          "Second",
          "Third"
         ],
         "name": "",
         "parents": [
          "First/female",
          "Second/female",
          "Third/female",
          "First/male",
          "Second/male",
          "Third/male",
          "First/female",
          "Second/female",
          "Third/female",
          "First/male",
          "Second/male",
          "Third/male",
          "First",
          "Second",
          "Third",
          "First",
          "Second",
          "Third",
          "",
          "",
          ""
         ],
         "type": "sunburst",
         "values": [
          3,
          6,
          72,
          77,
          91,
          300,
          91,
          70,
          72,
          45,
          17,
          47,
          94,
          76,
          144,
          122,
          108,
          347,
          216,
          184,
          491
         ]
        }
       ],
       "layout": {
        "legend": {
         "tracegroupgap": 0
        },
        "margin": {
         "t": 60
        },
        "template": {
         "data": {
          "bar": [
           {
            "error_x": {
             "color": "#2a3f5f"
            },
            "error_y": {
             "color": "#2a3f5f"
            },
            "marker": {
             "line": {
              "color": "#E5ECF6",
              "width": 0.5
             }
            },
            "type": "bar"
           }
          ],
          "barpolar": [
           {
            "marker": {
             "line": {
              "color": "#E5ECF6",
              "width": 0.5
             }
            },
            "type": "barpolar"
           }
          ],
          "carpet": [
           {
            "aaxis": {
             "endlinecolor": "#2a3f5f",
             "gridcolor": "white",
             "linecolor": "white",
             "minorgridcolor": "white",
             "startlinecolor": "#2a3f5f"
            },
            "baxis": {
             "endlinecolor": "#2a3f5f",
             "gridcolor": "white",
             "linecolor": "white",
             "minorgridcolor": "white",
             "startlinecolor": "#2a3f5f"
            },
            "type": "carpet"
           }
          ],
          "choropleth": [
           {
            "colorbar": {
             "outlinewidth": 0,
             "ticks": ""
            },
            "type": "choropleth"
           }
          ],
          "contour": [
           {
            "colorbar": {
             "outlinewidth": 0,
             "ticks": ""
            },
            "colorscale": [
             [
              0,
              "#0d0887"
             ],
             [
              0.1111111111111111,
              "#46039f"
             ],
             [
              0.2222222222222222,
              "#7201a8"
             ],
             [
              0.3333333333333333,
              "#9c179e"
             ],
             [
              0.4444444444444444,
              "#bd3786"
             ],
             [
              0.5555555555555556,
              "#d8576b"
             ],
             [
              0.6666666666666666,
              "#ed7953"
             ],
             [
              0.7777777777777778,
              "#fb9f3a"
             ],
             [
              0.8888888888888888,
              "#fdca26"
             ],
             [
              1,
              "#f0f921"
             ]
            ],
            "type": "contour"
           }
          ],
          "contourcarpet": [
           {
            "colorbar": {
             "outlinewidth": 0,
             "ticks": ""
            },
            "type": "contourcarpet"
           }
          ],
          "heatmap": [
           {
            "colorbar": {
             "outlinewidth": 0,
             "ticks": ""
            },
            "colorscale": [
             [
              0,
              "#0d0887"
             ],
             [
              0.1111111111111111,
              "#46039f"
             ],
             [
              0.2222222222222222,
              "#7201a8"
             ],
             [
              0.3333333333333333,
              "#9c179e"
             ],
             [
              0.4444444444444444,
              "#bd3786"
             ],
             [
              0.5555555555555556,
              "#d8576b"
             ],
             [
              0.6666666666666666,
              "#ed7953"
             ],
             [
              0.7777777777777778,
              "#fb9f3a"
             ],
             [
              0.8888888888888888,
              "#fdca26"
             ],
             [
              1,
              "#f0f921"
             ]
            ],
            "type": "heatmap"
           }
          ],
          "heatmapgl": [
           {
            "colorbar": {
             "outlinewidth": 0,
             "ticks": ""
            },
            "colorscale": [
             [
              0,
              "#0d0887"
             ],
             [
              0.1111111111111111,
              "#46039f"
             ],
             [
              0.2222222222222222,
              "#7201a8"
             ],
             [
              0.3333333333333333,
              "#9c179e"
             ],
             [
              0.4444444444444444,
              "#bd3786"
             ],
             [
              0.5555555555555556,
              "#d8576b"
             ],
             [
              0.6666666666666666,
              "#ed7953"
             ],
             [
              0.7777777777777778,
              "#fb9f3a"
             ],
             [
              0.8888888888888888,
              "#fdca26"
             ],
             [
              1,
              "#f0f921"
             ]
            ],
            "type": "heatmapgl"
           }
          ],
          "histogram": [
           {
            "marker": {
             "colorbar": {
              "outlinewidth": 0,
              "ticks": ""
             }
            },
            "type": "histogram"
           }
          ],
          "histogram2d": [
           {
            "colorbar": {
             "outlinewidth": 0,
             "ticks": ""
            },
            "colorscale": [
             [
              0,
              "#0d0887"
             ],
             [
              0.1111111111111111,
              "#46039f"
             ],
             [
              0.2222222222222222,
              "#7201a8"
             ],
             [
              0.3333333333333333,
              "#9c179e"
             ],
             [
              0.4444444444444444,
              "#bd3786"
             ],
             [
              0.5555555555555556,
              "#d8576b"
             ],
             [
              0.6666666666666666,
              "#ed7953"
             ],
             [
              0.7777777777777778,
              "#fb9f3a"
             ],
             [
              0.8888888888888888,
              "#fdca26"
             ],
             [
              1,
              "#f0f921"
             ]
            ],
            "type": "histogram2d"
           }
          ],
          "histogram2dcontour": [
           {
            "colorbar": {
             "outlinewidth": 0,
             "ticks": ""
            },
            "colorscale": [
             [
              0,
              "#0d0887"
             ],
             [
              0.1111111111111111,
              "#46039f"
             ],
             [
              0.2222222222222222,
              "#7201a8"
             ],
             [
              0.3333333333333333,
              "#9c179e"
             ],
             [
              0.4444444444444444,
              "#bd3786"
             ],
             [
              0.5555555555555556,
              "#d8576b"
             ],
             [
              0.6666666666666666,
              "#ed7953"
             ],
             [
              0.7777777777777778,
              "#fb9f3a"
             ],
             [
              0.8888888888888888,
              "#fdca26"
             ],
             [
              1,
              "#f0f921"
             ]
            ],
            "type": "histogram2dcontour"
           }
          ],
          "mesh3d": [
           {
            "colorbar": {
             "outlinewidth": 0,
             "ticks": ""
            },
            "type": "mesh3d"
           }
          ],
          "parcoords": [
           {
            "line": {
             "colorbar": {
              "outlinewidth": 0,
              "ticks": ""
             }
            },
            "type": "parcoords"
           }
          ],
          "pie": [
           {
            "automargin": true,
            "type": "pie"
           }
          ],
          "scatter": [
           {
            "marker": {
             "colorbar": {
              "outlinewidth": 0,
              "ticks": ""
             }
            },
            "type": "scatter"
           }
          ],
          "scatter3d": [
           {
            "line": {
             "colorbar": {
              "outlinewidth": 0,
              "ticks": ""
             }
            },
            "marker": {
             "colorbar": {
              "outlinewidth": 0,
              "ticks": ""
             }
            },
            "type": "scatter3d"
           }
          ],
          "scattercarpet": [
           {
            "marker": {
             "colorbar": {
              "outlinewidth": 0,
              "ticks": ""
             }
            },
            "type": "scattercarpet"
           }
          ],
          "scattergeo": [
           {
            "marker": {
             "colorbar": {
              "outlinewidth": 0,
              "ticks": ""
             }
            },
            "type": "scattergeo"
           }
          ],
          "scattergl": [
           {
            "marker": {
             "colorbar": {
              "outlinewidth": 0,
              "ticks": ""
             }
            },
            "type": "scattergl"
           }
          ],
          "scattermapbox": [
           {
            "marker": {
             "colorbar": {
              "outlinewidth": 0,
              "ticks": ""
             }
            },
            "type": "scattermapbox"
           }
          ],
          "scatterpolar": [
           {
            "marker": {
             "colorbar": {
              "outlinewidth": 0,
              "ticks": ""
             }
            },
            "type": "scatterpolar"
           }
          ],
          "scatterpolargl": [
           {
            "marker": {
             "colorbar": {
              "outlinewidth": 0,
              "ticks": ""
             }
            },
            "type": "scatterpolargl"
           }
          ],
          "scatterternary": [
           {
            "marker": {
             "colorbar": {
              "outlinewidth": 0,
              "ticks": ""
             }
            },
            "type": "scatterternary"
           }
          ],
          "surface": [
           {
            "colorbar": {
             "outlinewidth": 0,
             "ticks": ""
            },
            "colorscale": [
             [
              0,
              "#0d0887"
             ],
             [
              0.1111111111111111,
              "#46039f"
             ],
             [
              0.2222222222222222,
              "#7201a8"
             ],
             [
              0.3333333333333333,
              "#9c179e"
             ],
             [
              0.4444444444444444,
              "#bd3786"
             ],
             [
              0.5555555555555556,
              "#d8576b"
             ],
             [
              0.6666666666666666,
              "#ed7953"
             ],
             [
              0.7777777777777778,
              "#fb9f3a"
             ],
             [
              0.8888888888888888,
              "#fdca26"
             ],
             [
              1,
              "#f0f921"
             ]
            ],
            "type": "surface"
           }
          ],
          "table": [
           {
            "cells": {
             "fill": {
              "color": "#EBF0F8"
             },
             "line": {
              "color": "white"
             }
            },
            "header": {
             "fill": {
              "color": "#C8D4E3"
             },
             "line": {
              "color": "white"
             }
            },
            "type": "table"
           }
          ]
         },
         "layout": {
          "annotationdefaults": {
           "arrowcolor": "#2a3f5f",
           "arrowhead": 0,
           "arrowwidth": 1
          },
          "coloraxis": {
           "colorbar": {
            "outlinewidth": 0,
            "ticks": ""
           }
          },
          "colorscale": {
           "diverging": [
            [
             0,
             "#8e0152"
            ],
            [
             0.1,
             "#c51b7d"
            ],
            [
             0.2,
             "#de77ae"
            ],
            [
             0.3,
             "#f1b6da"
            ],
            [
             0.4,
             "#fde0ef"
            ],
            [
             0.5,
             "#f7f7f7"
            ],
            [
             0.6,
             "#e6f5d0"
            ],
            [
             0.7,
             "#b8e186"
            ],
            [
             0.8,
             "#7fbc41"
            ],
            [
             0.9,
             "#4d9221"
            ],
            [
             1,
             "#276419"
            ]
           ],
           "sequential": [
            [
             0,
             "#0d0887"
            ],
            [
             0.1111111111111111,
             "#46039f"
            ],
            [
             0.2222222222222222,
             "#7201a8"
            ],
            [
             0.3333333333333333,
             "#9c179e"
            ],
            [
             0.4444444444444444,
             "#bd3786"
            ],
            [
             0.5555555555555556,
             "#d8576b"
            ],
            [
             0.6666666666666666,
             "#ed7953"
            ],
            [
             0.7777777777777778,
             "#fb9f3a"
            ],
            [
             0.8888888888888888,
             "#fdca26"
            ],
            [
             1,
             "#f0f921"
            ]
           ],
           "sequentialminus": [
            [
             0,
             "#0d0887"
            ],
            [
             0.1111111111111111,
             "#46039f"
            ],
            [
             0.2222222222222222,
             "#7201a8"
            ],
            [
             0.3333333333333333,
             "#9c179e"
            ],
            [
             0.4444444444444444,
             "#bd3786"
            ],
            [
             0.5555555555555556,
             "#d8576b"
            ],
            [
             0.6666666666666666,
             "#ed7953"
            ],
            [
             0.7777777777777778,
             "#fb9f3a"
            ],
            [
             0.8888888888888888,
             "#fdca26"
            ],
            [
             1,
             "#f0f921"
            ]
           ]
          },
          "colorway": [
           "#636efa",
           "#EF553B",
           "#00cc96",
           "#ab63fa",
           "#FFA15A",
           "#19d3f3",
           "#FF6692",
           "#B6E880",
           "#FF97FF",
           "#FECB52"
          ],
          "font": {
           "color": "#2a3f5f"
          },
          "geo": {
           "bgcolor": "white",
           "lakecolor": "white",
           "landcolor": "#E5ECF6",
           "showlakes": true,
           "showland": true,
           "subunitcolor": "white"
          },
          "hoverlabel": {
           "align": "left"
          },
          "hovermode": "closest",
          "mapbox": {
           "style": "light"
          },
          "paper_bgcolor": "white",
          "plot_bgcolor": "#E5ECF6",
          "polar": {
           "angularaxis": {
            "gridcolor": "white",
            "linecolor": "white",
            "ticks": ""
           },
           "bgcolor": "#E5ECF6",
           "radialaxis": {
            "gridcolor": "white",
            "linecolor": "white",
            "ticks": ""
           }
          },
          "scene": {
           "xaxis": {
            "backgroundcolor": "#E5ECF6",
            "gridcolor": "white",
            "gridwidth": 2,
            "linecolor": "white",
            "showbackground": true,
            "ticks": "",
            "zerolinecolor": "white"
           },
           "yaxis": {
            "backgroundcolor": "#E5ECF6",
            "gridcolor": "white",
            "gridwidth": 2,
            "linecolor": "white",
            "showbackground": true,
            "ticks": "",
            "zerolinecolor": "white"
           },
           "zaxis": {
            "backgroundcolor": "#E5ECF6",
            "gridcolor": "white",
            "gridwidth": 2,
            "linecolor": "white",
            "showbackground": true,
            "ticks": "",
            "zerolinecolor": "white"
           }
          },
          "shapedefaults": {
           "line": {
            "color": "#2a3f5f"
           }
          },
          "ternary": {
           "aaxis": {
            "gridcolor": "white",
            "linecolor": "white",
            "ticks": ""
           },
           "baxis": {
            "gridcolor": "white",
            "linecolor": "white",
            "ticks": ""
           },
           "bgcolor": "#E5ECF6",
           "caxis": {
            "gridcolor": "white",
            "linecolor": "white",
            "ticks": ""
           }
          },
          "title": {
           "x": 0.05
          },
          "xaxis": {
           "automargin": true,
           "gridcolor": "white",
           "linecolor": "white",
           "ticks": "",
           "title": {
            "standoff": 15
           },
           "zerolinecolor": "white",
           "zerolinewidth": 2
          },
          "yaxis": {
           "automargin": true,
           "gridcolor": "white",
           "linecolor": "white",
           "ticks": "",
           "title": {
            "standoff": 15
           },
           "zerolinecolor": "white",
           "zerolinewidth": 2
          }
         }
        }
       }
      },
      "text/html": [
       "<div>                            <div id=\"b4997a09-ea71-4b45-b5ca-6da9412ba6fb\" class=\"plotly-graph-div\" style=\"height:525px; width:100%;\"></div>            <script type=\"text/javascript\">                require([\"plotly\"], function(Plotly) {                    window.PLOTLYENV=window.PLOTLYENV || {};                                    if (document.getElementById(\"b4997a09-ea71-4b45-b5ca-6da9412ba6fb\")) {                    Plotly.newPlot(                        \"b4997a09-ea71-4b45-b5ca-6da9412ba6fb\",                        [{\"branchvalues\": \"total\", \"domain\": {\"x\": [0.0, 1.0], \"y\": [0.0, 1.0]}, \"hovertemplate\": \"labels=%{label}<br>count=%{value}<br>parent=%{parent}<br>id=%{id}<extra></extra>\", \"ids\": [\"First/female/0\", \"Second/female/0\", \"Third/female/0\", \"First/male/0\", \"Second/male/0\", \"Third/male/0\", \"First/female/1\", \"Second/female/1\", \"Third/female/1\", \"First/male/1\", \"Second/male/1\", \"Third/male/1\", \"First/female\", \"Second/female\", \"Third/female\", \"First/male\", \"Second/male\", \"Third/male\", \"First\", \"Second\", \"Third\"], \"labels\": [\"0\", \"0\", \"0\", \"0\", \"0\", \"0\", \"1\", \"1\", \"1\", \"1\", \"1\", \"1\", \"female\", \"female\", \"female\", \"male\", \"male\", \"male\", \"First\", \"Second\", \"Third\"], \"name\": \"\", \"parents\": [\"First/female\", \"Second/female\", \"Third/female\", \"First/male\", \"Second/male\", \"Third/male\", \"First/female\", \"Second/female\", \"Third/female\", \"First/male\", \"Second/male\", \"Third/male\", \"First\", \"Second\", \"Third\", \"First\", \"Second\", \"Third\", \"\", \"\", \"\"], \"type\": \"sunburst\", \"values\": [3, 6, 72, 77, 91, 300, 91, 70, 72, 45, 17, 47, 94, 76, 144, 122, 108, 347, 216, 184, 491]}],                        {\"legend\": {\"tracegroupgap\": 0}, \"margin\": {\"t\": 60}, \"template\": {\"data\": {\"bar\": [{\"error_x\": {\"color\": \"#2a3f5f\"}, \"error_y\": {\"color\": \"#2a3f5f\"}, \"marker\": {\"line\": {\"color\": \"#E5ECF6\", \"width\": 0.5}}, \"type\": \"bar\"}], \"barpolar\": [{\"marker\": {\"line\": {\"color\": \"#E5ECF6\", \"width\": 0.5}}, \"type\": \"barpolar\"}], \"carpet\": [{\"aaxis\": {\"endlinecolor\": \"#2a3f5f\", \"gridcolor\": \"white\", \"linecolor\": \"white\", \"minorgridcolor\": \"white\", \"startlinecolor\": \"#2a3f5f\"}, \"baxis\": {\"endlinecolor\": \"#2a3f5f\", \"gridcolor\": \"white\", \"linecolor\": \"white\", \"minorgridcolor\": \"white\", \"startlinecolor\": \"#2a3f5f\"}, \"type\": \"carpet\"}], \"choropleth\": [{\"colorbar\": {\"outlinewidth\": 0, \"ticks\": \"\"}, \"type\": \"choropleth\"}], \"contour\": [{\"colorbar\": {\"outlinewidth\": 0, \"ticks\": \"\"}, \"colorscale\": [[0.0, \"#0d0887\"], [0.1111111111111111, \"#46039f\"], [0.2222222222222222, \"#7201a8\"], [0.3333333333333333, \"#9c179e\"], [0.4444444444444444, \"#bd3786\"], [0.5555555555555556, \"#d8576b\"], [0.6666666666666666, \"#ed7953\"], [0.7777777777777778, \"#fb9f3a\"], [0.8888888888888888, \"#fdca26\"], [1.0, \"#f0f921\"]], \"type\": \"contour\"}], \"contourcarpet\": [{\"colorbar\": {\"outlinewidth\": 0, \"ticks\": \"\"}, \"type\": \"contourcarpet\"}], \"heatmap\": [{\"colorbar\": {\"outlinewidth\": 0, \"ticks\": \"\"}, \"colorscale\": [[0.0, \"#0d0887\"], [0.1111111111111111, \"#46039f\"], [0.2222222222222222, \"#7201a8\"], [0.3333333333333333, \"#9c179e\"], [0.4444444444444444, \"#bd3786\"], [0.5555555555555556, \"#d8576b\"], [0.6666666666666666, \"#ed7953\"], [0.7777777777777778, \"#fb9f3a\"], [0.8888888888888888, \"#fdca26\"], [1.0, \"#f0f921\"]], \"type\": \"heatmap\"}], \"heatmapgl\": [{\"colorbar\": {\"outlinewidth\": 0, \"ticks\": \"\"}, \"colorscale\": [[0.0, \"#0d0887\"], [0.1111111111111111, \"#46039f\"], [0.2222222222222222, \"#7201a8\"], [0.3333333333333333, \"#9c179e\"], [0.4444444444444444, \"#bd3786\"], [0.5555555555555556, \"#d8576b\"], [0.6666666666666666, \"#ed7953\"], [0.7777777777777778, \"#fb9f3a\"], [0.8888888888888888, \"#fdca26\"], [1.0, \"#f0f921\"]], \"type\": \"heatmapgl\"}], \"histogram\": [{\"marker\": {\"colorbar\": {\"outlinewidth\": 0, \"ticks\": \"\"}}, \"type\": \"histogram\"}], \"histogram2d\": [{\"colorbar\": {\"outlinewidth\": 0, \"ticks\": \"\"}, \"colorscale\": [[0.0, \"#0d0887\"], [0.1111111111111111, \"#46039f\"], [0.2222222222222222, \"#7201a8\"], [0.3333333333333333, \"#9c179e\"], [0.4444444444444444, \"#bd3786\"], [0.5555555555555556, \"#d8576b\"], [0.6666666666666666, \"#ed7953\"], [0.7777777777777778, \"#fb9f3a\"], [0.8888888888888888, \"#fdca26\"], [1.0, \"#f0f921\"]], \"type\": \"histogram2d\"}], \"histogram2dcontour\": [{\"colorbar\": {\"outlinewidth\": 0, \"ticks\": \"\"}, \"colorscale\": [[0.0, \"#0d0887\"], [0.1111111111111111, \"#46039f\"], [0.2222222222222222, \"#7201a8\"], [0.3333333333333333, \"#9c179e\"], [0.4444444444444444, \"#bd3786\"], [0.5555555555555556, \"#d8576b\"], [0.6666666666666666, \"#ed7953\"], [0.7777777777777778, \"#fb9f3a\"], [0.8888888888888888, \"#fdca26\"], [1.0, \"#f0f921\"]], \"type\": \"histogram2dcontour\"}], \"mesh3d\": [{\"colorbar\": {\"outlinewidth\": 0, \"ticks\": \"\"}, \"type\": \"mesh3d\"}], \"parcoords\": [{\"line\": {\"colorbar\": {\"outlinewidth\": 0, \"ticks\": \"\"}}, \"type\": \"parcoords\"}], \"pie\": [{\"automargin\": true, \"type\": \"pie\"}], \"scatter\": [{\"marker\": {\"colorbar\": {\"outlinewidth\": 0, \"ticks\": \"\"}}, \"type\": \"scatter\"}], \"scatter3d\": [{\"line\": {\"colorbar\": {\"outlinewidth\": 0, \"ticks\": \"\"}}, \"marker\": {\"colorbar\": {\"outlinewidth\": 0, \"ticks\": \"\"}}, \"type\": \"scatter3d\"}], \"scattercarpet\": [{\"marker\": {\"colorbar\": {\"outlinewidth\": 0, \"ticks\": \"\"}}, \"type\": \"scattercarpet\"}], \"scattergeo\": [{\"marker\": {\"colorbar\": {\"outlinewidth\": 0, \"ticks\": \"\"}}, \"type\": \"scattergeo\"}], \"scattergl\": [{\"marker\": {\"colorbar\": {\"outlinewidth\": 0, \"ticks\": \"\"}}, \"type\": \"scattergl\"}], \"scattermapbox\": [{\"marker\": {\"colorbar\": {\"outlinewidth\": 0, \"ticks\": \"\"}}, \"type\": \"scattermapbox\"}], \"scatterpolar\": [{\"marker\": {\"colorbar\": {\"outlinewidth\": 0, \"ticks\": \"\"}}, \"type\": \"scatterpolar\"}], \"scatterpolargl\": [{\"marker\": {\"colorbar\": {\"outlinewidth\": 0, \"ticks\": \"\"}}, \"type\": \"scatterpolargl\"}], \"scatterternary\": [{\"marker\": {\"colorbar\": {\"outlinewidth\": 0, \"ticks\": \"\"}}, \"type\": \"scatterternary\"}], \"surface\": [{\"colorbar\": {\"outlinewidth\": 0, \"ticks\": \"\"}, \"colorscale\": [[0.0, \"#0d0887\"], [0.1111111111111111, \"#46039f\"], [0.2222222222222222, \"#7201a8\"], [0.3333333333333333, \"#9c179e\"], [0.4444444444444444, \"#bd3786\"], [0.5555555555555556, \"#d8576b\"], [0.6666666666666666, \"#ed7953\"], [0.7777777777777778, \"#fb9f3a\"], [0.8888888888888888, \"#fdca26\"], [1.0, \"#f0f921\"]], \"type\": \"surface\"}], \"table\": [{\"cells\": {\"fill\": {\"color\": \"#EBF0F8\"}, \"line\": {\"color\": \"white\"}}, \"header\": {\"fill\": {\"color\": \"#C8D4E3\"}, \"line\": {\"color\": \"white\"}}, \"type\": \"table\"}]}, \"layout\": {\"annotationdefaults\": {\"arrowcolor\": \"#2a3f5f\", \"arrowhead\": 0, \"arrowwidth\": 1}, \"coloraxis\": {\"colorbar\": {\"outlinewidth\": 0, \"ticks\": \"\"}}, \"colorscale\": {\"diverging\": [[0, \"#8e0152\"], [0.1, \"#c51b7d\"], [0.2, \"#de77ae\"], [0.3, \"#f1b6da\"], [0.4, \"#fde0ef\"], [0.5, \"#f7f7f7\"], [0.6, \"#e6f5d0\"], [0.7, \"#b8e186\"], [0.8, \"#7fbc41\"], [0.9, \"#4d9221\"], [1, \"#276419\"]], \"sequential\": [[0.0, \"#0d0887\"], [0.1111111111111111, \"#46039f\"], [0.2222222222222222, \"#7201a8\"], [0.3333333333333333, \"#9c179e\"], [0.4444444444444444, \"#bd3786\"], [0.5555555555555556, \"#d8576b\"], [0.6666666666666666, \"#ed7953\"], [0.7777777777777778, \"#fb9f3a\"], [0.8888888888888888, \"#fdca26\"], [1.0, \"#f0f921\"]], \"sequentialminus\": [[0.0, \"#0d0887\"], [0.1111111111111111, \"#46039f\"], [0.2222222222222222, \"#7201a8\"], [0.3333333333333333, \"#9c179e\"], [0.4444444444444444, \"#bd3786\"], [0.5555555555555556, \"#d8576b\"], [0.6666666666666666, \"#ed7953\"], [0.7777777777777778, \"#fb9f3a\"], [0.8888888888888888, \"#fdca26\"], [1.0, \"#f0f921\"]]}, \"colorway\": [\"#636efa\", \"#EF553B\", \"#00cc96\", \"#ab63fa\", \"#FFA15A\", \"#19d3f3\", \"#FF6692\", \"#B6E880\", \"#FF97FF\", \"#FECB52\"], \"font\": {\"color\": \"#2a3f5f\"}, \"geo\": {\"bgcolor\": \"white\", \"lakecolor\": \"white\", \"landcolor\": \"#E5ECF6\", \"showlakes\": true, \"showland\": true, \"subunitcolor\": \"white\"}, \"hoverlabel\": {\"align\": \"left\"}, \"hovermode\": \"closest\", \"mapbox\": {\"style\": \"light\"}, \"paper_bgcolor\": \"white\", \"plot_bgcolor\": \"#E5ECF6\", \"polar\": {\"angularaxis\": {\"gridcolor\": \"white\", \"linecolor\": \"white\", \"ticks\": \"\"}, \"bgcolor\": \"#E5ECF6\", \"radialaxis\": {\"gridcolor\": \"white\", \"linecolor\": \"white\", \"ticks\": \"\"}}, \"scene\": {\"xaxis\": {\"backgroundcolor\": \"#E5ECF6\", \"gridcolor\": \"white\", \"gridwidth\": 2, \"linecolor\": \"white\", \"showbackground\": true, \"ticks\": \"\", \"zerolinecolor\": \"white\"}, \"yaxis\": {\"backgroundcolor\": \"#E5ECF6\", \"gridcolor\": \"white\", \"gridwidth\": 2, \"linecolor\": \"white\", \"showbackground\": true, \"ticks\": \"\", \"zerolinecolor\": \"white\"}, \"zaxis\": {\"backgroundcolor\": \"#E5ECF6\", \"gridcolor\": \"white\", \"gridwidth\": 2, \"linecolor\": \"white\", \"showbackground\": true, \"ticks\": \"\", \"zerolinecolor\": \"white\"}}, \"shapedefaults\": {\"line\": {\"color\": \"#2a3f5f\"}}, \"ternary\": {\"aaxis\": {\"gridcolor\": \"white\", \"linecolor\": \"white\", \"ticks\": \"\"}, \"baxis\": {\"gridcolor\": \"white\", \"linecolor\": \"white\", \"ticks\": \"\"}, \"bgcolor\": \"#E5ECF6\", \"caxis\": {\"gridcolor\": \"white\", \"linecolor\": \"white\", \"ticks\": \"\"}}, \"title\": {\"x\": 0.05}, \"xaxis\": {\"automargin\": true, \"gridcolor\": \"white\", \"linecolor\": \"white\", \"ticks\": \"\", \"title\": {\"standoff\": 15}, \"zerolinecolor\": \"white\", \"zerolinewidth\": 2}, \"yaxis\": {\"automargin\": true, \"gridcolor\": \"white\", \"linecolor\": \"white\", \"ticks\": \"\", \"title\": {\"standoff\": 15}, \"zerolinecolor\": \"white\", \"zerolinewidth\": 2}}}},                        {\"responsive\": true}                    ).then(function(){\n",
       "                            \n",
       "var gd = document.getElementById('b4997a09-ea71-4b45-b5ca-6da9412ba6fb');\n",
       "var x = new MutationObserver(function (mutations, observer) {{\n",
       "        var display = window.getComputedStyle(gd).display;\n",
       "        if (!display || display === 'none') {{\n",
       "            console.log([gd, 'removed!']);\n",
       "            Plotly.purge(gd);\n",
       "            observer.disconnect();\n",
       "        }}\n",
       "}});\n",
       "\n",
       "// Listen for the removal of the full notebook cells\n",
       "var notebookContainer = gd.closest('#notebook-container');\n",
       "if (notebookContainer) {{\n",
       "    x.observe(notebookContainer, {childList: true});\n",
       "}}\n",
       "\n",
       "// Listen for the clearing of the current output cell\n",
       "var outputEl = gd.closest('.output');\n",
       "if (outputEl) {{\n",
       "    x.observe(outputEl, {childList: true});\n",
       "}}\n",
       "\n",
       "                        })                };                });            </script>        </div>"
      ]
     },
     "metadata": {},
     "output_type": "display_data"
    }
   ],
   "source": [
    "px.sunburst(df, \n",
    "           path=['class', 'sex', 'survived']\n",
    "           )"
   ]
  },
  {
   "cell_type": "markdown",
   "id": "bored-saying",
   "metadata": {},
   "source": [
    "# Treemap"
   ]
  },
  {
   "cell_type": "code",
   "execution_count": 79,
   "id": "criminal-occupation",
   "metadata": {},
   "outputs": [
    {
     "data": {
      "application/vnd.plotly.v1+json": {
       "config": {
        "plotlyServerURL": "https://plot.ly"
       },
       "data": [
        {
         "branchvalues": "total",
         "customdata": [
          [
           104.71852941176469
          ],
          [
           25.358335294117648
          ],
          [
           11.214083333333333
          ],
          [
           90
          ],
          [
           12.35
          ],
          [
           11.183393055555557
          ],
          [
           70.36486220472442
          ],
          [
           20.327439024390245
          ],
          [
           14.644083002832863
          ],
          [
           84.19351635514018
          ],
          [
           20.662183152173913
          ],
          [
           13.675550101832993
          ]
         ],
         "domain": {
          "x": [
           0,
           1
          ],
          "y": [
           0,
           1
          ]
         },
         "hovertemplate": "labels=%{label}<br>count=%{value}<br>parent=%{parent}<br>id=%{id}<br>fare=%{color}<extra></extra>",
         "ids": [
          "First/Cherbourg",
          "Second/Cherbourg",
          "Third/Cherbourg",
          "First/Queenstown",
          "Second/Queenstown",
          "Third/Queenstown",
          "First/Southampton",
          "Second/Southampton",
          "Third/Southampton",
          "First",
          "Second",
          "Third"
         ],
         "labels": [
          "Cherbourg",
          "Cherbourg",
          "Cherbourg",
          "Queenstown",
          "Queenstown",
          "Queenstown",
          "Southampton",
          "Southampton",
          "Southampton",
          "First",
          "Second",
          "Third"
         ],
         "marker": {
          "coloraxis": "coloraxis",
          "colors": [
           104.71852941176469,
           25.358335294117648,
           11.214083333333333,
           90,
           12.35,
           11.183393055555557,
           70.36486220472442,
           20.327439024390245,
           14.644083002832863,
           84.19351635514018,
           20.662183152173913,
           13.675550101832993
          ]
         },
         "name": "",
         "parents": [
          "First",
          "Second",
          "Third",
          "First",
          "Second",
          "Third",
          "First",
          "Second",
          "Third",
          "",
          "",
          ""
         ],
         "type": "treemap",
         "values": [
          85,
          17,
          66,
          2,
          3,
          72,
          127,
          164,
          353,
          214,
          184,
          491
         ]
        }
       ],
       "layout": {
        "coloraxis": {
         "colorbar": {
          "title": {
           "text": "fare"
          }
         },
         "colorscale": [
          [
           0,
           "#0d0887"
          ],
          [
           0.1111111111111111,
           "#46039f"
          ],
          [
           0.2222222222222222,
           "#7201a8"
          ],
          [
           0.3333333333333333,
           "#9c179e"
          ],
          [
           0.4444444444444444,
           "#bd3786"
          ],
          [
           0.5555555555555556,
           "#d8576b"
          ],
          [
           0.6666666666666666,
           "#ed7953"
          ],
          [
           0.7777777777777778,
           "#fb9f3a"
          ],
          [
           0.8888888888888888,
           "#fdca26"
          ],
          [
           1,
           "#f0f921"
          ]
         ]
        },
        "legend": {
         "tracegroupgap": 0
        },
        "margin": {
         "t": 60
        },
        "template": {
         "data": {
          "bar": [
           {
            "error_x": {
             "color": "#2a3f5f"
            },
            "error_y": {
             "color": "#2a3f5f"
            },
            "marker": {
             "line": {
              "color": "#E5ECF6",
              "width": 0.5
             }
            },
            "type": "bar"
           }
          ],
          "barpolar": [
           {
            "marker": {
             "line": {
              "color": "#E5ECF6",
              "width": 0.5
             }
            },
            "type": "barpolar"
           }
          ],
          "carpet": [
           {
            "aaxis": {
             "endlinecolor": "#2a3f5f",
             "gridcolor": "white",
             "linecolor": "white",
             "minorgridcolor": "white",
             "startlinecolor": "#2a3f5f"
            },
            "baxis": {
             "endlinecolor": "#2a3f5f",
             "gridcolor": "white",
             "linecolor": "white",
             "minorgridcolor": "white",
             "startlinecolor": "#2a3f5f"
            },
            "type": "carpet"
           }
          ],
          "choropleth": [
           {
            "colorbar": {
             "outlinewidth": 0,
             "ticks": ""
            },
            "type": "choropleth"
           }
          ],
          "contour": [
           {
            "colorbar": {
             "outlinewidth": 0,
             "ticks": ""
            },
            "colorscale": [
             [
              0,
              "#0d0887"
             ],
             [
              0.1111111111111111,
              "#46039f"
             ],
             [
              0.2222222222222222,
              "#7201a8"
             ],
             [
              0.3333333333333333,
              "#9c179e"
             ],
             [
              0.4444444444444444,
              "#bd3786"
             ],
             [
              0.5555555555555556,
              "#d8576b"
             ],
             [
              0.6666666666666666,
              "#ed7953"
             ],
             [
              0.7777777777777778,
              "#fb9f3a"
             ],
             [
              0.8888888888888888,
              "#fdca26"
             ],
             [
              1,
              "#f0f921"
             ]
            ],
            "type": "contour"
           }
          ],
          "contourcarpet": [
           {
            "colorbar": {
             "outlinewidth": 0,
             "ticks": ""
            },
            "type": "contourcarpet"
           }
          ],
          "heatmap": [
           {
            "colorbar": {
             "outlinewidth": 0,
             "ticks": ""
            },
            "colorscale": [
             [
              0,
              "#0d0887"
             ],
             [
              0.1111111111111111,
              "#46039f"
             ],
             [
              0.2222222222222222,
              "#7201a8"
             ],
             [
              0.3333333333333333,
              "#9c179e"
             ],
             [
              0.4444444444444444,
              "#bd3786"
             ],
             [
              0.5555555555555556,
              "#d8576b"
             ],
             [
              0.6666666666666666,
              "#ed7953"
             ],
             [
              0.7777777777777778,
              "#fb9f3a"
             ],
             [
              0.8888888888888888,
              "#fdca26"
             ],
             [
              1,
              "#f0f921"
             ]
            ],
            "type": "heatmap"
           }
          ],
          "heatmapgl": [
           {
            "colorbar": {
             "outlinewidth": 0,
             "ticks": ""
            },
            "colorscale": [
             [
              0,
              "#0d0887"
             ],
             [
              0.1111111111111111,
              "#46039f"
             ],
             [
              0.2222222222222222,
              "#7201a8"
             ],
             [
              0.3333333333333333,
              "#9c179e"
             ],
             [
              0.4444444444444444,
              "#bd3786"
             ],
             [
              0.5555555555555556,
              "#d8576b"
             ],
             [
              0.6666666666666666,
              "#ed7953"
             ],
             [
              0.7777777777777778,
              "#fb9f3a"
             ],
             [
              0.8888888888888888,
              "#fdca26"
             ],
             [
              1,
              "#f0f921"
             ]
            ],
            "type": "heatmapgl"
           }
          ],
          "histogram": [
           {
            "marker": {
             "colorbar": {
              "outlinewidth": 0,
              "ticks": ""
             }
            },
            "type": "histogram"
           }
          ],
          "histogram2d": [
           {
            "colorbar": {
             "outlinewidth": 0,
             "ticks": ""
            },
            "colorscale": [
             [
              0,
              "#0d0887"
             ],
             [
              0.1111111111111111,
              "#46039f"
             ],
             [
              0.2222222222222222,
              "#7201a8"
             ],
             [
              0.3333333333333333,
              "#9c179e"
             ],
             [
              0.4444444444444444,
              "#bd3786"
             ],
             [
              0.5555555555555556,
              "#d8576b"
             ],
             [
              0.6666666666666666,
              "#ed7953"
             ],
             [
              0.7777777777777778,
              "#fb9f3a"
             ],
             [
              0.8888888888888888,
              "#fdca26"
             ],
             [
              1,
              "#f0f921"
             ]
            ],
            "type": "histogram2d"
           }
          ],
          "histogram2dcontour": [
           {
            "colorbar": {
             "outlinewidth": 0,
             "ticks": ""
            },
            "colorscale": [
             [
              0,
              "#0d0887"
             ],
             [
              0.1111111111111111,
              "#46039f"
             ],
             [
              0.2222222222222222,
              "#7201a8"
             ],
             [
              0.3333333333333333,
              "#9c179e"
             ],
             [
              0.4444444444444444,
              "#bd3786"
             ],
             [
              0.5555555555555556,
              "#d8576b"
             ],
             [
              0.6666666666666666,
              "#ed7953"
             ],
             [
              0.7777777777777778,
              "#fb9f3a"
             ],
             [
              0.8888888888888888,
              "#fdca26"
             ],
             [
              1,
              "#f0f921"
             ]
            ],
            "type": "histogram2dcontour"
           }
          ],
          "mesh3d": [
           {
            "colorbar": {
             "outlinewidth": 0,
             "ticks": ""
            },
            "type": "mesh3d"
           }
          ],
          "parcoords": [
           {
            "line": {
             "colorbar": {
              "outlinewidth": 0,
              "ticks": ""
             }
            },
            "type": "parcoords"
           }
          ],
          "pie": [
           {
            "automargin": true,
            "type": "pie"
           }
          ],
          "scatter": [
           {
            "marker": {
             "colorbar": {
              "outlinewidth": 0,
              "ticks": ""
             }
            },
            "type": "scatter"
           }
          ],
          "scatter3d": [
           {
            "line": {
             "colorbar": {
              "outlinewidth": 0,
              "ticks": ""
             }
            },
            "marker": {
             "colorbar": {
              "outlinewidth": 0,
              "ticks": ""
             }
            },
            "type": "scatter3d"
           }
          ],
          "scattercarpet": [
           {
            "marker": {
             "colorbar": {
              "outlinewidth": 0,
              "ticks": ""
             }
            },
            "type": "scattercarpet"
           }
          ],
          "scattergeo": [
           {
            "marker": {
             "colorbar": {
              "outlinewidth": 0,
              "ticks": ""
             }
            },
            "type": "scattergeo"
           }
          ],
          "scattergl": [
           {
            "marker": {
             "colorbar": {
              "outlinewidth": 0,
              "ticks": ""
             }
            },
            "type": "scattergl"
           }
          ],
          "scattermapbox": [
           {
            "marker": {
             "colorbar": {
              "outlinewidth": 0,
              "ticks": ""
             }
            },
            "type": "scattermapbox"
           }
          ],
          "scatterpolar": [
           {
            "marker": {
             "colorbar": {
              "outlinewidth": 0,
              "ticks": ""
             }
            },
            "type": "scatterpolar"
           }
          ],
          "scatterpolargl": [
           {
            "marker": {
             "colorbar": {
              "outlinewidth": 0,
              "ticks": ""
             }
            },
            "type": "scatterpolargl"
           }
          ],
          "scatterternary": [
           {
            "marker": {
             "colorbar": {
              "outlinewidth": 0,
              "ticks": ""
             }
            },
            "type": "scatterternary"
           }
          ],
          "surface": [
           {
            "colorbar": {
             "outlinewidth": 0,
             "ticks": ""
            },
            "colorscale": [
             [
              0,
              "#0d0887"
             ],
             [
              0.1111111111111111,
              "#46039f"
             ],
             [
              0.2222222222222222,
              "#7201a8"
             ],
             [
              0.3333333333333333,
              "#9c179e"
             ],
             [
              0.4444444444444444,
              "#bd3786"
             ],
             [
              0.5555555555555556,
              "#d8576b"
             ],
             [
              0.6666666666666666,
              "#ed7953"
             ],
             [
              0.7777777777777778,
              "#fb9f3a"
             ],
             [
              0.8888888888888888,
              "#fdca26"
             ],
             [
              1,
              "#f0f921"
             ]
            ],
            "type": "surface"
           }
          ],
          "table": [
           {
            "cells": {
             "fill": {
              "color": "#EBF0F8"
             },
             "line": {
              "color": "white"
             }
            },
            "header": {
             "fill": {
              "color": "#C8D4E3"
             },
             "line": {
              "color": "white"
             }
            },
            "type": "table"
           }
          ]
         },
         "layout": {
          "annotationdefaults": {
           "arrowcolor": "#2a3f5f",
           "arrowhead": 0,
           "arrowwidth": 1
          },
          "coloraxis": {
           "colorbar": {
            "outlinewidth": 0,
            "ticks": ""
           }
          },
          "colorscale": {
           "diverging": [
            [
             0,
             "#8e0152"
            ],
            [
             0.1,
             "#c51b7d"
            ],
            [
             0.2,
             "#de77ae"
            ],
            [
             0.3,
             "#f1b6da"
            ],
            [
             0.4,
             "#fde0ef"
            ],
            [
             0.5,
             "#f7f7f7"
            ],
            [
             0.6,
             "#e6f5d0"
            ],
            [
             0.7,
             "#b8e186"
            ],
            [
             0.8,
             "#7fbc41"
            ],
            [
             0.9,
             "#4d9221"
            ],
            [
             1,
             "#276419"
            ]
           ],
           "sequential": [
            [
             0,
             "#0d0887"
            ],
            [
             0.1111111111111111,
             "#46039f"
            ],
            [
             0.2222222222222222,
             "#7201a8"
            ],
            [
             0.3333333333333333,
             "#9c179e"
            ],
            [
             0.4444444444444444,
             "#bd3786"
            ],
            [
             0.5555555555555556,
             "#d8576b"
            ],
            [
             0.6666666666666666,
             "#ed7953"
            ],
            [
             0.7777777777777778,
             "#fb9f3a"
            ],
            [
             0.8888888888888888,
             "#fdca26"
            ],
            [
             1,
             "#f0f921"
            ]
           ],
           "sequentialminus": [
            [
             0,
             "#0d0887"
            ],
            [
             0.1111111111111111,
             "#46039f"
            ],
            [
             0.2222222222222222,
             "#7201a8"
            ],
            [
             0.3333333333333333,
             "#9c179e"
            ],
            [
             0.4444444444444444,
             "#bd3786"
            ],
            [
             0.5555555555555556,
             "#d8576b"
            ],
            [
             0.6666666666666666,
             "#ed7953"
            ],
            [
             0.7777777777777778,
             "#fb9f3a"
            ],
            [
             0.8888888888888888,
             "#fdca26"
            ],
            [
             1,
             "#f0f921"
            ]
           ]
          },
          "colorway": [
           "#636efa",
           "#EF553B",
           "#00cc96",
           "#ab63fa",
           "#FFA15A",
           "#19d3f3",
           "#FF6692",
           "#B6E880",
           "#FF97FF",
           "#FECB52"
          ],
          "font": {
           "color": "#2a3f5f"
          },
          "geo": {
           "bgcolor": "white",
           "lakecolor": "white",
           "landcolor": "#E5ECF6",
           "showlakes": true,
           "showland": true,
           "subunitcolor": "white"
          },
          "hoverlabel": {
           "align": "left"
          },
          "hovermode": "closest",
          "mapbox": {
           "style": "light"
          },
          "paper_bgcolor": "white",
          "plot_bgcolor": "#E5ECF6",
          "polar": {
           "angularaxis": {
            "gridcolor": "white",
            "linecolor": "white",
            "ticks": ""
           },
           "bgcolor": "#E5ECF6",
           "radialaxis": {
            "gridcolor": "white",
            "linecolor": "white",
            "ticks": ""
           }
          },
          "scene": {
           "xaxis": {
            "backgroundcolor": "#E5ECF6",
            "gridcolor": "white",
            "gridwidth": 2,
            "linecolor": "white",
            "showbackground": true,
            "ticks": "",
            "zerolinecolor": "white"
           },
           "yaxis": {
            "backgroundcolor": "#E5ECF6",
            "gridcolor": "white",
            "gridwidth": 2,
            "linecolor": "white",
            "showbackground": true,
            "ticks": "",
            "zerolinecolor": "white"
           },
           "zaxis": {
            "backgroundcolor": "#E5ECF6",
            "gridcolor": "white",
            "gridwidth": 2,
            "linecolor": "white",
            "showbackground": true,
            "ticks": "",
            "zerolinecolor": "white"
           }
          },
          "shapedefaults": {
           "line": {
            "color": "#2a3f5f"
           }
          },
          "ternary": {
           "aaxis": {
            "gridcolor": "white",
            "linecolor": "white",
            "ticks": ""
           },
           "baxis": {
            "gridcolor": "white",
            "linecolor": "white",
            "ticks": ""
           },
           "bgcolor": "#E5ECF6",
           "caxis": {
            "gridcolor": "white",
            "linecolor": "white",
            "ticks": ""
           }
          },
          "title": {
           "x": 0.05
          },
          "xaxis": {
           "automargin": true,
           "gridcolor": "white",
           "linecolor": "white",
           "ticks": "",
           "title": {
            "standoff": 15
           },
           "zerolinecolor": "white",
           "zerolinewidth": 2
          },
          "yaxis": {
           "automargin": true,
           "gridcolor": "white",
           "linecolor": "white",
           "ticks": "",
           "title": {
            "standoff": 15
           },
           "zerolinecolor": "white",
           "zerolinewidth": 2
          }
         }
        }
       }
      },
      "text/html": [
       "<div>                            <div id=\"6d8d7123-ec01-465b-8610-a07b3e5489e6\" class=\"plotly-graph-div\" style=\"height:525px; width:100%;\"></div>            <script type=\"text/javascript\">                require([\"plotly\"], function(Plotly) {                    window.PLOTLYENV=window.PLOTLYENV || {};                                    if (document.getElementById(\"6d8d7123-ec01-465b-8610-a07b3e5489e6\")) {                    Plotly.newPlot(                        \"6d8d7123-ec01-465b-8610-a07b3e5489e6\",                        [{\"branchvalues\": \"total\", \"customdata\": [[104.71852941176469], [25.358335294117648], [11.214083333333333], [90.0], [12.35], [11.183393055555557], [70.36486220472442], [20.327439024390245], [14.644083002832863], [84.19351635514018], [20.662183152173913], [13.675550101832993]], \"domain\": {\"x\": [0.0, 1.0], \"y\": [0.0, 1.0]}, \"hovertemplate\": \"labels=%{label}<br>count=%{value}<br>parent=%{parent}<br>id=%{id}<br>fare=%{color}<extra></extra>\", \"ids\": [\"First/Cherbourg\", \"Second/Cherbourg\", \"Third/Cherbourg\", \"First/Queenstown\", \"Second/Queenstown\", \"Third/Queenstown\", \"First/Southampton\", \"Second/Southampton\", \"Third/Southampton\", \"First\", \"Second\", \"Third\"], \"labels\": [\"Cherbourg\", \"Cherbourg\", \"Cherbourg\", \"Queenstown\", \"Queenstown\", \"Queenstown\", \"Southampton\", \"Southampton\", \"Southampton\", \"First\", \"Second\", \"Third\"], \"marker\": {\"coloraxis\": \"coloraxis\", \"colors\": [104.71852941176469, 25.358335294117648, 11.214083333333333, 90.0, 12.35, 11.183393055555557, 70.36486220472442, 20.327439024390245, 14.644083002832863, 84.19351635514018, 20.662183152173913, 13.675550101832993]}, \"name\": \"\", \"parents\": [\"First\", \"Second\", \"Third\", \"First\", \"Second\", \"Third\", \"First\", \"Second\", \"Third\", \"\", \"\", \"\"], \"type\": \"treemap\", \"values\": [85, 17, 66, 2, 3, 72, 127, 164, 353, 214, 184, 491]}],                        {\"coloraxis\": {\"colorbar\": {\"title\": {\"text\": \"fare\"}}, \"colorscale\": [[0.0, \"#0d0887\"], [0.1111111111111111, \"#46039f\"], [0.2222222222222222, \"#7201a8\"], [0.3333333333333333, \"#9c179e\"], [0.4444444444444444, \"#bd3786\"], [0.5555555555555556, \"#d8576b\"], [0.6666666666666666, \"#ed7953\"], [0.7777777777777778, \"#fb9f3a\"], [0.8888888888888888, \"#fdca26\"], [1.0, \"#f0f921\"]]}, \"legend\": {\"tracegroupgap\": 0}, \"margin\": {\"t\": 60}, \"template\": {\"data\": {\"bar\": [{\"error_x\": {\"color\": \"#2a3f5f\"}, \"error_y\": {\"color\": \"#2a3f5f\"}, \"marker\": {\"line\": {\"color\": \"#E5ECF6\", \"width\": 0.5}}, \"type\": \"bar\"}], \"barpolar\": [{\"marker\": {\"line\": {\"color\": \"#E5ECF6\", \"width\": 0.5}}, \"type\": \"barpolar\"}], \"carpet\": [{\"aaxis\": {\"endlinecolor\": \"#2a3f5f\", \"gridcolor\": \"white\", \"linecolor\": \"white\", \"minorgridcolor\": \"white\", \"startlinecolor\": \"#2a3f5f\"}, \"baxis\": {\"endlinecolor\": \"#2a3f5f\", \"gridcolor\": \"white\", \"linecolor\": \"white\", \"minorgridcolor\": \"white\", \"startlinecolor\": \"#2a3f5f\"}, \"type\": \"carpet\"}], \"choropleth\": [{\"colorbar\": {\"outlinewidth\": 0, \"ticks\": \"\"}, \"type\": \"choropleth\"}], \"contour\": [{\"colorbar\": {\"outlinewidth\": 0, \"ticks\": \"\"}, \"colorscale\": [[0.0, \"#0d0887\"], [0.1111111111111111, \"#46039f\"], [0.2222222222222222, \"#7201a8\"], [0.3333333333333333, \"#9c179e\"], [0.4444444444444444, \"#bd3786\"], [0.5555555555555556, \"#d8576b\"], [0.6666666666666666, \"#ed7953\"], [0.7777777777777778, \"#fb9f3a\"], [0.8888888888888888, \"#fdca26\"], [1.0, \"#f0f921\"]], \"type\": \"contour\"}], \"contourcarpet\": [{\"colorbar\": {\"outlinewidth\": 0, \"ticks\": \"\"}, \"type\": \"contourcarpet\"}], \"heatmap\": [{\"colorbar\": {\"outlinewidth\": 0, \"ticks\": \"\"}, \"colorscale\": [[0.0, \"#0d0887\"], [0.1111111111111111, \"#46039f\"], [0.2222222222222222, \"#7201a8\"], [0.3333333333333333, \"#9c179e\"], [0.4444444444444444, \"#bd3786\"], [0.5555555555555556, \"#d8576b\"], [0.6666666666666666, \"#ed7953\"], [0.7777777777777778, \"#fb9f3a\"], [0.8888888888888888, \"#fdca26\"], [1.0, \"#f0f921\"]], \"type\": \"heatmap\"}], \"heatmapgl\": [{\"colorbar\": {\"outlinewidth\": 0, \"ticks\": \"\"}, \"colorscale\": [[0.0, \"#0d0887\"], [0.1111111111111111, \"#46039f\"], [0.2222222222222222, \"#7201a8\"], [0.3333333333333333, \"#9c179e\"], [0.4444444444444444, \"#bd3786\"], [0.5555555555555556, \"#d8576b\"], [0.6666666666666666, \"#ed7953\"], [0.7777777777777778, \"#fb9f3a\"], [0.8888888888888888, \"#fdca26\"], [1.0, \"#f0f921\"]], \"type\": \"heatmapgl\"}], \"histogram\": [{\"marker\": {\"colorbar\": {\"outlinewidth\": 0, \"ticks\": \"\"}}, \"type\": \"histogram\"}], \"histogram2d\": [{\"colorbar\": {\"outlinewidth\": 0, \"ticks\": \"\"}, \"colorscale\": [[0.0, \"#0d0887\"], [0.1111111111111111, \"#46039f\"], [0.2222222222222222, \"#7201a8\"], [0.3333333333333333, \"#9c179e\"], [0.4444444444444444, \"#bd3786\"], [0.5555555555555556, \"#d8576b\"], [0.6666666666666666, \"#ed7953\"], [0.7777777777777778, \"#fb9f3a\"], [0.8888888888888888, \"#fdca26\"], [1.0, \"#f0f921\"]], \"type\": \"histogram2d\"}], \"histogram2dcontour\": [{\"colorbar\": {\"outlinewidth\": 0, \"ticks\": \"\"}, \"colorscale\": [[0.0, \"#0d0887\"], [0.1111111111111111, \"#46039f\"], [0.2222222222222222, \"#7201a8\"], [0.3333333333333333, \"#9c179e\"], [0.4444444444444444, \"#bd3786\"], [0.5555555555555556, \"#d8576b\"], [0.6666666666666666, \"#ed7953\"], [0.7777777777777778, \"#fb9f3a\"], [0.8888888888888888, \"#fdca26\"], [1.0, \"#f0f921\"]], \"type\": \"histogram2dcontour\"}], \"mesh3d\": [{\"colorbar\": {\"outlinewidth\": 0, \"ticks\": \"\"}, \"type\": \"mesh3d\"}], \"parcoords\": [{\"line\": {\"colorbar\": {\"outlinewidth\": 0, \"ticks\": \"\"}}, \"type\": \"parcoords\"}], \"pie\": [{\"automargin\": true, \"type\": \"pie\"}], \"scatter\": [{\"marker\": {\"colorbar\": {\"outlinewidth\": 0, \"ticks\": \"\"}}, \"type\": \"scatter\"}], \"scatter3d\": [{\"line\": {\"colorbar\": {\"outlinewidth\": 0, \"ticks\": \"\"}}, \"marker\": {\"colorbar\": {\"outlinewidth\": 0, \"ticks\": \"\"}}, \"type\": \"scatter3d\"}], \"scattercarpet\": [{\"marker\": {\"colorbar\": {\"outlinewidth\": 0, \"ticks\": \"\"}}, \"type\": \"scattercarpet\"}], \"scattergeo\": [{\"marker\": {\"colorbar\": {\"outlinewidth\": 0, \"ticks\": \"\"}}, \"type\": \"scattergeo\"}], \"scattergl\": [{\"marker\": {\"colorbar\": {\"outlinewidth\": 0, \"ticks\": \"\"}}, \"type\": \"scattergl\"}], \"scattermapbox\": [{\"marker\": {\"colorbar\": {\"outlinewidth\": 0, \"ticks\": \"\"}}, \"type\": \"scattermapbox\"}], \"scatterpolar\": [{\"marker\": {\"colorbar\": {\"outlinewidth\": 0, \"ticks\": \"\"}}, \"type\": \"scatterpolar\"}], \"scatterpolargl\": [{\"marker\": {\"colorbar\": {\"outlinewidth\": 0, \"ticks\": \"\"}}, \"type\": \"scatterpolargl\"}], \"scatterternary\": [{\"marker\": {\"colorbar\": {\"outlinewidth\": 0, \"ticks\": \"\"}}, \"type\": \"scatterternary\"}], \"surface\": [{\"colorbar\": {\"outlinewidth\": 0, \"ticks\": \"\"}, \"colorscale\": [[0.0, \"#0d0887\"], [0.1111111111111111, \"#46039f\"], [0.2222222222222222, \"#7201a8\"], [0.3333333333333333, \"#9c179e\"], [0.4444444444444444, \"#bd3786\"], [0.5555555555555556, \"#d8576b\"], [0.6666666666666666, \"#ed7953\"], [0.7777777777777778, \"#fb9f3a\"], [0.8888888888888888, \"#fdca26\"], [1.0, \"#f0f921\"]], \"type\": \"surface\"}], \"table\": [{\"cells\": {\"fill\": {\"color\": \"#EBF0F8\"}, \"line\": {\"color\": \"white\"}}, \"header\": {\"fill\": {\"color\": \"#C8D4E3\"}, \"line\": {\"color\": \"white\"}}, \"type\": \"table\"}]}, \"layout\": {\"annotationdefaults\": {\"arrowcolor\": \"#2a3f5f\", \"arrowhead\": 0, \"arrowwidth\": 1}, \"coloraxis\": {\"colorbar\": {\"outlinewidth\": 0, \"ticks\": \"\"}}, \"colorscale\": {\"diverging\": [[0, \"#8e0152\"], [0.1, \"#c51b7d\"], [0.2, \"#de77ae\"], [0.3, \"#f1b6da\"], [0.4, \"#fde0ef\"], [0.5, \"#f7f7f7\"], [0.6, \"#e6f5d0\"], [0.7, \"#b8e186\"], [0.8, \"#7fbc41\"], [0.9, \"#4d9221\"], [1, \"#276419\"]], \"sequential\": [[0.0, \"#0d0887\"], [0.1111111111111111, \"#46039f\"], [0.2222222222222222, \"#7201a8\"], [0.3333333333333333, \"#9c179e\"], [0.4444444444444444, \"#bd3786\"], [0.5555555555555556, \"#d8576b\"], [0.6666666666666666, \"#ed7953\"], [0.7777777777777778, \"#fb9f3a\"], [0.8888888888888888, \"#fdca26\"], [1.0, \"#f0f921\"]], \"sequentialminus\": [[0.0, \"#0d0887\"], [0.1111111111111111, \"#46039f\"], [0.2222222222222222, \"#7201a8\"], [0.3333333333333333, \"#9c179e\"], [0.4444444444444444, \"#bd3786\"], [0.5555555555555556, \"#d8576b\"], [0.6666666666666666, \"#ed7953\"], [0.7777777777777778, \"#fb9f3a\"], [0.8888888888888888, \"#fdca26\"], [1.0, \"#f0f921\"]]}, \"colorway\": [\"#636efa\", \"#EF553B\", \"#00cc96\", \"#ab63fa\", \"#FFA15A\", \"#19d3f3\", \"#FF6692\", \"#B6E880\", \"#FF97FF\", \"#FECB52\"], \"font\": {\"color\": \"#2a3f5f\"}, \"geo\": {\"bgcolor\": \"white\", \"lakecolor\": \"white\", \"landcolor\": \"#E5ECF6\", \"showlakes\": true, \"showland\": true, \"subunitcolor\": \"white\"}, \"hoverlabel\": {\"align\": \"left\"}, \"hovermode\": \"closest\", \"mapbox\": {\"style\": \"light\"}, \"paper_bgcolor\": \"white\", \"plot_bgcolor\": \"#E5ECF6\", \"polar\": {\"angularaxis\": {\"gridcolor\": \"white\", \"linecolor\": \"white\", \"ticks\": \"\"}, \"bgcolor\": \"#E5ECF6\", \"radialaxis\": {\"gridcolor\": \"white\", \"linecolor\": \"white\", \"ticks\": \"\"}}, \"scene\": {\"xaxis\": {\"backgroundcolor\": \"#E5ECF6\", \"gridcolor\": \"white\", \"gridwidth\": 2, \"linecolor\": \"white\", \"showbackground\": true, \"ticks\": \"\", \"zerolinecolor\": \"white\"}, \"yaxis\": {\"backgroundcolor\": \"#E5ECF6\", \"gridcolor\": \"white\", \"gridwidth\": 2, \"linecolor\": \"white\", \"showbackground\": true, \"ticks\": \"\", \"zerolinecolor\": \"white\"}, \"zaxis\": {\"backgroundcolor\": \"#E5ECF6\", \"gridcolor\": \"white\", \"gridwidth\": 2, \"linecolor\": \"white\", \"showbackground\": true, \"ticks\": \"\", \"zerolinecolor\": \"white\"}}, \"shapedefaults\": {\"line\": {\"color\": \"#2a3f5f\"}}, \"ternary\": {\"aaxis\": {\"gridcolor\": \"white\", \"linecolor\": \"white\", \"ticks\": \"\"}, \"baxis\": {\"gridcolor\": \"white\", \"linecolor\": \"white\", \"ticks\": \"\"}, \"bgcolor\": \"#E5ECF6\", \"caxis\": {\"gridcolor\": \"white\", \"linecolor\": \"white\", \"ticks\": \"\"}}, \"title\": {\"x\": 0.05}, \"xaxis\": {\"automargin\": true, \"gridcolor\": \"white\", \"linecolor\": \"white\", \"ticks\": \"\", \"title\": {\"standoff\": 15}, \"zerolinecolor\": \"white\", \"zerolinewidth\": 2}, \"yaxis\": {\"automargin\": true, \"gridcolor\": \"white\", \"linecolor\": \"white\", \"ticks\": \"\", \"title\": {\"standoff\": 15}, \"zerolinecolor\": \"white\", \"zerolinewidth\": 2}}}},                        {\"responsive\": true}                    ).then(function(){\n",
       "                            \n",
       "var gd = document.getElementById('6d8d7123-ec01-465b-8610-a07b3e5489e6');\n",
       "var x = new MutationObserver(function (mutations, observer) {{\n",
       "        var display = window.getComputedStyle(gd).display;\n",
       "        if (!display || display === 'none') {{\n",
       "            console.log([gd, 'removed!']);\n",
       "            Plotly.purge(gd);\n",
       "            observer.disconnect();\n",
       "        }}\n",
       "}});\n",
       "\n",
       "// Listen for the removal of the full notebook cells\n",
       "var notebookContainer = gd.closest('#notebook-container');\n",
       "if (notebookContainer) {{\n",
       "    x.observe(notebookContainer, {childList: true});\n",
       "}}\n",
       "\n",
       "// Listen for the clearing of the current output cell\n",
       "var outputEl = gd.closest('.output');\n",
       "if (outputEl) {{\n",
       "    x.observe(outputEl, {childList: true});\n",
       "}}\n",
       "\n",
       "                        })                };                });            </script>        </div>"
      ]
     },
     "metadata": {},
     "output_type": "display_data"
    }
   ],
   "source": [
    "px.treemap(df[~df.embark_town.isna()],\n",
    "          path=['class', 'embark_town'],\n",
    "          color='fare')"
   ]
  },
  {
   "cell_type": "code",
   "execution_count": 81,
   "id": "hawaiian-dominant",
   "metadata": {},
   "outputs": [
    {
     "data": {
      "application/vnd.plotly.v1+json": {
       "config": {
        "plotlyServerURL": "https://plot.ly"
       },
       "data": [
        {
         "branchvalues": "total",
         "customdata": [
          [
           28.7125
          ],
          [
           null
          ],
          [
           151.55
          ],
          [
           83.39583000000002
          ],
          [
           90
          ],
          [
           55.5268725
          ],
          [
           null
          ],
          [
           null
          ],
          [
           18.25
          ],
          [
           26.899400000000004
          ],
          [
           12.35
          ],
          [
           20.49736842105263
          ],
          [
           14.613339999999999
          ],
          [
           13.375
          ],
          [
           19.469908888888884
          ],
          [
           8.604177777777778
          ],
          [
           14.84423076923077
          ],
          [
           11.927532065217392
          ],
          [
           119.8903162162162
          ],
          [
           90
          ],
          [
           98.99236190476189
          ],
          [
           117.35391874999999
          ],
          [
           null
          ],
          [
           55.36527916666666
          ],
          [
           25.268457142857148
          ],
          [
           12.35
          ],
          [
           22.09416666666667
          ],
          [
           37.0042
          ],
          [
           null
          ],
          [
           21.053571428571427
          ],
          [
           14.689772727272725
          ],
          [
           7.82834
          ],
          [
           12.982929032258065
          ],
          [
           10.948228571428572
          ],
          [
           7.75
          ],
          [
           15.008606666666669
          ],
          [
           117.49089999999997
          ],
          [
           90
          ],
          [
           101.38134545454544
          ],
          [
           98.48831388888888
          ],
          [
           90
          ],
          [
           55.466275
          ],
          [
           25.268457142857148
          ],
          [
           12.35
          ],
          [
           21.74469696969697
          ],
          [
           28.1625
          ],
          [
           12.35
          ],
          [
           20.58388888888889
          ],
          [
           14.6658875
          ],
          [
           10.60167
          ],
          [
           16.823903947368414
          ],
          [
           9.260512
          ],
          [
           14.3375
          ],
          [
           12.359458411214954
          ],
          [
           79.93750163934426
          ],
          [
           17.363891666666664
          ],
          [
           38.572827419354844
          ],
          [
           58.00568260869564
          ],
          [
           18.942187500000003
          ],
          [
           21.867705706521743
          ],
          [
           68.29676692307693
          ],
          [
           18.265774999999998
          ],
          [
           27.476284476534296
          ]
         ],
         "domain": {
          "x": [
           0,
           1
          ],
          "y": [
           0,
           1
          ]
         },
         "hovertemplate": "labels=%{label}<br>count=%{value}<br>parent=%{parent}<br>id=%{id}<br>fare=%{color}<extra></extra>",
         "ids": [
          "Cherbourg/female/First/0",
          "Queenstown/female/First/0",
          "Southampton/female/First/0",
          "Cherbourg/male/First/0",
          "Queenstown/male/First/0",
          "Southampton/male/First/0",
          "Cherbourg/female/Second/0",
          "Queenstown/female/Second/0",
          "Southampton/female/Second/0",
          "Cherbourg/male/Second/0",
          "Queenstown/male/Second/0",
          "Southampton/male/Second/0",
          "Cherbourg/female/Third/0",
          "Queenstown/female/Third/0",
          "Southampton/female/Third/0",
          "Cherbourg/male/Third/0",
          "Queenstown/male/Third/0",
          "Southampton/male/Third/0",
          "Cherbourg/female/First/1",
          "Queenstown/female/First/1",
          "Southampton/female/First/1",
          "Cherbourg/male/First/1",
          "Queenstown/male/First/1",
          "Southampton/male/First/1",
          "Cherbourg/female/Second/1",
          "Queenstown/female/Second/1",
          "Southampton/female/Second/1",
          "Cherbourg/male/Second/1",
          "Queenstown/male/Second/1",
          "Southampton/male/Second/1",
          "Cherbourg/female/Third/1",
          "Queenstown/female/Third/1",
          "Southampton/female/Third/1",
          "Cherbourg/male/Third/1",
          "Queenstown/male/Third/1",
          "Southampton/male/Third/1",
          "Cherbourg/female/First",
          "Queenstown/female/First",
          "Southampton/female/First",
          "Cherbourg/male/First",
          "Queenstown/male/First",
          "Southampton/male/First",
          "Cherbourg/female/Second",
          "Queenstown/female/Second",
          "Southampton/female/Second",
          "Cherbourg/male/Second",
          "Queenstown/male/Second",
          "Southampton/male/Second",
          "Cherbourg/female/Third",
          "Queenstown/female/Third",
          "Southampton/female/Third",
          "Cherbourg/male/Third",
          "Queenstown/male/Third",
          "Southampton/male/Third",
          "Cherbourg/female",
          "Queenstown/female",
          "Southampton/female",
          "Cherbourg/male",
          "Queenstown/male",
          "Southampton/male",
          "Cherbourg",
          "Queenstown",
          "Southampton"
         ],
         "labels": [
          "0",
          "0",
          "0",
          "0",
          "0",
          "0",
          "0",
          "0",
          "0",
          "0",
          "0",
          "0",
          "0",
          "0",
          "0",
          "0",
          "0",
          "0",
          "1",
          "1",
          "1",
          "1",
          "1",
          "1",
          "1",
          "1",
          "1",
          "1",
          "1",
          "1",
          "1",
          "1",
          "1",
          "1",
          "1",
          "1",
          "First",
          "First",
          "First",
          "First",
          "First",
          "First",
          "Second",
          "Second",
          "Second",
          "Second",
          "Second",
          "Second",
          "Third",
          "Third",
          "Third",
          "Third",
          "Third",
          "Third",
          "female",
          "female",
          "female",
          "male",
          "male",
          "male",
          "Cherbourg",
          "Queenstown",
          "Southampton"
         ],
         "marker": {
          "coloraxis": "coloraxis",
          "colors": [
           28.7125,
           null,
           151.55,
           83.39583000000002,
           90,
           55.5268725,
           null,
           null,
           18.25,
           26.899400000000004,
           12.35,
           20.49736842105263,
           14.613339999999999,
           13.375,
           19.469908888888884,
           8.604177777777778,
           14.84423076923077,
           11.927532065217392,
           119.8903162162162,
           90,
           98.99236190476189,
           117.35391874999999,
           null,
           55.36527916666666,
           25.268457142857148,
           12.35,
           22.09416666666667,
           37.0042,
           null,
           21.053571428571427,
           14.689772727272725,
           7.82834,
           12.982929032258065,
           10.948228571428572,
           7.75,
           15.008606666666669,
           117.49089999999997,
           90,
           101.38134545454544,
           98.48831388888888,
           90,
           55.466275,
           25.268457142857148,
           12.35,
           21.74469696969697,
           28.1625,
           12.35,
           20.58388888888889,
           14.6658875,
           10.60167,
           16.823903947368414,
           9.260512,
           14.3375,
           12.359458411214954,
           79.93750163934426,
           17.363891666666664,
           38.572827419354844,
           58.00568260869564,
           18.942187500000003,
           21.867705706521743,
           68.29676692307693,
           18.265774999999998,
           27.476284476534296
          ]
         },
         "name": "",
         "parents": [
          "Cherbourg/female/First",
          "Queenstown/female/First",
          "Southampton/female/First",
          "Cherbourg/male/First",
          "Queenstown/male/First",
          "Southampton/male/First",
          "Cherbourg/female/Second",
          "Queenstown/female/Second",
          "Southampton/female/Second",
          "Cherbourg/male/Second",
          "Queenstown/male/Second",
          "Southampton/male/Second",
          "Cherbourg/female/Third",
          "Queenstown/female/Third",
          "Southampton/female/Third",
          "Cherbourg/male/Third",
          "Queenstown/male/Third",
          "Southampton/male/Third",
          "Cherbourg/female/First",
          "Queenstown/female/First",
          "Southampton/female/First",
          "Cherbourg/male/First",
          "Queenstown/male/First",
          "Southampton/male/First",
          "Cherbourg/female/Second",
          "Queenstown/female/Second",
          "Southampton/female/Second",
          "Cherbourg/male/Second",
          "Queenstown/male/Second",
          "Southampton/male/Second",
          "Cherbourg/female/Third",
          "Queenstown/female/Third",
          "Southampton/female/Third",
          "Cherbourg/male/Third",
          "Queenstown/male/Third",
          "Southampton/male/Third",
          "Cherbourg/female",
          "Queenstown/female",
          "Southampton/female",
          "Cherbourg/male",
          "Queenstown/male",
          "Southampton/male",
          "Cherbourg/female",
          "Queenstown/female",
          "Southampton/female",
          "Cherbourg/male",
          "Queenstown/male",
          "Southampton/male",
          "Cherbourg/female",
          "Queenstown/female",
          "Southampton/female",
          "Cherbourg/male",
          "Queenstown/male",
          "Southampton/male",
          "Cherbourg",
          "Queenstown",
          "Southampton",
          "Cherbourg",
          "Queenstown",
          "Southampton",
          "",
          "",
          ""
         ],
         "type": "treemap",
         "values": [
          1,
          0,
          2,
          20,
          1,
          40,
          0,
          0,
          6,
          7,
          1,
          76,
          5,
          5,
          45,
          18,
          13,
          184,
          37,
          1,
          42,
          16,
          0,
          24,
          7,
          1,
          60,
          1,
          0,
          14,
          11,
          5,
          31,
          7,
          1,
          30,
          38,
          1,
          44,
          36,
          1,
          64,
          7,
          1,
          66,
          8,
          1,
          90,
          16,
          10,
          76,
          25,
          14,
          214,
          61,
          12,
          186,
          69,
          16,
          368,
          130,
          28,
          554
         ]
        }
       ],
       "layout": {
        "coloraxis": {
         "colorbar": {
          "title": {
           "text": "fare"
          }
         },
         "colorscale": [
          [
           0,
           "#0d0887"
          ],
          [
           0.1111111111111111,
           "#46039f"
          ],
          [
           0.2222222222222222,
           "#7201a8"
          ],
          [
           0.3333333333333333,
           "#9c179e"
          ],
          [
           0.4444444444444444,
           "#bd3786"
          ],
          [
           0.5555555555555556,
           "#d8576b"
          ],
          [
           0.6666666666666666,
           "#ed7953"
          ],
          [
           0.7777777777777778,
           "#fb9f3a"
          ],
          [
           0.8888888888888888,
           "#fdca26"
          ],
          [
           1,
           "#f0f921"
          ]
         ]
        },
        "legend": {
         "tracegroupgap": 0
        },
        "template": {
         "data": {
          "bar": [
           {
            "error_x": {
             "color": "#2a3f5f"
            },
            "error_y": {
             "color": "#2a3f5f"
            },
            "marker": {
             "line": {
              "color": "#E5ECF6",
              "width": 0.5
             }
            },
            "type": "bar"
           }
          ],
          "barpolar": [
           {
            "marker": {
             "line": {
              "color": "#E5ECF6",
              "width": 0.5
             }
            },
            "type": "barpolar"
           }
          ],
          "carpet": [
           {
            "aaxis": {
             "endlinecolor": "#2a3f5f",
             "gridcolor": "white",
             "linecolor": "white",
             "minorgridcolor": "white",
             "startlinecolor": "#2a3f5f"
            },
            "baxis": {
             "endlinecolor": "#2a3f5f",
             "gridcolor": "white",
             "linecolor": "white",
             "minorgridcolor": "white",
             "startlinecolor": "#2a3f5f"
            },
            "type": "carpet"
           }
          ],
          "choropleth": [
           {
            "colorbar": {
             "outlinewidth": 0,
             "ticks": ""
            },
            "type": "choropleth"
           }
          ],
          "contour": [
           {
            "colorbar": {
             "outlinewidth": 0,
             "ticks": ""
            },
            "colorscale": [
             [
              0,
              "#0d0887"
             ],
             [
              0.1111111111111111,
              "#46039f"
             ],
             [
              0.2222222222222222,
              "#7201a8"
             ],
             [
              0.3333333333333333,
              "#9c179e"
             ],
             [
              0.4444444444444444,
              "#bd3786"
             ],
             [
              0.5555555555555556,
              "#d8576b"
             ],
             [
              0.6666666666666666,
              "#ed7953"
             ],
             [
              0.7777777777777778,
              "#fb9f3a"
             ],
             [
              0.8888888888888888,
              "#fdca26"
             ],
             [
              1,
              "#f0f921"
             ]
            ],
            "type": "contour"
           }
          ],
          "contourcarpet": [
           {
            "colorbar": {
             "outlinewidth": 0,
             "ticks": ""
            },
            "type": "contourcarpet"
           }
          ],
          "heatmap": [
           {
            "colorbar": {
             "outlinewidth": 0,
             "ticks": ""
            },
            "colorscale": [
             [
              0,
              "#0d0887"
             ],
             [
              0.1111111111111111,
              "#46039f"
             ],
             [
              0.2222222222222222,
              "#7201a8"
             ],
             [
              0.3333333333333333,
              "#9c179e"
             ],
             [
              0.4444444444444444,
              "#bd3786"
             ],
             [
              0.5555555555555556,
              "#d8576b"
             ],
             [
              0.6666666666666666,
              "#ed7953"
             ],
             [
              0.7777777777777778,
              "#fb9f3a"
             ],
             [
              0.8888888888888888,
              "#fdca26"
             ],
             [
              1,
              "#f0f921"
             ]
            ],
            "type": "heatmap"
           }
          ],
          "heatmapgl": [
           {
            "colorbar": {
             "outlinewidth": 0,
             "ticks": ""
            },
            "colorscale": [
             [
              0,
              "#0d0887"
             ],
             [
              0.1111111111111111,
              "#46039f"
             ],
             [
              0.2222222222222222,
              "#7201a8"
             ],
             [
              0.3333333333333333,
              "#9c179e"
             ],
             [
              0.4444444444444444,
              "#bd3786"
             ],
             [
              0.5555555555555556,
              "#d8576b"
             ],
             [
              0.6666666666666666,
              "#ed7953"
             ],
             [
              0.7777777777777778,
              "#fb9f3a"
             ],
             [
              0.8888888888888888,
              "#fdca26"
             ],
             [
              1,
              "#f0f921"
             ]
            ],
            "type": "heatmapgl"
           }
          ],
          "histogram": [
           {
            "marker": {
             "colorbar": {
              "outlinewidth": 0,
              "ticks": ""
             }
            },
            "type": "histogram"
           }
          ],
          "histogram2d": [
           {
            "colorbar": {
             "outlinewidth": 0,
             "ticks": ""
            },
            "colorscale": [
             [
              0,
              "#0d0887"
             ],
             [
              0.1111111111111111,
              "#46039f"
             ],
             [
              0.2222222222222222,
              "#7201a8"
             ],
             [
              0.3333333333333333,
              "#9c179e"
             ],
             [
              0.4444444444444444,
              "#bd3786"
             ],
             [
              0.5555555555555556,
              "#d8576b"
             ],
             [
              0.6666666666666666,
              "#ed7953"
             ],
             [
              0.7777777777777778,
              "#fb9f3a"
             ],
             [
              0.8888888888888888,
              "#fdca26"
             ],
             [
              1,
              "#f0f921"
             ]
            ],
            "type": "histogram2d"
           }
          ],
          "histogram2dcontour": [
           {
            "colorbar": {
             "outlinewidth": 0,
             "ticks": ""
            },
            "colorscale": [
             [
              0,
              "#0d0887"
             ],
             [
              0.1111111111111111,
              "#46039f"
             ],
             [
              0.2222222222222222,
              "#7201a8"
             ],
             [
              0.3333333333333333,
              "#9c179e"
             ],
             [
              0.4444444444444444,
              "#bd3786"
             ],
             [
              0.5555555555555556,
              "#d8576b"
             ],
             [
              0.6666666666666666,
              "#ed7953"
             ],
             [
              0.7777777777777778,
              "#fb9f3a"
             ],
             [
              0.8888888888888888,
              "#fdca26"
             ],
             [
              1,
              "#f0f921"
             ]
            ],
            "type": "histogram2dcontour"
           }
          ],
          "mesh3d": [
           {
            "colorbar": {
             "outlinewidth": 0,
             "ticks": ""
            },
            "type": "mesh3d"
           }
          ],
          "parcoords": [
           {
            "line": {
             "colorbar": {
              "outlinewidth": 0,
              "ticks": ""
             }
            },
            "type": "parcoords"
           }
          ],
          "pie": [
           {
            "automargin": true,
            "type": "pie"
           }
          ],
          "scatter": [
           {
            "marker": {
             "colorbar": {
              "outlinewidth": 0,
              "ticks": ""
             }
            },
            "type": "scatter"
           }
          ],
          "scatter3d": [
           {
            "line": {
             "colorbar": {
              "outlinewidth": 0,
              "ticks": ""
             }
            },
            "marker": {
             "colorbar": {
              "outlinewidth": 0,
              "ticks": ""
             }
            },
            "type": "scatter3d"
           }
          ],
          "scattercarpet": [
           {
            "marker": {
             "colorbar": {
              "outlinewidth": 0,
              "ticks": ""
             }
            },
            "type": "scattercarpet"
           }
          ],
          "scattergeo": [
           {
            "marker": {
             "colorbar": {
              "outlinewidth": 0,
              "ticks": ""
             }
            },
            "type": "scattergeo"
           }
          ],
          "scattergl": [
           {
            "marker": {
             "colorbar": {
              "outlinewidth": 0,
              "ticks": ""
             }
            },
            "type": "scattergl"
           }
          ],
          "scattermapbox": [
           {
            "marker": {
             "colorbar": {
              "outlinewidth": 0,
              "ticks": ""
             }
            },
            "type": "scattermapbox"
           }
          ],
          "scatterpolar": [
           {
            "marker": {
             "colorbar": {
              "outlinewidth": 0,
              "ticks": ""
             }
            },
            "type": "scatterpolar"
           }
          ],
          "scatterpolargl": [
           {
            "marker": {
             "colorbar": {
              "outlinewidth": 0,
              "ticks": ""
             }
            },
            "type": "scatterpolargl"
           }
          ],
          "scatterternary": [
           {
            "marker": {
             "colorbar": {
              "outlinewidth": 0,
              "ticks": ""
             }
            },
            "type": "scatterternary"
           }
          ],
          "surface": [
           {
            "colorbar": {
             "outlinewidth": 0,
             "ticks": ""
            },
            "colorscale": [
             [
              0,
              "#0d0887"
             ],
             [
              0.1111111111111111,
              "#46039f"
             ],
             [
              0.2222222222222222,
              "#7201a8"
             ],
             [
              0.3333333333333333,
              "#9c179e"
             ],
             [
              0.4444444444444444,
              "#bd3786"
             ],
             [
              0.5555555555555556,
              "#d8576b"
             ],
             [
              0.6666666666666666,
              "#ed7953"
             ],
             [
              0.7777777777777778,
              "#fb9f3a"
             ],
             [
              0.8888888888888888,
              "#fdca26"
             ],
             [
              1,
              "#f0f921"
             ]
            ],
            "type": "surface"
           }
          ],
          "table": [
           {
            "cells": {
             "fill": {
              "color": "#EBF0F8"
             },
             "line": {
              "color": "white"
             }
            },
            "header": {
             "fill": {
              "color": "#C8D4E3"
             },
             "line": {
              "color": "white"
             }
            },
            "type": "table"
           }
          ]
         },
         "layout": {
          "annotationdefaults": {
           "arrowcolor": "#2a3f5f",
           "arrowhead": 0,
           "arrowwidth": 1
          },
          "coloraxis": {
           "colorbar": {
            "outlinewidth": 0,
            "ticks": ""
           }
          },
          "colorscale": {
           "diverging": [
            [
             0,
             "#8e0152"
            ],
            [
             0.1,
             "#c51b7d"
            ],
            [
             0.2,
             "#de77ae"
            ],
            [
             0.3,
             "#f1b6da"
            ],
            [
             0.4,
             "#fde0ef"
            ],
            [
             0.5,
             "#f7f7f7"
            ],
            [
             0.6,
             "#e6f5d0"
            ],
            [
             0.7,
             "#b8e186"
            ],
            [
             0.8,
             "#7fbc41"
            ],
            [
             0.9,
             "#4d9221"
            ],
            [
             1,
             "#276419"
            ]
           ],
           "sequential": [
            [
             0,
             "#0d0887"
            ],
            [
             0.1111111111111111,
             "#46039f"
            ],
            [
             0.2222222222222222,
             "#7201a8"
            ],
            [
             0.3333333333333333,
             "#9c179e"
            ],
            [
             0.4444444444444444,
             "#bd3786"
            ],
            [
             0.5555555555555556,
             "#d8576b"
            ],
            [
             0.6666666666666666,
             "#ed7953"
            ],
            [
             0.7777777777777778,
             "#fb9f3a"
            ],
            [
             0.8888888888888888,
             "#fdca26"
            ],
            [
             1,
             "#f0f921"
            ]
           ],
           "sequentialminus": [
            [
             0,
             "#0d0887"
            ],
            [
             0.1111111111111111,
             "#46039f"
            ],
            [
             0.2222222222222222,
             "#7201a8"
            ],
            [
             0.3333333333333333,
             "#9c179e"
            ],
            [
             0.4444444444444444,
             "#bd3786"
            ],
            [
             0.5555555555555556,
             "#d8576b"
            ],
            [
             0.6666666666666666,
             "#ed7953"
            ],
            [
             0.7777777777777778,
             "#fb9f3a"
            ],
            [
             0.8888888888888888,
             "#fdca26"
            ],
            [
             1,
             "#f0f921"
            ]
           ]
          },
          "colorway": [
           "#636efa",
           "#EF553B",
           "#00cc96",
           "#ab63fa",
           "#FFA15A",
           "#19d3f3",
           "#FF6692",
           "#B6E880",
           "#FF97FF",
           "#FECB52"
          ],
          "font": {
           "color": "#2a3f5f"
          },
          "geo": {
           "bgcolor": "white",
           "lakecolor": "white",
           "landcolor": "#E5ECF6",
           "showlakes": true,
           "showland": true,
           "subunitcolor": "white"
          },
          "hoverlabel": {
           "align": "left"
          },
          "hovermode": "closest",
          "mapbox": {
           "style": "light"
          },
          "paper_bgcolor": "white",
          "plot_bgcolor": "#E5ECF6",
          "polar": {
           "angularaxis": {
            "gridcolor": "white",
            "linecolor": "white",
            "ticks": ""
           },
           "bgcolor": "#E5ECF6",
           "radialaxis": {
            "gridcolor": "white",
            "linecolor": "white",
            "ticks": ""
           }
          },
          "scene": {
           "xaxis": {
            "backgroundcolor": "#E5ECF6",
            "gridcolor": "white",
            "gridwidth": 2,
            "linecolor": "white",
            "showbackground": true,
            "ticks": "",
            "zerolinecolor": "white"
           },
           "yaxis": {
            "backgroundcolor": "#E5ECF6",
            "gridcolor": "white",
            "gridwidth": 2,
            "linecolor": "white",
            "showbackground": true,
            "ticks": "",
            "zerolinecolor": "white"
           },
           "zaxis": {
            "backgroundcolor": "#E5ECF6",
            "gridcolor": "white",
            "gridwidth": 2,
            "linecolor": "white",
            "showbackground": true,
            "ticks": "",
            "zerolinecolor": "white"
           }
          },
          "shapedefaults": {
           "line": {
            "color": "#2a3f5f"
           }
          },
          "ternary": {
           "aaxis": {
            "gridcolor": "white",
            "linecolor": "white",
            "ticks": ""
           },
           "baxis": {
            "gridcolor": "white",
            "linecolor": "white",
            "ticks": ""
           },
           "bgcolor": "#E5ECF6",
           "caxis": {
            "gridcolor": "white",
            "linecolor": "white",
            "ticks": ""
           }
          },
          "title": {
           "x": 0.05
          },
          "xaxis": {
           "automargin": true,
           "gridcolor": "white",
           "linecolor": "white",
           "ticks": "",
           "title": {
            "standoff": 15
           },
           "zerolinecolor": "white",
           "zerolinewidth": 2
          },
          "yaxis": {
           "automargin": true,
           "gridcolor": "white",
           "linecolor": "white",
           "ticks": "",
           "title": {
            "standoff": 15
           },
           "zerolinecolor": "white",
           "zerolinewidth": 2
          }
         }
        },
        "title": {
         "text": "Share of gender/class per survived/not-survived"
        }
       }
      },
      "text/html": [
       "<div>                            <div id=\"f24070f2-03c2-416c-aa7a-ca20bfebdf0b\" class=\"plotly-graph-div\" style=\"height:525px; width:100%;\"></div>            <script type=\"text/javascript\">                require([\"plotly\"], function(Plotly) {                    window.PLOTLYENV=window.PLOTLYENV || {};                                    if (document.getElementById(\"f24070f2-03c2-416c-aa7a-ca20bfebdf0b\")) {                    Plotly.newPlot(                        \"f24070f2-03c2-416c-aa7a-ca20bfebdf0b\",                        [{\"branchvalues\": \"total\", \"customdata\": [[28.7125], [null], [151.55], [83.39583000000002], [90.0], [55.5268725], [null], [null], [18.25], [26.899400000000004], [12.35], [20.49736842105263], [14.613339999999999], [13.375], [19.469908888888884], [8.604177777777778], [14.84423076923077], [11.927532065217392], [119.8903162162162], [90.0], [98.99236190476189], [117.35391874999999], [null], [55.36527916666666], [25.268457142857148], [12.35], [22.09416666666667], [37.0042], [null], [21.053571428571427], [14.689772727272725], [7.82834], [12.982929032258065], [10.948228571428572], [7.75], [15.008606666666669], [117.49089999999997], [90.0], [101.38134545454544], [98.48831388888888], [90.0], [55.466275], [25.268457142857148], [12.35], [21.74469696969697], [28.1625], [12.35], [20.58388888888889], [14.6658875], [10.60167], [16.823903947368414], [9.260512], [14.3375], [12.359458411214954], [79.93750163934426], [17.363891666666664], [38.572827419354844], [58.00568260869564], [18.942187500000003], [21.867705706521743], [68.29676692307693], [18.265774999999998], [27.476284476534296]], \"domain\": {\"x\": [0.0, 1.0], \"y\": [0.0, 1.0]}, \"hovertemplate\": \"labels=%{label}<br>count=%{value}<br>parent=%{parent}<br>id=%{id}<br>fare=%{color}<extra></extra>\", \"ids\": [\"Cherbourg/female/First/0\", \"Queenstown/female/First/0\", \"Southampton/female/First/0\", \"Cherbourg/male/First/0\", \"Queenstown/male/First/0\", \"Southampton/male/First/0\", \"Cherbourg/female/Second/0\", \"Queenstown/female/Second/0\", \"Southampton/female/Second/0\", \"Cherbourg/male/Second/0\", \"Queenstown/male/Second/0\", \"Southampton/male/Second/0\", \"Cherbourg/female/Third/0\", \"Queenstown/female/Third/0\", \"Southampton/female/Third/0\", \"Cherbourg/male/Third/0\", \"Queenstown/male/Third/0\", \"Southampton/male/Third/0\", \"Cherbourg/female/First/1\", \"Queenstown/female/First/1\", \"Southampton/female/First/1\", \"Cherbourg/male/First/1\", \"Queenstown/male/First/1\", \"Southampton/male/First/1\", \"Cherbourg/female/Second/1\", \"Queenstown/female/Second/1\", \"Southampton/female/Second/1\", \"Cherbourg/male/Second/1\", \"Queenstown/male/Second/1\", \"Southampton/male/Second/1\", \"Cherbourg/female/Third/1\", \"Queenstown/female/Third/1\", \"Southampton/female/Third/1\", \"Cherbourg/male/Third/1\", \"Queenstown/male/Third/1\", \"Southampton/male/Third/1\", \"Cherbourg/female/First\", \"Queenstown/female/First\", \"Southampton/female/First\", \"Cherbourg/male/First\", \"Queenstown/male/First\", \"Southampton/male/First\", \"Cherbourg/female/Second\", \"Queenstown/female/Second\", \"Southampton/female/Second\", \"Cherbourg/male/Second\", \"Queenstown/male/Second\", \"Southampton/male/Second\", \"Cherbourg/female/Third\", \"Queenstown/female/Third\", \"Southampton/female/Third\", \"Cherbourg/male/Third\", \"Queenstown/male/Third\", \"Southampton/male/Third\", \"Cherbourg/female\", \"Queenstown/female\", \"Southampton/female\", \"Cherbourg/male\", \"Queenstown/male\", \"Southampton/male\", \"Cherbourg\", \"Queenstown\", \"Southampton\"], \"labels\": [\"0\", \"0\", \"0\", \"0\", \"0\", \"0\", \"0\", \"0\", \"0\", \"0\", \"0\", \"0\", \"0\", \"0\", \"0\", \"0\", \"0\", \"0\", \"1\", \"1\", \"1\", \"1\", \"1\", \"1\", \"1\", \"1\", \"1\", \"1\", \"1\", \"1\", \"1\", \"1\", \"1\", \"1\", \"1\", \"1\", \"First\", \"First\", \"First\", \"First\", \"First\", \"First\", \"Second\", \"Second\", \"Second\", \"Second\", \"Second\", \"Second\", \"Third\", \"Third\", \"Third\", \"Third\", \"Third\", \"Third\", \"female\", \"female\", \"female\", \"male\", \"male\", \"male\", \"Cherbourg\", \"Queenstown\", \"Southampton\"], \"marker\": {\"coloraxis\": \"coloraxis\", \"colors\": [28.7125, null, 151.55, 83.39583000000002, 90.0, 55.5268725, null, null, 18.25, 26.899400000000004, 12.35, 20.49736842105263, 14.613339999999999, 13.375, 19.469908888888884, 8.604177777777778, 14.84423076923077, 11.927532065217392, 119.8903162162162, 90.0, 98.99236190476189, 117.35391874999999, null, 55.36527916666666, 25.268457142857148, 12.35, 22.09416666666667, 37.0042, null, 21.053571428571427, 14.689772727272725, 7.82834, 12.982929032258065, 10.948228571428572, 7.75, 15.008606666666669, 117.49089999999997, 90.0, 101.38134545454544, 98.48831388888888, 90.0, 55.466275, 25.268457142857148, 12.35, 21.74469696969697, 28.1625, 12.35, 20.58388888888889, 14.6658875, 10.60167, 16.823903947368414, 9.260512, 14.3375, 12.359458411214954, 79.93750163934426, 17.363891666666664, 38.572827419354844, 58.00568260869564, 18.942187500000003, 21.867705706521743, 68.29676692307693, 18.265774999999998, 27.476284476534296]}, \"name\": \"\", \"parents\": [\"Cherbourg/female/First\", \"Queenstown/female/First\", \"Southampton/female/First\", \"Cherbourg/male/First\", \"Queenstown/male/First\", \"Southampton/male/First\", \"Cherbourg/female/Second\", \"Queenstown/female/Second\", \"Southampton/female/Second\", \"Cherbourg/male/Second\", \"Queenstown/male/Second\", \"Southampton/male/Second\", \"Cherbourg/female/Third\", \"Queenstown/female/Third\", \"Southampton/female/Third\", \"Cherbourg/male/Third\", \"Queenstown/male/Third\", \"Southampton/male/Third\", \"Cherbourg/female/First\", \"Queenstown/female/First\", \"Southampton/female/First\", \"Cherbourg/male/First\", \"Queenstown/male/First\", \"Southampton/male/First\", \"Cherbourg/female/Second\", \"Queenstown/female/Second\", \"Southampton/female/Second\", \"Cherbourg/male/Second\", \"Queenstown/male/Second\", \"Southampton/male/Second\", \"Cherbourg/female/Third\", \"Queenstown/female/Third\", \"Southampton/female/Third\", \"Cherbourg/male/Third\", \"Queenstown/male/Third\", \"Southampton/male/Third\", \"Cherbourg/female\", \"Queenstown/female\", \"Southampton/female\", \"Cherbourg/male\", \"Queenstown/male\", \"Southampton/male\", \"Cherbourg/female\", \"Queenstown/female\", \"Southampton/female\", \"Cherbourg/male\", \"Queenstown/male\", \"Southampton/male\", \"Cherbourg/female\", \"Queenstown/female\", \"Southampton/female\", \"Cherbourg/male\", \"Queenstown/male\", \"Southampton/male\", \"Cherbourg\", \"Queenstown\", \"Southampton\", \"Cherbourg\", \"Queenstown\", \"Southampton\", \"\", \"\", \"\"], \"type\": \"treemap\", \"values\": [1, 0, 2, 20, 1, 40, 0, 0, 6, 7, 1, 76, 5, 5, 45, 18, 13, 184, 37, 1, 42, 16, 0, 24, 7, 1, 60, 1, 0, 14, 11, 5, 31, 7, 1, 30, 38, 1, 44, 36, 1, 64, 7, 1, 66, 8, 1, 90, 16, 10, 76, 25, 14, 214, 61, 12, 186, 69, 16, 368, 130, 28, 554]}],                        {\"coloraxis\": {\"colorbar\": {\"title\": {\"text\": \"fare\"}}, \"colorscale\": [[0.0, \"#0d0887\"], [0.1111111111111111, \"#46039f\"], [0.2222222222222222, \"#7201a8\"], [0.3333333333333333, \"#9c179e\"], [0.4444444444444444, \"#bd3786\"], [0.5555555555555556, \"#d8576b\"], [0.6666666666666666, \"#ed7953\"], [0.7777777777777778, \"#fb9f3a\"], [0.8888888888888888, \"#fdca26\"], [1.0, \"#f0f921\"]]}, \"legend\": {\"tracegroupgap\": 0}, \"template\": {\"data\": {\"bar\": [{\"error_x\": {\"color\": \"#2a3f5f\"}, \"error_y\": {\"color\": \"#2a3f5f\"}, \"marker\": {\"line\": {\"color\": \"#E5ECF6\", \"width\": 0.5}}, \"type\": \"bar\"}], \"barpolar\": [{\"marker\": {\"line\": {\"color\": \"#E5ECF6\", \"width\": 0.5}}, \"type\": \"barpolar\"}], \"carpet\": [{\"aaxis\": {\"endlinecolor\": \"#2a3f5f\", \"gridcolor\": \"white\", \"linecolor\": \"white\", \"minorgridcolor\": \"white\", \"startlinecolor\": \"#2a3f5f\"}, \"baxis\": {\"endlinecolor\": \"#2a3f5f\", \"gridcolor\": \"white\", \"linecolor\": \"white\", \"minorgridcolor\": \"white\", \"startlinecolor\": \"#2a3f5f\"}, \"type\": \"carpet\"}], \"choropleth\": [{\"colorbar\": {\"outlinewidth\": 0, \"ticks\": \"\"}, \"type\": \"choropleth\"}], \"contour\": [{\"colorbar\": {\"outlinewidth\": 0, \"ticks\": \"\"}, \"colorscale\": [[0.0, \"#0d0887\"], [0.1111111111111111, \"#46039f\"], [0.2222222222222222, \"#7201a8\"], [0.3333333333333333, \"#9c179e\"], [0.4444444444444444, \"#bd3786\"], [0.5555555555555556, \"#d8576b\"], [0.6666666666666666, \"#ed7953\"], [0.7777777777777778, \"#fb9f3a\"], [0.8888888888888888, \"#fdca26\"], [1.0, \"#f0f921\"]], \"type\": \"contour\"}], \"contourcarpet\": [{\"colorbar\": {\"outlinewidth\": 0, \"ticks\": \"\"}, \"type\": \"contourcarpet\"}], \"heatmap\": [{\"colorbar\": {\"outlinewidth\": 0, \"ticks\": \"\"}, \"colorscale\": [[0.0, \"#0d0887\"], [0.1111111111111111, \"#46039f\"], [0.2222222222222222, \"#7201a8\"], [0.3333333333333333, \"#9c179e\"], [0.4444444444444444, \"#bd3786\"], [0.5555555555555556, \"#d8576b\"], [0.6666666666666666, \"#ed7953\"], [0.7777777777777778, \"#fb9f3a\"], [0.8888888888888888, \"#fdca26\"], [1.0, \"#f0f921\"]], \"type\": \"heatmap\"}], \"heatmapgl\": [{\"colorbar\": {\"outlinewidth\": 0, \"ticks\": \"\"}, \"colorscale\": [[0.0, \"#0d0887\"], [0.1111111111111111, \"#46039f\"], [0.2222222222222222, \"#7201a8\"], [0.3333333333333333, \"#9c179e\"], [0.4444444444444444, \"#bd3786\"], [0.5555555555555556, \"#d8576b\"], [0.6666666666666666, \"#ed7953\"], [0.7777777777777778, \"#fb9f3a\"], [0.8888888888888888, \"#fdca26\"], [1.0, \"#f0f921\"]], \"type\": \"heatmapgl\"}], \"histogram\": [{\"marker\": {\"colorbar\": {\"outlinewidth\": 0, \"ticks\": \"\"}}, \"type\": \"histogram\"}], \"histogram2d\": [{\"colorbar\": {\"outlinewidth\": 0, \"ticks\": \"\"}, \"colorscale\": [[0.0, \"#0d0887\"], [0.1111111111111111, \"#46039f\"], [0.2222222222222222, \"#7201a8\"], [0.3333333333333333, \"#9c179e\"], [0.4444444444444444, \"#bd3786\"], [0.5555555555555556, \"#d8576b\"], [0.6666666666666666, \"#ed7953\"], [0.7777777777777778, \"#fb9f3a\"], [0.8888888888888888, \"#fdca26\"], [1.0, \"#f0f921\"]], \"type\": \"histogram2d\"}], \"histogram2dcontour\": [{\"colorbar\": {\"outlinewidth\": 0, \"ticks\": \"\"}, \"colorscale\": [[0.0, \"#0d0887\"], [0.1111111111111111, \"#46039f\"], [0.2222222222222222, \"#7201a8\"], [0.3333333333333333, \"#9c179e\"], [0.4444444444444444, \"#bd3786\"], [0.5555555555555556, \"#d8576b\"], [0.6666666666666666, \"#ed7953\"], [0.7777777777777778, \"#fb9f3a\"], [0.8888888888888888, \"#fdca26\"], [1.0, \"#f0f921\"]], \"type\": \"histogram2dcontour\"}], \"mesh3d\": [{\"colorbar\": {\"outlinewidth\": 0, \"ticks\": \"\"}, \"type\": \"mesh3d\"}], \"parcoords\": [{\"line\": {\"colorbar\": {\"outlinewidth\": 0, \"ticks\": \"\"}}, \"type\": \"parcoords\"}], \"pie\": [{\"automargin\": true, \"type\": \"pie\"}], \"scatter\": [{\"marker\": {\"colorbar\": {\"outlinewidth\": 0, \"ticks\": \"\"}}, \"type\": \"scatter\"}], \"scatter3d\": [{\"line\": {\"colorbar\": {\"outlinewidth\": 0, \"ticks\": \"\"}}, \"marker\": {\"colorbar\": {\"outlinewidth\": 0, \"ticks\": \"\"}}, \"type\": \"scatter3d\"}], \"scattercarpet\": [{\"marker\": {\"colorbar\": {\"outlinewidth\": 0, \"ticks\": \"\"}}, \"type\": \"scattercarpet\"}], \"scattergeo\": [{\"marker\": {\"colorbar\": {\"outlinewidth\": 0, \"ticks\": \"\"}}, \"type\": \"scattergeo\"}], \"scattergl\": [{\"marker\": {\"colorbar\": {\"outlinewidth\": 0, \"ticks\": \"\"}}, \"type\": \"scattergl\"}], \"scattermapbox\": [{\"marker\": {\"colorbar\": {\"outlinewidth\": 0, \"ticks\": \"\"}}, \"type\": \"scattermapbox\"}], \"scatterpolar\": [{\"marker\": {\"colorbar\": {\"outlinewidth\": 0, \"ticks\": \"\"}}, \"type\": \"scatterpolar\"}], \"scatterpolargl\": [{\"marker\": {\"colorbar\": {\"outlinewidth\": 0, \"ticks\": \"\"}}, \"type\": \"scatterpolargl\"}], \"scatterternary\": [{\"marker\": {\"colorbar\": {\"outlinewidth\": 0, \"ticks\": \"\"}}, \"type\": \"scatterternary\"}], \"surface\": [{\"colorbar\": {\"outlinewidth\": 0, \"ticks\": \"\"}, \"colorscale\": [[0.0, \"#0d0887\"], [0.1111111111111111, \"#46039f\"], [0.2222222222222222, \"#7201a8\"], [0.3333333333333333, \"#9c179e\"], [0.4444444444444444, \"#bd3786\"], [0.5555555555555556, \"#d8576b\"], [0.6666666666666666, \"#ed7953\"], [0.7777777777777778, \"#fb9f3a\"], [0.8888888888888888, \"#fdca26\"], [1.0, \"#f0f921\"]], \"type\": \"surface\"}], \"table\": [{\"cells\": {\"fill\": {\"color\": \"#EBF0F8\"}, \"line\": {\"color\": \"white\"}}, \"header\": {\"fill\": {\"color\": \"#C8D4E3\"}, \"line\": {\"color\": \"white\"}}, \"type\": \"table\"}]}, \"layout\": {\"annotationdefaults\": {\"arrowcolor\": \"#2a3f5f\", \"arrowhead\": 0, \"arrowwidth\": 1}, \"coloraxis\": {\"colorbar\": {\"outlinewidth\": 0, \"ticks\": \"\"}}, \"colorscale\": {\"diverging\": [[0, \"#8e0152\"], [0.1, \"#c51b7d\"], [0.2, \"#de77ae\"], [0.3, \"#f1b6da\"], [0.4, \"#fde0ef\"], [0.5, \"#f7f7f7\"], [0.6, \"#e6f5d0\"], [0.7, \"#b8e186\"], [0.8, \"#7fbc41\"], [0.9, \"#4d9221\"], [1, \"#276419\"]], \"sequential\": [[0.0, \"#0d0887\"], [0.1111111111111111, \"#46039f\"], [0.2222222222222222, \"#7201a8\"], [0.3333333333333333, \"#9c179e\"], [0.4444444444444444, \"#bd3786\"], [0.5555555555555556, \"#d8576b\"], [0.6666666666666666, \"#ed7953\"], [0.7777777777777778, \"#fb9f3a\"], [0.8888888888888888, \"#fdca26\"], [1.0, \"#f0f921\"]], \"sequentialminus\": [[0.0, \"#0d0887\"], [0.1111111111111111, \"#46039f\"], [0.2222222222222222, \"#7201a8\"], [0.3333333333333333, \"#9c179e\"], [0.4444444444444444, \"#bd3786\"], [0.5555555555555556, \"#d8576b\"], [0.6666666666666666, \"#ed7953\"], [0.7777777777777778, \"#fb9f3a\"], [0.8888888888888888, \"#fdca26\"], [1.0, \"#f0f921\"]]}, \"colorway\": [\"#636efa\", \"#EF553B\", \"#00cc96\", \"#ab63fa\", \"#FFA15A\", \"#19d3f3\", \"#FF6692\", \"#B6E880\", \"#FF97FF\", \"#FECB52\"], \"font\": {\"color\": \"#2a3f5f\"}, \"geo\": {\"bgcolor\": \"white\", \"lakecolor\": \"white\", \"landcolor\": \"#E5ECF6\", \"showlakes\": true, \"showland\": true, \"subunitcolor\": \"white\"}, \"hoverlabel\": {\"align\": \"left\"}, \"hovermode\": \"closest\", \"mapbox\": {\"style\": \"light\"}, \"paper_bgcolor\": \"white\", \"plot_bgcolor\": \"#E5ECF6\", \"polar\": {\"angularaxis\": {\"gridcolor\": \"white\", \"linecolor\": \"white\", \"ticks\": \"\"}, \"bgcolor\": \"#E5ECF6\", \"radialaxis\": {\"gridcolor\": \"white\", \"linecolor\": \"white\", \"ticks\": \"\"}}, \"scene\": {\"xaxis\": {\"backgroundcolor\": \"#E5ECF6\", \"gridcolor\": \"white\", \"gridwidth\": 2, \"linecolor\": \"white\", \"showbackground\": true, \"ticks\": \"\", \"zerolinecolor\": \"white\"}, \"yaxis\": {\"backgroundcolor\": \"#E5ECF6\", \"gridcolor\": \"white\", \"gridwidth\": 2, \"linecolor\": \"white\", \"showbackground\": true, \"ticks\": \"\", \"zerolinecolor\": \"white\"}, \"zaxis\": {\"backgroundcolor\": \"#E5ECF6\", \"gridcolor\": \"white\", \"gridwidth\": 2, \"linecolor\": \"white\", \"showbackground\": true, \"ticks\": \"\", \"zerolinecolor\": \"white\"}}, \"shapedefaults\": {\"line\": {\"color\": \"#2a3f5f\"}}, \"ternary\": {\"aaxis\": {\"gridcolor\": \"white\", \"linecolor\": \"white\", \"ticks\": \"\"}, \"baxis\": {\"gridcolor\": \"white\", \"linecolor\": \"white\", \"ticks\": \"\"}, \"bgcolor\": \"#E5ECF6\", \"caxis\": {\"gridcolor\": \"white\", \"linecolor\": \"white\", \"ticks\": \"\"}}, \"title\": {\"x\": 0.05}, \"xaxis\": {\"automargin\": true, \"gridcolor\": \"white\", \"linecolor\": \"white\", \"ticks\": \"\", \"title\": {\"standoff\": 15}, \"zerolinecolor\": \"white\", \"zerolinewidth\": 2}, \"yaxis\": {\"automargin\": true, \"gridcolor\": \"white\", \"linecolor\": \"white\", \"ticks\": \"\", \"title\": {\"standoff\": 15}, \"zerolinecolor\": \"white\", \"zerolinewidth\": 2}}}, \"title\": {\"text\": \"Share of gender/class per survived/not-survived\"}},                        {\"responsive\": true}                    ).then(function(){\n",
       "                            \n",
       "var gd = document.getElementById('f24070f2-03c2-416c-aa7a-ca20bfebdf0b');\n",
       "var x = new MutationObserver(function (mutations, observer) {{\n",
       "        var display = window.getComputedStyle(gd).display;\n",
       "        if (!display || display === 'none') {{\n",
       "            console.log([gd, 'removed!']);\n",
       "            Plotly.purge(gd);\n",
       "            observer.disconnect();\n",
       "        }}\n",
       "}});\n",
       "\n",
       "// Listen for the removal of the full notebook cells\n",
       "var notebookContainer = gd.closest('#notebook-container');\n",
       "if (notebookContainer) {{\n",
       "    x.observe(notebookContainer, {childList: true});\n",
       "}}\n",
       "\n",
       "// Listen for the clearing of the current output cell\n",
       "var outputEl = gd.closest('.output');\n",
       "if (outputEl) {{\n",
       "    x.observe(outputEl, {childList: true});\n",
       "}}\n",
       "\n",
       "                        })                };                });            </script>        </div>"
      ]
     },
     "metadata": {},
     "output_type": "display_data"
    }
   ],
   "source": [
    "# careful: n/a-values\n",
    "px.treemap(df[(~df.age.isna()) & (~df.embark_town.isna())], \n",
    "           path=['embark_town', 'sex', 'class', 'survived'],\n",
    "           color='fare',\n",
    "           title='Share of gender/class per survived/not-survived',           \n",
    "          )"
   ]
  },
  {
   "cell_type": "code",
   "execution_count": 80,
   "id": "fitted-links",
   "metadata": {},
   "outputs": [
    {
     "data": {
      "text/html": [
       "<div>\n",
       "<style scoped>\n",
       "    .dataframe tbody tr th:only-of-type {\n",
       "        vertical-align: middle;\n",
       "    }\n",
       "\n",
       "    .dataframe tbody tr th {\n",
       "        vertical-align: top;\n",
       "    }\n",
       "\n",
       "    .dataframe thead th {\n",
       "        text-align: right;\n",
       "    }\n",
       "</style>\n",
       "<table border=\"1\" class=\"dataframe\">\n",
       "  <thead>\n",
       "    <tr style=\"text-align: right;\">\n",
       "      <th></th>\n",
       "      <th></th>\n",
       "      <th>fare</th>\n",
       "    </tr>\n",
       "    <tr>\n",
       "      <th>class</th>\n",
       "      <th>embark_town</th>\n",
       "      <th></th>\n",
       "    </tr>\n",
       "  </thead>\n",
       "  <tbody>\n",
       "    <tr>\n",
       "      <th rowspan=\"3\" valign=\"top\">First</th>\n",
       "      <th>Cherbourg</th>\n",
       "      <td>105.0</td>\n",
       "    </tr>\n",
       "    <tr>\n",
       "      <th>Queenstown</th>\n",
       "      <td>90.0</td>\n",
       "    </tr>\n",
       "    <tr>\n",
       "      <th>Southampton</th>\n",
       "      <td>70.0</td>\n",
       "    </tr>\n",
       "    <tr>\n",
       "      <th rowspan=\"3\" valign=\"top\">Second</th>\n",
       "      <th>Cherbourg</th>\n",
       "      <td>25.0</td>\n",
       "    </tr>\n",
       "    <tr>\n",
       "      <th>Queenstown</th>\n",
       "      <td>12.0</td>\n",
       "    </tr>\n",
       "    <tr>\n",
       "      <th>Southampton</th>\n",
       "      <td>20.0</td>\n",
       "    </tr>\n",
       "    <tr>\n",
       "      <th rowspan=\"3\" valign=\"top\">Third</th>\n",
       "      <th>Cherbourg</th>\n",
       "      <td>11.0</td>\n",
       "    </tr>\n",
       "    <tr>\n",
       "      <th>Queenstown</th>\n",
       "      <td>11.0</td>\n",
       "    </tr>\n",
       "    <tr>\n",
       "      <th>Southampton</th>\n",
       "      <td>15.0</td>\n",
       "    </tr>\n",
       "  </tbody>\n",
       "</table>\n",
       "</div>"
      ],
      "text/plain": [
       "                     fare\n",
       "class  embark_town       \n",
       "First  Cherbourg    105.0\n",
       "       Queenstown    90.0\n",
       "       Southampton   70.0\n",
       "Second Cherbourg     25.0\n",
       "       Queenstown    12.0\n",
       "       Southampton   20.0\n",
       "Third  Cherbourg     11.0\n",
       "       Queenstown    11.0\n",
       "       Southampton   15.0"
      ]
     },
     "execution_count": 80,
     "metadata": {},
     "output_type": "execute_result"
    }
   ],
   "source": [
    "df.groupby(['class', 'embark_town'])[['fare']].mean().round()"
   ]
  },
  {
   "cell_type": "code",
   "execution_count": 72,
   "id": "revolutionary-orientation",
   "metadata": {},
   "outputs": [
    {
     "data": {
      "text/html": [
       "<div>\n",
       "<style scoped>\n",
       "    .dataframe tbody tr th:only-of-type {\n",
       "        vertical-align: middle;\n",
       "    }\n",
       "\n",
       "    .dataframe tbody tr th {\n",
       "        vertical-align: top;\n",
       "    }\n",
       "\n",
       "    .dataframe thead th {\n",
       "        text-align: right;\n",
       "    }\n",
       "</style>\n",
       "<table border=\"1\" class=\"dataframe\">\n",
       "  <thead>\n",
       "    <tr style=\"text-align: right;\">\n",
       "      <th></th>\n",
       "      <th>survived</th>\n",
       "      <th>pclass</th>\n",
       "      <th>sex</th>\n",
       "      <th>age</th>\n",
       "      <th>sibsp</th>\n",
       "      <th>parch</th>\n",
       "      <th>fare</th>\n",
       "      <th>embarked</th>\n",
       "      <th>class</th>\n",
       "      <th>who</th>\n",
       "      <th>adult_male</th>\n",
       "      <th>deck</th>\n",
       "      <th>embark_town</th>\n",
       "      <th>alive</th>\n",
       "      <th>alone</th>\n",
       "    </tr>\n",
       "  </thead>\n",
       "  <tbody>\n",
       "    <tr>\n",
       "      <th>1</th>\n",
       "      <td>1</td>\n",
       "      <td>1</td>\n",
       "      <td>female</td>\n",
       "      <td>38.0</td>\n",
       "      <td>1</td>\n",
       "      <td>0</td>\n",
       "      <td>71.2833</td>\n",
       "      <td>C</td>\n",
       "      <td>First</td>\n",
       "      <td>woman</td>\n",
       "      <td>False</td>\n",
       "      <td>C</td>\n",
       "      <td>Cherbourg</td>\n",
       "      <td>yes</td>\n",
       "      <td>False</td>\n",
       "    </tr>\n",
       "    <tr>\n",
       "      <th>3</th>\n",
       "      <td>1</td>\n",
       "      <td>1</td>\n",
       "      <td>female</td>\n",
       "      <td>35.0</td>\n",
       "      <td>1</td>\n",
       "      <td>0</td>\n",
       "      <td>53.1000</td>\n",
       "      <td>S</td>\n",
       "      <td>First</td>\n",
       "      <td>woman</td>\n",
       "      <td>False</td>\n",
       "      <td>C</td>\n",
       "      <td>Southampton</td>\n",
       "      <td>yes</td>\n",
       "      <td>False</td>\n",
       "    </tr>\n",
       "    <tr>\n",
       "      <th>11</th>\n",
       "      <td>1</td>\n",
       "      <td>1</td>\n",
       "      <td>female</td>\n",
       "      <td>58.0</td>\n",
       "      <td>0</td>\n",
       "      <td>0</td>\n",
       "      <td>26.5500</td>\n",
       "      <td>S</td>\n",
       "      <td>First</td>\n",
       "      <td>woman</td>\n",
       "      <td>False</td>\n",
       "      <td>C</td>\n",
       "      <td>Southampton</td>\n",
       "      <td>yes</td>\n",
       "      <td>True</td>\n",
       "    </tr>\n",
       "    <tr>\n",
       "      <th>31</th>\n",
       "      <td>1</td>\n",
       "      <td>1</td>\n",
       "      <td>female</td>\n",
       "      <td>NaN</td>\n",
       "      <td>1</td>\n",
       "      <td>0</td>\n",
       "      <td>146.5208</td>\n",
       "      <td>C</td>\n",
       "      <td>First</td>\n",
       "      <td>woman</td>\n",
       "      <td>False</td>\n",
       "      <td>B</td>\n",
       "      <td>Cherbourg</td>\n",
       "      <td>yes</td>\n",
       "      <td>False</td>\n",
       "    </tr>\n",
       "    <tr>\n",
       "      <th>52</th>\n",
       "      <td>1</td>\n",
       "      <td>1</td>\n",
       "      <td>female</td>\n",
       "      <td>49.0</td>\n",
       "      <td>1</td>\n",
       "      <td>0</td>\n",
       "      <td>76.7292</td>\n",
       "      <td>C</td>\n",
       "      <td>First</td>\n",
       "      <td>woman</td>\n",
       "      <td>False</td>\n",
       "      <td>D</td>\n",
       "      <td>Cherbourg</td>\n",
       "      <td>yes</td>\n",
       "      <td>False</td>\n",
       "    </tr>\n",
       "    <tr>\n",
       "      <th>...</th>\n",
       "      <td>...</td>\n",
       "      <td>...</td>\n",
       "      <td>...</td>\n",
       "      <td>...</td>\n",
       "      <td>...</td>\n",
       "      <td>...</td>\n",
       "      <td>...</td>\n",
       "      <td>...</td>\n",
       "      <td>...</td>\n",
       "      <td>...</td>\n",
       "      <td>...</td>\n",
       "      <td>...</td>\n",
       "      <td>...</td>\n",
       "      <td>...</td>\n",
       "      <td>...</td>\n",
       "    </tr>\n",
       "    <tr>\n",
       "      <th>856</th>\n",
       "      <td>1</td>\n",
       "      <td>1</td>\n",
       "      <td>female</td>\n",
       "      <td>45.0</td>\n",
       "      <td>1</td>\n",
       "      <td>1</td>\n",
       "      <td>164.8667</td>\n",
       "      <td>S</td>\n",
       "      <td>First</td>\n",
       "      <td>woman</td>\n",
       "      <td>False</td>\n",
       "      <td>NaN</td>\n",
       "      <td>Southampton</td>\n",
       "      <td>yes</td>\n",
       "      <td>False</td>\n",
       "    </tr>\n",
       "    <tr>\n",
       "      <th>862</th>\n",
       "      <td>1</td>\n",
       "      <td>1</td>\n",
       "      <td>female</td>\n",
       "      <td>48.0</td>\n",
       "      <td>0</td>\n",
       "      <td>0</td>\n",
       "      <td>25.9292</td>\n",
       "      <td>S</td>\n",
       "      <td>First</td>\n",
       "      <td>woman</td>\n",
       "      <td>False</td>\n",
       "      <td>D</td>\n",
       "      <td>Southampton</td>\n",
       "      <td>yes</td>\n",
       "      <td>True</td>\n",
       "    </tr>\n",
       "    <tr>\n",
       "      <th>871</th>\n",
       "      <td>1</td>\n",
       "      <td>1</td>\n",
       "      <td>female</td>\n",
       "      <td>47.0</td>\n",
       "      <td>1</td>\n",
       "      <td>1</td>\n",
       "      <td>52.5542</td>\n",
       "      <td>S</td>\n",
       "      <td>First</td>\n",
       "      <td>woman</td>\n",
       "      <td>False</td>\n",
       "      <td>D</td>\n",
       "      <td>Southampton</td>\n",
       "      <td>yes</td>\n",
       "      <td>False</td>\n",
       "    </tr>\n",
       "    <tr>\n",
       "      <th>879</th>\n",
       "      <td>1</td>\n",
       "      <td>1</td>\n",
       "      <td>female</td>\n",
       "      <td>56.0</td>\n",
       "      <td>0</td>\n",
       "      <td>1</td>\n",
       "      <td>83.1583</td>\n",
       "      <td>C</td>\n",
       "      <td>First</td>\n",
       "      <td>woman</td>\n",
       "      <td>False</td>\n",
       "      <td>C</td>\n",
       "      <td>Cherbourg</td>\n",
       "      <td>yes</td>\n",
       "      <td>False</td>\n",
       "    </tr>\n",
       "    <tr>\n",
       "      <th>887</th>\n",
       "      <td>1</td>\n",
       "      <td>1</td>\n",
       "      <td>female</td>\n",
       "      <td>19.0</td>\n",
       "      <td>0</td>\n",
       "      <td>0</td>\n",
       "      <td>30.0000</td>\n",
       "      <td>S</td>\n",
       "      <td>First</td>\n",
       "      <td>woman</td>\n",
       "      <td>False</td>\n",
       "      <td>B</td>\n",
       "      <td>Southampton</td>\n",
       "      <td>yes</td>\n",
       "      <td>True</td>\n",
       "    </tr>\n",
       "  </tbody>\n",
       "</table>\n",
       "<p>94 rows × 15 columns</p>\n",
       "</div>"
      ],
      "text/plain": [
       "     survived  pclass     sex   age  sibsp  parch      fare embarked  class  \\\n",
       "1           1       1  female  38.0      1      0   71.2833        C  First   \n",
       "3           1       1  female  35.0      1      0   53.1000        S  First   \n",
       "11          1       1  female  58.0      0      0   26.5500        S  First   \n",
       "31          1       1  female   NaN      1      0  146.5208        C  First   \n",
       "52          1       1  female  49.0      1      0   76.7292        C  First   \n",
       "..        ...     ...     ...   ...    ...    ...       ...      ...    ...   \n",
       "856         1       1  female  45.0      1      1  164.8667        S  First   \n",
       "862         1       1  female  48.0      0      0   25.9292        S  First   \n",
       "871         1       1  female  47.0      1      1   52.5542        S  First   \n",
       "879         1       1  female  56.0      0      1   83.1583        C  First   \n",
       "887         1       1  female  19.0      0      0   30.0000        S  First   \n",
       "\n",
       "       who  adult_male deck  embark_town alive  alone  \n",
       "1    woman       False    C    Cherbourg   yes  False  \n",
       "3    woman       False    C  Southampton   yes  False  \n",
       "11   woman       False    C  Southampton   yes   True  \n",
       "31   woman       False    B    Cherbourg   yes  False  \n",
       "52   woman       False    D    Cherbourg   yes  False  \n",
       "..     ...         ...  ...          ...   ...    ...  \n",
       "856  woman       False  NaN  Southampton   yes  False  \n",
       "862  woman       False    D  Southampton   yes   True  \n",
       "871  woman       False    D  Southampton   yes  False  \n",
       "879  woman       False    C    Cherbourg   yes  False  \n",
       "887  woman       False    B  Southampton   yes   True  \n",
       "\n",
       "[94 rows x 15 columns]"
      ]
     },
     "execution_count": 72,
     "metadata": {},
     "output_type": "execute_result"
    }
   ],
   "source": [
    "df[(df.sex=='female') & (df['class']=='First')]"
   ]
  },
  {
   "cell_type": "code",
   "execution_count": 75,
   "id": "official-lyric",
   "metadata": {},
   "outputs": [
    {
     "data": {
      "text/html": [
       "<div>\n",
       "<style scoped>\n",
       "    .dataframe tbody tr th:only-of-type {\n",
       "        vertical-align: middle;\n",
       "    }\n",
       "\n",
       "    .dataframe tbody tr th {\n",
       "        vertical-align: top;\n",
       "    }\n",
       "\n",
       "    .dataframe thead th {\n",
       "        text-align: right;\n",
       "    }\n",
       "</style>\n",
       "<table border=\"1\" class=\"dataframe\">\n",
       "  <thead>\n",
       "    <tr style=\"text-align: right;\">\n",
       "      <th></th>\n",
       "      <th>fare</th>\n",
       "    </tr>\n",
       "    <tr>\n",
       "      <th>embark_town</th>\n",
       "      <th></th>\n",
       "    </tr>\n",
       "  </thead>\n",
       "  <tbody>\n",
       "    <tr>\n",
       "      <th>Cherbourg</th>\n",
       "      <td>60.0</td>\n",
       "    </tr>\n",
       "    <tr>\n",
       "      <th>Queenstown</th>\n",
       "      <td>13.0</td>\n",
       "    </tr>\n",
       "    <tr>\n",
       "      <th>Southampton</th>\n",
       "      <td>27.0</td>\n",
       "    </tr>\n",
       "  </tbody>\n",
       "</table>\n",
       "</div>"
      ],
      "text/plain": [
       "             fare\n",
       "embark_town      \n",
       "Cherbourg    60.0\n",
       "Queenstown   13.0\n",
       "Southampton  27.0"
      ]
     },
     "execution_count": 75,
     "metadata": {},
     "output_type": "execute_result"
    }
   ],
   "source": [
    "df.groupby('embark_town')[['fare']].mean().round()"
   ]
  },
  {
   "cell_type": "code",
   "execution_count": 93,
   "id": "finished-restriction",
   "metadata": {},
   "outputs": [],
   "source": [
    "df['age_group'] = pd.cut(df.age, bins=5)\n",
    "df['age_group'] = df.age_group.astype('str')"
   ]
  },
  {
   "cell_type": "code",
   "execution_count": 111,
   "id": "banned-inspection",
   "metadata": {},
   "outputs": [
    {
     "data": {
      "application/vnd.plotly.v1+json": {
       "config": {
        "plotlyServerURL": "https://plot.ly"
       },
       "data": [
        {
         "alignmentgroup": "True",
         "bingroup": "x",
         "hovertemplate": "survived=0<br>age=%{x}<br>count=%{y}<extra></extra>",
         "legendgroup": "0",
         "marker": {
          "color": "#636efa"
         },
         "name": "0",
         "nbinsx": 10,
         "offsetgroup": "0",
         "orientation": "v",
         "showlegend": true,
         "type": "histogram",
         "x": [
          22,
          35,
          null,
          54,
          2,
          20,
          39,
          14,
          2,
          31,
          35,
          8,
          null,
          19,
          null,
          40,
          66,
          28,
          42,
          21,
          18,
          40,
          27,
          null,
          null,
          null,
          null,
          18,
          7,
          21,
          65,
          28.5,
          11,
          22,
          45,
          4,
          null,
          19,
          26,
          32,
          16,
          21,
          26,
          25,
          null,
          null,
          22,
          28,
          16,
          null,
          24,
          29,
          20,
          46,
          26,
          59,
          null,
          71,
          34,
          28,
          null,
          21,
          33,
          37,
          28,
          38,
          47,
          14.5,
          22,
          20,
          17,
          21,
          70.5,
          29,
          24,
          2,
          21,
          null,
          32.5,
          54,
          null,
          45,
          33,
          20,
          47,
          25,
          23,
          37,
          16,
          24,
          null,
          19,
          18,
          19,
          9,
          36.5,
          42,
          51,
          55.5,
          40.5,
          null,
          51,
          30,
          null,
          null,
          44,
          26,
          17,
          1,
          45,
          null,
          28,
          61,
          4,
          21,
          56,
          18,
          null,
          50,
          30,
          36,
          null,
          null,
          9,
          null,
          40,
          36,
          19,
          null,
          42,
          24,
          28,
          null,
          34,
          45.5,
          2,
          32,
          24,
          22,
          30,
          null,
          42,
          30,
          27,
          51,
          null,
          22,
          20.5,
          18,
          null,
          29,
          59,
          24,
          null,
          44,
          19,
          33,
          null,
          29,
          22,
          30,
          44,
          25,
          54,
          null,
          29,
          62,
          30,
          41,
          null,
          52,
          40,
          null,
          36,
          16,
          null,
          37,
          45,
          null,
          7,
          65,
          28,
          16,
          null,
          33,
          22,
          36,
          24,
          24,
          null,
          23.5,
          2,
          19,
          null,
          30,
          26,
          28,
          43,
          54,
          22,
          27,
          null,
          61,
          45.5,
          38,
          16,
          null,
          29,
          45,
          28,
          25,
          36,
          42,
          23,
          null,
          15,
          25,
          null,
          28,
          38,
          40,
          29,
          45,
          35,
          null,
          30,
          18,
          19,
          22,
          3,
          27,
          20,
          19,
          32,
          null,
          18,
          1,
          null,
          28,
          22,
          31,
          46,
          23,
          26,
          21,
          28,
          20,
          34,
          51,
          21,
          null,
          null,
          null,
          null,
          null,
          30,
          10,
          null,
          21,
          29,
          28,
          18,
          null,
          null,
          17,
          50,
          21,
          64,
          31,
          20,
          25,
          36,
          null,
          30,
          null,
          65,
          null,
          34,
          47,
          48,
          null,
          38,
          null,
          56,
          null,
          null,
          38,
          22,
          null,
          34,
          29,
          22,
          9,
          null,
          50,
          null,
          58,
          30,
          null,
          21,
          55,
          71,
          21,
          null,
          null,
          25,
          24,
          17,
          21,
          null,
          37,
          18,
          28,
          null,
          24,
          47,
          null,
          32,
          22,
          null,
          null,
          40.5,
          null,
          39,
          23,
          null,
          17,
          30,
          45,
          null,
          9,
          11,
          50,
          64,
          33,
          27,
          null,
          62,
          null,
          null,
          40,
          28,
          null,
          null,
          24,
          19,
          29,
          null,
          16,
          19,
          null,
          54,
          36,
          null,
          47,
          22,
          null,
          35,
          47,
          null,
          37,
          36,
          49,
          null,
          null,
          null,
          44,
          36,
          30,
          39,
          null,
          null,
          35,
          34,
          26,
          26,
          27,
          21,
          21,
          61,
          57,
          26,
          null,
          51,
          null,
          9,
          32,
          31,
          41,
          null,
          20,
          2,
          19,
          null,
          null,
          21,
          18,
          24,
          null,
          32,
          23,
          58,
          40,
          47,
          36,
          32,
          25,
          null,
          43,
          31,
          70,
          null,
          18,
          24.5,
          43,
          null,
          20,
          14,
          60,
          25,
          14,
          19,
          18,
          25,
          60,
          52,
          44,
          49,
          42,
          18,
          25,
          26,
          39,
          null,
          29,
          52,
          19,
          null,
          33,
          17,
          34,
          50,
          20,
          25,
          25,
          11,
          null,
          23,
          23,
          28.5,
          48,
          null,
          null,
          36,
          24,
          70,
          16,
          19,
          31,
          33,
          23,
          28,
          18,
          34,
          null,
          41,
          16,
          null,
          30.5,
          null,
          32,
          24,
          48,
          57,
          null,
          18,
          null,
          null,
          29,
          null,
          25,
          25,
          8,
          46,
          null,
          16,
          null,
          null,
          25,
          39,
          30,
          30,
          34,
          31,
          39,
          18,
          39,
          26,
          39,
          35,
          6,
          30.5,
          null,
          23,
          31,
          43,
          10,
          38,
          2,
          null,
          null,
          null,
          23,
          18,
          21,
          null,
          20,
          16,
          34.5,
          17,
          42,
          null,
          35,
          28,
          4,
          74,
          9,
          44,
          null,
          41,
          21,
          null,
          24,
          31,
          null,
          26,
          33,
          47,
          20,
          19,
          null,
          33,
          22,
          28,
          25,
          39,
          27,
          null,
          32
         ],
         "xaxis": "x",
         "yaxis": "y"
        },
        {
         "alignmentgroup": "True",
         "bingroup": "x",
         "hovertemplate": "survived=1<br>age=%{x}<br>count=%{y}<extra></extra>",
         "legendgroup": "1",
         "marker": {
          "color": "#EF553B"
         },
         "name": "1",
         "nbinsx": 10,
         "offsetgroup": "1",
         "orientation": "v",
         "showlegend": true,
         "type": "histogram",
         "x": [
          38,
          26,
          35,
          27,
          14,
          4,
          58,
          55,
          null,
          null,
          34,
          15,
          28,
          38,
          null,
          null,
          null,
          null,
          14,
          3,
          19,
          null,
          49,
          29,
          null,
          21,
          5,
          38,
          null,
          29,
          17,
          32,
          0.83,
          30,
          29,
          null,
          17,
          33,
          23,
          23,
          34,
          21,
          null,
          null,
          32.5,
          12,
          24,
          null,
          29,
          19,
          22,
          24,
          27,
          22,
          16,
          40,
          9,
          null,
          1,
          1,
          4,
          null,
          45,
          32,
          19,
          3,
          44,
          58,
          null,
          18,
          26,
          16,
          40,
          35,
          31,
          27,
          32,
          16,
          38,
          19,
          35,
          5,
          8,
          null,
          24,
          37,
          29,
          null,
          30,
          35,
          50,
          3,
          25,
          58,
          35,
          25,
          41,
          null,
          63,
          35,
          19,
          30,
          42,
          22,
          26,
          19,
          null,
          50,
          null,
          null,
          null,
          0.92,
          null,
          17,
          30,
          24,
          18,
          26,
          24,
          31,
          40,
          30,
          22,
          36,
          36,
          31,
          16,
          null,
          null,
          41,
          45,
          2,
          24,
          24,
          40,
          null,
          3,
          22,
          null,
          null,
          60,
          null,
          null,
          24,
          25,
          null,
          22,
          42,
          1,
          35,
          36,
          17,
          36,
          21,
          23,
          24,
          28,
          39,
          3,
          33,
          44,
          34,
          18,
          28,
          19,
          32,
          28,
          null,
          42,
          14,
          24,
          45,
          28,
          null,
          4,
          13,
          34,
          5,
          52,
          49,
          29,
          null,
          50,
          48,
          0.75,
          33,
          23,
          2,
          63,
          25,
          35,
          9,
          54,
          16,
          33,
          null,
          26,
          29,
          36,
          54,
          34,
          36,
          30,
          44,
          50,
          2,
          null,
          7,
          30,
          22,
          36,
          32,
          19,
          null,
          8,
          17,
          22,
          22,
          48,
          39,
          36,
          32,
          62,
          53,
          36,
          null,
          34,
          39,
          32,
          25,
          39,
          18,
          60,
          52,
          null,
          49,
          24,
          35,
          27,
          22,
          40,
          null,
          24,
          4,
          42,
          20,
          21,
          80,
          32,
          28,
          24,
          null,
          0.75,
          48,
          56,
          23,
          18,
          null,
          50,
          20,
          null,
          40,
          31,
          18,
          36,
          27,
          15,
          31,
          4,
          null,
          null,
          18,
          35,
          45,
          42,
          22,
          null,
          24,
          48,
          38,
          27,
          6,
          27,
          30,
          null,
          29,
          35,
          null,
          21,
          31,
          30,
          4,
          6,
          48,
          0.67,
          33,
          20,
          36,
          51,
          54,
          5,
          43,
          13,
          17,
          18,
          1,
          49,
          31,
          31,
          11,
          0.42,
          27,
          33,
          52,
          27,
          27,
          1,
          null,
          62,
          15,
          0.83,
          39,
          32,
          null,
          30,
          null,
          16,
          18,
          45,
          51,
          24,
          48,
          42,
          27,
          4,
          47,
          28,
          15,
          56,
          25,
          19,
          26
         ],
         "xaxis": "x",
         "yaxis": "y"
        }
       ],
       "layout": {
        "barmode": "relative",
        "legend": {
         "title": {
          "text": "survived"
         },
         "tracegroupgap": 0
        },
        "margin": {
         "t": 60
        },
        "template": {
         "data": {
          "bar": [
           {
            "error_x": {
             "color": "#2a3f5f"
            },
            "error_y": {
             "color": "#2a3f5f"
            },
            "marker": {
             "line": {
              "color": "#E5ECF6",
              "width": 0.5
             }
            },
            "type": "bar"
           }
          ],
          "barpolar": [
           {
            "marker": {
             "line": {
              "color": "#E5ECF6",
              "width": 0.5
             }
            },
            "type": "barpolar"
           }
          ],
          "carpet": [
           {
            "aaxis": {
             "endlinecolor": "#2a3f5f",
             "gridcolor": "white",
             "linecolor": "white",
             "minorgridcolor": "white",
             "startlinecolor": "#2a3f5f"
            },
            "baxis": {
             "endlinecolor": "#2a3f5f",
             "gridcolor": "white",
             "linecolor": "white",
             "minorgridcolor": "white",
             "startlinecolor": "#2a3f5f"
            },
            "type": "carpet"
           }
          ],
          "choropleth": [
           {
            "colorbar": {
             "outlinewidth": 0,
             "ticks": ""
            },
            "type": "choropleth"
           }
          ],
          "contour": [
           {
            "colorbar": {
             "outlinewidth": 0,
             "ticks": ""
            },
            "colorscale": [
             [
              0,
              "#0d0887"
             ],
             [
              0.1111111111111111,
              "#46039f"
             ],
             [
              0.2222222222222222,
              "#7201a8"
             ],
             [
              0.3333333333333333,
              "#9c179e"
             ],
             [
              0.4444444444444444,
              "#bd3786"
             ],
             [
              0.5555555555555556,
              "#d8576b"
             ],
             [
              0.6666666666666666,
              "#ed7953"
             ],
             [
              0.7777777777777778,
              "#fb9f3a"
             ],
             [
              0.8888888888888888,
              "#fdca26"
             ],
             [
              1,
              "#f0f921"
             ]
            ],
            "type": "contour"
           }
          ],
          "contourcarpet": [
           {
            "colorbar": {
             "outlinewidth": 0,
             "ticks": ""
            },
            "type": "contourcarpet"
           }
          ],
          "heatmap": [
           {
            "colorbar": {
             "outlinewidth": 0,
             "ticks": ""
            },
            "colorscale": [
             [
              0,
              "#0d0887"
             ],
             [
              0.1111111111111111,
              "#46039f"
             ],
             [
              0.2222222222222222,
              "#7201a8"
             ],
             [
              0.3333333333333333,
              "#9c179e"
             ],
             [
              0.4444444444444444,
              "#bd3786"
             ],
             [
              0.5555555555555556,
              "#d8576b"
             ],
             [
              0.6666666666666666,
              "#ed7953"
             ],
             [
              0.7777777777777778,
              "#fb9f3a"
             ],
             [
              0.8888888888888888,
              "#fdca26"
             ],
             [
              1,
              "#f0f921"
             ]
            ],
            "type": "heatmap"
           }
          ],
          "heatmapgl": [
           {
            "colorbar": {
             "outlinewidth": 0,
             "ticks": ""
            },
            "colorscale": [
             [
              0,
              "#0d0887"
             ],
             [
              0.1111111111111111,
              "#46039f"
             ],
             [
              0.2222222222222222,
              "#7201a8"
             ],
             [
              0.3333333333333333,
              "#9c179e"
             ],
             [
              0.4444444444444444,
              "#bd3786"
             ],
             [
              0.5555555555555556,
              "#d8576b"
             ],
             [
              0.6666666666666666,
              "#ed7953"
             ],
             [
              0.7777777777777778,
              "#fb9f3a"
             ],
             [
              0.8888888888888888,
              "#fdca26"
             ],
             [
              1,
              "#f0f921"
             ]
            ],
            "type": "heatmapgl"
           }
          ],
          "histogram": [
           {
            "marker": {
             "colorbar": {
              "outlinewidth": 0,
              "ticks": ""
             }
            },
            "type": "histogram"
           }
          ],
          "histogram2d": [
           {
            "colorbar": {
             "outlinewidth": 0,
             "ticks": ""
            },
            "colorscale": [
             [
              0,
              "#0d0887"
             ],
             [
              0.1111111111111111,
              "#46039f"
             ],
             [
              0.2222222222222222,
              "#7201a8"
             ],
             [
              0.3333333333333333,
              "#9c179e"
             ],
             [
              0.4444444444444444,
              "#bd3786"
             ],
             [
              0.5555555555555556,
              "#d8576b"
             ],
             [
              0.6666666666666666,
              "#ed7953"
             ],
             [
              0.7777777777777778,
              "#fb9f3a"
             ],
             [
              0.8888888888888888,
              "#fdca26"
             ],
             [
              1,
              "#f0f921"
             ]
            ],
            "type": "histogram2d"
           }
          ],
          "histogram2dcontour": [
           {
            "colorbar": {
             "outlinewidth": 0,
             "ticks": ""
            },
            "colorscale": [
             [
              0,
              "#0d0887"
             ],
             [
              0.1111111111111111,
              "#46039f"
             ],
             [
              0.2222222222222222,
              "#7201a8"
             ],
             [
              0.3333333333333333,
              "#9c179e"
             ],
             [
              0.4444444444444444,
              "#bd3786"
             ],
             [
              0.5555555555555556,
              "#d8576b"
             ],
             [
              0.6666666666666666,
              "#ed7953"
             ],
             [
              0.7777777777777778,
              "#fb9f3a"
             ],
             [
              0.8888888888888888,
              "#fdca26"
             ],
             [
              1,
              "#f0f921"
             ]
            ],
            "type": "histogram2dcontour"
           }
          ],
          "mesh3d": [
           {
            "colorbar": {
             "outlinewidth": 0,
             "ticks": ""
            },
            "type": "mesh3d"
           }
          ],
          "parcoords": [
           {
            "line": {
             "colorbar": {
              "outlinewidth": 0,
              "ticks": ""
             }
            },
            "type": "parcoords"
           }
          ],
          "pie": [
           {
            "automargin": true,
            "type": "pie"
           }
          ],
          "scatter": [
           {
            "marker": {
             "colorbar": {
              "outlinewidth": 0,
              "ticks": ""
             }
            },
            "type": "scatter"
           }
          ],
          "scatter3d": [
           {
            "line": {
             "colorbar": {
              "outlinewidth": 0,
              "ticks": ""
             }
            },
            "marker": {
             "colorbar": {
              "outlinewidth": 0,
              "ticks": ""
             }
            },
            "type": "scatter3d"
           }
          ],
          "scattercarpet": [
           {
            "marker": {
             "colorbar": {
              "outlinewidth": 0,
              "ticks": ""
             }
            },
            "type": "scattercarpet"
           }
          ],
          "scattergeo": [
           {
            "marker": {
             "colorbar": {
              "outlinewidth": 0,
              "ticks": ""
             }
            },
            "type": "scattergeo"
           }
          ],
          "scattergl": [
           {
            "marker": {
             "colorbar": {
              "outlinewidth": 0,
              "ticks": ""
             }
            },
            "type": "scattergl"
           }
          ],
          "scattermapbox": [
           {
            "marker": {
             "colorbar": {
              "outlinewidth": 0,
              "ticks": ""
             }
            },
            "type": "scattermapbox"
           }
          ],
          "scatterpolar": [
           {
            "marker": {
             "colorbar": {
              "outlinewidth": 0,
              "ticks": ""
             }
            },
            "type": "scatterpolar"
           }
          ],
          "scatterpolargl": [
           {
            "marker": {
             "colorbar": {
              "outlinewidth": 0,
              "ticks": ""
             }
            },
            "type": "scatterpolargl"
           }
          ],
          "scatterternary": [
           {
            "marker": {
             "colorbar": {
              "outlinewidth": 0,
              "ticks": ""
             }
            },
            "type": "scatterternary"
           }
          ],
          "surface": [
           {
            "colorbar": {
             "outlinewidth": 0,
             "ticks": ""
            },
            "colorscale": [
             [
              0,
              "#0d0887"
             ],
             [
              0.1111111111111111,
              "#46039f"
             ],
             [
              0.2222222222222222,
              "#7201a8"
             ],
             [
              0.3333333333333333,
              "#9c179e"
             ],
             [
              0.4444444444444444,
              "#bd3786"
             ],
             [
              0.5555555555555556,
              "#d8576b"
             ],
             [
              0.6666666666666666,
              "#ed7953"
             ],
             [
              0.7777777777777778,
              "#fb9f3a"
             ],
             [
              0.8888888888888888,
              "#fdca26"
             ],
             [
              1,
              "#f0f921"
             ]
            ],
            "type": "surface"
           }
          ],
          "table": [
           {
            "cells": {
             "fill": {
              "color": "#EBF0F8"
             },
             "line": {
              "color": "white"
             }
            },
            "header": {
             "fill": {
              "color": "#C8D4E3"
             },
             "line": {
              "color": "white"
             }
            },
            "type": "table"
           }
          ]
         },
         "layout": {
          "annotationdefaults": {
           "arrowcolor": "#2a3f5f",
           "arrowhead": 0,
           "arrowwidth": 1
          },
          "coloraxis": {
           "colorbar": {
            "outlinewidth": 0,
            "ticks": ""
           }
          },
          "colorscale": {
           "diverging": [
            [
             0,
             "#8e0152"
            ],
            [
             0.1,
             "#c51b7d"
            ],
            [
             0.2,
             "#de77ae"
            ],
            [
             0.3,
             "#f1b6da"
            ],
            [
             0.4,
             "#fde0ef"
            ],
            [
             0.5,
             "#f7f7f7"
            ],
            [
             0.6,
             "#e6f5d0"
            ],
            [
             0.7,
             "#b8e186"
            ],
            [
             0.8,
             "#7fbc41"
            ],
            [
             0.9,
             "#4d9221"
            ],
            [
             1,
             "#276419"
            ]
           ],
           "sequential": [
            [
             0,
             "#0d0887"
            ],
            [
             0.1111111111111111,
             "#46039f"
            ],
            [
             0.2222222222222222,
             "#7201a8"
            ],
            [
             0.3333333333333333,
             "#9c179e"
            ],
            [
             0.4444444444444444,
             "#bd3786"
            ],
            [
             0.5555555555555556,
             "#d8576b"
            ],
            [
             0.6666666666666666,
             "#ed7953"
            ],
            [
             0.7777777777777778,
             "#fb9f3a"
            ],
            [
             0.8888888888888888,
             "#fdca26"
            ],
            [
             1,
             "#f0f921"
            ]
           ],
           "sequentialminus": [
            [
             0,
             "#0d0887"
            ],
            [
             0.1111111111111111,
             "#46039f"
            ],
            [
             0.2222222222222222,
             "#7201a8"
            ],
            [
             0.3333333333333333,
             "#9c179e"
            ],
            [
             0.4444444444444444,
             "#bd3786"
            ],
            [
             0.5555555555555556,
             "#d8576b"
            ],
            [
             0.6666666666666666,
             "#ed7953"
            ],
            [
             0.7777777777777778,
             "#fb9f3a"
            ],
            [
             0.8888888888888888,
             "#fdca26"
            ],
            [
             1,
             "#f0f921"
            ]
           ]
          },
          "colorway": [
           "#636efa",
           "#EF553B",
           "#00cc96",
           "#ab63fa",
           "#FFA15A",
           "#19d3f3",
           "#FF6692",
           "#B6E880",
           "#FF97FF",
           "#FECB52"
          ],
          "font": {
           "color": "#2a3f5f"
          },
          "geo": {
           "bgcolor": "white",
           "lakecolor": "white",
           "landcolor": "#E5ECF6",
           "showlakes": true,
           "showland": true,
           "subunitcolor": "white"
          },
          "hoverlabel": {
           "align": "left"
          },
          "hovermode": "closest",
          "mapbox": {
           "style": "light"
          },
          "paper_bgcolor": "white",
          "plot_bgcolor": "#E5ECF6",
          "polar": {
           "angularaxis": {
            "gridcolor": "white",
            "linecolor": "white",
            "ticks": ""
           },
           "bgcolor": "#E5ECF6",
           "radialaxis": {
            "gridcolor": "white",
            "linecolor": "white",
            "ticks": ""
           }
          },
          "scene": {
           "xaxis": {
            "backgroundcolor": "#E5ECF6",
            "gridcolor": "white",
            "gridwidth": 2,
            "linecolor": "white",
            "showbackground": true,
            "ticks": "",
            "zerolinecolor": "white"
           },
           "yaxis": {
            "backgroundcolor": "#E5ECF6",
            "gridcolor": "white",
            "gridwidth": 2,
            "linecolor": "white",
            "showbackground": true,
            "ticks": "",
            "zerolinecolor": "white"
           },
           "zaxis": {
            "backgroundcolor": "#E5ECF6",
            "gridcolor": "white",
            "gridwidth": 2,
            "linecolor": "white",
            "showbackground": true,
            "ticks": "",
            "zerolinecolor": "white"
           }
          },
          "shapedefaults": {
           "line": {
            "color": "#2a3f5f"
           }
          },
          "ternary": {
           "aaxis": {
            "gridcolor": "white",
            "linecolor": "white",
            "ticks": ""
           },
           "baxis": {
            "gridcolor": "white",
            "linecolor": "white",
            "ticks": ""
           },
           "bgcolor": "#E5ECF6",
           "caxis": {
            "gridcolor": "white",
            "linecolor": "white",
            "ticks": ""
           }
          },
          "title": {
           "x": 0.05
          },
          "xaxis": {
           "automargin": true,
           "gridcolor": "white",
           "linecolor": "white",
           "ticks": "",
           "title": {
            "standoff": 15
           },
           "zerolinecolor": "white",
           "zerolinewidth": 2
          },
          "yaxis": {
           "automargin": true,
           "gridcolor": "white",
           "linecolor": "white",
           "ticks": "",
           "title": {
            "standoff": 15
           },
           "zerolinecolor": "white",
           "zerolinewidth": 2
          }
         }
        },
        "xaxis": {
         "anchor": "y",
         "domain": [
          0,
          1
         ],
         "title": {
          "text": "age"
         }
        },
        "yaxis": {
         "anchor": "x",
         "domain": [
          0,
          1
         ],
         "title": {
          "text": "count"
         }
        }
       }
      },
      "text/html": [
       "<div>                            <div id=\"10259812-6be7-4b95-8aff-bcd9fd920d61\" class=\"plotly-graph-div\" style=\"height:525px; width:100%;\"></div>            <script type=\"text/javascript\">                require([\"plotly\"], function(Plotly) {                    window.PLOTLYENV=window.PLOTLYENV || {};                                    if (document.getElementById(\"10259812-6be7-4b95-8aff-bcd9fd920d61\")) {                    Plotly.newPlot(                        \"10259812-6be7-4b95-8aff-bcd9fd920d61\",                        [{\"alignmentgroup\": \"True\", \"bingroup\": \"x\", \"hovertemplate\": \"survived=0<br>age=%{x}<br>count=%{y}<extra></extra>\", \"legendgroup\": \"0\", \"marker\": {\"color\": \"#636efa\"}, \"name\": \"0\", \"nbinsx\": 10, \"offsetgroup\": \"0\", \"orientation\": \"v\", \"showlegend\": true, \"type\": \"histogram\", \"x\": [22.0, 35.0, null, 54.0, 2.0, 20.0, 39.0, 14.0, 2.0, 31.0, 35.0, 8.0, null, 19.0, null, 40.0, 66.0, 28.0, 42.0, 21.0, 18.0, 40.0, 27.0, null, null, null, null, 18.0, 7.0, 21.0, 65.0, 28.5, 11.0, 22.0, 45.0, 4.0, null, 19.0, 26.0, 32.0, 16.0, 21.0, 26.0, 25.0, null, null, 22.0, 28.0, 16.0, null, 24.0, 29.0, 20.0, 46.0, 26.0, 59.0, null, 71.0, 34.0, 28.0, null, 21.0, 33.0, 37.0, 28.0, 38.0, 47.0, 14.5, 22.0, 20.0, 17.0, 21.0, 70.5, 29.0, 24.0, 2.0, 21.0, null, 32.5, 54.0, null, 45.0, 33.0, 20.0, 47.0, 25.0, 23.0, 37.0, 16.0, 24.0, null, 19.0, 18.0, 19.0, 9.0, 36.5, 42.0, 51.0, 55.5, 40.5, null, 51.0, 30.0, null, null, 44.0, 26.0, 17.0, 1.0, 45.0, null, 28.0, 61.0, 4.0, 21.0, 56.0, 18.0, null, 50.0, 30.0, 36.0, null, null, 9.0, null, 40.0, 36.0, 19.0, null, 42.0, 24.0, 28.0, null, 34.0, 45.5, 2.0, 32.0, 24.0, 22.0, 30.0, null, 42.0, 30.0, 27.0, 51.0, null, 22.0, 20.5, 18.0, null, 29.0, 59.0, 24.0, null, 44.0, 19.0, 33.0, null, 29.0, 22.0, 30.0, 44.0, 25.0, 54.0, null, 29.0, 62.0, 30.0, 41.0, null, 52.0, 40.0, null, 36.0, 16.0, null, 37.0, 45.0, null, 7.0, 65.0, 28.0, 16.0, null, 33.0, 22.0, 36.0, 24.0, 24.0, null, 23.5, 2.0, 19.0, null, 30.0, 26.0, 28.0, 43.0, 54.0, 22.0, 27.0, null, 61.0, 45.5, 38.0, 16.0, null, 29.0, 45.0, 28.0, 25.0, 36.0, 42.0, 23.0, null, 15.0, 25.0, null, 28.0, 38.0, 40.0, 29.0, 45.0, 35.0, null, 30.0, 18.0, 19.0, 22.0, 3.0, 27.0, 20.0, 19.0, 32.0, null, 18.0, 1.0, null, 28.0, 22.0, 31.0, 46.0, 23.0, 26.0, 21.0, 28.0, 20.0, 34.0, 51.0, 21.0, null, null, null, null, null, 30.0, 10.0, null, 21.0, 29.0, 28.0, 18.0, null, null, 17.0, 50.0, 21.0, 64.0, 31.0, 20.0, 25.0, 36.0, null, 30.0, null, 65.0, null, 34.0, 47.0, 48.0, null, 38.0, null, 56.0, null, null, 38.0, 22.0, null, 34.0, 29.0, 22.0, 9.0, null, 50.0, null, 58.0, 30.0, null, 21.0, 55.0, 71.0, 21.0, null, null, 25.0, 24.0, 17.0, 21.0, null, 37.0, 18.0, 28.0, null, 24.0, 47.0, null, 32.0, 22.0, null, null, 40.5, null, 39.0, 23.0, null, 17.0, 30.0, 45.0, null, 9.0, 11.0, 50.0, 64.0, 33.0, 27.0, null, 62.0, null, null, 40.0, 28.0, null, null, 24.0, 19.0, 29.0, null, 16.0, 19.0, null, 54.0, 36.0, null, 47.0, 22.0, null, 35.0, 47.0, null, 37.0, 36.0, 49.0, null, null, null, 44.0, 36.0, 30.0, 39.0, null, null, 35.0, 34.0, 26.0, 26.0, 27.0, 21.0, 21.0, 61.0, 57.0, 26.0, null, 51.0, null, 9.0, 32.0, 31.0, 41.0, null, 20.0, 2.0, 19.0, null, null, 21.0, 18.0, 24.0, null, 32.0, 23.0, 58.0, 40.0, 47.0, 36.0, 32.0, 25.0, null, 43.0, 31.0, 70.0, null, 18.0, 24.5, 43.0, null, 20.0, 14.0, 60.0, 25.0, 14.0, 19.0, 18.0, 25.0, 60.0, 52.0, 44.0, 49.0, 42.0, 18.0, 25.0, 26.0, 39.0, null, 29.0, 52.0, 19.0, null, 33.0, 17.0, 34.0, 50.0, 20.0, 25.0, 25.0, 11.0, null, 23.0, 23.0, 28.5, 48.0, null, null, 36.0, 24.0, 70.0, 16.0, 19.0, 31.0, 33.0, 23.0, 28.0, 18.0, 34.0, null, 41.0, 16.0, null, 30.5, null, 32.0, 24.0, 48.0, 57.0, null, 18.0, null, null, 29.0, null, 25.0, 25.0, 8.0, 46.0, null, 16.0, null, null, 25.0, 39.0, 30.0, 30.0, 34.0, 31.0, 39.0, 18.0, 39.0, 26.0, 39.0, 35.0, 6.0, 30.5, null, 23.0, 31.0, 43.0, 10.0, 38.0, 2.0, null, null, null, 23.0, 18.0, 21.0, null, 20.0, 16.0, 34.5, 17.0, 42.0, null, 35.0, 28.0, 4.0, 74.0, 9.0, 44.0, null, 41.0, 21.0, null, 24.0, 31.0, null, 26.0, 33.0, 47.0, 20.0, 19.0, null, 33.0, 22.0, 28.0, 25.0, 39.0, 27.0, null, 32.0], \"xaxis\": \"x\", \"yaxis\": \"y\"}, {\"alignmentgroup\": \"True\", \"bingroup\": \"x\", \"hovertemplate\": \"survived=1<br>age=%{x}<br>count=%{y}<extra></extra>\", \"legendgroup\": \"1\", \"marker\": {\"color\": \"#EF553B\"}, \"name\": \"1\", \"nbinsx\": 10, \"offsetgroup\": \"1\", \"orientation\": \"v\", \"showlegend\": true, \"type\": \"histogram\", \"x\": [38.0, 26.0, 35.0, 27.0, 14.0, 4.0, 58.0, 55.0, null, null, 34.0, 15.0, 28.0, 38.0, null, null, null, null, 14.0, 3.0, 19.0, null, 49.0, 29.0, null, 21.0, 5.0, 38.0, null, 29.0, 17.0, 32.0, 0.83, 30.0, 29.0, null, 17.0, 33.0, 23.0, 23.0, 34.0, 21.0, null, null, 32.5, 12.0, 24.0, null, 29.0, 19.0, 22.0, 24.0, 27.0, 22.0, 16.0, 40.0, 9.0, null, 1.0, 1.0, 4.0, null, 45.0, 32.0, 19.0, 3.0, 44.0, 58.0, null, 18.0, 26.0, 16.0, 40.0, 35.0, 31.0, 27.0, 32.0, 16.0, 38.0, 19.0, 35.0, 5.0, 8.0, null, 24.0, 37.0, 29.0, null, 30.0, 35.0, 50.0, 3.0, 25.0, 58.0, 35.0, 25.0, 41.0, null, 63.0, 35.0, 19.0, 30.0, 42.0, 22.0, 26.0, 19.0, null, 50.0, null, null, null, 0.92, null, 17.0, 30.0, 24.0, 18.0, 26.0, 24.0, 31.0, 40.0, 30.0, 22.0, 36.0, 36.0, 31.0, 16.0, null, null, 41.0, 45.0, 2.0, 24.0, 24.0, 40.0, null, 3.0, 22.0, null, null, 60.0, null, null, 24.0, 25.0, null, 22.0, 42.0, 1.0, 35.0, 36.0, 17.0, 36.0, 21.0, 23.0, 24.0, 28.0, 39.0, 3.0, 33.0, 44.0, 34.0, 18.0, 28.0, 19.0, 32.0, 28.0, null, 42.0, 14.0, 24.0, 45.0, 28.0, null, 4.0, 13.0, 34.0, 5.0, 52.0, 49.0, 29.0, null, 50.0, 48.0, 0.75, 33.0, 23.0, 2.0, 63.0, 25.0, 35.0, 9.0, 54.0, 16.0, 33.0, null, 26.0, 29.0, 36.0, 54.0, 34.0, 36.0, 30.0, 44.0, 50.0, 2.0, null, 7.0, 30.0, 22.0, 36.0, 32.0, 19.0, null, 8.0, 17.0, 22.0, 22.0, 48.0, 39.0, 36.0, 32.0, 62.0, 53.0, 36.0, null, 34.0, 39.0, 32.0, 25.0, 39.0, 18.0, 60.0, 52.0, null, 49.0, 24.0, 35.0, 27.0, 22.0, 40.0, null, 24.0, 4.0, 42.0, 20.0, 21.0, 80.0, 32.0, 28.0, 24.0, null, 0.75, 48.0, 56.0, 23.0, 18.0, null, 50.0, 20.0, null, 40.0, 31.0, 18.0, 36.0, 27.0, 15.0, 31.0, 4.0, null, null, 18.0, 35.0, 45.0, 42.0, 22.0, null, 24.0, 48.0, 38.0, 27.0, 6.0, 27.0, 30.0, null, 29.0, 35.0, null, 21.0, 31.0, 30.0, 4.0, 6.0, 48.0, 0.67, 33.0, 20.0, 36.0, 51.0, 54.0, 5.0, 43.0, 13.0, 17.0, 18.0, 1.0, 49.0, 31.0, 31.0, 11.0, 0.42, 27.0, 33.0, 52.0, 27.0, 27.0, 1.0, null, 62.0, 15.0, 0.83, 39.0, 32.0, null, 30.0, null, 16.0, 18.0, 45.0, 51.0, 24.0, 48.0, 42.0, 27.0, 4.0, 47.0, 28.0, 15.0, 56.0, 25.0, 19.0, 26.0], \"xaxis\": \"x\", \"yaxis\": \"y\"}],                        {\"barmode\": \"relative\", \"legend\": {\"title\": {\"text\": \"survived\"}, \"tracegroupgap\": 0}, \"margin\": {\"t\": 60}, \"template\": {\"data\": {\"bar\": [{\"error_x\": {\"color\": \"#2a3f5f\"}, \"error_y\": {\"color\": \"#2a3f5f\"}, \"marker\": {\"line\": {\"color\": \"#E5ECF6\", \"width\": 0.5}}, \"type\": \"bar\"}], \"barpolar\": [{\"marker\": {\"line\": {\"color\": \"#E5ECF6\", \"width\": 0.5}}, \"type\": \"barpolar\"}], \"carpet\": [{\"aaxis\": {\"endlinecolor\": \"#2a3f5f\", \"gridcolor\": \"white\", \"linecolor\": \"white\", \"minorgridcolor\": \"white\", \"startlinecolor\": \"#2a3f5f\"}, \"baxis\": {\"endlinecolor\": \"#2a3f5f\", \"gridcolor\": \"white\", \"linecolor\": \"white\", \"minorgridcolor\": \"white\", \"startlinecolor\": \"#2a3f5f\"}, \"type\": \"carpet\"}], \"choropleth\": [{\"colorbar\": {\"outlinewidth\": 0, \"ticks\": \"\"}, \"type\": \"choropleth\"}], \"contour\": [{\"colorbar\": {\"outlinewidth\": 0, \"ticks\": \"\"}, \"colorscale\": [[0.0, \"#0d0887\"], [0.1111111111111111, \"#46039f\"], [0.2222222222222222, \"#7201a8\"], [0.3333333333333333, \"#9c179e\"], [0.4444444444444444, \"#bd3786\"], [0.5555555555555556, \"#d8576b\"], [0.6666666666666666, \"#ed7953\"], [0.7777777777777778, \"#fb9f3a\"], [0.8888888888888888, \"#fdca26\"], [1.0, \"#f0f921\"]], \"type\": \"contour\"}], \"contourcarpet\": [{\"colorbar\": {\"outlinewidth\": 0, \"ticks\": \"\"}, \"type\": \"contourcarpet\"}], \"heatmap\": [{\"colorbar\": {\"outlinewidth\": 0, \"ticks\": \"\"}, \"colorscale\": [[0.0, \"#0d0887\"], [0.1111111111111111, \"#46039f\"], [0.2222222222222222, \"#7201a8\"], [0.3333333333333333, \"#9c179e\"], [0.4444444444444444, \"#bd3786\"], [0.5555555555555556, \"#d8576b\"], [0.6666666666666666, \"#ed7953\"], [0.7777777777777778, \"#fb9f3a\"], [0.8888888888888888, \"#fdca26\"], [1.0, \"#f0f921\"]], \"type\": \"heatmap\"}], \"heatmapgl\": [{\"colorbar\": {\"outlinewidth\": 0, \"ticks\": \"\"}, \"colorscale\": [[0.0, \"#0d0887\"], [0.1111111111111111, \"#46039f\"], [0.2222222222222222, \"#7201a8\"], [0.3333333333333333, \"#9c179e\"], [0.4444444444444444, \"#bd3786\"], [0.5555555555555556, \"#d8576b\"], [0.6666666666666666, \"#ed7953\"], [0.7777777777777778, \"#fb9f3a\"], [0.8888888888888888, \"#fdca26\"], [1.0, \"#f0f921\"]], \"type\": \"heatmapgl\"}], \"histogram\": [{\"marker\": {\"colorbar\": {\"outlinewidth\": 0, \"ticks\": \"\"}}, \"type\": \"histogram\"}], \"histogram2d\": [{\"colorbar\": {\"outlinewidth\": 0, \"ticks\": \"\"}, \"colorscale\": [[0.0, \"#0d0887\"], [0.1111111111111111, \"#46039f\"], [0.2222222222222222, \"#7201a8\"], [0.3333333333333333, \"#9c179e\"], [0.4444444444444444, \"#bd3786\"], [0.5555555555555556, \"#d8576b\"], [0.6666666666666666, \"#ed7953\"], [0.7777777777777778, \"#fb9f3a\"], [0.8888888888888888, \"#fdca26\"], [1.0, \"#f0f921\"]], \"type\": \"histogram2d\"}], \"histogram2dcontour\": [{\"colorbar\": {\"outlinewidth\": 0, \"ticks\": \"\"}, \"colorscale\": [[0.0, \"#0d0887\"], [0.1111111111111111, \"#46039f\"], [0.2222222222222222, \"#7201a8\"], [0.3333333333333333, \"#9c179e\"], [0.4444444444444444, \"#bd3786\"], [0.5555555555555556, \"#d8576b\"], [0.6666666666666666, \"#ed7953\"], [0.7777777777777778, \"#fb9f3a\"], [0.8888888888888888, \"#fdca26\"], [1.0, \"#f0f921\"]], \"type\": \"histogram2dcontour\"}], \"mesh3d\": [{\"colorbar\": {\"outlinewidth\": 0, \"ticks\": \"\"}, \"type\": \"mesh3d\"}], \"parcoords\": [{\"line\": {\"colorbar\": {\"outlinewidth\": 0, \"ticks\": \"\"}}, \"type\": \"parcoords\"}], \"pie\": [{\"automargin\": true, \"type\": \"pie\"}], \"scatter\": [{\"marker\": {\"colorbar\": {\"outlinewidth\": 0, \"ticks\": \"\"}}, \"type\": \"scatter\"}], \"scatter3d\": [{\"line\": {\"colorbar\": {\"outlinewidth\": 0, \"ticks\": \"\"}}, \"marker\": {\"colorbar\": {\"outlinewidth\": 0, \"ticks\": \"\"}}, \"type\": \"scatter3d\"}], \"scattercarpet\": [{\"marker\": {\"colorbar\": {\"outlinewidth\": 0, \"ticks\": \"\"}}, \"type\": \"scattercarpet\"}], \"scattergeo\": [{\"marker\": {\"colorbar\": {\"outlinewidth\": 0, \"ticks\": \"\"}}, \"type\": \"scattergeo\"}], \"scattergl\": [{\"marker\": {\"colorbar\": {\"outlinewidth\": 0, \"ticks\": \"\"}}, \"type\": \"scattergl\"}], \"scattermapbox\": [{\"marker\": {\"colorbar\": {\"outlinewidth\": 0, \"ticks\": \"\"}}, \"type\": \"scattermapbox\"}], \"scatterpolar\": [{\"marker\": {\"colorbar\": {\"outlinewidth\": 0, \"ticks\": \"\"}}, \"type\": \"scatterpolar\"}], \"scatterpolargl\": [{\"marker\": {\"colorbar\": {\"outlinewidth\": 0, \"ticks\": \"\"}}, \"type\": \"scatterpolargl\"}], \"scatterternary\": [{\"marker\": {\"colorbar\": {\"outlinewidth\": 0, \"ticks\": \"\"}}, \"type\": \"scatterternary\"}], \"surface\": [{\"colorbar\": {\"outlinewidth\": 0, \"ticks\": \"\"}, \"colorscale\": [[0.0, \"#0d0887\"], [0.1111111111111111, \"#46039f\"], [0.2222222222222222, \"#7201a8\"], [0.3333333333333333, \"#9c179e\"], [0.4444444444444444, \"#bd3786\"], [0.5555555555555556, \"#d8576b\"], [0.6666666666666666, \"#ed7953\"], [0.7777777777777778, \"#fb9f3a\"], [0.8888888888888888, \"#fdca26\"], [1.0, \"#f0f921\"]], \"type\": \"surface\"}], \"table\": [{\"cells\": {\"fill\": {\"color\": \"#EBF0F8\"}, \"line\": {\"color\": \"white\"}}, \"header\": {\"fill\": {\"color\": \"#C8D4E3\"}, \"line\": {\"color\": \"white\"}}, \"type\": \"table\"}]}, \"layout\": {\"annotationdefaults\": {\"arrowcolor\": \"#2a3f5f\", \"arrowhead\": 0, \"arrowwidth\": 1}, \"coloraxis\": {\"colorbar\": {\"outlinewidth\": 0, \"ticks\": \"\"}}, \"colorscale\": {\"diverging\": [[0, \"#8e0152\"], [0.1, \"#c51b7d\"], [0.2, \"#de77ae\"], [0.3, \"#f1b6da\"], [0.4, \"#fde0ef\"], [0.5, \"#f7f7f7\"], [0.6, \"#e6f5d0\"], [0.7, \"#b8e186\"], [0.8, \"#7fbc41\"], [0.9, \"#4d9221\"], [1, \"#276419\"]], \"sequential\": [[0.0, \"#0d0887\"], [0.1111111111111111, \"#46039f\"], [0.2222222222222222, \"#7201a8\"], [0.3333333333333333, \"#9c179e\"], [0.4444444444444444, \"#bd3786\"], [0.5555555555555556, \"#d8576b\"], [0.6666666666666666, \"#ed7953\"], [0.7777777777777778, \"#fb9f3a\"], [0.8888888888888888, \"#fdca26\"], [1.0, \"#f0f921\"]], \"sequentialminus\": [[0.0, \"#0d0887\"], [0.1111111111111111, \"#46039f\"], [0.2222222222222222, \"#7201a8\"], [0.3333333333333333, \"#9c179e\"], [0.4444444444444444, \"#bd3786\"], [0.5555555555555556, \"#d8576b\"], [0.6666666666666666, \"#ed7953\"], [0.7777777777777778, \"#fb9f3a\"], [0.8888888888888888, \"#fdca26\"], [1.0, \"#f0f921\"]]}, \"colorway\": [\"#636efa\", \"#EF553B\", \"#00cc96\", \"#ab63fa\", \"#FFA15A\", \"#19d3f3\", \"#FF6692\", \"#B6E880\", \"#FF97FF\", \"#FECB52\"], \"font\": {\"color\": \"#2a3f5f\"}, \"geo\": {\"bgcolor\": \"white\", \"lakecolor\": \"white\", \"landcolor\": \"#E5ECF6\", \"showlakes\": true, \"showland\": true, \"subunitcolor\": \"white\"}, \"hoverlabel\": {\"align\": \"left\"}, \"hovermode\": \"closest\", \"mapbox\": {\"style\": \"light\"}, \"paper_bgcolor\": \"white\", \"plot_bgcolor\": \"#E5ECF6\", \"polar\": {\"angularaxis\": {\"gridcolor\": \"white\", \"linecolor\": \"white\", \"ticks\": \"\"}, \"bgcolor\": \"#E5ECF6\", \"radialaxis\": {\"gridcolor\": \"white\", \"linecolor\": \"white\", \"ticks\": \"\"}}, \"scene\": {\"xaxis\": {\"backgroundcolor\": \"#E5ECF6\", \"gridcolor\": \"white\", \"gridwidth\": 2, \"linecolor\": \"white\", \"showbackground\": true, \"ticks\": \"\", \"zerolinecolor\": \"white\"}, \"yaxis\": {\"backgroundcolor\": \"#E5ECF6\", \"gridcolor\": \"white\", \"gridwidth\": 2, \"linecolor\": \"white\", \"showbackground\": true, \"ticks\": \"\", \"zerolinecolor\": \"white\"}, \"zaxis\": {\"backgroundcolor\": \"#E5ECF6\", \"gridcolor\": \"white\", \"gridwidth\": 2, \"linecolor\": \"white\", \"showbackground\": true, \"ticks\": \"\", \"zerolinecolor\": \"white\"}}, \"shapedefaults\": {\"line\": {\"color\": \"#2a3f5f\"}}, \"ternary\": {\"aaxis\": {\"gridcolor\": \"white\", \"linecolor\": \"white\", \"ticks\": \"\"}, \"baxis\": {\"gridcolor\": \"white\", \"linecolor\": \"white\", \"ticks\": \"\"}, \"bgcolor\": \"#E5ECF6\", \"caxis\": {\"gridcolor\": \"white\", \"linecolor\": \"white\", \"ticks\": \"\"}}, \"title\": {\"x\": 0.05}, \"xaxis\": {\"automargin\": true, \"gridcolor\": \"white\", \"linecolor\": \"white\", \"ticks\": \"\", \"title\": {\"standoff\": 15}, \"zerolinecolor\": \"white\", \"zerolinewidth\": 2}, \"yaxis\": {\"automargin\": true, \"gridcolor\": \"white\", \"linecolor\": \"white\", \"ticks\": \"\", \"title\": {\"standoff\": 15}, \"zerolinecolor\": \"white\", \"zerolinewidth\": 2}}}, \"xaxis\": {\"anchor\": \"y\", \"domain\": [0.0, 1.0], \"title\": {\"text\": \"age\"}}, \"yaxis\": {\"anchor\": \"x\", \"domain\": [0.0, 1.0], \"title\": {\"text\": \"count\"}}},                        {\"responsive\": true}                    ).then(function(){\n",
       "                            \n",
       "var gd = document.getElementById('10259812-6be7-4b95-8aff-bcd9fd920d61');\n",
       "var x = new MutationObserver(function (mutations, observer) {{\n",
       "        var display = window.getComputedStyle(gd).display;\n",
       "        if (!display || display === 'none') {{\n",
       "            console.log([gd, 'removed!']);\n",
       "            Plotly.purge(gd);\n",
       "            observer.disconnect();\n",
       "        }}\n",
       "}});\n",
       "\n",
       "// Listen for the removal of the full notebook cells\n",
       "var notebookContainer = gd.closest('#notebook-container');\n",
       "if (notebookContainer) {{\n",
       "    x.observe(notebookContainer, {childList: true});\n",
       "}}\n",
       "\n",
       "// Listen for the clearing of the current output cell\n",
       "var outputEl = gd.closest('.output');\n",
       "if (outputEl) {{\n",
       "    x.observe(outputEl, {childList: true});\n",
       "}}\n",
       "\n",
       "                        })                };                });            </script>        </div>"
      ]
     },
     "metadata": {},
     "output_type": "display_data"
    }
   ],
   "source": [
    "px.histogram(df, x='age', color='survived', nbins=10)"
   ]
  },
  {
   "cell_type": "code",
   "execution_count": 99,
   "id": "hindu-medicaid",
   "metadata": {},
   "outputs": [
    {
     "data": {
      "text/plain": [
       "array(['(16.336, 32.252]', '(32.252, 48.168]', nan, '(48.168, 64.084]',\n",
       "       '(0.34, 16.336]', '(64.084, 80.0]'], dtype=object)"
      ]
     },
     "execution_count": 99,
     "metadata": {},
     "output_type": "execute_result"
    }
   ],
   "source": [
    "df['age_group'].unique()"
   ]
  },
  {
   "cell_type": "code",
   "execution_count": 101,
   "id": "interior-zimbabwe",
   "metadata": {},
   "outputs": [
    {
     "data": {
      "application/vnd.plotly.v1+json": {
       "config": {
        "plotlyServerURL": "https://plot.ly"
       },
       "data": [
        {
         "alignmentgroup": "True",
         "bingroup": "x",
         "hovertemplate": "survived=0<br>age_group=%{x}<br>count=%{y}<extra></extra>",
         "legendgroup": "0",
         "marker": {
          "color": "#636efa"
         },
         "name": "0",
         "offsetgroup": "0",
         "orientation": "v",
         "showlegend": true,
         "type": "histogram",
         "x": [
          "(16.336, 32.252]",
          "(32.252, 48.168]",
          null,
          "(48.168, 64.084]",
          "(0.34, 16.336]",
          "(16.336, 32.252]",
          "(32.252, 48.168]",
          "(0.34, 16.336]",
          "(0.34, 16.336]",
          "(16.336, 32.252]",
          "(32.252, 48.168]",
          "(0.34, 16.336]",
          null,
          "(16.336, 32.252]",
          null,
          "(32.252, 48.168]",
          "(64.084, 80.0]",
          "(16.336, 32.252]",
          "(32.252, 48.168]",
          "(16.336, 32.252]",
          "(16.336, 32.252]",
          "(32.252, 48.168]",
          "(16.336, 32.252]",
          null,
          null,
          null,
          null,
          "(16.336, 32.252]",
          "(0.34, 16.336]",
          "(16.336, 32.252]",
          "(64.084, 80.0]",
          "(16.336, 32.252]",
          "(0.34, 16.336]",
          "(16.336, 32.252]",
          "(32.252, 48.168]",
          "(0.34, 16.336]",
          null,
          "(16.336, 32.252]",
          "(16.336, 32.252]",
          "(16.336, 32.252]",
          "(0.34, 16.336]",
          "(16.336, 32.252]",
          "(16.336, 32.252]",
          "(16.336, 32.252]",
          null,
          null,
          "(16.336, 32.252]",
          "(16.336, 32.252]",
          "(0.34, 16.336]",
          null,
          "(16.336, 32.252]",
          "(16.336, 32.252]",
          "(16.336, 32.252]",
          "(32.252, 48.168]",
          "(16.336, 32.252]",
          "(48.168, 64.084]",
          null,
          "(64.084, 80.0]",
          "(32.252, 48.168]",
          "(16.336, 32.252]",
          null,
          "(16.336, 32.252]",
          "(32.252, 48.168]",
          "(32.252, 48.168]",
          "(16.336, 32.252]",
          "(32.252, 48.168]",
          "(32.252, 48.168]",
          "(0.34, 16.336]",
          "(16.336, 32.252]",
          "(16.336, 32.252]",
          "(16.336, 32.252]",
          "(16.336, 32.252]",
          "(64.084, 80.0]",
          "(16.336, 32.252]",
          "(16.336, 32.252]",
          "(0.34, 16.336]",
          "(16.336, 32.252]",
          null,
          "(32.252, 48.168]",
          "(48.168, 64.084]",
          null,
          "(32.252, 48.168]",
          "(32.252, 48.168]",
          "(16.336, 32.252]",
          "(32.252, 48.168]",
          "(16.336, 32.252]",
          "(16.336, 32.252]",
          "(32.252, 48.168]",
          "(0.34, 16.336]",
          "(16.336, 32.252]",
          null,
          "(16.336, 32.252]",
          "(16.336, 32.252]",
          "(16.336, 32.252]",
          "(0.34, 16.336]",
          "(32.252, 48.168]",
          "(32.252, 48.168]",
          "(48.168, 64.084]",
          "(48.168, 64.084]",
          "(32.252, 48.168]",
          null,
          "(48.168, 64.084]",
          "(16.336, 32.252]",
          null,
          null,
          "(32.252, 48.168]",
          "(16.336, 32.252]",
          "(16.336, 32.252]",
          "(0.34, 16.336]",
          "(32.252, 48.168]",
          null,
          "(16.336, 32.252]",
          "(48.168, 64.084]",
          "(0.34, 16.336]",
          "(16.336, 32.252]",
          "(48.168, 64.084]",
          "(16.336, 32.252]",
          null,
          "(48.168, 64.084]",
          "(16.336, 32.252]",
          "(32.252, 48.168]",
          null,
          null,
          "(0.34, 16.336]",
          null,
          "(32.252, 48.168]",
          "(32.252, 48.168]",
          "(16.336, 32.252]",
          null,
          "(32.252, 48.168]",
          "(16.336, 32.252]",
          "(16.336, 32.252]",
          null,
          "(32.252, 48.168]",
          "(32.252, 48.168]",
          "(0.34, 16.336]",
          "(16.336, 32.252]",
          "(16.336, 32.252]",
          "(16.336, 32.252]",
          "(16.336, 32.252]",
          null,
          "(32.252, 48.168]",
          "(16.336, 32.252]",
          "(16.336, 32.252]",
          "(48.168, 64.084]",
          null,
          "(16.336, 32.252]",
          "(16.336, 32.252]",
          "(16.336, 32.252]",
          null,
          "(16.336, 32.252]",
          "(48.168, 64.084]",
          "(16.336, 32.252]",
          null,
          "(32.252, 48.168]",
          "(16.336, 32.252]",
          "(32.252, 48.168]",
          null,
          "(16.336, 32.252]",
          "(16.336, 32.252]",
          "(16.336, 32.252]",
          "(32.252, 48.168]",
          "(16.336, 32.252]",
          "(48.168, 64.084]",
          null,
          "(16.336, 32.252]",
          "(48.168, 64.084]",
          "(16.336, 32.252]",
          "(32.252, 48.168]",
          null,
          "(48.168, 64.084]",
          "(32.252, 48.168]",
          null,
          "(32.252, 48.168]",
          "(0.34, 16.336]",
          null,
          "(32.252, 48.168]",
          "(32.252, 48.168]",
          null,
          "(0.34, 16.336]",
          "(64.084, 80.0]",
          "(16.336, 32.252]",
          "(0.34, 16.336]",
          null,
          "(32.252, 48.168]",
          "(16.336, 32.252]",
          "(32.252, 48.168]",
          "(16.336, 32.252]",
          "(16.336, 32.252]",
          null,
          "(16.336, 32.252]",
          "(0.34, 16.336]",
          "(16.336, 32.252]",
          null,
          "(16.336, 32.252]",
          "(16.336, 32.252]",
          "(16.336, 32.252]",
          "(32.252, 48.168]",
          "(48.168, 64.084]",
          "(16.336, 32.252]",
          "(16.336, 32.252]",
          null,
          "(48.168, 64.084]",
          "(32.252, 48.168]",
          "(32.252, 48.168]",
          "(0.34, 16.336]",
          null,
          "(16.336, 32.252]",
          "(32.252, 48.168]",
          "(16.336, 32.252]",
          "(16.336, 32.252]",
          "(32.252, 48.168]",
          "(32.252, 48.168]",
          "(16.336, 32.252]",
          null,
          "(0.34, 16.336]",
          "(16.336, 32.252]",
          null,
          "(16.336, 32.252]",
          "(32.252, 48.168]",
          "(32.252, 48.168]",
          "(16.336, 32.252]",
          "(32.252, 48.168]",
          "(32.252, 48.168]",
          null,
          "(16.336, 32.252]",
          "(16.336, 32.252]",
          "(16.336, 32.252]",
          "(16.336, 32.252]",
          "(0.34, 16.336]",
          "(16.336, 32.252]",
          "(16.336, 32.252]",
          "(16.336, 32.252]",
          "(16.336, 32.252]",
          null,
          "(16.336, 32.252]",
          "(0.34, 16.336]",
          null,
          "(16.336, 32.252]",
          "(16.336, 32.252]",
          "(16.336, 32.252]",
          "(32.252, 48.168]",
          "(16.336, 32.252]",
          "(16.336, 32.252]",
          "(16.336, 32.252]",
          "(16.336, 32.252]",
          "(16.336, 32.252]",
          "(32.252, 48.168]",
          "(48.168, 64.084]",
          "(16.336, 32.252]",
          null,
          null,
          null,
          null,
          null,
          "(16.336, 32.252]",
          "(0.34, 16.336]",
          null,
          "(16.336, 32.252]",
          "(16.336, 32.252]",
          "(16.336, 32.252]",
          "(16.336, 32.252]",
          null,
          null,
          "(16.336, 32.252]",
          "(48.168, 64.084]",
          "(16.336, 32.252]",
          "(48.168, 64.084]",
          "(16.336, 32.252]",
          "(16.336, 32.252]",
          "(16.336, 32.252]",
          "(32.252, 48.168]",
          null,
          "(16.336, 32.252]",
          null,
          "(64.084, 80.0]",
          null,
          "(32.252, 48.168]",
          "(32.252, 48.168]",
          "(32.252, 48.168]",
          null,
          "(32.252, 48.168]",
          null,
          "(48.168, 64.084]",
          null,
          null,
          "(32.252, 48.168]",
          "(16.336, 32.252]",
          null,
          "(32.252, 48.168]",
          "(16.336, 32.252]",
          "(16.336, 32.252]",
          "(0.34, 16.336]",
          null,
          "(48.168, 64.084]",
          null,
          "(48.168, 64.084]",
          "(16.336, 32.252]",
          null,
          "(16.336, 32.252]",
          "(48.168, 64.084]",
          "(64.084, 80.0]",
          "(16.336, 32.252]",
          null,
          null,
          "(16.336, 32.252]",
          "(16.336, 32.252]",
          "(16.336, 32.252]",
          "(16.336, 32.252]",
          null,
          "(32.252, 48.168]",
          "(16.336, 32.252]",
          "(16.336, 32.252]",
          null,
          "(16.336, 32.252]",
          "(32.252, 48.168]",
          null,
          "(16.336, 32.252]",
          "(16.336, 32.252]",
          null,
          null,
          "(32.252, 48.168]",
          null,
          "(32.252, 48.168]",
          "(16.336, 32.252]",
          null,
          "(16.336, 32.252]",
          "(16.336, 32.252]",
          "(32.252, 48.168]",
          null,
          "(0.34, 16.336]",
          "(0.34, 16.336]",
          "(48.168, 64.084]",
          "(48.168, 64.084]",
          "(32.252, 48.168]",
          "(16.336, 32.252]",
          null,
          "(48.168, 64.084]",
          null,
          null,
          "(32.252, 48.168]",
          "(16.336, 32.252]",
          null,
          null,
          "(16.336, 32.252]",
          "(16.336, 32.252]",
          "(16.336, 32.252]",
          null,
          "(0.34, 16.336]",
          "(16.336, 32.252]",
          null,
          "(48.168, 64.084]",
          "(32.252, 48.168]",
          null,
          "(32.252, 48.168]",
          "(16.336, 32.252]",
          null,
          "(32.252, 48.168]",
          "(32.252, 48.168]",
          null,
          "(32.252, 48.168]",
          "(32.252, 48.168]",
          "(48.168, 64.084]",
          null,
          null,
          null,
          "(32.252, 48.168]",
          "(32.252, 48.168]",
          "(16.336, 32.252]",
          "(32.252, 48.168]",
          null,
          null,
          "(32.252, 48.168]",
          "(32.252, 48.168]",
          "(16.336, 32.252]",
          "(16.336, 32.252]",
          "(16.336, 32.252]",
          "(16.336, 32.252]",
          "(16.336, 32.252]",
          "(48.168, 64.084]",
          "(48.168, 64.084]",
          "(16.336, 32.252]",
          null,
          "(48.168, 64.084]",
          null,
          "(0.34, 16.336]",
          "(16.336, 32.252]",
          "(16.336, 32.252]",
          "(32.252, 48.168]",
          null,
          "(16.336, 32.252]",
          "(0.34, 16.336]",
          "(16.336, 32.252]",
          null,
          null,
          "(16.336, 32.252]",
          "(16.336, 32.252]",
          "(16.336, 32.252]",
          null,
          "(16.336, 32.252]",
          "(16.336, 32.252]",
          "(48.168, 64.084]",
          "(32.252, 48.168]",
          "(32.252, 48.168]",
          "(32.252, 48.168]",
          "(16.336, 32.252]",
          "(16.336, 32.252]",
          null,
          "(32.252, 48.168]",
          "(16.336, 32.252]",
          "(64.084, 80.0]",
          null,
          "(16.336, 32.252]",
          "(16.336, 32.252]",
          "(32.252, 48.168]",
          null,
          "(16.336, 32.252]",
          "(0.34, 16.336]",
          "(48.168, 64.084]",
          "(16.336, 32.252]",
          "(0.34, 16.336]",
          "(16.336, 32.252]",
          "(16.336, 32.252]",
          "(16.336, 32.252]",
          "(48.168, 64.084]",
          "(48.168, 64.084]",
          "(32.252, 48.168]",
          "(48.168, 64.084]",
          "(32.252, 48.168]",
          "(16.336, 32.252]",
          "(16.336, 32.252]",
          "(16.336, 32.252]",
          "(32.252, 48.168]",
          null,
          "(16.336, 32.252]",
          "(48.168, 64.084]",
          "(16.336, 32.252]",
          null,
          "(32.252, 48.168]",
          "(16.336, 32.252]",
          "(32.252, 48.168]",
          "(48.168, 64.084]",
          "(16.336, 32.252]",
          "(16.336, 32.252]",
          "(16.336, 32.252]",
          "(0.34, 16.336]",
          null,
          "(16.336, 32.252]",
          "(16.336, 32.252]",
          "(16.336, 32.252]",
          "(32.252, 48.168]",
          null,
          null,
          "(32.252, 48.168]",
          "(16.336, 32.252]",
          "(64.084, 80.0]",
          "(0.34, 16.336]",
          "(16.336, 32.252]",
          "(16.336, 32.252]",
          "(32.252, 48.168]",
          "(16.336, 32.252]",
          "(16.336, 32.252]",
          "(16.336, 32.252]",
          "(32.252, 48.168]",
          null,
          "(32.252, 48.168]",
          "(0.34, 16.336]",
          null,
          "(16.336, 32.252]",
          null,
          "(16.336, 32.252]",
          "(16.336, 32.252]",
          "(32.252, 48.168]",
          "(48.168, 64.084]",
          null,
          "(16.336, 32.252]",
          null,
          null,
          "(16.336, 32.252]",
          null,
          "(16.336, 32.252]",
          "(16.336, 32.252]",
          "(0.34, 16.336]",
          "(32.252, 48.168]",
          null,
          "(0.34, 16.336]",
          null,
          null,
          "(16.336, 32.252]",
          "(32.252, 48.168]",
          "(16.336, 32.252]",
          "(16.336, 32.252]",
          "(32.252, 48.168]",
          "(16.336, 32.252]",
          "(32.252, 48.168]",
          "(16.336, 32.252]",
          "(32.252, 48.168]",
          "(16.336, 32.252]",
          "(32.252, 48.168]",
          "(32.252, 48.168]",
          "(0.34, 16.336]",
          "(16.336, 32.252]",
          null,
          "(16.336, 32.252]",
          "(16.336, 32.252]",
          "(32.252, 48.168]",
          "(0.34, 16.336]",
          "(32.252, 48.168]",
          "(0.34, 16.336]",
          null,
          null,
          null,
          "(16.336, 32.252]",
          "(16.336, 32.252]",
          "(16.336, 32.252]",
          null,
          "(16.336, 32.252]",
          "(0.34, 16.336]",
          "(32.252, 48.168]",
          "(16.336, 32.252]",
          "(32.252, 48.168]",
          null,
          "(32.252, 48.168]",
          "(16.336, 32.252]",
          "(0.34, 16.336]",
          "(64.084, 80.0]",
          "(0.34, 16.336]",
          "(32.252, 48.168]",
          null,
          "(32.252, 48.168]",
          "(16.336, 32.252]",
          null,
          "(16.336, 32.252]",
          "(16.336, 32.252]",
          null,
          "(16.336, 32.252]",
          "(32.252, 48.168]",
          "(32.252, 48.168]",
          "(16.336, 32.252]",
          "(16.336, 32.252]",
          null,
          "(32.252, 48.168]",
          "(16.336, 32.252]",
          "(16.336, 32.252]",
          "(16.336, 32.252]",
          "(32.252, 48.168]",
          "(16.336, 32.252]",
          null,
          "(16.336, 32.252]"
         ],
         "xaxis": "x",
         "yaxis": "y"
        },
        {
         "alignmentgroup": "True",
         "bingroup": "x",
         "hovertemplate": "survived=1<br>age_group=%{x}<br>count=%{y}<extra></extra>",
         "legendgroup": "1",
         "marker": {
          "color": "#EF553B"
         },
         "name": "1",
         "offsetgroup": "1",
         "orientation": "v",
         "showlegend": true,
         "type": "histogram",
         "x": [
          "(32.252, 48.168]",
          "(16.336, 32.252]",
          "(32.252, 48.168]",
          "(16.336, 32.252]",
          "(0.34, 16.336]",
          "(0.34, 16.336]",
          "(48.168, 64.084]",
          "(48.168, 64.084]",
          null,
          null,
          "(32.252, 48.168]",
          "(0.34, 16.336]",
          "(16.336, 32.252]",
          "(32.252, 48.168]",
          null,
          null,
          null,
          null,
          "(0.34, 16.336]",
          "(0.34, 16.336]",
          "(16.336, 32.252]",
          null,
          "(48.168, 64.084]",
          "(16.336, 32.252]",
          null,
          "(16.336, 32.252]",
          "(0.34, 16.336]",
          "(32.252, 48.168]",
          null,
          "(16.336, 32.252]",
          "(16.336, 32.252]",
          "(16.336, 32.252]",
          "(0.34, 16.336]",
          "(16.336, 32.252]",
          "(16.336, 32.252]",
          null,
          "(16.336, 32.252]",
          "(32.252, 48.168]",
          "(16.336, 32.252]",
          "(16.336, 32.252]",
          "(32.252, 48.168]",
          "(16.336, 32.252]",
          null,
          null,
          "(32.252, 48.168]",
          "(0.34, 16.336]",
          "(16.336, 32.252]",
          null,
          "(16.336, 32.252]",
          "(16.336, 32.252]",
          "(16.336, 32.252]",
          "(16.336, 32.252]",
          "(16.336, 32.252]",
          "(16.336, 32.252]",
          "(0.34, 16.336]",
          "(32.252, 48.168]",
          "(0.34, 16.336]",
          null,
          "(0.34, 16.336]",
          "(0.34, 16.336]",
          "(0.34, 16.336]",
          null,
          "(32.252, 48.168]",
          "(16.336, 32.252]",
          "(16.336, 32.252]",
          "(0.34, 16.336]",
          "(32.252, 48.168]",
          "(48.168, 64.084]",
          null,
          "(16.336, 32.252]",
          "(16.336, 32.252]",
          "(0.34, 16.336]",
          "(32.252, 48.168]",
          "(32.252, 48.168]",
          "(16.336, 32.252]",
          "(16.336, 32.252]",
          "(16.336, 32.252]",
          "(0.34, 16.336]",
          "(32.252, 48.168]",
          "(16.336, 32.252]",
          "(32.252, 48.168]",
          "(0.34, 16.336]",
          "(0.34, 16.336]",
          null,
          "(16.336, 32.252]",
          "(32.252, 48.168]",
          "(16.336, 32.252]",
          null,
          "(16.336, 32.252]",
          "(32.252, 48.168]",
          "(48.168, 64.084]",
          "(0.34, 16.336]",
          "(16.336, 32.252]",
          "(48.168, 64.084]",
          "(32.252, 48.168]",
          "(16.336, 32.252]",
          "(32.252, 48.168]",
          null,
          "(48.168, 64.084]",
          "(32.252, 48.168]",
          "(16.336, 32.252]",
          "(16.336, 32.252]",
          "(32.252, 48.168]",
          "(16.336, 32.252]",
          "(16.336, 32.252]",
          "(16.336, 32.252]",
          null,
          "(48.168, 64.084]",
          null,
          null,
          null,
          "(0.34, 16.336]",
          null,
          "(16.336, 32.252]",
          "(16.336, 32.252]",
          "(16.336, 32.252]",
          "(16.336, 32.252]",
          "(16.336, 32.252]",
          "(16.336, 32.252]",
          "(16.336, 32.252]",
          "(32.252, 48.168]",
          "(16.336, 32.252]",
          "(16.336, 32.252]",
          "(32.252, 48.168]",
          "(32.252, 48.168]",
          "(16.336, 32.252]",
          "(0.34, 16.336]",
          null,
          null,
          "(32.252, 48.168]",
          "(32.252, 48.168]",
          "(0.34, 16.336]",
          "(16.336, 32.252]",
          "(16.336, 32.252]",
          "(32.252, 48.168]",
          null,
          "(0.34, 16.336]",
          "(16.336, 32.252]",
          null,
          null,
          "(48.168, 64.084]",
          null,
          null,
          "(16.336, 32.252]",
          "(16.336, 32.252]",
          null,
          "(16.336, 32.252]",
          "(32.252, 48.168]",
          "(0.34, 16.336]",
          "(32.252, 48.168]",
          "(32.252, 48.168]",
          "(16.336, 32.252]",
          "(32.252, 48.168]",
          "(16.336, 32.252]",
          "(16.336, 32.252]",
          "(16.336, 32.252]",
          "(16.336, 32.252]",
          "(32.252, 48.168]",
          "(0.34, 16.336]",
          "(32.252, 48.168]",
          "(32.252, 48.168]",
          "(32.252, 48.168]",
          "(16.336, 32.252]",
          "(16.336, 32.252]",
          "(16.336, 32.252]",
          "(16.336, 32.252]",
          "(16.336, 32.252]",
          null,
          "(32.252, 48.168]",
          "(0.34, 16.336]",
          "(16.336, 32.252]",
          "(32.252, 48.168]",
          "(16.336, 32.252]",
          null,
          "(0.34, 16.336]",
          "(0.34, 16.336]",
          "(32.252, 48.168]",
          "(0.34, 16.336]",
          "(48.168, 64.084]",
          "(48.168, 64.084]",
          "(16.336, 32.252]",
          null,
          "(48.168, 64.084]",
          "(32.252, 48.168]",
          "(0.34, 16.336]",
          "(32.252, 48.168]",
          "(16.336, 32.252]",
          "(0.34, 16.336]",
          "(48.168, 64.084]",
          "(16.336, 32.252]",
          "(32.252, 48.168]",
          "(0.34, 16.336]",
          "(48.168, 64.084]",
          "(0.34, 16.336]",
          "(32.252, 48.168]",
          null,
          "(16.336, 32.252]",
          "(16.336, 32.252]",
          "(32.252, 48.168]",
          "(48.168, 64.084]",
          "(32.252, 48.168]",
          "(32.252, 48.168]",
          "(16.336, 32.252]",
          "(32.252, 48.168]",
          "(48.168, 64.084]",
          "(0.34, 16.336]",
          null,
          "(0.34, 16.336]",
          "(16.336, 32.252]",
          "(16.336, 32.252]",
          "(32.252, 48.168]",
          "(16.336, 32.252]",
          "(16.336, 32.252]",
          null,
          "(0.34, 16.336]",
          "(16.336, 32.252]",
          "(16.336, 32.252]",
          "(16.336, 32.252]",
          "(32.252, 48.168]",
          "(32.252, 48.168]",
          "(32.252, 48.168]",
          "(16.336, 32.252]",
          "(48.168, 64.084]",
          "(48.168, 64.084]",
          "(32.252, 48.168]",
          null,
          "(32.252, 48.168]",
          "(32.252, 48.168]",
          "(16.336, 32.252]",
          "(16.336, 32.252]",
          "(32.252, 48.168]",
          "(16.336, 32.252]",
          "(48.168, 64.084]",
          "(48.168, 64.084]",
          null,
          "(48.168, 64.084]",
          "(16.336, 32.252]",
          "(32.252, 48.168]",
          "(16.336, 32.252]",
          "(16.336, 32.252]",
          "(32.252, 48.168]",
          null,
          "(16.336, 32.252]",
          "(0.34, 16.336]",
          "(32.252, 48.168]",
          "(16.336, 32.252]",
          "(16.336, 32.252]",
          "(64.084, 80.0]",
          "(16.336, 32.252]",
          "(16.336, 32.252]",
          "(16.336, 32.252]",
          null,
          "(0.34, 16.336]",
          "(32.252, 48.168]",
          "(48.168, 64.084]",
          "(16.336, 32.252]",
          "(16.336, 32.252]",
          null,
          "(48.168, 64.084]",
          "(16.336, 32.252]",
          null,
          "(32.252, 48.168]",
          "(16.336, 32.252]",
          "(16.336, 32.252]",
          "(32.252, 48.168]",
          "(16.336, 32.252]",
          "(0.34, 16.336]",
          "(16.336, 32.252]",
          "(0.34, 16.336]",
          null,
          null,
          "(16.336, 32.252]",
          "(32.252, 48.168]",
          "(32.252, 48.168]",
          "(32.252, 48.168]",
          "(16.336, 32.252]",
          null,
          "(16.336, 32.252]",
          "(32.252, 48.168]",
          "(32.252, 48.168]",
          "(16.336, 32.252]",
          "(0.34, 16.336]",
          "(16.336, 32.252]",
          "(16.336, 32.252]",
          null,
          "(16.336, 32.252]",
          "(32.252, 48.168]",
          null,
          "(16.336, 32.252]",
          "(16.336, 32.252]",
          "(16.336, 32.252]",
          "(0.34, 16.336]",
          "(0.34, 16.336]",
          "(32.252, 48.168]",
          "(0.34, 16.336]",
          "(32.252, 48.168]",
          "(16.336, 32.252]",
          "(32.252, 48.168]",
          "(48.168, 64.084]",
          "(48.168, 64.084]",
          "(0.34, 16.336]",
          "(32.252, 48.168]",
          "(0.34, 16.336]",
          "(16.336, 32.252]",
          "(16.336, 32.252]",
          "(0.34, 16.336]",
          "(48.168, 64.084]",
          "(16.336, 32.252]",
          "(16.336, 32.252]",
          "(0.34, 16.336]",
          "(0.34, 16.336]",
          "(16.336, 32.252]",
          "(32.252, 48.168]",
          "(48.168, 64.084]",
          "(16.336, 32.252]",
          "(16.336, 32.252]",
          "(0.34, 16.336]",
          null,
          "(48.168, 64.084]",
          "(0.34, 16.336]",
          "(0.34, 16.336]",
          "(32.252, 48.168]",
          "(16.336, 32.252]",
          null,
          "(16.336, 32.252]",
          null,
          "(0.34, 16.336]",
          "(16.336, 32.252]",
          "(32.252, 48.168]",
          "(48.168, 64.084]",
          "(16.336, 32.252]",
          "(32.252, 48.168]",
          "(32.252, 48.168]",
          "(16.336, 32.252]",
          "(0.34, 16.336]",
          "(32.252, 48.168]",
          "(16.336, 32.252]",
          "(0.34, 16.336]",
          "(48.168, 64.084]",
          "(16.336, 32.252]",
          "(16.336, 32.252]",
          "(16.336, 32.252]"
         ],
         "xaxis": "x",
         "yaxis": "y"
        }
       ],
       "layout": {
        "barmode": "relative",
        "barnorm": "fraction",
        "legend": {
         "title": {
          "text": "survived"
         },
         "tracegroupgap": 0
        },
        "margin": {
         "t": 60
        },
        "template": {
         "data": {
          "bar": [
           {
            "error_x": {
             "color": "#2a3f5f"
            },
            "error_y": {
             "color": "#2a3f5f"
            },
            "marker": {
             "line": {
              "color": "#E5ECF6",
              "width": 0.5
             }
            },
            "type": "bar"
           }
          ],
          "barpolar": [
           {
            "marker": {
             "line": {
              "color": "#E5ECF6",
              "width": 0.5
             }
            },
            "type": "barpolar"
           }
          ],
          "carpet": [
           {
            "aaxis": {
             "endlinecolor": "#2a3f5f",
             "gridcolor": "white",
             "linecolor": "white",
             "minorgridcolor": "white",
             "startlinecolor": "#2a3f5f"
            },
            "baxis": {
             "endlinecolor": "#2a3f5f",
             "gridcolor": "white",
             "linecolor": "white",
             "minorgridcolor": "white",
             "startlinecolor": "#2a3f5f"
            },
            "type": "carpet"
           }
          ],
          "choropleth": [
           {
            "colorbar": {
             "outlinewidth": 0,
             "ticks": ""
            },
            "type": "choropleth"
           }
          ],
          "contour": [
           {
            "colorbar": {
             "outlinewidth": 0,
             "ticks": ""
            },
            "colorscale": [
             [
              0,
              "#0d0887"
             ],
             [
              0.1111111111111111,
              "#46039f"
             ],
             [
              0.2222222222222222,
              "#7201a8"
             ],
             [
              0.3333333333333333,
              "#9c179e"
             ],
             [
              0.4444444444444444,
              "#bd3786"
             ],
             [
              0.5555555555555556,
              "#d8576b"
             ],
             [
              0.6666666666666666,
              "#ed7953"
             ],
             [
              0.7777777777777778,
              "#fb9f3a"
             ],
             [
              0.8888888888888888,
              "#fdca26"
             ],
             [
              1,
              "#f0f921"
             ]
            ],
            "type": "contour"
           }
          ],
          "contourcarpet": [
           {
            "colorbar": {
             "outlinewidth": 0,
             "ticks": ""
            },
            "type": "contourcarpet"
           }
          ],
          "heatmap": [
           {
            "colorbar": {
             "outlinewidth": 0,
             "ticks": ""
            },
            "colorscale": [
             [
              0,
              "#0d0887"
             ],
             [
              0.1111111111111111,
              "#46039f"
             ],
             [
              0.2222222222222222,
              "#7201a8"
             ],
             [
              0.3333333333333333,
              "#9c179e"
             ],
             [
              0.4444444444444444,
              "#bd3786"
             ],
             [
              0.5555555555555556,
              "#d8576b"
             ],
             [
              0.6666666666666666,
              "#ed7953"
             ],
             [
              0.7777777777777778,
              "#fb9f3a"
             ],
             [
              0.8888888888888888,
              "#fdca26"
             ],
             [
              1,
              "#f0f921"
             ]
            ],
            "type": "heatmap"
           }
          ],
          "heatmapgl": [
           {
            "colorbar": {
             "outlinewidth": 0,
             "ticks": ""
            },
            "colorscale": [
             [
              0,
              "#0d0887"
             ],
             [
              0.1111111111111111,
              "#46039f"
             ],
             [
              0.2222222222222222,
              "#7201a8"
             ],
             [
              0.3333333333333333,
              "#9c179e"
             ],
             [
              0.4444444444444444,
              "#bd3786"
             ],
             [
              0.5555555555555556,
              "#d8576b"
             ],
             [
              0.6666666666666666,
              "#ed7953"
             ],
             [
              0.7777777777777778,
              "#fb9f3a"
             ],
             [
              0.8888888888888888,
              "#fdca26"
             ],
             [
              1,
              "#f0f921"
             ]
            ],
            "type": "heatmapgl"
           }
          ],
          "histogram": [
           {
            "marker": {
             "colorbar": {
              "outlinewidth": 0,
              "ticks": ""
             }
            },
            "type": "histogram"
           }
          ],
          "histogram2d": [
           {
            "colorbar": {
             "outlinewidth": 0,
             "ticks": ""
            },
            "colorscale": [
             [
              0,
              "#0d0887"
             ],
             [
              0.1111111111111111,
              "#46039f"
             ],
             [
              0.2222222222222222,
              "#7201a8"
             ],
             [
              0.3333333333333333,
              "#9c179e"
             ],
             [
              0.4444444444444444,
              "#bd3786"
             ],
             [
              0.5555555555555556,
              "#d8576b"
             ],
             [
              0.6666666666666666,
              "#ed7953"
             ],
             [
              0.7777777777777778,
              "#fb9f3a"
             ],
             [
              0.8888888888888888,
              "#fdca26"
             ],
             [
              1,
              "#f0f921"
             ]
            ],
            "type": "histogram2d"
           }
          ],
          "histogram2dcontour": [
           {
            "colorbar": {
             "outlinewidth": 0,
             "ticks": ""
            },
            "colorscale": [
             [
              0,
              "#0d0887"
             ],
             [
              0.1111111111111111,
              "#46039f"
             ],
             [
              0.2222222222222222,
              "#7201a8"
             ],
             [
              0.3333333333333333,
              "#9c179e"
             ],
             [
              0.4444444444444444,
              "#bd3786"
             ],
             [
              0.5555555555555556,
              "#d8576b"
             ],
             [
              0.6666666666666666,
              "#ed7953"
             ],
             [
              0.7777777777777778,
              "#fb9f3a"
             ],
             [
              0.8888888888888888,
              "#fdca26"
             ],
             [
              1,
              "#f0f921"
             ]
            ],
            "type": "histogram2dcontour"
           }
          ],
          "mesh3d": [
           {
            "colorbar": {
             "outlinewidth": 0,
             "ticks": ""
            },
            "type": "mesh3d"
           }
          ],
          "parcoords": [
           {
            "line": {
             "colorbar": {
              "outlinewidth": 0,
              "ticks": ""
             }
            },
            "type": "parcoords"
           }
          ],
          "pie": [
           {
            "automargin": true,
            "type": "pie"
           }
          ],
          "scatter": [
           {
            "marker": {
             "colorbar": {
              "outlinewidth": 0,
              "ticks": ""
             }
            },
            "type": "scatter"
           }
          ],
          "scatter3d": [
           {
            "line": {
             "colorbar": {
              "outlinewidth": 0,
              "ticks": ""
             }
            },
            "marker": {
             "colorbar": {
              "outlinewidth": 0,
              "ticks": ""
             }
            },
            "type": "scatter3d"
           }
          ],
          "scattercarpet": [
           {
            "marker": {
             "colorbar": {
              "outlinewidth": 0,
              "ticks": ""
             }
            },
            "type": "scattercarpet"
           }
          ],
          "scattergeo": [
           {
            "marker": {
             "colorbar": {
              "outlinewidth": 0,
              "ticks": ""
             }
            },
            "type": "scattergeo"
           }
          ],
          "scattergl": [
           {
            "marker": {
             "colorbar": {
              "outlinewidth": 0,
              "ticks": ""
             }
            },
            "type": "scattergl"
           }
          ],
          "scattermapbox": [
           {
            "marker": {
             "colorbar": {
              "outlinewidth": 0,
              "ticks": ""
             }
            },
            "type": "scattermapbox"
           }
          ],
          "scatterpolar": [
           {
            "marker": {
             "colorbar": {
              "outlinewidth": 0,
              "ticks": ""
             }
            },
            "type": "scatterpolar"
           }
          ],
          "scatterpolargl": [
           {
            "marker": {
             "colorbar": {
              "outlinewidth": 0,
              "ticks": ""
             }
            },
            "type": "scatterpolargl"
           }
          ],
          "scatterternary": [
           {
            "marker": {
             "colorbar": {
              "outlinewidth": 0,
              "ticks": ""
             }
            },
            "type": "scatterternary"
           }
          ],
          "surface": [
           {
            "colorbar": {
             "outlinewidth": 0,
             "ticks": ""
            },
            "colorscale": [
             [
              0,
              "#0d0887"
             ],
             [
              0.1111111111111111,
              "#46039f"
             ],
             [
              0.2222222222222222,
              "#7201a8"
             ],
             [
              0.3333333333333333,
              "#9c179e"
             ],
             [
              0.4444444444444444,
              "#bd3786"
             ],
             [
              0.5555555555555556,
              "#d8576b"
             ],
             [
              0.6666666666666666,
              "#ed7953"
             ],
             [
              0.7777777777777778,
              "#fb9f3a"
             ],
             [
              0.8888888888888888,
              "#fdca26"
             ],
             [
              1,
              "#f0f921"
             ]
            ],
            "type": "surface"
           }
          ],
          "table": [
           {
            "cells": {
             "fill": {
              "color": "#EBF0F8"
             },
             "line": {
              "color": "white"
             }
            },
            "header": {
             "fill": {
              "color": "#C8D4E3"
             },
             "line": {
              "color": "white"
             }
            },
            "type": "table"
           }
          ]
         },
         "layout": {
          "annotationdefaults": {
           "arrowcolor": "#2a3f5f",
           "arrowhead": 0,
           "arrowwidth": 1
          },
          "coloraxis": {
           "colorbar": {
            "outlinewidth": 0,
            "ticks": ""
           }
          },
          "colorscale": {
           "diverging": [
            [
             0,
             "#8e0152"
            ],
            [
             0.1,
             "#c51b7d"
            ],
            [
             0.2,
             "#de77ae"
            ],
            [
             0.3,
             "#f1b6da"
            ],
            [
             0.4,
             "#fde0ef"
            ],
            [
             0.5,
             "#f7f7f7"
            ],
            [
             0.6,
             "#e6f5d0"
            ],
            [
             0.7,
             "#b8e186"
            ],
            [
             0.8,
             "#7fbc41"
            ],
            [
             0.9,
             "#4d9221"
            ],
            [
             1,
             "#276419"
            ]
           ],
           "sequential": [
            [
             0,
             "#0d0887"
            ],
            [
             0.1111111111111111,
             "#46039f"
            ],
            [
             0.2222222222222222,
             "#7201a8"
            ],
            [
             0.3333333333333333,
             "#9c179e"
            ],
            [
             0.4444444444444444,
             "#bd3786"
            ],
            [
             0.5555555555555556,
             "#d8576b"
            ],
            [
             0.6666666666666666,
             "#ed7953"
            ],
            [
             0.7777777777777778,
             "#fb9f3a"
            ],
            [
             0.8888888888888888,
             "#fdca26"
            ],
            [
             1,
             "#f0f921"
            ]
           ],
           "sequentialminus": [
            [
             0,
             "#0d0887"
            ],
            [
             0.1111111111111111,
             "#46039f"
            ],
            [
             0.2222222222222222,
             "#7201a8"
            ],
            [
             0.3333333333333333,
             "#9c179e"
            ],
            [
             0.4444444444444444,
             "#bd3786"
            ],
            [
             0.5555555555555556,
             "#d8576b"
            ],
            [
             0.6666666666666666,
             "#ed7953"
            ],
            [
             0.7777777777777778,
             "#fb9f3a"
            ],
            [
             0.8888888888888888,
             "#fdca26"
            ],
            [
             1,
             "#f0f921"
            ]
           ]
          },
          "colorway": [
           "#636efa",
           "#EF553B",
           "#00cc96",
           "#ab63fa",
           "#FFA15A",
           "#19d3f3",
           "#FF6692",
           "#B6E880",
           "#FF97FF",
           "#FECB52"
          ],
          "font": {
           "color": "#2a3f5f"
          },
          "geo": {
           "bgcolor": "white",
           "lakecolor": "white",
           "landcolor": "#E5ECF6",
           "showlakes": true,
           "showland": true,
           "subunitcolor": "white"
          },
          "hoverlabel": {
           "align": "left"
          },
          "hovermode": "closest",
          "mapbox": {
           "style": "light"
          },
          "paper_bgcolor": "white",
          "plot_bgcolor": "#E5ECF6",
          "polar": {
           "angularaxis": {
            "gridcolor": "white",
            "linecolor": "white",
            "ticks": ""
           },
           "bgcolor": "#E5ECF6",
           "radialaxis": {
            "gridcolor": "white",
            "linecolor": "white",
            "ticks": ""
           }
          },
          "scene": {
           "xaxis": {
            "backgroundcolor": "#E5ECF6",
            "gridcolor": "white",
            "gridwidth": 2,
            "linecolor": "white",
            "showbackground": true,
            "ticks": "",
            "zerolinecolor": "white"
           },
           "yaxis": {
            "backgroundcolor": "#E5ECF6",
            "gridcolor": "white",
            "gridwidth": 2,
            "linecolor": "white",
            "showbackground": true,
            "ticks": "",
            "zerolinecolor": "white"
           },
           "zaxis": {
            "backgroundcolor": "#E5ECF6",
            "gridcolor": "white",
            "gridwidth": 2,
            "linecolor": "white",
            "showbackground": true,
            "ticks": "",
            "zerolinecolor": "white"
           }
          },
          "shapedefaults": {
           "line": {
            "color": "#2a3f5f"
           }
          },
          "ternary": {
           "aaxis": {
            "gridcolor": "white",
            "linecolor": "white",
            "ticks": ""
           },
           "baxis": {
            "gridcolor": "white",
            "linecolor": "white",
            "ticks": ""
           },
           "bgcolor": "#E5ECF6",
           "caxis": {
            "gridcolor": "white",
            "linecolor": "white",
            "ticks": ""
           }
          },
          "title": {
           "x": 0.05
          },
          "xaxis": {
           "automargin": true,
           "gridcolor": "white",
           "linecolor": "white",
           "ticks": "",
           "title": {
            "standoff": 15
           },
           "zerolinecolor": "white",
           "zerolinewidth": 2
          },
          "yaxis": {
           "automargin": true,
           "gridcolor": "white",
           "linecolor": "white",
           "ticks": "",
           "title": {
            "standoff": 15
           },
           "zerolinecolor": "white",
           "zerolinewidth": 2
          }
         }
        },
        "xaxis": {
         "anchor": "y",
         "categoryarray": [
          "(0.34, 16.336]",
          "(16.336, 32.252]",
          "(32.252, 48.168]",
          "(48.168, 64.084]",
          "(64.084, 80.0]"
         ],
         "categoryorder": "array",
         "domain": [
          0,
          1
         ],
         "title": {
          "text": "age_group"
         }
        },
        "yaxis": {
         "anchor": "x",
         "domain": [
          0,
          1
         ],
         "title": {
          "text": "count"
         }
        }
       }
      },
      "text/html": [
       "<div>                            <div id=\"4ecfa5f3-e41d-422a-a292-ea28411cc407\" class=\"plotly-graph-div\" style=\"height:525px; width:100%;\"></div>            <script type=\"text/javascript\">                require([\"plotly\"], function(Plotly) {                    window.PLOTLYENV=window.PLOTLYENV || {};                                    if (document.getElementById(\"4ecfa5f3-e41d-422a-a292-ea28411cc407\")) {                    Plotly.newPlot(                        \"4ecfa5f3-e41d-422a-a292-ea28411cc407\",                        [{\"alignmentgroup\": \"True\", \"bingroup\": \"x\", \"hovertemplate\": \"survived=0<br>age_group=%{x}<br>count=%{y}<extra></extra>\", \"legendgroup\": \"0\", \"marker\": {\"color\": \"#636efa\"}, \"name\": \"0\", \"offsetgroup\": \"0\", \"orientation\": \"v\", \"showlegend\": true, \"type\": \"histogram\", \"x\": [\"(16.336, 32.252]\", \"(32.252, 48.168]\", null, \"(48.168, 64.084]\", \"(0.34, 16.336]\", \"(16.336, 32.252]\", \"(32.252, 48.168]\", \"(0.34, 16.336]\", \"(0.34, 16.336]\", \"(16.336, 32.252]\", \"(32.252, 48.168]\", \"(0.34, 16.336]\", null, \"(16.336, 32.252]\", null, \"(32.252, 48.168]\", \"(64.084, 80.0]\", \"(16.336, 32.252]\", \"(32.252, 48.168]\", \"(16.336, 32.252]\", \"(16.336, 32.252]\", \"(32.252, 48.168]\", \"(16.336, 32.252]\", null, null, null, null, \"(16.336, 32.252]\", \"(0.34, 16.336]\", \"(16.336, 32.252]\", \"(64.084, 80.0]\", \"(16.336, 32.252]\", \"(0.34, 16.336]\", \"(16.336, 32.252]\", \"(32.252, 48.168]\", \"(0.34, 16.336]\", null, \"(16.336, 32.252]\", \"(16.336, 32.252]\", \"(16.336, 32.252]\", \"(0.34, 16.336]\", \"(16.336, 32.252]\", \"(16.336, 32.252]\", \"(16.336, 32.252]\", null, null, \"(16.336, 32.252]\", \"(16.336, 32.252]\", \"(0.34, 16.336]\", null, \"(16.336, 32.252]\", \"(16.336, 32.252]\", \"(16.336, 32.252]\", \"(32.252, 48.168]\", \"(16.336, 32.252]\", \"(48.168, 64.084]\", null, \"(64.084, 80.0]\", \"(32.252, 48.168]\", \"(16.336, 32.252]\", null, \"(16.336, 32.252]\", \"(32.252, 48.168]\", \"(32.252, 48.168]\", \"(16.336, 32.252]\", \"(32.252, 48.168]\", \"(32.252, 48.168]\", \"(0.34, 16.336]\", \"(16.336, 32.252]\", \"(16.336, 32.252]\", \"(16.336, 32.252]\", \"(16.336, 32.252]\", \"(64.084, 80.0]\", \"(16.336, 32.252]\", \"(16.336, 32.252]\", \"(0.34, 16.336]\", \"(16.336, 32.252]\", null, \"(32.252, 48.168]\", \"(48.168, 64.084]\", null, \"(32.252, 48.168]\", \"(32.252, 48.168]\", \"(16.336, 32.252]\", \"(32.252, 48.168]\", \"(16.336, 32.252]\", \"(16.336, 32.252]\", \"(32.252, 48.168]\", \"(0.34, 16.336]\", \"(16.336, 32.252]\", null, \"(16.336, 32.252]\", \"(16.336, 32.252]\", \"(16.336, 32.252]\", \"(0.34, 16.336]\", \"(32.252, 48.168]\", \"(32.252, 48.168]\", \"(48.168, 64.084]\", \"(48.168, 64.084]\", \"(32.252, 48.168]\", null, \"(48.168, 64.084]\", \"(16.336, 32.252]\", null, null, \"(32.252, 48.168]\", \"(16.336, 32.252]\", \"(16.336, 32.252]\", \"(0.34, 16.336]\", \"(32.252, 48.168]\", null, \"(16.336, 32.252]\", \"(48.168, 64.084]\", \"(0.34, 16.336]\", \"(16.336, 32.252]\", \"(48.168, 64.084]\", \"(16.336, 32.252]\", null, \"(48.168, 64.084]\", \"(16.336, 32.252]\", \"(32.252, 48.168]\", null, null, \"(0.34, 16.336]\", null, \"(32.252, 48.168]\", \"(32.252, 48.168]\", \"(16.336, 32.252]\", null, \"(32.252, 48.168]\", \"(16.336, 32.252]\", \"(16.336, 32.252]\", null, \"(32.252, 48.168]\", \"(32.252, 48.168]\", \"(0.34, 16.336]\", \"(16.336, 32.252]\", \"(16.336, 32.252]\", \"(16.336, 32.252]\", \"(16.336, 32.252]\", null, \"(32.252, 48.168]\", \"(16.336, 32.252]\", \"(16.336, 32.252]\", \"(48.168, 64.084]\", null, \"(16.336, 32.252]\", \"(16.336, 32.252]\", \"(16.336, 32.252]\", null, \"(16.336, 32.252]\", \"(48.168, 64.084]\", \"(16.336, 32.252]\", null, \"(32.252, 48.168]\", \"(16.336, 32.252]\", \"(32.252, 48.168]\", null, \"(16.336, 32.252]\", \"(16.336, 32.252]\", \"(16.336, 32.252]\", \"(32.252, 48.168]\", \"(16.336, 32.252]\", \"(48.168, 64.084]\", null, \"(16.336, 32.252]\", \"(48.168, 64.084]\", \"(16.336, 32.252]\", \"(32.252, 48.168]\", null, \"(48.168, 64.084]\", \"(32.252, 48.168]\", null, \"(32.252, 48.168]\", \"(0.34, 16.336]\", null, \"(32.252, 48.168]\", \"(32.252, 48.168]\", null, \"(0.34, 16.336]\", \"(64.084, 80.0]\", \"(16.336, 32.252]\", \"(0.34, 16.336]\", null, \"(32.252, 48.168]\", \"(16.336, 32.252]\", \"(32.252, 48.168]\", \"(16.336, 32.252]\", \"(16.336, 32.252]\", null, \"(16.336, 32.252]\", \"(0.34, 16.336]\", \"(16.336, 32.252]\", null, \"(16.336, 32.252]\", \"(16.336, 32.252]\", \"(16.336, 32.252]\", \"(32.252, 48.168]\", \"(48.168, 64.084]\", \"(16.336, 32.252]\", \"(16.336, 32.252]\", null, \"(48.168, 64.084]\", \"(32.252, 48.168]\", \"(32.252, 48.168]\", \"(0.34, 16.336]\", null, \"(16.336, 32.252]\", \"(32.252, 48.168]\", \"(16.336, 32.252]\", \"(16.336, 32.252]\", \"(32.252, 48.168]\", \"(32.252, 48.168]\", \"(16.336, 32.252]\", null, \"(0.34, 16.336]\", \"(16.336, 32.252]\", null, \"(16.336, 32.252]\", \"(32.252, 48.168]\", \"(32.252, 48.168]\", \"(16.336, 32.252]\", \"(32.252, 48.168]\", \"(32.252, 48.168]\", null, \"(16.336, 32.252]\", \"(16.336, 32.252]\", \"(16.336, 32.252]\", \"(16.336, 32.252]\", \"(0.34, 16.336]\", \"(16.336, 32.252]\", \"(16.336, 32.252]\", \"(16.336, 32.252]\", \"(16.336, 32.252]\", null, \"(16.336, 32.252]\", \"(0.34, 16.336]\", null, \"(16.336, 32.252]\", \"(16.336, 32.252]\", \"(16.336, 32.252]\", \"(32.252, 48.168]\", \"(16.336, 32.252]\", \"(16.336, 32.252]\", \"(16.336, 32.252]\", \"(16.336, 32.252]\", \"(16.336, 32.252]\", \"(32.252, 48.168]\", \"(48.168, 64.084]\", \"(16.336, 32.252]\", null, null, null, null, null, \"(16.336, 32.252]\", \"(0.34, 16.336]\", null, \"(16.336, 32.252]\", \"(16.336, 32.252]\", \"(16.336, 32.252]\", \"(16.336, 32.252]\", null, null, \"(16.336, 32.252]\", \"(48.168, 64.084]\", \"(16.336, 32.252]\", \"(48.168, 64.084]\", \"(16.336, 32.252]\", \"(16.336, 32.252]\", \"(16.336, 32.252]\", \"(32.252, 48.168]\", null, \"(16.336, 32.252]\", null, \"(64.084, 80.0]\", null, \"(32.252, 48.168]\", \"(32.252, 48.168]\", \"(32.252, 48.168]\", null, \"(32.252, 48.168]\", null, \"(48.168, 64.084]\", null, null, \"(32.252, 48.168]\", \"(16.336, 32.252]\", null, \"(32.252, 48.168]\", \"(16.336, 32.252]\", \"(16.336, 32.252]\", \"(0.34, 16.336]\", null, \"(48.168, 64.084]\", null, \"(48.168, 64.084]\", \"(16.336, 32.252]\", null, \"(16.336, 32.252]\", \"(48.168, 64.084]\", \"(64.084, 80.0]\", \"(16.336, 32.252]\", null, null, \"(16.336, 32.252]\", \"(16.336, 32.252]\", \"(16.336, 32.252]\", \"(16.336, 32.252]\", null, \"(32.252, 48.168]\", \"(16.336, 32.252]\", \"(16.336, 32.252]\", null, \"(16.336, 32.252]\", \"(32.252, 48.168]\", null, \"(16.336, 32.252]\", \"(16.336, 32.252]\", null, null, \"(32.252, 48.168]\", null, \"(32.252, 48.168]\", \"(16.336, 32.252]\", null, \"(16.336, 32.252]\", \"(16.336, 32.252]\", \"(32.252, 48.168]\", null, \"(0.34, 16.336]\", \"(0.34, 16.336]\", \"(48.168, 64.084]\", \"(48.168, 64.084]\", \"(32.252, 48.168]\", \"(16.336, 32.252]\", null, \"(48.168, 64.084]\", null, null, \"(32.252, 48.168]\", \"(16.336, 32.252]\", null, null, \"(16.336, 32.252]\", \"(16.336, 32.252]\", \"(16.336, 32.252]\", null, \"(0.34, 16.336]\", \"(16.336, 32.252]\", null, \"(48.168, 64.084]\", \"(32.252, 48.168]\", null, \"(32.252, 48.168]\", \"(16.336, 32.252]\", null, \"(32.252, 48.168]\", \"(32.252, 48.168]\", null, \"(32.252, 48.168]\", \"(32.252, 48.168]\", \"(48.168, 64.084]\", null, null, null, \"(32.252, 48.168]\", \"(32.252, 48.168]\", \"(16.336, 32.252]\", \"(32.252, 48.168]\", null, null, \"(32.252, 48.168]\", \"(32.252, 48.168]\", \"(16.336, 32.252]\", \"(16.336, 32.252]\", \"(16.336, 32.252]\", \"(16.336, 32.252]\", \"(16.336, 32.252]\", \"(48.168, 64.084]\", \"(48.168, 64.084]\", \"(16.336, 32.252]\", null, \"(48.168, 64.084]\", null, \"(0.34, 16.336]\", \"(16.336, 32.252]\", \"(16.336, 32.252]\", \"(32.252, 48.168]\", null, \"(16.336, 32.252]\", \"(0.34, 16.336]\", \"(16.336, 32.252]\", null, null, \"(16.336, 32.252]\", \"(16.336, 32.252]\", \"(16.336, 32.252]\", null, \"(16.336, 32.252]\", \"(16.336, 32.252]\", \"(48.168, 64.084]\", \"(32.252, 48.168]\", \"(32.252, 48.168]\", \"(32.252, 48.168]\", \"(16.336, 32.252]\", \"(16.336, 32.252]\", null, \"(32.252, 48.168]\", \"(16.336, 32.252]\", \"(64.084, 80.0]\", null, \"(16.336, 32.252]\", \"(16.336, 32.252]\", \"(32.252, 48.168]\", null, \"(16.336, 32.252]\", \"(0.34, 16.336]\", \"(48.168, 64.084]\", \"(16.336, 32.252]\", \"(0.34, 16.336]\", \"(16.336, 32.252]\", \"(16.336, 32.252]\", \"(16.336, 32.252]\", \"(48.168, 64.084]\", \"(48.168, 64.084]\", \"(32.252, 48.168]\", \"(48.168, 64.084]\", \"(32.252, 48.168]\", \"(16.336, 32.252]\", \"(16.336, 32.252]\", \"(16.336, 32.252]\", \"(32.252, 48.168]\", null, \"(16.336, 32.252]\", \"(48.168, 64.084]\", \"(16.336, 32.252]\", null, \"(32.252, 48.168]\", \"(16.336, 32.252]\", \"(32.252, 48.168]\", \"(48.168, 64.084]\", \"(16.336, 32.252]\", \"(16.336, 32.252]\", \"(16.336, 32.252]\", \"(0.34, 16.336]\", null, \"(16.336, 32.252]\", \"(16.336, 32.252]\", \"(16.336, 32.252]\", \"(32.252, 48.168]\", null, null, \"(32.252, 48.168]\", \"(16.336, 32.252]\", \"(64.084, 80.0]\", \"(0.34, 16.336]\", \"(16.336, 32.252]\", \"(16.336, 32.252]\", \"(32.252, 48.168]\", \"(16.336, 32.252]\", \"(16.336, 32.252]\", \"(16.336, 32.252]\", \"(32.252, 48.168]\", null, \"(32.252, 48.168]\", \"(0.34, 16.336]\", null, \"(16.336, 32.252]\", null, \"(16.336, 32.252]\", \"(16.336, 32.252]\", \"(32.252, 48.168]\", \"(48.168, 64.084]\", null, \"(16.336, 32.252]\", null, null, \"(16.336, 32.252]\", null, \"(16.336, 32.252]\", \"(16.336, 32.252]\", \"(0.34, 16.336]\", \"(32.252, 48.168]\", null, \"(0.34, 16.336]\", null, null, \"(16.336, 32.252]\", \"(32.252, 48.168]\", \"(16.336, 32.252]\", \"(16.336, 32.252]\", \"(32.252, 48.168]\", \"(16.336, 32.252]\", \"(32.252, 48.168]\", \"(16.336, 32.252]\", \"(32.252, 48.168]\", \"(16.336, 32.252]\", \"(32.252, 48.168]\", \"(32.252, 48.168]\", \"(0.34, 16.336]\", \"(16.336, 32.252]\", null, \"(16.336, 32.252]\", \"(16.336, 32.252]\", \"(32.252, 48.168]\", \"(0.34, 16.336]\", \"(32.252, 48.168]\", \"(0.34, 16.336]\", null, null, null, \"(16.336, 32.252]\", \"(16.336, 32.252]\", \"(16.336, 32.252]\", null, \"(16.336, 32.252]\", \"(0.34, 16.336]\", \"(32.252, 48.168]\", \"(16.336, 32.252]\", \"(32.252, 48.168]\", null, \"(32.252, 48.168]\", \"(16.336, 32.252]\", \"(0.34, 16.336]\", \"(64.084, 80.0]\", \"(0.34, 16.336]\", \"(32.252, 48.168]\", null, \"(32.252, 48.168]\", \"(16.336, 32.252]\", null, \"(16.336, 32.252]\", \"(16.336, 32.252]\", null, \"(16.336, 32.252]\", \"(32.252, 48.168]\", \"(32.252, 48.168]\", \"(16.336, 32.252]\", \"(16.336, 32.252]\", null, \"(32.252, 48.168]\", \"(16.336, 32.252]\", \"(16.336, 32.252]\", \"(16.336, 32.252]\", \"(32.252, 48.168]\", \"(16.336, 32.252]\", null, \"(16.336, 32.252]\"], \"xaxis\": \"x\", \"yaxis\": \"y\"}, {\"alignmentgroup\": \"True\", \"bingroup\": \"x\", \"hovertemplate\": \"survived=1<br>age_group=%{x}<br>count=%{y}<extra></extra>\", \"legendgroup\": \"1\", \"marker\": {\"color\": \"#EF553B\"}, \"name\": \"1\", \"offsetgroup\": \"1\", \"orientation\": \"v\", \"showlegend\": true, \"type\": \"histogram\", \"x\": [\"(32.252, 48.168]\", \"(16.336, 32.252]\", \"(32.252, 48.168]\", \"(16.336, 32.252]\", \"(0.34, 16.336]\", \"(0.34, 16.336]\", \"(48.168, 64.084]\", \"(48.168, 64.084]\", null, null, \"(32.252, 48.168]\", \"(0.34, 16.336]\", \"(16.336, 32.252]\", \"(32.252, 48.168]\", null, null, null, null, \"(0.34, 16.336]\", \"(0.34, 16.336]\", \"(16.336, 32.252]\", null, \"(48.168, 64.084]\", \"(16.336, 32.252]\", null, \"(16.336, 32.252]\", \"(0.34, 16.336]\", \"(32.252, 48.168]\", null, \"(16.336, 32.252]\", \"(16.336, 32.252]\", \"(16.336, 32.252]\", \"(0.34, 16.336]\", \"(16.336, 32.252]\", \"(16.336, 32.252]\", null, \"(16.336, 32.252]\", \"(32.252, 48.168]\", \"(16.336, 32.252]\", \"(16.336, 32.252]\", \"(32.252, 48.168]\", \"(16.336, 32.252]\", null, null, \"(32.252, 48.168]\", \"(0.34, 16.336]\", \"(16.336, 32.252]\", null, \"(16.336, 32.252]\", \"(16.336, 32.252]\", \"(16.336, 32.252]\", \"(16.336, 32.252]\", \"(16.336, 32.252]\", \"(16.336, 32.252]\", \"(0.34, 16.336]\", \"(32.252, 48.168]\", \"(0.34, 16.336]\", null, \"(0.34, 16.336]\", \"(0.34, 16.336]\", \"(0.34, 16.336]\", null, \"(32.252, 48.168]\", \"(16.336, 32.252]\", \"(16.336, 32.252]\", \"(0.34, 16.336]\", \"(32.252, 48.168]\", \"(48.168, 64.084]\", null, \"(16.336, 32.252]\", \"(16.336, 32.252]\", \"(0.34, 16.336]\", \"(32.252, 48.168]\", \"(32.252, 48.168]\", \"(16.336, 32.252]\", \"(16.336, 32.252]\", \"(16.336, 32.252]\", \"(0.34, 16.336]\", \"(32.252, 48.168]\", \"(16.336, 32.252]\", \"(32.252, 48.168]\", \"(0.34, 16.336]\", \"(0.34, 16.336]\", null, \"(16.336, 32.252]\", \"(32.252, 48.168]\", \"(16.336, 32.252]\", null, \"(16.336, 32.252]\", \"(32.252, 48.168]\", \"(48.168, 64.084]\", \"(0.34, 16.336]\", \"(16.336, 32.252]\", \"(48.168, 64.084]\", \"(32.252, 48.168]\", \"(16.336, 32.252]\", \"(32.252, 48.168]\", null, \"(48.168, 64.084]\", \"(32.252, 48.168]\", \"(16.336, 32.252]\", \"(16.336, 32.252]\", \"(32.252, 48.168]\", \"(16.336, 32.252]\", \"(16.336, 32.252]\", \"(16.336, 32.252]\", null, \"(48.168, 64.084]\", null, null, null, \"(0.34, 16.336]\", null, \"(16.336, 32.252]\", \"(16.336, 32.252]\", \"(16.336, 32.252]\", \"(16.336, 32.252]\", \"(16.336, 32.252]\", \"(16.336, 32.252]\", \"(16.336, 32.252]\", \"(32.252, 48.168]\", \"(16.336, 32.252]\", \"(16.336, 32.252]\", \"(32.252, 48.168]\", \"(32.252, 48.168]\", \"(16.336, 32.252]\", \"(0.34, 16.336]\", null, null, \"(32.252, 48.168]\", \"(32.252, 48.168]\", \"(0.34, 16.336]\", \"(16.336, 32.252]\", \"(16.336, 32.252]\", \"(32.252, 48.168]\", null, \"(0.34, 16.336]\", \"(16.336, 32.252]\", null, null, \"(48.168, 64.084]\", null, null, \"(16.336, 32.252]\", \"(16.336, 32.252]\", null, \"(16.336, 32.252]\", \"(32.252, 48.168]\", \"(0.34, 16.336]\", \"(32.252, 48.168]\", \"(32.252, 48.168]\", \"(16.336, 32.252]\", \"(32.252, 48.168]\", \"(16.336, 32.252]\", \"(16.336, 32.252]\", \"(16.336, 32.252]\", \"(16.336, 32.252]\", \"(32.252, 48.168]\", \"(0.34, 16.336]\", \"(32.252, 48.168]\", \"(32.252, 48.168]\", \"(32.252, 48.168]\", \"(16.336, 32.252]\", \"(16.336, 32.252]\", \"(16.336, 32.252]\", \"(16.336, 32.252]\", \"(16.336, 32.252]\", null, \"(32.252, 48.168]\", \"(0.34, 16.336]\", \"(16.336, 32.252]\", \"(32.252, 48.168]\", \"(16.336, 32.252]\", null, \"(0.34, 16.336]\", \"(0.34, 16.336]\", \"(32.252, 48.168]\", \"(0.34, 16.336]\", \"(48.168, 64.084]\", \"(48.168, 64.084]\", \"(16.336, 32.252]\", null, \"(48.168, 64.084]\", \"(32.252, 48.168]\", \"(0.34, 16.336]\", \"(32.252, 48.168]\", \"(16.336, 32.252]\", \"(0.34, 16.336]\", \"(48.168, 64.084]\", \"(16.336, 32.252]\", \"(32.252, 48.168]\", \"(0.34, 16.336]\", \"(48.168, 64.084]\", \"(0.34, 16.336]\", \"(32.252, 48.168]\", null, \"(16.336, 32.252]\", \"(16.336, 32.252]\", \"(32.252, 48.168]\", \"(48.168, 64.084]\", \"(32.252, 48.168]\", \"(32.252, 48.168]\", \"(16.336, 32.252]\", \"(32.252, 48.168]\", \"(48.168, 64.084]\", \"(0.34, 16.336]\", null, \"(0.34, 16.336]\", \"(16.336, 32.252]\", \"(16.336, 32.252]\", \"(32.252, 48.168]\", \"(16.336, 32.252]\", \"(16.336, 32.252]\", null, \"(0.34, 16.336]\", \"(16.336, 32.252]\", \"(16.336, 32.252]\", \"(16.336, 32.252]\", \"(32.252, 48.168]\", \"(32.252, 48.168]\", \"(32.252, 48.168]\", \"(16.336, 32.252]\", \"(48.168, 64.084]\", \"(48.168, 64.084]\", \"(32.252, 48.168]\", null, \"(32.252, 48.168]\", \"(32.252, 48.168]\", \"(16.336, 32.252]\", \"(16.336, 32.252]\", \"(32.252, 48.168]\", \"(16.336, 32.252]\", \"(48.168, 64.084]\", \"(48.168, 64.084]\", null, \"(48.168, 64.084]\", \"(16.336, 32.252]\", \"(32.252, 48.168]\", \"(16.336, 32.252]\", \"(16.336, 32.252]\", \"(32.252, 48.168]\", null, \"(16.336, 32.252]\", \"(0.34, 16.336]\", \"(32.252, 48.168]\", \"(16.336, 32.252]\", \"(16.336, 32.252]\", \"(64.084, 80.0]\", \"(16.336, 32.252]\", \"(16.336, 32.252]\", \"(16.336, 32.252]\", null, \"(0.34, 16.336]\", \"(32.252, 48.168]\", \"(48.168, 64.084]\", \"(16.336, 32.252]\", \"(16.336, 32.252]\", null, \"(48.168, 64.084]\", \"(16.336, 32.252]\", null, \"(32.252, 48.168]\", \"(16.336, 32.252]\", \"(16.336, 32.252]\", \"(32.252, 48.168]\", \"(16.336, 32.252]\", \"(0.34, 16.336]\", \"(16.336, 32.252]\", \"(0.34, 16.336]\", null, null, \"(16.336, 32.252]\", \"(32.252, 48.168]\", \"(32.252, 48.168]\", \"(32.252, 48.168]\", \"(16.336, 32.252]\", null, \"(16.336, 32.252]\", \"(32.252, 48.168]\", \"(32.252, 48.168]\", \"(16.336, 32.252]\", \"(0.34, 16.336]\", \"(16.336, 32.252]\", \"(16.336, 32.252]\", null, \"(16.336, 32.252]\", \"(32.252, 48.168]\", null, \"(16.336, 32.252]\", \"(16.336, 32.252]\", \"(16.336, 32.252]\", \"(0.34, 16.336]\", \"(0.34, 16.336]\", \"(32.252, 48.168]\", \"(0.34, 16.336]\", \"(32.252, 48.168]\", \"(16.336, 32.252]\", \"(32.252, 48.168]\", \"(48.168, 64.084]\", \"(48.168, 64.084]\", \"(0.34, 16.336]\", \"(32.252, 48.168]\", \"(0.34, 16.336]\", \"(16.336, 32.252]\", \"(16.336, 32.252]\", \"(0.34, 16.336]\", \"(48.168, 64.084]\", \"(16.336, 32.252]\", \"(16.336, 32.252]\", \"(0.34, 16.336]\", \"(0.34, 16.336]\", \"(16.336, 32.252]\", \"(32.252, 48.168]\", \"(48.168, 64.084]\", \"(16.336, 32.252]\", \"(16.336, 32.252]\", \"(0.34, 16.336]\", null, \"(48.168, 64.084]\", \"(0.34, 16.336]\", \"(0.34, 16.336]\", \"(32.252, 48.168]\", \"(16.336, 32.252]\", null, \"(16.336, 32.252]\", null, \"(0.34, 16.336]\", \"(16.336, 32.252]\", \"(32.252, 48.168]\", \"(48.168, 64.084]\", \"(16.336, 32.252]\", \"(32.252, 48.168]\", \"(32.252, 48.168]\", \"(16.336, 32.252]\", \"(0.34, 16.336]\", \"(32.252, 48.168]\", \"(16.336, 32.252]\", \"(0.34, 16.336]\", \"(48.168, 64.084]\", \"(16.336, 32.252]\", \"(16.336, 32.252]\", \"(16.336, 32.252]\"], \"xaxis\": \"x\", \"yaxis\": \"y\"}],                        {\"barmode\": \"relative\", \"barnorm\": \"fraction\", \"legend\": {\"title\": {\"text\": \"survived\"}, \"tracegroupgap\": 0}, \"margin\": {\"t\": 60}, \"template\": {\"data\": {\"bar\": [{\"error_x\": {\"color\": \"#2a3f5f\"}, \"error_y\": {\"color\": \"#2a3f5f\"}, \"marker\": {\"line\": {\"color\": \"#E5ECF6\", \"width\": 0.5}}, \"type\": \"bar\"}], \"barpolar\": [{\"marker\": {\"line\": {\"color\": \"#E5ECF6\", \"width\": 0.5}}, \"type\": \"barpolar\"}], \"carpet\": [{\"aaxis\": {\"endlinecolor\": \"#2a3f5f\", \"gridcolor\": \"white\", \"linecolor\": \"white\", \"minorgridcolor\": \"white\", \"startlinecolor\": \"#2a3f5f\"}, \"baxis\": {\"endlinecolor\": \"#2a3f5f\", \"gridcolor\": \"white\", \"linecolor\": \"white\", \"minorgridcolor\": \"white\", \"startlinecolor\": \"#2a3f5f\"}, \"type\": \"carpet\"}], \"choropleth\": [{\"colorbar\": {\"outlinewidth\": 0, \"ticks\": \"\"}, \"type\": \"choropleth\"}], \"contour\": [{\"colorbar\": {\"outlinewidth\": 0, \"ticks\": \"\"}, \"colorscale\": [[0.0, \"#0d0887\"], [0.1111111111111111, \"#46039f\"], [0.2222222222222222, \"#7201a8\"], [0.3333333333333333, \"#9c179e\"], [0.4444444444444444, \"#bd3786\"], [0.5555555555555556, \"#d8576b\"], [0.6666666666666666, \"#ed7953\"], [0.7777777777777778, \"#fb9f3a\"], [0.8888888888888888, \"#fdca26\"], [1.0, \"#f0f921\"]], \"type\": \"contour\"}], \"contourcarpet\": [{\"colorbar\": {\"outlinewidth\": 0, \"ticks\": \"\"}, \"type\": \"contourcarpet\"}], \"heatmap\": [{\"colorbar\": {\"outlinewidth\": 0, \"ticks\": \"\"}, \"colorscale\": [[0.0, \"#0d0887\"], [0.1111111111111111, \"#46039f\"], [0.2222222222222222, \"#7201a8\"], [0.3333333333333333, \"#9c179e\"], [0.4444444444444444, \"#bd3786\"], [0.5555555555555556, \"#d8576b\"], [0.6666666666666666, \"#ed7953\"], [0.7777777777777778, \"#fb9f3a\"], [0.8888888888888888, \"#fdca26\"], [1.0, \"#f0f921\"]], \"type\": \"heatmap\"}], \"heatmapgl\": [{\"colorbar\": {\"outlinewidth\": 0, \"ticks\": \"\"}, \"colorscale\": [[0.0, \"#0d0887\"], [0.1111111111111111, \"#46039f\"], [0.2222222222222222, \"#7201a8\"], [0.3333333333333333, \"#9c179e\"], [0.4444444444444444, \"#bd3786\"], [0.5555555555555556, \"#d8576b\"], [0.6666666666666666, \"#ed7953\"], [0.7777777777777778, \"#fb9f3a\"], [0.8888888888888888, \"#fdca26\"], [1.0, \"#f0f921\"]], \"type\": \"heatmapgl\"}], \"histogram\": [{\"marker\": {\"colorbar\": {\"outlinewidth\": 0, \"ticks\": \"\"}}, \"type\": \"histogram\"}], \"histogram2d\": [{\"colorbar\": {\"outlinewidth\": 0, \"ticks\": \"\"}, \"colorscale\": [[0.0, \"#0d0887\"], [0.1111111111111111, \"#46039f\"], [0.2222222222222222, \"#7201a8\"], [0.3333333333333333, \"#9c179e\"], [0.4444444444444444, \"#bd3786\"], [0.5555555555555556, \"#d8576b\"], [0.6666666666666666, \"#ed7953\"], [0.7777777777777778, \"#fb9f3a\"], [0.8888888888888888, \"#fdca26\"], [1.0, \"#f0f921\"]], \"type\": \"histogram2d\"}], \"histogram2dcontour\": [{\"colorbar\": {\"outlinewidth\": 0, \"ticks\": \"\"}, \"colorscale\": [[0.0, \"#0d0887\"], [0.1111111111111111, \"#46039f\"], [0.2222222222222222, \"#7201a8\"], [0.3333333333333333, \"#9c179e\"], [0.4444444444444444, \"#bd3786\"], [0.5555555555555556, \"#d8576b\"], [0.6666666666666666, \"#ed7953\"], [0.7777777777777778, \"#fb9f3a\"], [0.8888888888888888, \"#fdca26\"], [1.0, \"#f0f921\"]], \"type\": \"histogram2dcontour\"}], \"mesh3d\": [{\"colorbar\": {\"outlinewidth\": 0, \"ticks\": \"\"}, \"type\": \"mesh3d\"}], \"parcoords\": [{\"line\": {\"colorbar\": {\"outlinewidth\": 0, \"ticks\": \"\"}}, \"type\": \"parcoords\"}], \"pie\": [{\"automargin\": true, \"type\": \"pie\"}], \"scatter\": [{\"marker\": {\"colorbar\": {\"outlinewidth\": 0, \"ticks\": \"\"}}, \"type\": \"scatter\"}], \"scatter3d\": [{\"line\": {\"colorbar\": {\"outlinewidth\": 0, \"ticks\": \"\"}}, \"marker\": {\"colorbar\": {\"outlinewidth\": 0, \"ticks\": \"\"}}, \"type\": \"scatter3d\"}], \"scattercarpet\": [{\"marker\": {\"colorbar\": {\"outlinewidth\": 0, \"ticks\": \"\"}}, \"type\": \"scattercarpet\"}], \"scattergeo\": [{\"marker\": {\"colorbar\": {\"outlinewidth\": 0, \"ticks\": \"\"}}, \"type\": \"scattergeo\"}], \"scattergl\": [{\"marker\": {\"colorbar\": {\"outlinewidth\": 0, \"ticks\": \"\"}}, \"type\": \"scattergl\"}], \"scattermapbox\": [{\"marker\": {\"colorbar\": {\"outlinewidth\": 0, \"ticks\": \"\"}}, \"type\": \"scattermapbox\"}], \"scatterpolar\": [{\"marker\": {\"colorbar\": {\"outlinewidth\": 0, \"ticks\": \"\"}}, \"type\": \"scatterpolar\"}], \"scatterpolargl\": [{\"marker\": {\"colorbar\": {\"outlinewidth\": 0, \"ticks\": \"\"}}, \"type\": \"scatterpolargl\"}], \"scatterternary\": [{\"marker\": {\"colorbar\": {\"outlinewidth\": 0, \"ticks\": \"\"}}, \"type\": \"scatterternary\"}], \"surface\": [{\"colorbar\": {\"outlinewidth\": 0, \"ticks\": \"\"}, \"colorscale\": [[0.0, \"#0d0887\"], [0.1111111111111111, \"#46039f\"], [0.2222222222222222, \"#7201a8\"], [0.3333333333333333, \"#9c179e\"], [0.4444444444444444, \"#bd3786\"], [0.5555555555555556, \"#d8576b\"], [0.6666666666666666, \"#ed7953\"], [0.7777777777777778, \"#fb9f3a\"], [0.8888888888888888, \"#fdca26\"], [1.0, \"#f0f921\"]], \"type\": \"surface\"}], \"table\": [{\"cells\": {\"fill\": {\"color\": \"#EBF0F8\"}, \"line\": {\"color\": \"white\"}}, \"header\": {\"fill\": {\"color\": \"#C8D4E3\"}, \"line\": {\"color\": \"white\"}}, \"type\": \"table\"}]}, \"layout\": {\"annotationdefaults\": {\"arrowcolor\": \"#2a3f5f\", \"arrowhead\": 0, \"arrowwidth\": 1}, \"coloraxis\": {\"colorbar\": {\"outlinewidth\": 0, \"ticks\": \"\"}}, \"colorscale\": {\"diverging\": [[0, \"#8e0152\"], [0.1, \"#c51b7d\"], [0.2, \"#de77ae\"], [0.3, \"#f1b6da\"], [0.4, \"#fde0ef\"], [0.5, \"#f7f7f7\"], [0.6, \"#e6f5d0\"], [0.7, \"#b8e186\"], [0.8, \"#7fbc41\"], [0.9, \"#4d9221\"], [1, \"#276419\"]], \"sequential\": [[0.0, \"#0d0887\"], [0.1111111111111111, \"#46039f\"], [0.2222222222222222, \"#7201a8\"], [0.3333333333333333, \"#9c179e\"], [0.4444444444444444, \"#bd3786\"], [0.5555555555555556, \"#d8576b\"], [0.6666666666666666, \"#ed7953\"], [0.7777777777777778, \"#fb9f3a\"], [0.8888888888888888, \"#fdca26\"], [1.0, \"#f0f921\"]], \"sequentialminus\": [[0.0, \"#0d0887\"], [0.1111111111111111, \"#46039f\"], [0.2222222222222222, \"#7201a8\"], [0.3333333333333333, \"#9c179e\"], [0.4444444444444444, \"#bd3786\"], [0.5555555555555556, \"#d8576b\"], [0.6666666666666666, \"#ed7953\"], [0.7777777777777778, \"#fb9f3a\"], [0.8888888888888888, \"#fdca26\"], [1.0, \"#f0f921\"]]}, \"colorway\": [\"#636efa\", \"#EF553B\", \"#00cc96\", \"#ab63fa\", \"#FFA15A\", \"#19d3f3\", \"#FF6692\", \"#B6E880\", \"#FF97FF\", \"#FECB52\"], \"font\": {\"color\": \"#2a3f5f\"}, \"geo\": {\"bgcolor\": \"white\", \"lakecolor\": \"white\", \"landcolor\": \"#E5ECF6\", \"showlakes\": true, \"showland\": true, \"subunitcolor\": \"white\"}, \"hoverlabel\": {\"align\": \"left\"}, \"hovermode\": \"closest\", \"mapbox\": {\"style\": \"light\"}, \"paper_bgcolor\": \"white\", \"plot_bgcolor\": \"#E5ECF6\", \"polar\": {\"angularaxis\": {\"gridcolor\": \"white\", \"linecolor\": \"white\", \"ticks\": \"\"}, \"bgcolor\": \"#E5ECF6\", \"radialaxis\": {\"gridcolor\": \"white\", \"linecolor\": \"white\", \"ticks\": \"\"}}, \"scene\": {\"xaxis\": {\"backgroundcolor\": \"#E5ECF6\", \"gridcolor\": \"white\", \"gridwidth\": 2, \"linecolor\": \"white\", \"showbackground\": true, \"ticks\": \"\", \"zerolinecolor\": \"white\"}, \"yaxis\": {\"backgroundcolor\": \"#E5ECF6\", \"gridcolor\": \"white\", \"gridwidth\": 2, \"linecolor\": \"white\", \"showbackground\": true, \"ticks\": \"\", \"zerolinecolor\": \"white\"}, \"zaxis\": {\"backgroundcolor\": \"#E5ECF6\", \"gridcolor\": \"white\", \"gridwidth\": 2, \"linecolor\": \"white\", \"showbackground\": true, \"ticks\": \"\", \"zerolinecolor\": \"white\"}}, \"shapedefaults\": {\"line\": {\"color\": \"#2a3f5f\"}}, \"ternary\": {\"aaxis\": {\"gridcolor\": \"white\", \"linecolor\": \"white\", \"ticks\": \"\"}, \"baxis\": {\"gridcolor\": \"white\", \"linecolor\": \"white\", \"ticks\": \"\"}, \"bgcolor\": \"#E5ECF6\", \"caxis\": {\"gridcolor\": \"white\", \"linecolor\": \"white\", \"ticks\": \"\"}}, \"title\": {\"x\": 0.05}, \"xaxis\": {\"automargin\": true, \"gridcolor\": \"white\", \"linecolor\": \"white\", \"ticks\": \"\", \"title\": {\"standoff\": 15}, \"zerolinecolor\": \"white\", \"zerolinewidth\": 2}, \"yaxis\": {\"automargin\": true, \"gridcolor\": \"white\", \"linecolor\": \"white\", \"ticks\": \"\", \"title\": {\"standoff\": 15}, \"zerolinecolor\": \"white\", \"zerolinewidth\": 2}}}, \"xaxis\": {\"anchor\": \"y\", \"categoryarray\": [\"(0.34, 16.336]\", \"(16.336, 32.252]\", \"(32.252, 48.168]\", \"(48.168, 64.084]\", \"(64.084, 80.0]\"], \"categoryorder\": \"array\", \"domain\": [0.0, 1.0], \"title\": {\"text\": \"age_group\"}}, \"yaxis\": {\"anchor\": \"x\", \"domain\": [0.0, 1.0], \"title\": {\"text\": \"count\"}}},                        {\"responsive\": true}                    ).then(function(){\n",
       "                            \n",
       "var gd = document.getElementById('4ecfa5f3-e41d-422a-a292-ea28411cc407');\n",
       "var x = new MutationObserver(function (mutations, observer) {{\n",
       "        var display = window.getComputedStyle(gd).display;\n",
       "        if (!display || display === 'none') {{\n",
       "            console.log([gd, 'removed!']);\n",
       "            Plotly.purge(gd);\n",
       "            observer.disconnect();\n",
       "        }}\n",
       "}});\n",
       "\n",
       "// Listen for the removal of the full notebook cells\n",
       "var notebookContainer = gd.closest('#notebook-container');\n",
       "if (notebookContainer) {{\n",
       "    x.observe(notebookContainer, {childList: true});\n",
       "}}\n",
       "\n",
       "// Listen for the clearing of the current output cell\n",
       "var outputEl = gd.closest('.output');\n",
       "if (outputEl) {{\n",
       "    x.observe(outputEl, {childList: true});\n",
       "}}\n",
       "\n",
       "                        })                };                });            </script>        </div>"
      ]
     },
     "metadata": {},
     "output_type": "display_data"
    }
   ],
   "source": [
    "px.histogram(df, x='age_group', color='survived', barnorm='fraction',\n",
    "             category_orders={'age_group': ['(0.34, 16.336]', '(16.336, 32.252]', '(32.252, 48.168]', '(48.168, 64.084]', '(64.084, 80.0]']})"
   ]
  },
  {
   "cell_type": "code",
   "execution_count": 86,
   "id": "aboriginal-swing",
   "metadata": {},
   "outputs": [
    {
     "name": "stdout",
     "output_type": "stream",
     "text": [
      "0.42\n",
      "80.0\n"
     ]
    }
   ],
   "source": [
    "print(df.age.min())\n",
    "print(df.age.max())"
   ]
  },
  {
   "cell_type": "code",
   "execution_count": 116,
   "id": "emerging-frederick",
   "metadata": {},
   "outputs": [],
   "source": [
    "df_viz = df[~df.fare.isna()].copy()\n",
    "df_viz['fare_category'] = pd.cut(df_viz.fare, \n",
    "                                 bins=[df_viz.fare.min(), 25, 50, 100, df_viz.fare.max()], \n",
    "                                 labels=['cheap', 'medium', 'expensive', 'very expensive'])"
   ]
  },
  {
   "cell_type": "code",
   "execution_count": null,
   "id": "friendly-albert",
   "metadata": {},
   "outputs": [],
   "source": []
  },
  {
   "cell_type": "code",
   "execution_count": 125,
   "id": "limiting-insulation",
   "metadata": {
    "scrolled": true
   },
   "outputs": [
    {
     "data": {
      "application/vnd.plotly.v1+json": {
       "config": {
        "plotlyServerURL": "https://plot.ly"
       },
       "data": [
        {
         "dimensions": [
          {
           "label": "class",
           "values": [
            "Third",
            "First",
            "Third",
            "First",
            "Third",
            "Third",
            "First",
            "Third",
            "Third",
            "Second",
            "Third",
            "First",
            "Third",
            "Third",
            "Third",
            "Second",
            "Third",
            "Second",
            "Third",
            "Third",
            "Second",
            "Second",
            "Third",
            "First",
            "Third",
            "Third",
            "Third",
            "First",
            "Third",
            "Third",
            "First",
            "First",
            "Third",
            "Second",
            "First",
            "First",
            "Third",
            "Third",
            "Third",
            "Third",
            "Third",
            "Second",
            "Third",
            "Second",
            "Third",
            "Third",
            "Third",
            "Third",
            "Third",
            "Third",
            "Third",
            "Third",
            "First",
            "Second",
            "First",
            "First",
            "Second",
            "Third",
            "Second",
            "Third",
            "Third",
            "First",
            "First",
            "Third",
            "First",
            "Third",
            "Second",
            "Third",
            "Third",
            "Third",
            "Second",
            "Third",
            "Second",
            "Third",
            "Third",
            "Third",
            "Third",
            "Third",
            "Second",
            "Third",
            "Third",
            "Third",
            "Third",
            "First",
            "Second",
            "Third",
            "Third",
            "Third",
            "First",
            "Third",
            "Third",
            "Third",
            "First",
            "Third",
            "Third",
            "Third",
            "First",
            "First",
            "Second",
            "Second",
            "Third",
            "Third",
            "First",
            "Third",
            "Third",
            "Third",
            "Third",
            "Third",
            "Third",
            "Third",
            "First",
            "Third",
            "Third",
            "Third",
            "Third",
            "Third",
            "Third",
            "Second",
            "First",
            "Third",
            "Second",
            "Third",
            "Second",
            "Second",
            "First",
            "Third",
            "Third",
            "Third",
            "Third",
            "Third",
            "Third",
            "Third",
            "Third",
            "Second",
            "Second",
            "Second",
            "First",
            "First",
            "Third",
            "First",
            "Third",
            "Third",
            "Third",
            "Third",
            "Second",
            "Second",
            "Third",
            "Third",
            "Second",
            "Second",
            "Second",
            "First",
            "Third",
            "Third",
            "Third",
            "First",
            "Third",
            "Third",
            "Third",
            "Third",
            "Third",
            "Second",
            "Third",
            "Third",
            "Third",
            "Third",
            "First",
            "Third",
            "First",
            "Third",
            "First",
            "Third",
            "Third",
            "Third",
            "First",
            "Third",
            "Third",
            "First",
            "Second",
            "Third",
            "Third",
            "Second",
            "Third",
            "Second",
            "Third",
            "First",
            "Third",
            "First",
            "Third",
            "Third",
            "Second",
            "Second",
            "Third",
            "Second",
            "First",
            "First",
            "Third",
            "Third",
            "Third",
            "Second",
            "Third",
            "Third",
            "Third",
            "Third",
            "Third",
            "Third",
            "Third",
            "Third",
            "Third",
            "First",
            "Third",
            "Second",
            "Third",
            "Second",
            "Third",
            "First",
            "Third",
            "Second",
            "First",
            "Second",
            "Third",
            "Second",
            "Third",
            "Third",
            "First",
            "Third",
            "Second",
            "Third",
            "Second",
            "Third",
            "First",
            "Third",
            "Second",
            "Third",
            "Second",
            "Third",
            "Second",
            "Second",
            "Second",
            "Second",
            "Third",
            "Third",
            "Second",
            "Third",
            "Third",
            "First",
            "Third",
            "Second",
            "First",
            "Second",
            "Third",
            "Third",
            "First",
            "Third",
            "Third",
            "Third",
            "First",
            "First",
            "First",
            "Second",
            "Third",
            "Third",
            "First",
            "First",
            "Third",
            "Second",
            "Third",
            "Third",
            "First",
            "First",
            "First",
            "Third",
            "Second",
            "First",
            "Third",
            "First",
            "Third",
            "Second",
            "Third",
            "Third",
            "Third",
            "Third",
            "Third",
            "Third",
            "First",
            "Third",
            "Third",
            "Third",
            "Second",
            "Third",
            "First",
            "First",
            "Second",
            "Third",
            "Third",
            "First",
            "Third",
            "First",
            "First",
            "First",
            "Third",
            "Third",
            "Third",
            "Second",
            "Third",
            "First",
            "First",
            "First",
            "Second",
            "First",
            "First",
            "First",
            "Second",
            "Third",
            "Second",
            "Third",
            "Second",
            "Second",
            "First",
            "First",
            "Third",
            "Third",
            "Second",
            "Second",
            "Third",
            "First",
            "Third",
            "Second",
            "Third",
            "First",
            "Third",
            "First",
            "First",
            "Third",
            "First",
            "Third",
            "First",
            "First",
            "Third",
            "First",
            "Second",
            "First",
            "Second",
            "Second",
            "Second",
            "Second",
            "Second",
            "Third",
            "Third",
            "Third",
            "Third",
            "First",
            "Third",
            "Third",
            "Third",
            "Third",
            "First",
            "Second",
            "Third",
            "Third",
            "Third",
            "Second",
            "Third",
            "Third",
            "Third",
            "Third",
            "First",
            "Third",
            "Third",
            "First",
            "First",
            "Third",
            "Third",
            "First",
            "Third",
            "First",
            "Third",
            "First",
            "Third",
            "Third",
            "First",
            "Third",
            "Third",
            "First",
            "Third",
            "Second",
            "Third",
            "Second",
            "Third",
            "Second",
            "First",
            "Third",
            "Third",
            "First",
            "Third",
            "Third",
            "Third",
            "Second",
            "Second",
            "Second",
            "Third",
            "Third",
            "Third",
            "Third",
            "Third",
            "Second",
            "Third",
            "Second",
            "Third",
            "Third",
            "Third",
            "Third",
            "First",
            "Second",
            "Third",
            "Third",
            "Second",
            "Second",
            "Second",
            "Third",
            "Third",
            "Third",
            "Third",
            "Third",
            "Third",
            "Third",
            "Second",
            "Second",
            "Third",
            "Third",
            "First",
            "Third",
            "Second",
            "Third",
            "First",
            "First",
            "Third",
            "Second",
            "First",
            "Second",
            "Second",
            "Third",
            "Third",
            "Second",
            "Third",
            "First",
            "Second",
            "First",
            "Third",
            "First",
            "Second",
            "Third",
            "First",
            "First",
            "Third",
            "Third",
            "First",
            "First",
            "Second",
            "Third",
            "First",
            "Third",
            "First",
            "Second",
            "Third",
            "Third",
            "Second",
            "First",
            "Third",
            "Third",
            "Third",
            "Third",
            "Second",
            "Second",
            "Third",
            "First",
            "Second",
            "Third",
            "Third",
            "Third",
            "Third",
            "Second",
            "Third",
            "Third",
            "First",
            "Third",
            "First",
            "First",
            "Third",
            "Third",
            "Third",
            "Third",
            "First",
            "First",
            "Third",
            "Third",
            "First",
            "Third",
            "First",
            "Third",
            "Third",
            "Third",
            "Third",
            "Third",
            "First",
            "First",
            "Second",
            "First",
            "Third",
            "Third",
            "Third",
            "Third",
            "First",
            "First",
            "Third",
            "First",
            "Second",
            "Third",
            "Second",
            "Third",
            "First",
            "Third",
            "Third",
            "First",
            "Third",
            "Third",
            "Second",
            "First",
            "Third",
            "Second",
            "Second",
            "Third",
            "Third",
            "Third",
            "Third",
            "Second",
            "First",
            "First",
            "Third",
            "First",
            "First",
            "Third",
            "Third",
            "Second",
            "First",
            "First",
            "Second",
            "Second",
            "Third",
            "Second",
            "First",
            "Second",
            "Third",
            "Third",
            "Third",
            "First",
            "First",
            "First",
            "First",
            "Third",
            "Third",
            "Third",
            "Second",
            "Third",
            "Third",
            "Third",
            "Third",
            "Third",
            "Third",
            "Third",
            "Second",
            "First",
            "First",
            "Third",
            "Third",
            "Third",
            "Second",
            "First",
            "Third",
            "Third",
            "Second",
            "First",
            "Second",
            "First",
            "Third",
            "First",
            "Second",
            "First",
            "Third",
            "Third",
            "Third",
            "First",
            "Third",
            "Third",
            "Second",
            "Third",
            "Second",
            "Third",
            "Third",
            "First",
            "Second",
            "Third",
            "First",
            "Third",
            "First",
            "Third",
            "Third",
            "First",
            "Second",
            "First",
            "Third",
            "Third",
            "Third",
            "Third",
            "Third",
            "Second",
            "Third",
            "Third",
            "Second",
            "Second",
            "Third",
            "First",
            "Third",
            "Third",
            "Third",
            "First",
            "Second",
            "First",
            "Third",
            "Third",
            "First",
            "Third",
            "First",
            "First",
            "Third",
            "Second",
            "Third",
            "Second",
            "Third",
            "Third",
            "Third",
            "First",
            "Third",
            "Third",
            "Third",
            "First",
            "Third",
            "First",
            "Third",
            "Third",
            "Third",
            "Second",
            "Third",
            "Third",
            "Third",
            "Second",
            "Third",
            "Third",
            "Second",
            "First",
            "First",
            "Third",
            "First",
            "Third",
            "Third",
            "Second",
            "Second",
            "Third",
            "Third",
            "First",
            "Second",
            "First",
            "Second",
            "Second",
            "Second",
            "Third",
            "Third",
            "Third",
            "Third",
            "First",
            "Third",
            "First",
            "Third",
            "Third",
            "Second",
            "Second",
            "Third",
            "Third",
            "Third",
            "First",
            "First",
            "Third",
            "Third",
            "Third",
            "First",
            "Second",
            "Third",
            "Third",
            "First",
            "Third",
            "First",
            "First",
            "Third",
            "Third",
            "Third",
            "Second",
            "Second",
            "First",
            "First",
            "Third",
            "First",
            "First",
            "First",
            "Third",
            "Second",
            "Third",
            "First",
            "Second",
            "Third",
            "Third",
            "Second",
            "Third",
            "Second",
            "Second",
            "First",
            "Third",
            "Second",
            "Third",
            "Second",
            "Third",
            "First",
            "Third",
            "Second",
            "Second",
            "Second",
            "Third",
            "Third",
            "First",
            "Third",
            "Third",
            "First",
            "First",
            "First",
            "Third",
            "Third",
            "First",
            "Third",
            "Second",
            "First",
            "Third",
            "Second",
            "Third",
            "Third",
            "Third",
            "Second",
            "Second",
            "Third",
            "Second",
            "Third",
            "First",
            "Third",
            "Third",
            "Third",
            "First",
            "Third",
            "First",
            "First",
            "Third",
            "Third",
            "Third",
            "Third",
            "Third",
            "Second",
            "Third",
            "Second",
            "Third",
            "Third",
            "Third",
            "Third",
            "First",
            "Third",
            "First",
            "First",
            "Third",
            "Third",
            "Third",
            "Third",
            "Third",
            "Third",
            "First",
            "Third",
            "Second",
            "Third",
            "First",
            "Third",
            "Second",
            "First",
            "Third",
            "Third",
            "Third",
            "Second",
            "Second",
            "First",
            "Third",
            "Third",
            "Third",
            "First",
            "Third",
            "Second",
            "First",
            "Third",
            "Third",
            "Second",
            "Third",
            "Third",
            "First",
            "Third",
            "Second",
            "Third",
            "Third",
            "First",
            "Third",
            "First",
            "Third",
            "Third",
            "Third",
            "Third",
            "Second",
            "Third",
            "First",
            "Third",
            "Second",
            "Third",
            "Third",
            "Third",
            "First",
            "Third",
            "Third",
            "Third",
            "First",
            "Third",
            "Second",
            "First",
            "Third",
            "Third",
            "Third",
            "Third",
            "Third",
            "Second",
            "First",
            "Third",
            "Third",
            "Third",
            "First",
            "Second",
            "Third",
            "First",
            "First",
            "Third",
            "Third",
            "Third",
            "Second",
            "First",
            "Third",
            "Second",
            "Second",
            "Second",
            "First",
            "Third",
            "Third",
            "Third",
            "First",
            "First",
            "Third",
            "Second",
            "Third",
            "Third",
            "Third",
            "Third",
            "First",
            "Second",
            "Third",
            "Third",
            "Second",
            "Third",
            "Third",
            "Second",
            "First",
            "Third",
            "First",
            "Third"
           ]
          },
          {
           "label": "embark_town",
           "values": [
            "Southampton",
            "Cherbourg",
            "Southampton",
            "Southampton",
            "Southampton",
            "Queenstown",
            "Southampton",
            "Southampton",
            "Southampton",
            "Cherbourg",
            "Southampton",
            "Southampton",
            "Southampton",
            "Southampton",
            "Southampton",
            "Southampton",
            "Queenstown",
            "Southampton",
            "Southampton",
            "Cherbourg",
            "Southampton",
            "Southampton",
            "Queenstown",
            "Southampton",
            "Southampton",
            "Southampton",
            "Cherbourg",
            "Southampton",
            "Queenstown",
            "Southampton",
            "Cherbourg",
            "Cherbourg",
            "Queenstown",
            "Southampton",
            "Cherbourg",
            "Southampton",
            "Cherbourg",
            "Southampton",
            "Southampton",
            "Cherbourg",
            "Southampton",
            "Southampton",
            "Cherbourg",
            "Cherbourg",
            "Queenstown",
            "Southampton",
            "Queenstown",
            "Queenstown",
            "Cherbourg",
            "Southampton",
            "Southampton",
            "Southampton",
            "Cherbourg",
            "Southampton",
            "Cherbourg",
            "Southampton",
            "Southampton",
            "Cherbourg",
            "Southampton",
            "Southampton",
            "Cherbourg",
            null,
            "Southampton",
            "Southampton",
            "Cherbourg",
            "Cherbourg",
            "Southampton",
            "Southampton",
            "Southampton",
            "Southampton",
            "Southampton",
            "Southampton",
            "Southampton",
            "Cherbourg",
            "Southampton",
            "Southampton",
            "Southampton",
            "Southampton",
            "Southampton",
            "Southampton",
            "Southampton",
            "Southampton",
            "Queenstown",
            "Southampton",
            "Southampton",
            "Southampton",
            "Southampton",
            "Southampton",
            "Southampton",
            "Southampton",
            "Southampton",
            "Southampton",
            "Southampton",
            "Southampton",
            "Southampton",
            "Southampton",
            "Cherbourg",
            "Cherbourg",
            "Southampton",
            "Southampton",
            "Southampton",
            "Southampton",
            "Southampton",
            "Southampton",
            "Southampton",
            "Southampton",
            "Southampton",
            "Southampton",
            "Southampton",
            "Queenstown",
            "Southampton",
            "Cherbourg",
            "Southampton",
            "Southampton",
            "Cherbourg",
            "Southampton",
            "Queenstown",
            "Southampton",
            "Cherbourg",
            "Southampton",
            "Southampton",
            "Southampton",
            "Cherbourg",
            "Southampton",
            "Southampton",
            "Cherbourg",
            "Queenstown",
            "Southampton",
            "Cherbourg",
            "Southampton",
            "Cherbourg",
            "Southampton",
            "Southampton",
            "Southampton",
            "Southampton",
            "Cherbourg",
            "Southampton",
            "Southampton",
            "Southampton",
            "Cherbourg",
            "Cherbourg",
            "Southampton",
            "Southampton",
            "Queenstown",
            "Southampton",
            "Southampton",
            "Southampton",
            "Southampton",
            "Southampton",
            "Southampton",
            "Southampton",
            "Southampton",
            "Southampton",
            "Southampton",
            "Southampton",
            "Cherbourg",
            "Queenstown",
            "Southampton",
            "Southampton",
            "Southampton",
            "Southampton",
            "Southampton",
            "Southampton",
            "Southampton",
            "Southampton",
            "Southampton",
            "Southampton",
            "Southampton",
            "Southampton",
            "Southampton",
            "Southampton",
            "Queenstown",
            "Southampton",
            "Southampton",
            "Cherbourg",
            "Southampton",
            "Southampton",
            "Cherbourg",
            "Southampton",
            "Southampton",
            "Southampton",
            "Cherbourg",
            "Southampton",
            "Southampton",
            "Southampton",
            "Southampton",
            "Queenstown",
            "Southampton",
            "Queenstown",
            "Southampton",
            "Southampton",
            "Southampton",
            "Southampton",
            "Southampton",
            "Cherbourg",
            "Cherbourg",
            "Queenstown",
            "Southampton",
            "Queenstown",
            "Southampton",
            "Southampton",
            "Southampton",
            "Southampton",
            "Cherbourg",
            "Southampton",
            "Southampton",
            "Southampton",
            "Cherbourg",
            "Queenstown",
            "Cherbourg",
            "Southampton",
            "Southampton",
            "Southampton",
            "Southampton",
            "Queenstown",
            "Cherbourg",
            "Southampton",
            "Southampton",
            "Cherbourg",
            "Southampton",
            "Southampton",
            "Southampton",
            "Southampton",
            "Southampton",
            "Southampton",
            "Southampton",
            "Southampton",
            "Southampton",
            "Southampton",
            "Southampton",
            "Southampton",
            "Southampton",
            "Southampton",
            "Southampton",
            "Southampton",
            "Southampton",
            "Southampton",
            "Southampton",
            "Southampton",
            "Southampton",
            "Cherbourg",
            "Queenstown",
            "Southampton",
            "Southampton",
            "Cherbourg",
            "Queenstown",
            "Southampton",
            "Southampton",
            "Southampton",
            "Southampton",
            "Southampton",
            "Southampton",
            "Southampton",
            "Southampton",
            "Southampton",
            "Cherbourg",
            "Cherbourg",
            "Southampton",
            "Cherbourg",
            "Southampton",
            "Queenstown",
            "Southampton",
            "Southampton",
            "Southampton",
            "Queenstown",
            "Southampton",
            "Southampton",
            "Southampton",
            "Southampton",
            "Southampton",
            "Southampton",
            "Southampton",
            "Southampton",
            "Cherbourg",
            "Queenstown",
            "Southampton",
            "Southampton",
            "Southampton",
            "Queenstown",
            "Southampton",
            "Queenstown",
            "Southampton",
            "Southampton",
            "Southampton",
            "Southampton",
            "Cherbourg",
            "Southampton",
            "Southampton",
            "Southampton",
            "Queenstown",
            "Southampton",
            "Cherbourg",
            "Cherbourg",
            "Southampton",
            "Southampton",
            "Cherbourg",
            "Cherbourg",
            "Southampton",
            "Southampton",
            "Cherbourg",
            "Queenstown",
            "Queenstown",
            "Southampton",
            "Queenstown",
            "Southampton",
            "Southampton",
            "Cherbourg",
            "Cherbourg",
            "Cherbourg",
            "Cherbourg",
            "Cherbourg",
            "Cherbourg",
            "Southampton",
            "Southampton",
            "Southampton",
            "Southampton",
            "Southampton",
            "Southampton",
            "Southampton",
            "Cherbourg",
            "Southampton",
            "Southampton",
            "Queenstown",
            "Southampton",
            "Southampton",
            "Cherbourg",
            "Southampton",
            "Southampton",
            "Southampton",
            "Cherbourg",
            "Queenstown",
            "Southampton",
            "Southampton",
            "Southampton",
            "Southampton",
            "Southampton",
            "Southampton",
            "Cherbourg",
            "Southampton",
            "Southampton",
            "Southampton",
            "Southampton",
            "Southampton",
            "Southampton",
            "Southampton",
            "Southampton",
            "Southampton",
            "Southampton",
            "Southampton",
            "Southampton",
            "Southampton",
            "Southampton",
            "Cherbourg",
            "Southampton",
            "Cherbourg",
            "Southampton",
            "Southampton",
            "Southampton",
            "Queenstown",
            "Queenstown",
            "Southampton",
            "Cherbourg",
            "Cherbourg",
            "Southampton",
            "Queenstown",
            "Southampton",
            "Cherbourg",
            "Cherbourg",
            "Queenstown",
            "Cherbourg",
            "Cherbourg",
            "Southampton",
            "Southampton",
            "Cherbourg",
            "Southampton",
            "Cherbourg",
            "Southampton",
            "Cherbourg",
            "Cherbourg",
            "Southampton",
            "Cherbourg",
            "Cherbourg",
            "Southampton",
            "Southampton",
            "Southampton",
            "Southampton",
            "Southampton",
            "Southampton",
            "Queenstown",
            "Cherbourg",
            "Southampton",
            "Southampton",
            "Southampton",
            "Cherbourg",
            "Southampton",
            "Southampton",
            "Southampton",
            "Southampton",
            "Southampton",
            "Southampton",
            "Southampton",
            "Southampton",
            "Southampton",
            "Southampton",
            "Southampton",
            "Southampton",
            "Southampton",
            "Southampton",
            "Southampton",
            "Southampton",
            "Southampton",
            "Queenstown",
            "Queenstown",
            "Southampton",
            "Southampton",
            "Southampton",
            "Southampton",
            "Southampton",
            "Southampton",
            "Southampton",
            "Cherbourg",
            "Queenstown",
            "Southampton",
            "Southampton",
            "Southampton",
            "Southampton",
            "Southampton",
            "Southampton",
            "Queenstown",
            "Southampton",
            "Southampton",
            "Southampton",
            "Southampton",
            "Southampton",
            "Southampton",
            "Southampton",
            "Southampton",
            "Southampton",
            "Southampton",
            "Southampton",
            "Southampton",
            "Southampton",
            "Southampton",
            "Southampton",
            "Southampton",
            "Southampton",
            "Southampton",
            "Southampton",
            "Cherbourg",
            "Southampton",
            "Southampton",
            "Southampton",
            "Cherbourg",
            "Cherbourg",
            "Southampton",
            "Cherbourg",
            "Southampton",
            "Southampton",
            "Southampton",
            "Queenstown",
            "Southampton",
            "Southampton",
            "Southampton",
            "Southampton",
            "Southampton",
            "Southampton",
            "Southampton",
            "Southampton",
            "Queenstown",
            "Cherbourg",
            "Southampton",
            "Southampton",
            "Southampton",
            "Cherbourg",
            "Southampton",
            "Southampton",
            "Southampton",
            "Southampton",
            "Southampton",
            "Southampton",
            "Southampton",
            "Southampton",
            "Southampton",
            "Southampton",
            "Cherbourg",
            "Southampton",
            "Southampton",
            "Cherbourg",
            "Southampton",
            "Southampton",
            "Southampton",
            "Southampton",
            "Southampton",
            "Cherbourg",
            "Southampton",
            "Cherbourg",
            "Cherbourg",
            "Southampton",
            "Southampton",
            "Southampton",
            "Southampton",
            "Queenstown",
            "Queenstown",
            "Southampton",
            "Southampton",
            "Cherbourg",
            "Southampton",
            "Southampton",
            "Southampton",
            "Southampton",
            "Queenstown",
            "Southampton",
            "Southampton",
            "Cherbourg",
            "Southampton",
            "Southampton",
            "Southampton",
            "Queenstown",
            "Southampton",
            "Southampton",
            "Southampton",
            "Southampton",
            "Cherbourg",
            "Cherbourg",
            "Cherbourg",
            "Queenstown",
            "Southampton",
            "Southampton",
            "Southampton",
            "Southampton",
            "Southampton",
            "Cherbourg",
            "Cherbourg",
            "Cherbourg",
            "Southampton",
            "Southampton",
            "Southampton",
            "Cherbourg",
            "Southampton",
            "Cherbourg",
            "Southampton",
            "Southampton",
            "Southampton",
            "Southampton",
            "Cherbourg",
            "Southampton",
            "Southampton",
            "Cherbourg",
            "Southampton",
            "Southampton",
            "Cherbourg",
            "Southampton",
            "Queenstown",
            "Cherbourg",
            "Southampton",
            "Southampton",
            "Cherbourg",
            "Cherbourg",
            "Southampton",
            "Southampton",
            "Queenstown",
            "Southampton",
            "Southampton",
            "Southampton",
            "Southampton",
            "Southampton",
            "Southampton",
            "Southampton",
            "Cherbourg",
            "Southampton",
            "Southampton",
            "Southampton",
            "Southampton",
            "Queenstown",
            "Southampton",
            "Southampton",
            "Southampton",
            "Southampton",
            "Cherbourg",
            "Southampton",
            "Southampton",
            "Cherbourg",
            "Southampton",
            "Cherbourg",
            "Cherbourg",
            "Southampton",
            "Southampton",
            "Cherbourg",
            "Southampton",
            "Southampton",
            "Southampton",
            "Cherbourg",
            "Southampton",
            "Queenstown",
            "Southampton",
            "Southampton",
            "Southampton",
            "Southampton",
            "Cherbourg",
            "Cherbourg",
            "Southampton",
            "Southampton",
            "Southampton",
            "Southampton",
            "Cherbourg",
            "Southampton",
            "Southampton",
            "Southampton",
            "Cherbourg",
            "Southampton",
            "Southampton",
            "Southampton",
            "Queenstown",
            "Queenstown",
            "Southampton",
            "Southampton",
            "Southampton",
            "Southampton",
            "Southampton",
            "Southampton",
            "Cherbourg",
            "Southampton",
            "Cherbourg",
            "Southampton",
            "Southampton",
            "Southampton",
            "Queenstown",
            "Southampton",
            "Southampton",
            "Queenstown",
            "Southampton",
            "Southampton",
            "Cherbourg",
            "Southampton",
            "Southampton",
            "Southampton",
            "Southampton",
            "Southampton",
            "Southampton",
            "Southampton",
            "Southampton",
            "Cherbourg",
            "Southampton",
            "Southampton",
            "Cherbourg",
            "Cherbourg",
            "Southampton",
            "Cherbourg",
            "Southampton",
            "Southampton",
            "Southampton",
            "Southampton",
            "Southampton",
            "Queenstown",
            "Queenstown",
            "Southampton",
            "Southampton",
            "Queenstown",
            "Southampton",
            "Cherbourg",
            "Southampton",
            "Cherbourg",
            "Southampton",
            "Southampton",
            "Southampton",
            "Southampton",
            "Southampton",
            "Southampton",
            "Southampton",
            "Southampton",
            "Southampton",
            "Southampton",
            "Southampton",
            "Southampton",
            "Southampton",
            "Southampton",
            "Southampton",
            "Southampton",
            "Southampton",
            "Cherbourg",
            "Queenstown",
            "Cherbourg",
            "Southampton",
            "Southampton",
            "Southampton",
            "Cherbourg",
            "Southampton",
            "Southampton",
            "Southampton",
            "Southampton",
            "Southampton",
            "Cherbourg",
            "Southampton",
            "Cherbourg",
            "Southampton",
            "Southampton",
            "Southampton",
            "Queenstown",
            "Cherbourg",
            "Southampton",
            "Cherbourg",
            "Southampton",
            "Cherbourg",
            "Queenstown",
            "Southampton",
            "Southampton",
            "Southampton",
            "Southampton",
            "Southampton",
            "Cherbourg",
            "Cherbourg",
            "Southampton",
            "Southampton",
            "Southampton",
            "Southampton",
            "Southampton",
            "Cherbourg",
            "Southampton",
            "Queenstown",
            "Southampton",
            "Southampton",
            "Southampton",
            "Southampton",
            "Southampton",
            "Southampton",
            "Southampton",
            "Southampton",
            "Queenstown",
            "Southampton",
            "Southampton",
            "Southampton",
            "Cherbourg",
            "Southampton",
            "Southampton",
            "Southampton",
            "Southampton",
            "Southampton",
            "Cherbourg",
            "Southampton",
            "Southampton",
            "Southampton",
            "Southampton",
            "Cherbourg",
            "Southampton",
            "Southampton",
            "Southampton",
            "Southampton",
            "Southampton",
            "Southampton",
            "Queenstown",
            "Southampton",
            "Southampton",
            "Southampton",
            "Southampton",
            "Southampton",
            "Southampton",
            "Southampton",
            "Southampton",
            "Southampton",
            "Southampton",
            "Southampton",
            "Southampton",
            "Cherbourg",
            "Southampton",
            "Southampton",
            "Southampton",
            "Cherbourg",
            "Queenstown",
            "Queenstown",
            "Southampton",
            "Southampton",
            "Southampton",
            "Southampton",
            "Cherbourg",
            "Southampton",
            "Southampton",
            "Queenstown",
            "Southampton",
            "Queenstown",
            "Southampton",
            "Cherbourg",
            "Southampton",
            "Southampton",
            "Southampton",
            "Southampton",
            "Southampton",
            "Southampton",
            "Queenstown",
            "Southampton",
            "Cherbourg",
            "Queenstown",
            "Southampton",
            "Southampton",
            "Cherbourg",
            "Southampton",
            "Southampton",
            "Southampton",
            "Southampton",
            "Cherbourg",
            "Southampton",
            "Southampton",
            "Southampton",
            "Southampton",
            "Cherbourg",
            "Southampton",
            "Southampton",
            "Southampton",
            "Southampton",
            "Southampton",
            "Southampton",
            "Southampton",
            "Southampton",
            "Southampton",
            "Southampton",
            "Southampton",
            "Southampton",
            "Southampton",
            "Cherbourg",
            "Southampton",
            "Southampton",
            "Southampton",
            "Southampton",
            "Southampton",
            "Southampton",
            "Southampton",
            "Queenstown",
            "Southampton",
            "Cherbourg",
            "Queenstown",
            null,
            "Cherbourg",
            "Southampton",
            "Cherbourg",
            "Southampton",
            "Southampton",
            "Cherbourg",
            "Southampton",
            "Southampton",
            "Southampton",
            "Cherbourg",
            "Southampton",
            "Southampton",
            "Cherbourg",
            "Cherbourg",
            "Southampton",
            "Southampton",
            "Southampton",
            "Cherbourg",
            "Southampton",
            "Cherbourg",
            "Southampton",
            "Southampton",
            "Cherbourg",
            "Southampton",
            "Southampton",
            "Southampton",
            "Southampton",
            "Southampton",
            "Cherbourg",
            "Cherbourg",
            "Southampton",
            "Southampton",
            "Southampton",
            "Southampton",
            "Southampton",
            "Southampton",
            "Cherbourg",
            "Southampton",
            "Southampton",
            "Southampton",
            "Southampton",
            "Southampton",
            "Southampton",
            "Southampton",
            "Cherbourg",
            "Cherbourg",
            "Southampton",
            "Southampton",
            "Southampton",
            "Cherbourg",
            "Southampton",
            "Southampton",
            "Southampton",
            "Southampton",
            "Southampton",
            "Queenstown",
            "Southampton",
            "Southampton",
            "Southampton",
            "Cherbourg",
            "Queenstown"
           ]
          }
         ],
         "domain": {
          "x": [
           0,
           1
          ],
          "y": [
           0,
           1
          ]
         },
         "line": {
          "color": [
           0,
           1,
           1,
           1,
           0,
           0,
           0,
           0,
           1,
           1,
           1,
           1,
           0,
           0,
           0,
           1,
           0,
           1,
           0,
           1,
           0,
           1,
           1,
           1,
           0,
           1,
           0,
           0,
           1,
           0,
           0,
           1,
           1,
           0,
           0,
           0,
           1,
           0,
           0,
           1,
           0,
           0,
           0,
           1,
           1,
           0,
           0,
           1,
           0,
           0,
           0,
           0,
           1,
           1,
           0,
           1,
           1,
           0,
           1,
           0,
           0,
           1,
           0,
           0,
           0,
           1,
           1,
           0,
           1,
           0,
           0,
           0,
           0,
           0,
           1,
           0,
           0,
           0,
           1,
           1,
           0,
           1,
           1,
           0,
           1,
           1,
           0,
           0,
           1,
           0,
           0,
           0,
           0,
           0,
           0,
           0,
           0,
           1,
           1,
           0,
           0,
           0,
           0,
           0,
           0,
           0,
           1,
           1,
           0,
           1,
           0,
           0,
           0,
           0,
           0,
           0,
           0,
           0,
           0,
           0,
           0,
           0,
           0,
           1,
           0,
           1,
           0,
           1,
           1,
           0,
           0,
           0,
           0,
           1,
           0,
           0,
           1,
           0,
           0,
           0,
           0,
           1,
           1,
           0,
           0,
           0,
           1,
           0,
           0,
           0,
           0,
           1,
           0,
           0,
           0,
           0,
           1,
           0,
           0,
           0,
           0,
           1,
           0,
           0,
           0,
           1,
           1,
           0,
           0,
           0,
           0,
           0,
           1,
           0,
           0,
           0,
           0,
           0,
           0,
           0,
           0,
           0,
           0,
           1,
           1,
           0,
           1,
           1,
           0,
           0,
           1,
           0,
           1,
           1,
           1,
           1,
           0,
           0,
           1,
           0,
           0,
           0,
           0,
           0,
           1,
           0,
           0,
           1,
           1,
           1,
           0,
           1,
           0,
           0,
           0,
           1,
           1,
           0,
           1,
           0,
           1,
           0,
           0,
           0,
           1,
           0,
           1,
           0,
           0,
           0,
           1,
           0,
           0,
           1,
           0,
           0,
           0,
           1,
           0,
           0,
           0,
           1,
           0,
           0,
           0,
           0,
           0,
           1,
           1,
           0,
           0,
           0,
           0,
           0,
           0,
           1,
           1,
           1,
           1,
           1,
           0,
           1,
           0,
           0,
           0,
           0,
           0,
           1,
           1,
           1,
           0,
           1,
           1,
           0,
           1,
           1,
           0,
           0,
           0,
           1,
           0,
           0,
           0,
           1,
           0,
           0,
           1,
           0,
           1,
           1,
           1,
           1,
           0,
           0,
           0,
           0,
           0,
           0,
           1,
           1,
           1,
           1,
           0,
           1,
           0,
           1,
           1,
           1,
           0,
           1,
           1,
           1,
           0,
           0,
           0,
           1,
           1,
           0,
           1,
           1,
           0,
           0,
           1,
           1,
           0,
           1,
           0,
           1,
           1,
           1,
           1,
           0,
           0,
           0,
           1,
           0,
           0,
           1,
           1,
           0,
           1,
           1,
           0,
           0,
           0,
           1,
           1,
           1,
           1,
           0,
           0,
           0,
           0,
           0,
           0,
           0,
           1,
           0,
           1,
           1,
           0,
           0,
           0,
           0,
           0,
           0,
           1,
           1,
           1,
           1,
           1,
           0,
           0,
           0,
           0,
           1,
           1,
           0,
           0,
           0,
           1,
           1,
           0,
           1,
           0,
           0,
           0,
           1,
           0,
           1,
           1,
           1,
           0,
           1,
           1,
           0,
           0,
           0,
           0,
           1,
           1,
           0,
           0,
           0,
           0,
           0,
           0,
           1,
           0,
           0,
           0,
           0,
           1,
           0,
           1,
           0,
           1,
           1,
           0,
           0,
           0,
           0,
           0,
           0,
           0,
           0,
           1,
           1,
           0,
           1,
           1,
           1,
           1,
           0,
           0,
           1,
           0,
           1,
           0,
           0,
           1,
           0,
           0,
           1,
           1,
           1,
           1,
           1,
           1,
           1,
           0,
           0,
           0,
           1,
           0,
           1,
           0,
           1,
           1,
           0,
           1,
           0,
           0,
           0,
           0,
           0,
           0,
           0,
           0,
           1,
           0,
           0,
           1,
           1,
           0,
           0,
           0,
           0,
           0,
           1,
           0,
           0,
           0,
           1,
           1,
           0,
           1,
           0,
           0,
           1,
           0,
           0,
           0,
           0,
           0,
           0,
           1,
           0,
           0,
           0,
           0,
           0,
           0,
           0,
           1,
           0,
           1,
           1,
           0,
           1,
           1,
           0,
           1,
           1,
           0,
           0,
           1,
           0,
           1,
           0,
           1,
           0,
           0,
           1,
           0,
           0,
           1,
           0,
           0,
           0,
           1,
           0,
           0,
           1,
           0,
           1,
           0,
           1,
           0,
           1,
           1,
           0,
           0,
           1,
           0,
           0,
           1,
           1,
           0,
           1,
           1,
           0,
           0,
           1,
           1,
           0,
           1,
           0,
           1,
           1,
           0,
           0,
           0,
           0,
           0,
           0,
           0,
           0,
           0,
           1,
           1,
           1,
           1,
           1,
           0,
           0,
           1,
           1,
           0,
           1,
           1,
           1,
           0,
           0,
           0,
           1,
           0,
           1,
           0,
           0,
           0,
           1,
           0,
           0,
           0,
           0,
           1,
           0,
           0,
           1,
           1,
           0,
           0,
           0,
           1,
           0,
           0,
           1,
           1,
           1,
           0,
           0,
           1,
           0,
           0,
           1,
           0,
           0,
           1,
           0,
           0,
           1,
           1,
           0,
           0,
           0,
           0,
           1,
           0,
           0,
           1,
           0,
           1,
           0,
           0,
           1,
           0,
           0,
           0,
           0,
           0,
           1,
           0,
           1,
           1,
           1,
           0,
           1,
           0,
           1,
           0,
           1,
           0,
           1,
           0,
           0,
           0,
           0,
           0,
           0,
           1,
           0,
           0,
           0,
           1,
           0,
           0,
           0,
           0,
           1,
           1,
           0,
           0,
           1,
           0,
           0,
           0,
           1,
           0,
           1,
           0,
           1,
           0,
           0,
           0,
           0,
           0,
           0,
           0,
           1,
           1,
           1,
           1,
           0,
           0,
           0,
           0,
           1,
           0,
           0,
           1,
           1,
           0,
           0,
           0,
           0,
           1,
           1,
           1,
           1,
           1,
           0,
           1,
           0,
           0,
           0,
           1,
           1,
           0,
           0,
           1,
           0,
           0,
           0,
           1,
           0,
           1,
           1,
           0,
           0,
           1,
           0,
           0,
           0,
           0,
           0,
           0,
           1,
           0,
           0,
           1,
           0,
           1,
           0,
           1,
           0,
           0,
           1,
           0,
           0,
           1,
           1,
           0,
           0,
           1,
           1,
           0,
           0,
           0,
           1,
           0,
           0,
           1,
           1,
           0,
           1,
           0,
           0,
           0,
           0,
           0,
           0,
           0,
           0,
           1,
           0,
           0,
           1,
           0,
           1,
           1,
           1,
           0,
           0,
           0,
           0,
           1,
           0,
           1,
           0,
           0,
           0,
           0,
           0,
           0,
           0,
           1,
           1,
           0,
           0,
           0,
           1,
           1,
           1,
           1,
           0,
           0,
           0,
           0,
           1,
           0,
           0,
           0,
           0,
           0,
           0,
           0,
           0,
           0,
           0,
           1,
           1,
           0,
           1,
           0,
           0,
           0,
           1,
           1,
           1,
           1,
           1,
           0,
           0,
           0,
           1,
           0,
           0,
           1,
           1,
           0,
           0,
           1,
           0,
           0,
           0,
           0,
           0,
           0,
           1,
           0,
           0,
           0,
           1,
           0,
           1,
           1,
           1,
           1,
           0,
           0,
           0,
           1,
           0,
           0,
           1,
           1,
           0,
           0,
           1,
           0,
           1,
           0,
           0,
           1,
           1,
           0,
           0,
           0,
           1,
           1,
           0,
           0,
           0,
           0,
           0,
           0,
           1,
           0,
           1,
           0
          ],
          "coloraxis": "coloraxis"
         },
         "name": "",
         "type": "parcats"
        }
       ],
       "layout": {
        "coloraxis": {
         "colorbar": {
          "title": {
           "text": "survived"
          }
         },
         "colorscale": [
          [
           0,
           "#0d0887"
          ],
          [
           0.1111111111111111,
           "#46039f"
          ],
          [
           0.2222222222222222,
           "#7201a8"
          ],
          [
           0.3333333333333333,
           "#9c179e"
          ],
          [
           0.4444444444444444,
           "#bd3786"
          ],
          [
           0.5555555555555556,
           "#d8576b"
          ],
          [
           0.6666666666666666,
           "#ed7953"
          ],
          [
           0.7777777777777778,
           "#fb9f3a"
          ],
          [
           0.8888888888888888,
           "#fdca26"
          ],
          [
           1,
           "#f0f921"
          ]
         ]
        },
        "legend": {
         "tracegroupgap": 0
        },
        "margin": {
         "t": 60
        },
        "template": {
         "data": {
          "bar": [
           {
            "error_x": {
             "color": "#2a3f5f"
            },
            "error_y": {
             "color": "#2a3f5f"
            },
            "marker": {
             "line": {
              "color": "#E5ECF6",
              "width": 0.5
             }
            },
            "type": "bar"
           }
          ],
          "barpolar": [
           {
            "marker": {
             "line": {
              "color": "#E5ECF6",
              "width": 0.5
             }
            },
            "type": "barpolar"
           }
          ],
          "carpet": [
           {
            "aaxis": {
             "endlinecolor": "#2a3f5f",
             "gridcolor": "white",
             "linecolor": "white",
             "minorgridcolor": "white",
             "startlinecolor": "#2a3f5f"
            },
            "baxis": {
             "endlinecolor": "#2a3f5f",
             "gridcolor": "white",
             "linecolor": "white",
             "minorgridcolor": "white",
             "startlinecolor": "#2a3f5f"
            },
            "type": "carpet"
           }
          ],
          "choropleth": [
           {
            "colorbar": {
             "outlinewidth": 0,
             "ticks": ""
            },
            "type": "choropleth"
           }
          ],
          "contour": [
           {
            "colorbar": {
             "outlinewidth": 0,
             "ticks": ""
            },
            "colorscale": [
             [
              0,
              "#0d0887"
             ],
             [
              0.1111111111111111,
              "#46039f"
             ],
             [
              0.2222222222222222,
              "#7201a8"
             ],
             [
              0.3333333333333333,
              "#9c179e"
             ],
             [
              0.4444444444444444,
              "#bd3786"
             ],
             [
              0.5555555555555556,
              "#d8576b"
             ],
             [
              0.6666666666666666,
              "#ed7953"
             ],
             [
              0.7777777777777778,
              "#fb9f3a"
             ],
             [
              0.8888888888888888,
              "#fdca26"
             ],
             [
              1,
              "#f0f921"
             ]
            ],
            "type": "contour"
           }
          ],
          "contourcarpet": [
           {
            "colorbar": {
             "outlinewidth": 0,
             "ticks": ""
            },
            "type": "contourcarpet"
           }
          ],
          "heatmap": [
           {
            "colorbar": {
             "outlinewidth": 0,
             "ticks": ""
            },
            "colorscale": [
             [
              0,
              "#0d0887"
             ],
             [
              0.1111111111111111,
              "#46039f"
             ],
             [
              0.2222222222222222,
              "#7201a8"
             ],
             [
              0.3333333333333333,
              "#9c179e"
             ],
             [
              0.4444444444444444,
              "#bd3786"
             ],
             [
              0.5555555555555556,
              "#d8576b"
             ],
             [
              0.6666666666666666,
              "#ed7953"
             ],
             [
              0.7777777777777778,
              "#fb9f3a"
             ],
             [
              0.8888888888888888,
              "#fdca26"
             ],
             [
              1,
              "#f0f921"
             ]
            ],
            "type": "heatmap"
           }
          ],
          "heatmapgl": [
           {
            "colorbar": {
             "outlinewidth": 0,
             "ticks": ""
            },
            "colorscale": [
             [
              0,
              "#0d0887"
             ],
             [
              0.1111111111111111,
              "#46039f"
             ],
             [
              0.2222222222222222,
              "#7201a8"
             ],
             [
              0.3333333333333333,
              "#9c179e"
             ],
             [
              0.4444444444444444,
              "#bd3786"
             ],
             [
              0.5555555555555556,
              "#d8576b"
             ],
             [
              0.6666666666666666,
              "#ed7953"
             ],
             [
              0.7777777777777778,
              "#fb9f3a"
             ],
             [
              0.8888888888888888,
              "#fdca26"
             ],
             [
              1,
              "#f0f921"
             ]
            ],
            "type": "heatmapgl"
           }
          ],
          "histogram": [
           {
            "marker": {
             "colorbar": {
              "outlinewidth": 0,
              "ticks": ""
             }
            },
            "type": "histogram"
           }
          ],
          "histogram2d": [
           {
            "colorbar": {
             "outlinewidth": 0,
             "ticks": ""
            },
            "colorscale": [
             [
              0,
              "#0d0887"
             ],
             [
              0.1111111111111111,
              "#46039f"
             ],
             [
              0.2222222222222222,
              "#7201a8"
             ],
             [
              0.3333333333333333,
              "#9c179e"
             ],
             [
              0.4444444444444444,
              "#bd3786"
             ],
             [
              0.5555555555555556,
              "#d8576b"
             ],
             [
              0.6666666666666666,
              "#ed7953"
             ],
             [
              0.7777777777777778,
              "#fb9f3a"
             ],
             [
              0.8888888888888888,
              "#fdca26"
             ],
             [
              1,
              "#f0f921"
             ]
            ],
            "type": "histogram2d"
           }
          ],
          "histogram2dcontour": [
           {
            "colorbar": {
             "outlinewidth": 0,
             "ticks": ""
            },
            "colorscale": [
             [
              0,
              "#0d0887"
             ],
             [
              0.1111111111111111,
              "#46039f"
             ],
             [
              0.2222222222222222,
              "#7201a8"
             ],
             [
              0.3333333333333333,
              "#9c179e"
             ],
             [
              0.4444444444444444,
              "#bd3786"
             ],
             [
              0.5555555555555556,
              "#d8576b"
             ],
             [
              0.6666666666666666,
              "#ed7953"
             ],
             [
              0.7777777777777778,
              "#fb9f3a"
             ],
             [
              0.8888888888888888,
              "#fdca26"
             ],
             [
              1,
              "#f0f921"
             ]
            ],
            "type": "histogram2dcontour"
           }
          ],
          "mesh3d": [
           {
            "colorbar": {
             "outlinewidth": 0,
             "ticks": ""
            },
            "type": "mesh3d"
           }
          ],
          "parcoords": [
           {
            "line": {
             "colorbar": {
              "outlinewidth": 0,
              "ticks": ""
             }
            },
            "type": "parcoords"
           }
          ],
          "pie": [
           {
            "automargin": true,
            "type": "pie"
           }
          ],
          "scatter": [
           {
            "marker": {
             "colorbar": {
              "outlinewidth": 0,
              "ticks": ""
             }
            },
            "type": "scatter"
           }
          ],
          "scatter3d": [
           {
            "line": {
             "colorbar": {
              "outlinewidth": 0,
              "ticks": ""
             }
            },
            "marker": {
             "colorbar": {
              "outlinewidth": 0,
              "ticks": ""
             }
            },
            "type": "scatter3d"
           }
          ],
          "scattercarpet": [
           {
            "marker": {
             "colorbar": {
              "outlinewidth": 0,
              "ticks": ""
             }
            },
            "type": "scattercarpet"
           }
          ],
          "scattergeo": [
           {
            "marker": {
             "colorbar": {
              "outlinewidth": 0,
              "ticks": ""
             }
            },
            "type": "scattergeo"
           }
          ],
          "scattergl": [
           {
            "marker": {
             "colorbar": {
              "outlinewidth": 0,
              "ticks": ""
             }
            },
            "type": "scattergl"
           }
          ],
          "scattermapbox": [
           {
            "marker": {
             "colorbar": {
              "outlinewidth": 0,
              "ticks": ""
             }
            },
            "type": "scattermapbox"
           }
          ],
          "scatterpolar": [
           {
            "marker": {
             "colorbar": {
              "outlinewidth": 0,
              "ticks": ""
             }
            },
            "type": "scatterpolar"
           }
          ],
          "scatterpolargl": [
           {
            "marker": {
             "colorbar": {
              "outlinewidth": 0,
              "ticks": ""
             }
            },
            "type": "scatterpolargl"
           }
          ],
          "scatterternary": [
           {
            "marker": {
             "colorbar": {
              "outlinewidth": 0,
              "ticks": ""
             }
            },
            "type": "scatterternary"
           }
          ],
          "surface": [
           {
            "colorbar": {
             "outlinewidth": 0,
             "ticks": ""
            },
            "colorscale": [
             [
              0,
              "#0d0887"
             ],
             [
              0.1111111111111111,
              "#46039f"
             ],
             [
              0.2222222222222222,
              "#7201a8"
             ],
             [
              0.3333333333333333,
              "#9c179e"
             ],
             [
              0.4444444444444444,
              "#bd3786"
             ],
             [
              0.5555555555555556,
              "#d8576b"
             ],
             [
              0.6666666666666666,
              "#ed7953"
             ],
             [
              0.7777777777777778,
              "#fb9f3a"
             ],
             [
              0.8888888888888888,
              "#fdca26"
             ],
             [
              1,
              "#f0f921"
             ]
            ],
            "type": "surface"
           }
          ],
          "table": [
           {
            "cells": {
             "fill": {
              "color": "#EBF0F8"
             },
             "line": {
              "color": "white"
             }
            },
            "header": {
             "fill": {
              "color": "#C8D4E3"
             },
             "line": {
              "color": "white"
             }
            },
            "type": "table"
           }
          ]
         },
         "layout": {
          "annotationdefaults": {
           "arrowcolor": "#2a3f5f",
           "arrowhead": 0,
           "arrowwidth": 1
          },
          "coloraxis": {
           "colorbar": {
            "outlinewidth": 0,
            "ticks": ""
           }
          },
          "colorscale": {
           "diverging": [
            [
             0,
             "#8e0152"
            ],
            [
             0.1,
             "#c51b7d"
            ],
            [
             0.2,
             "#de77ae"
            ],
            [
             0.3,
             "#f1b6da"
            ],
            [
             0.4,
             "#fde0ef"
            ],
            [
             0.5,
             "#f7f7f7"
            ],
            [
             0.6,
             "#e6f5d0"
            ],
            [
             0.7,
             "#b8e186"
            ],
            [
             0.8,
             "#7fbc41"
            ],
            [
             0.9,
             "#4d9221"
            ],
            [
             1,
             "#276419"
            ]
           ],
           "sequential": [
            [
             0,
             "#0d0887"
            ],
            [
             0.1111111111111111,
             "#46039f"
            ],
            [
             0.2222222222222222,
             "#7201a8"
            ],
            [
             0.3333333333333333,
             "#9c179e"
            ],
            [
             0.4444444444444444,
             "#bd3786"
            ],
            [
             0.5555555555555556,
             "#d8576b"
            ],
            [
             0.6666666666666666,
             "#ed7953"
            ],
            [
             0.7777777777777778,
             "#fb9f3a"
            ],
            [
             0.8888888888888888,
             "#fdca26"
            ],
            [
             1,
             "#f0f921"
            ]
           ],
           "sequentialminus": [
            [
             0,
             "#0d0887"
            ],
            [
             0.1111111111111111,
             "#46039f"
            ],
            [
             0.2222222222222222,
             "#7201a8"
            ],
            [
             0.3333333333333333,
             "#9c179e"
            ],
            [
             0.4444444444444444,
             "#bd3786"
            ],
            [
             0.5555555555555556,
             "#d8576b"
            ],
            [
             0.6666666666666666,
             "#ed7953"
            ],
            [
             0.7777777777777778,
             "#fb9f3a"
            ],
            [
             0.8888888888888888,
             "#fdca26"
            ],
            [
             1,
             "#f0f921"
            ]
           ]
          },
          "colorway": [
           "#636efa",
           "#EF553B",
           "#00cc96",
           "#ab63fa",
           "#FFA15A",
           "#19d3f3",
           "#FF6692",
           "#B6E880",
           "#FF97FF",
           "#FECB52"
          ],
          "font": {
           "color": "#2a3f5f"
          },
          "geo": {
           "bgcolor": "white",
           "lakecolor": "white",
           "landcolor": "#E5ECF6",
           "showlakes": true,
           "showland": true,
           "subunitcolor": "white"
          },
          "hoverlabel": {
           "align": "left"
          },
          "hovermode": "closest",
          "mapbox": {
           "style": "light"
          },
          "paper_bgcolor": "white",
          "plot_bgcolor": "#E5ECF6",
          "polar": {
           "angularaxis": {
            "gridcolor": "white",
            "linecolor": "white",
            "ticks": ""
           },
           "bgcolor": "#E5ECF6",
           "radialaxis": {
            "gridcolor": "white",
            "linecolor": "white",
            "ticks": ""
           }
          },
          "scene": {
           "xaxis": {
            "backgroundcolor": "#E5ECF6",
            "gridcolor": "white",
            "gridwidth": 2,
            "linecolor": "white",
            "showbackground": true,
            "ticks": "",
            "zerolinecolor": "white"
           },
           "yaxis": {
            "backgroundcolor": "#E5ECF6",
            "gridcolor": "white",
            "gridwidth": 2,
            "linecolor": "white",
            "showbackground": true,
            "ticks": "",
            "zerolinecolor": "white"
           },
           "zaxis": {
            "backgroundcolor": "#E5ECF6",
            "gridcolor": "white",
            "gridwidth": 2,
            "linecolor": "white",
            "showbackground": true,
            "ticks": "",
            "zerolinecolor": "white"
           }
          },
          "shapedefaults": {
           "line": {
            "color": "#2a3f5f"
           }
          },
          "ternary": {
           "aaxis": {
            "gridcolor": "white",
            "linecolor": "white",
            "ticks": ""
           },
           "baxis": {
            "gridcolor": "white",
            "linecolor": "white",
            "ticks": ""
           },
           "bgcolor": "#E5ECF6",
           "caxis": {
            "gridcolor": "white",
            "linecolor": "white",
            "ticks": ""
           }
          },
          "title": {
           "x": 0.05
          },
          "xaxis": {
           "automargin": true,
           "gridcolor": "white",
           "linecolor": "white",
           "ticks": "",
           "title": {
            "standoff": 15
           },
           "zerolinecolor": "white",
           "zerolinewidth": 2
          },
          "yaxis": {
           "automargin": true,
           "gridcolor": "white",
           "linecolor": "white",
           "ticks": "",
           "title": {
            "standoff": 15
           },
           "zerolinecolor": "white",
           "zerolinewidth": 2
          }
         }
        }
       }
      },
      "text/html": [
       "<div>                            <div id=\"a4709a0b-8a4e-4109-802b-60dfb9bca28a\" class=\"plotly-graph-div\" style=\"height:525px; width:100%;\"></div>            <script type=\"text/javascript\">                require([\"plotly\"], function(Plotly) {                    window.PLOTLYENV=window.PLOTLYENV || {};                                    if (document.getElementById(\"a4709a0b-8a4e-4109-802b-60dfb9bca28a\")) {                    Plotly.newPlot(                        \"a4709a0b-8a4e-4109-802b-60dfb9bca28a\",                        [{\"dimensions\": [{\"label\": \"class\", \"values\": [\"Third\", \"First\", \"Third\", \"First\", \"Third\", \"Third\", \"First\", \"Third\", \"Third\", \"Second\", \"Third\", \"First\", \"Third\", \"Third\", \"Third\", \"Second\", \"Third\", \"Second\", \"Third\", \"Third\", \"Second\", \"Second\", \"Third\", \"First\", \"Third\", \"Third\", \"Third\", \"First\", \"Third\", \"Third\", \"First\", \"First\", \"Third\", \"Second\", \"First\", \"First\", \"Third\", \"Third\", \"Third\", \"Third\", \"Third\", \"Second\", \"Third\", \"Second\", \"Third\", \"Third\", \"Third\", \"Third\", \"Third\", \"Third\", \"Third\", \"Third\", \"First\", \"Second\", \"First\", \"First\", \"Second\", \"Third\", \"Second\", \"Third\", \"Third\", \"First\", \"First\", \"Third\", \"First\", \"Third\", \"Second\", \"Third\", \"Third\", \"Third\", \"Second\", \"Third\", \"Second\", \"Third\", \"Third\", \"Third\", \"Third\", \"Third\", \"Second\", \"Third\", \"Third\", \"Third\", \"Third\", \"First\", \"Second\", \"Third\", \"Third\", \"Third\", \"First\", \"Third\", \"Third\", \"Third\", \"First\", \"Third\", \"Third\", \"Third\", \"First\", \"First\", \"Second\", \"Second\", \"Third\", \"Third\", \"First\", \"Third\", \"Third\", \"Third\", \"Third\", \"Third\", \"Third\", \"Third\", \"First\", \"Third\", \"Third\", \"Third\", \"Third\", \"Third\", \"Third\", \"Second\", \"First\", \"Third\", \"Second\", \"Third\", \"Second\", \"Second\", \"First\", \"Third\", \"Third\", \"Third\", \"Third\", \"Third\", \"Third\", \"Third\", \"Third\", \"Second\", \"Second\", \"Second\", \"First\", \"First\", \"Third\", \"First\", \"Third\", \"Third\", \"Third\", \"Third\", \"Second\", \"Second\", \"Third\", \"Third\", \"Second\", \"Second\", \"Second\", \"First\", \"Third\", \"Third\", \"Third\", \"First\", \"Third\", \"Third\", \"Third\", \"Third\", \"Third\", \"Second\", \"Third\", \"Third\", \"Third\", \"Third\", \"First\", \"Third\", \"First\", \"Third\", \"First\", \"Third\", \"Third\", \"Third\", \"First\", \"Third\", \"Third\", \"First\", \"Second\", \"Third\", \"Third\", \"Second\", \"Third\", \"Second\", \"Third\", \"First\", \"Third\", \"First\", \"Third\", \"Third\", \"Second\", \"Second\", \"Third\", \"Second\", \"First\", \"First\", \"Third\", \"Third\", \"Third\", \"Second\", \"Third\", \"Third\", \"Third\", \"Third\", \"Third\", \"Third\", \"Third\", \"Third\", \"Third\", \"First\", \"Third\", \"Second\", \"Third\", \"Second\", \"Third\", \"First\", \"Third\", \"Second\", \"First\", \"Second\", \"Third\", \"Second\", \"Third\", \"Third\", \"First\", \"Third\", \"Second\", \"Third\", \"Second\", \"Third\", \"First\", \"Third\", \"Second\", \"Third\", \"Second\", \"Third\", \"Second\", \"Second\", \"Second\", \"Second\", \"Third\", \"Third\", \"Second\", \"Third\", \"Third\", \"First\", \"Third\", \"Second\", \"First\", \"Second\", \"Third\", \"Third\", \"First\", \"Third\", \"Third\", \"Third\", \"First\", \"First\", \"First\", \"Second\", \"Third\", \"Third\", \"First\", \"First\", \"Third\", \"Second\", \"Third\", \"Third\", \"First\", \"First\", \"First\", \"Third\", \"Second\", \"First\", \"Third\", \"First\", \"Third\", \"Second\", \"Third\", \"Third\", \"Third\", \"Third\", \"Third\", \"Third\", \"First\", \"Third\", \"Third\", \"Third\", \"Second\", \"Third\", \"First\", \"First\", \"Second\", \"Third\", \"Third\", \"First\", \"Third\", \"First\", \"First\", \"First\", \"Third\", \"Third\", \"Third\", \"Second\", \"Third\", \"First\", \"First\", \"First\", \"Second\", \"First\", \"First\", \"First\", \"Second\", \"Third\", \"Second\", \"Third\", \"Second\", \"Second\", \"First\", \"First\", \"Third\", \"Third\", \"Second\", \"Second\", \"Third\", \"First\", \"Third\", \"Second\", \"Third\", \"First\", \"Third\", \"First\", \"First\", \"Third\", \"First\", \"Third\", \"First\", \"First\", \"Third\", \"First\", \"Second\", \"First\", \"Second\", \"Second\", \"Second\", \"Second\", \"Second\", \"Third\", \"Third\", \"Third\", \"Third\", \"First\", \"Third\", \"Third\", \"Third\", \"Third\", \"First\", \"Second\", \"Third\", \"Third\", \"Third\", \"Second\", \"Third\", \"Third\", \"Third\", \"Third\", \"First\", \"Third\", \"Third\", \"First\", \"First\", \"Third\", \"Third\", \"First\", \"Third\", \"First\", \"Third\", \"First\", \"Third\", \"Third\", \"First\", \"Third\", \"Third\", \"First\", \"Third\", \"Second\", \"Third\", \"Second\", \"Third\", \"Second\", \"First\", \"Third\", \"Third\", \"First\", \"Third\", \"Third\", \"Third\", \"Second\", \"Second\", \"Second\", \"Third\", \"Third\", \"Third\", \"Third\", \"Third\", \"Second\", \"Third\", \"Second\", \"Third\", \"Third\", \"Third\", \"Third\", \"First\", \"Second\", \"Third\", \"Third\", \"Second\", \"Second\", \"Second\", \"Third\", \"Third\", \"Third\", \"Third\", \"Third\", \"Third\", \"Third\", \"Second\", \"Second\", \"Third\", \"Third\", \"First\", \"Third\", \"Second\", \"Third\", \"First\", \"First\", \"Third\", \"Second\", \"First\", \"Second\", \"Second\", \"Third\", \"Third\", \"Second\", \"Third\", \"First\", \"Second\", \"First\", \"Third\", \"First\", \"Second\", \"Third\", \"First\", \"First\", \"Third\", \"Third\", \"First\", \"First\", \"Second\", \"Third\", \"First\", \"Third\", \"First\", \"Second\", \"Third\", \"Third\", \"Second\", \"First\", \"Third\", \"Third\", \"Third\", \"Third\", \"Second\", \"Second\", \"Third\", \"First\", \"Second\", \"Third\", \"Third\", \"Third\", \"Third\", \"Second\", \"Third\", \"Third\", \"First\", \"Third\", \"First\", \"First\", \"Third\", \"Third\", \"Third\", \"Third\", \"First\", \"First\", \"Third\", \"Third\", \"First\", \"Third\", \"First\", \"Third\", \"Third\", \"Third\", \"Third\", \"Third\", \"First\", \"First\", \"Second\", \"First\", \"Third\", \"Third\", \"Third\", \"Third\", \"First\", \"First\", \"Third\", \"First\", \"Second\", \"Third\", \"Second\", \"Third\", \"First\", \"Third\", \"Third\", \"First\", \"Third\", \"Third\", \"Second\", \"First\", \"Third\", \"Second\", \"Second\", \"Third\", \"Third\", \"Third\", \"Third\", \"Second\", \"First\", \"First\", \"Third\", \"First\", \"First\", \"Third\", \"Third\", \"Second\", \"First\", \"First\", \"Second\", \"Second\", \"Third\", \"Second\", \"First\", \"Second\", \"Third\", \"Third\", \"Third\", \"First\", \"First\", \"First\", \"First\", \"Third\", \"Third\", \"Third\", \"Second\", \"Third\", \"Third\", \"Third\", \"Third\", \"Third\", \"Third\", \"Third\", \"Second\", \"First\", \"First\", \"Third\", \"Third\", \"Third\", \"Second\", \"First\", \"Third\", \"Third\", \"Second\", \"First\", \"Second\", \"First\", \"Third\", \"First\", \"Second\", \"First\", \"Third\", \"Third\", \"Third\", \"First\", \"Third\", \"Third\", \"Second\", \"Third\", \"Second\", \"Third\", \"Third\", \"First\", \"Second\", \"Third\", \"First\", \"Third\", \"First\", \"Third\", \"Third\", \"First\", \"Second\", \"First\", \"Third\", \"Third\", \"Third\", \"Third\", \"Third\", \"Second\", \"Third\", \"Third\", \"Second\", \"Second\", \"Third\", \"First\", \"Third\", \"Third\", \"Third\", \"First\", \"Second\", \"First\", \"Third\", \"Third\", \"First\", \"Third\", \"First\", \"First\", \"Third\", \"Second\", \"Third\", \"Second\", \"Third\", \"Third\", \"Third\", \"First\", \"Third\", \"Third\", \"Third\", \"First\", \"Third\", \"First\", \"Third\", \"Third\", \"Third\", \"Second\", \"Third\", \"Third\", \"Third\", \"Second\", \"Third\", \"Third\", \"Second\", \"First\", \"First\", \"Third\", \"First\", \"Third\", \"Third\", \"Second\", \"Second\", \"Third\", \"Third\", \"First\", \"Second\", \"First\", \"Second\", \"Second\", \"Second\", \"Third\", \"Third\", \"Third\", \"Third\", \"First\", \"Third\", \"First\", \"Third\", \"Third\", \"Second\", \"Second\", \"Third\", \"Third\", \"Third\", \"First\", \"First\", \"Third\", \"Third\", \"Third\", \"First\", \"Second\", \"Third\", \"Third\", \"First\", \"Third\", \"First\", \"First\", \"Third\", \"Third\", \"Third\", \"Second\", \"Second\", \"First\", \"First\", \"Third\", \"First\", \"First\", \"First\", \"Third\", \"Second\", \"Third\", \"First\", \"Second\", \"Third\", \"Third\", \"Second\", \"Third\", \"Second\", \"Second\", \"First\", \"Third\", \"Second\", \"Third\", \"Second\", \"Third\", \"First\", \"Third\", \"Second\", \"Second\", \"Second\", \"Third\", \"Third\", \"First\", \"Third\", \"Third\", \"First\", \"First\", \"First\", \"Third\", \"Third\", \"First\", \"Third\", \"Second\", \"First\", \"Third\", \"Second\", \"Third\", \"Third\", \"Third\", \"Second\", \"Second\", \"Third\", \"Second\", \"Third\", \"First\", \"Third\", \"Third\", \"Third\", \"First\", \"Third\", \"First\", \"First\", \"Third\", \"Third\", \"Third\", \"Third\", \"Third\", \"Second\", \"Third\", \"Second\", \"Third\", \"Third\", \"Third\", \"Third\", \"First\", \"Third\", \"First\", \"First\", \"Third\", \"Third\", \"Third\", \"Third\", \"Third\", \"Third\", \"First\", \"Third\", \"Second\", \"Third\", \"First\", \"Third\", \"Second\", \"First\", \"Third\", \"Third\", \"Third\", \"Second\", \"Second\", \"First\", \"Third\", \"Third\", \"Third\", \"First\", \"Third\", \"Second\", \"First\", \"Third\", \"Third\", \"Second\", \"Third\", \"Third\", \"First\", \"Third\", \"Second\", \"Third\", \"Third\", \"First\", \"Third\", \"First\", \"Third\", \"Third\", \"Third\", \"Third\", \"Second\", \"Third\", \"First\", \"Third\", \"Second\", \"Third\", \"Third\", \"Third\", \"First\", \"Third\", \"Third\", \"Third\", \"First\", \"Third\", \"Second\", \"First\", \"Third\", \"Third\", \"Third\", \"Third\", \"Third\", \"Second\", \"First\", \"Third\", \"Third\", \"Third\", \"First\", \"Second\", \"Third\", \"First\", \"First\", \"Third\", \"Third\", \"Third\", \"Second\", \"First\", \"Third\", \"Second\", \"Second\", \"Second\", \"First\", \"Third\", \"Third\", \"Third\", \"First\", \"First\", \"Third\", \"Second\", \"Third\", \"Third\", \"Third\", \"Third\", \"First\", \"Second\", \"Third\", \"Third\", \"Second\", \"Third\", \"Third\", \"Second\", \"First\", \"Third\", \"First\", \"Third\"]}, {\"label\": \"embark_town\", \"values\": [\"Southampton\", \"Cherbourg\", \"Southampton\", \"Southampton\", \"Southampton\", \"Queenstown\", \"Southampton\", \"Southampton\", \"Southampton\", \"Cherbourg\", \"Southampton\", \"Southampton\", \"Southampton\", \"Southampton\", \"Southampton\", \"Southampton\", \"Queenstown\", \"Southampton\", \"Southampton\", \"Cherbourg\", \"Southampton\", \"Southampton\", \"Queenstown\", \"Southampton\", \"Southampton\", \"Southampton\", \"Cherbourg\", \"Southampton\", \"Queenstown\", \"Southampton\", \"Cherbourg\", \"Cherbourg\", \"Queenstown\", \"Southampton\", \"Cherbourg\", \"Southampton\", \"Cherbourg\", \"Southampton\", \"Southampton\", \"Cherbourg\", \"Southampton\", \"Southampton\", \"Cherbourg\", \"Cherbourg\", \"Queenstown\", \"Southampton\", \"Queenstown\", \"Queenstown\", \"Cherbourg\", \"Southampton\", \"Southampton\", \"Southampton\", \"Cherbourg\", \"Southampton\", \"Cherbourg\", \"Southampton\", \"Southampton\", \"Cherbourg\", \"Southampton\", \"Southampton\", \"Cherbourg\", null, \"Southampton\", \"Southampton\", \"Cherbourg\", \"Cherbourg\", \"Southampton\", \"Southampton\", \"Southampton\", \"Southampton\", \"Southampton\", \"Southampton\", \"Southampton\", \"Cherbourg\", \"Southampton\", \"Southampton\", \"Southampton\", \"Southampton\", \"Southampton\", \"Southampton\", \"Southampton\", \"Southampton\", \"Queenstown\", \"Southampton\", \"Southampton\", \"Southampton\", \"Southampton\", \"Southampton\", \"Southampton\", \"Southampton\", \"Southampton\", \"Southampton\", \"Southampton\", \"Southampton\", \"Southampton\", \"Southampton\", \"Cherbourg\", \"Cherbourg\", \"Southampton\", \"Southampton\", \"Southampton\", \"Southampton\", \"Southampton\", \"Southampton\", \"Southampton\", \"Southampton\", \"Southampton\", \"Southampton\", \"Southampton\", \"Queenstown\", \"Southampton\", \"Cherbourg\", \"Southampton\", \"Southampton\", \"Cherbourg\", \"Southampton\", \"Queenstown\", \"Southampton\", \"Cherbourg\", \"Southampton\", \"Southampton\", \"Southampton\", \"Cherbourg\", \"Southampton\", \"Southampton\", \"Cherbourg\", \"Queenstown\", \"Southampton\", \"Cherbourg\", \"Southampton\", \"Cherbourg\", \"Southampton\", \"Southampton\", \"Southampton\", \"Southampton\", \"Cherbourg\", \"Southampton\", \"Southampton\", \"Southampton\", \"Cherbourg\", \"Cherbourg\", \"Southampton\", \"Southampton\", \"Queenstown\", \"Southampton\", \"Southampton\", \"Southampton\", \"Southampton\", \"Southampton\", \"Southampton\", \"Southampton\", \"Southampton\", \"Southampton\", \"Southampton\", \"Southampton\", \"Cherbourg\", \"Queenstown\", \"Southampton\", \"Southampton\", \"Southampton\", \"Southampton\", \"Southampton\", \"Southampton\", \"Southampton\", \"Southampton\", \"Southampton\", \"Southampton\", \"Southampton\", \"Southampton\", \"Southampton\", \"Southampton\", \"Queenstown\", \"Southampton\", \"Southampton\", \"Cherbourg\", \"Southampton\", \"Southampton\", \"Cherbourg\", \"Southampton\", \"Southampton\", \"Southampton\", \"Cherbourg\", \"Southampton\", \"Southampton\", \"Southampton\", \"Southampton\", \"Queenstown\", \"Southampton\", \"Queenstown\", \"Southampton\", \"Southampton\", \"Southampton\", \"Southampton\", \"Southampton\", \"Cherbourg\", \"Cherbourg\", \"Queenstown\", \"Southampton\", \"Queenstown\", \"Southampton\", \"Southampton\", \"Southampton\", \"Southampton\", \"Cherbourg\", \"Southampton\", \"Southampton\", \"Southampton\", \"Cherbourg\", \"Queenstown\", \"Cherbourg\", \"Southampton\", \"Southampton\", \"Southampton\", \"Southampton\", \"Queenstown\", \"Cherbourg\", \"Southampton\", \"Southampton\", \"Cherbourg\", \"Southampton\", \"Southampton\", \"Southampton\", \"Southampton\", \"Southampton\", \"Southampton\", \"Southampton\", \"Southampton\", \"Southampton\", \"Southampton\", \"Southampton\", \"Southampton\", \"Southampton\", \"Southampton\", \"Southampton\", \"Southampton\", \"Southampton\", \"Southampton\", \"Southampton\", \"Southampton\", \"Southampton\", \"Cherbourg\", \"Queenstown\", \"Southampton\", \"Southampton\", \"Cherbourg\", \"Queenstown\", \"Southampton\", \"Southampton\", \"Southampton\", \"Southampton\", \"Southampton\", \"Southampton\", \"Southampton\", \"Southampton\", \"Southampton\", \"Cherbourg\", \"Cherbourg\", \"Southampton\", \"Cherbourg\", \"Southampton\", \"Queenstown\", \"Southampton\", \"Southampton\", \"Southampton\", \"Queenstown\", \"Southampton\", \"Southampton\", \"Southampton\", \"Southampton\", \"Southampton\", \"Southampton\", \"Southampton\", \"Southampton\", \"Cherbourg\", \"Queenstown\", \"Southampton\", \"Southampton\", \"Southampton\", \"Queenstown\", \"Southampton\", \"Queenstown\", \"Southampton\", \"Southampton\", \"Southampton\", \"Southampton\", \"Cherbourg\", \"Southampton\", \"Southampton\", \"Southampton\", \"Queenstown\", \"Southampton\", \"Cherbourg\", \"Cherbourg\", \"Southampton\", \"Southampton\", \"Cherbourg\", \"Cherbourg\", \"Southampton\", \"Southampton\", \"Cherbourg\", \"Queenstown\", \"Queenstown\", \"Southampton\", \"Queenstown\", \"Southampton\", \"Southampton\", \"Cherbourg\", \"Cherbourg\", \"Cherbourg\", \"Cherbourg\", \"Cherbourg\", \"Cherbourg\", \"Southampton\", \"Southampton\", \"Southampton\", \"Southampton\", \"Southampton\", \"Southampton\", \"Southampton\", \"Cherbourg\", \"Southampton\", \"Southampton\", \"Queenstown\", \"Southampton\", \"Southampton\", \"Cherbourg\", \"Southampton\", \"Southampton\", \"Southampton\", \"Cherbourg\", \"Queenstown\", \"Southampton\", \"Southampton\", \"Southampton\", \"Southampton\", \"Southampton\", \"Southampton\", \"Cherbourg\", \"Southampton\", \"Southampton\", \"Southampton\", \"Southampton\", \"Southampton\", \"Southampton\", \"Southampton\", \"Southampton\", \"Southampton\", \"Southampton\", \"Southampton\", \"Southampton\", \"Southampton\", \"Southampton\", \"Cherbourg\", \"Southampton\", \"Cherbourg\", \"Southampton\", \"Southampton\", \"Southampton\", \"Queenstown\", \"Queenstown\", \"Southampton\", \"Cherbourg\", \"Cherbourg\", \"Southampton\", \"Queenstown\", \"Southampton\", \"Cherbourg\", \"Cherbourg\", \"Queenstown\", \"Cherbourg\", \"Cherbourg\", \"Southampton\", \"Southampton\", \"Cherbourg\", \"Southampton\", \"Cherbourg\", \"Southampton\", \"Cherbourg\", \"Cherbourg\", \"Southampton\", \"Cherbourg\", \"Cherbourg\", \"Southampton\", \"Southampton\", \"Southampton\", \"Southampton\", \"Southampton\", \"Southampton\", \"Queenstown\", \"Cherbourg\", \"Southampton\", \"Southampton\", \"Southampton\", \"Cherbourg\", \"Southampton\", \"Southampton\", \"Southampton\", \"Southampton\", \"Southampton\", \"Southampton\", \"Southampton\", \"Southampton\", \"Southampton\", \"Southampton\", \"Southampton\", \"Southampton\", \"Southampton\", \"Southampton\", \"Southampton\", \"Southampton\", \"Southampton\", \"Queenstown\", \"Queenstown\", \"Southampton\", \"Southampton\", \"Southampton\", \"Southampton\", \"Southampton\", \"Southampton\", \"Southampton\", \"Cherbourg\", \"Queenstown\", \"Southampton\", \"Southampton\", \"Southampton\", \"Southampton\", \"Southampton\", \"Southampton\", \"Queenstown\", \"Southampton\", \"Southampton\", \"Southampton\", \"Southampton\", \"Southampton\", \"Southampton\", \"Southampton\", \"Southampton\", \"Southampton\", \"Southampton\", \"Southampton\", \"Southampton\", \"Southampton\", \"Southampton\", \"Southampton\", \"Southampton\", \"Southampton\", \"Southampton\", \"Southampton\", \"Cherbourg\", \"Southampton\", \"Southampton\", \"Southampton\", \"Cherbourg\", \"Cherbourg\", \"Southampton\", \"Cherbourg\", \"Southampton\", \"Southampton\", \"Southampton\", \"Queenstown\", \"Southampton\", \"Southampton\", \"Southampton\", \"Southampton\", \"Southampton\", \"Southampton\", \"Southampton\", \"Southampton\", \"Queenstown\", \"Cherbourg\", \"Southampton\", \"Southampton\", \"Southampton\", \"Cherbourg\", \"Southampton\", \"Southampton\", \"Southampton\", \"Southampton\", \"Southampton\", \"Southampton\", \"Southampton\", \"Southampton\", \"Southampton\", \"Southampton\", \"Cherbourg\", \"Southampton\", \"Southampton\", \"Cherbourg\", \"Southampton\", \"Southampton\", \"Southampton\", \"Southampton\", \"Southampton\", \"Cherbourg\", \"Southampton\", \"Cherbourg\", \"Cherbourg\", \"Southampton\", \"Southampton\", \"Southampton\", \"Southampton\", \"Queenstown\", \"Queenstown\", \"Southampton\", \"Southampton\", \"Cherbourg\", \"Southampton\", \"Southampton\", \"Southampton\", \"Southampton\", \"Queenstown\", \"Southampton\", \"Southampton\", \"Cherbourg\", \"Southampton\", \"Southampton\", \"Southampton\", \"Queenstown\", \"Southampton\", \"Southampton\", \"Southampton\", \"Southampton\", \"Cherbourg\", \"Cherbourg\", \"Cherbourg\", \"Queenstown\", \"Southampton\", \"Southampton\", \"Southampton\", \"Southampton\", \"Southampton\", \"Cherbourg\", \"Cherbourg\", \"Cherbourg\", \"Southampton\", \"Southampton\", \"Southampton\", \"Cherbourg\", \"Southampton\", \"Cherbourg\", \"Southampton\", \"Southampton\", \"Southampton\", \"Southampton\", \"Cherbourg\", \"Southampton\", \"Southampton\", \"Cherbourg\", \"Southampton\", \"Southampton\", \"Cherbourg\", \"Southampton\", \"Queenstown\", \"Cherbourg\", \"Southampton\", \"Southampton\", \"Cherbourg\", \"Cherbourg\", \"Southampton\", \"Southampton\", \"Queenstown\", \"Southampton\", \"Southampton\", \"Southampton\", \"Southampton\", \"Southampton\", \"Southampton\", \"Southampton\", \"Cherbourg\", \"Southampton\", \"Southampton\", \"Southampton\", \"Southampton\", \"Queenstown\", \"Southampton\", \"Southampton\", \"Southampton\", \"Southampton\", \"Cherbourg\", \"Southampton\", \"Southampton\", \"Cherbourg\", \"Southampton\", \"Cherbourg\", \"Cherbourg\", \"Southampton\", \"Southampton\", \"Cherbourg\", \"Southampton\", \"Southampton\", \"Southampton\", \"Cherbourg\", \"Southampton\", \"Queenstown\", \"Southampton\", \"Southampton\", \"Southampton\", \"Southampton\", \"Cherbourg\", \"Cherbourg\", \"Southampton\", \"Southampton\", \"Southampton\", \"Southampton\", \"Cherbourg\", \"Southampton\", \"Southampton\", \"Southampton\", \"Cherbourg\", \"Southampton\", \"Southampton\", \"Southampton\", \"Queenstown\", \"Queenstown\", \"Southampton\", \"Southampton\", \"Southampton\", \"Southampton\", \"Southampton\", \"Southampton\", \"Cherbourg\", \"Southampton\", \"Cherbourg\", \"Southampton\", \"Southampton\", \"Southampton\", \"Queenstown\", \"Southampton\", \"Southampton\", \"Queenstown\", \"Southampton\", \"Southampton\", \"Cherbourg\", \"Southampton\", \"Southampton\", \"Southampton\", \"Southampton\", \"Southampton\", \"Southampton\", \"Southampton\", \"Southampton\", \"Cherbourg\", \"Southampton\", \"Southampton\", \"Cherbourg\", \"Cherbourg\", \"Southampton\", \"Cherbourg\", \"Southampton\", \"Southampton\", \"Southampton\", \"Southampton\", \"Southampton\", \"Queenstown\", \"Queenstown\", \"Southampton\", \"Southampton\", \"Queenstown\", \"Southampton\", \"Cherbourg\", \"Southampton\", \"Cherbourg\", \"Southampton\", \"Southampton\", \"Southampton\", \"Southampton\", \"Southampton\", \"Southampton\", \"Southampton\", \"Southampton\", \"Southampton\", \"Southampton\", \"Southampton\", \"Southampton\", \"Southampton\", \"Southampton\", \"Southampton\", \"Southampton\", \"Southampton\", \"Cherbourg\", \"Queenstown\", \"Cherbourg\", \"Southampton\", \"Southampton\", \"Southampton\", \"Cherbourg\", \"Southampton\", \"Southampton\", \"Southampton\", \"Southampton\", \"Southampton\", \"Cherbourg\", \"Southampton\", \"Cherbourg\", \"Southampton\", \"Southampton\", \"Southampton\", \"Queenstown\", \"Cherbourg\", \"Southampton\", \"Cherbourg\", \"Southampton\", \"Cherbourg\", \"Queenstown\", \"Southampton\", \"Southampton\", \"Southampton\", \"Southampton\", \"Southampton\", \"Cherbourg\", \"Cherbourg\", \"Southampton\", \"Southampton\", \"Southampton\", \"Southampton\", \"Southampton\", \"Cherbourg\", \"Southampton\", \"Queenstown\", \"Southampton\", \"Southampton\", \"Southampton\", \"Southampton\", \"Southampton\", \"Southampton\", \"Southampton\", \"Southampton\", \"Queenstown\", \"Southampton\", \"Southampton\", \"Southampton\", \"Cherbourg\", \"Southampton\", \"Southampton\", \"Southampton\", \"Southampton\", \"Southampton\", \"Cherbourg\", \"Southampton\", \"Southampton\", \"Southampton\", \"Southampton\", \"Cherbourg\", \"Southampton\", \"Southampton\", \"Southampton\", \"Southampton\", \"Southampton\", \"Southampton\", \"Queenstown\", \"Southampton\", \"Southampton\", \"Southampton\", \"Southampton\", \"Southampton\", \"Southampton\", \"Southampton\", \"Southampton\", \"Southampton\", \"Southampton\", \"Southampton\", \"Southampton\", \"Cherbourg\", \"Southampton\", \"Southampton\", \"Southampton\", \"Cherbourg\", \"Queenstown\", \"Queenstown\", \"Southampton\", \"Southampton\", \"Southampton\", \"Southampton\", \"Cherbourg\", \"Southampton\", \"Southampton\", \"Queenstown\", \"Southampton\", \"Queenstown\", \"Southampton\", \"Cherbourg\", \"Southampton\", \"Southampton\", \"Southampton\", \"Southampton\", \"Southampton\", \"Southampton\", \"Queenstown\", \"Southampton\", \"Cherbourg\", \"Queenstown\", \"Southampton\", \"Southampton\", \"Cherbourg\", \"Southampton\", \"Southampton\", \"Southampton\", \"Southampton\", \"Cherbourg\", \"Southampton\", \"Southampton\", \"Southampton\", \"Southampton\", \"Cherbourg\", \"Southampton\", \"Southampton\", \"Southampton\", \"Southampton\", \"Southampton\", \"Southampton\", \"Southampton\", \"Southampton\", \"Southampton\", \"Southampton\", \"Southampton\", \"Southampton\", \"Southampton\", \"Cherbourg\", \"Southampton\", \"Southampton\", \"Southampton\", \"Southampton\", \"Southampton\", \"Southampton\", \"Southampton\", \"Queenstown\", \"Southampton\", \"Cherbourg\", \"Queenstown\", null, \"Cherbourg\", \"Southampton\", \"Cherbourg\", \"Southampton\", \"Southampton\", \"Cherbourg\", \"Southampton\", \"Southampton\", \"Southampton\", \"Cherbourg\", \"Southampton\", \"Southampton\", \"Cherbourg\", \"Cherbourg\", \"Southampton\", \"Southampton\", \"Southampton\", \"Cherbourg\", \"Southampton\", \"Cherbourg\", \"Southampton\", \"Southampton\", \"Cherbourg\", \"Southampton\", \"Southampton\", \"Southampton\", \"Southampton\", \"Southampton\", \"Cherbourg\", \"Cherbourg\", \"Southampton\", \"Southampton\", \"Southampton\", \"Southampton\", \"Southampton\", \"Southampton\", \"Cherbourg\", \"Southampton\", \"Southampton\", \"Southampton\", \"Southampton\", \"Southampton\", \"Southampton\", \"Southampton\", \"Cherbourg\", \"Cherbourg\", \"Southampton\", \"Southampton\", \"Southampton\", \"Cherbourg\", \"Southampton\", \"Southampton\", \"Southampton\", \"Southampton\", \"Southampton\", \"Queenstown\", \"Southampton\", \"Southampton\", \"Southampton\", \"Cherbourg\", \"Queenstown\"]}], \"domain\": {\"x\": [0.0, 1.0], \"y\": [0.0, 1.0]}, \"line\": {\"color\": [0, 1, 1, 1, 0, 0, 0, 0, 1, 1, 1, 1, 0, 0, 0, 1, 0, 1, 0, 1, 0, 1, 1, 1, 0, 1, 0, 0, 1, 0, 0, 1, 1, 0, 0, 0, 1, 0, 0, 1, 0, 0, 0, 1, 1, 0, 0, 1, 0, 0, 0, 0, 1, 1, 0, 1, 1, 0, 1, 0, 0, 1, 0, 0, 0, 1, 1, 0, 1, 0, 0, 0, 0, 0, 1, 0, 0, 0, 1, 1, 0, 1, 1, 0, 1, 1, 0, 0, 1, 0, 0, 0, 0, 0, 0, 0, 0, 1, 1, 0, 0, 0, 0, 0, 0, 0, 1, 1, 0, 1, 0, 0, 0, 0, 0, 0, 0, 0, 0, 0, 0, 0, 0, 1, 0, 1, 0, 1, 1, 0, 0, 0, 0, 1, 0, 0, 1, 0, 0, 0, 0, 1, 1, 0, 0, 0, 1, 0, 0, 0, 0, 1, 0, 0, 0, 0, 1, 0, 0, 0, 0, 1, 0, 0, 0, 1, 1, 0, 0, 0, 0, 0, 1, 0, 0, 0, 0, 0, 0, 0, 0, 0, 0, 1, 1, 0, 1, 1, 0, 0, 1, 0, 1, 1, 1, 1, 0, 0, 1, 0, 0, 0, 0, 0, 1, 0, 0, 1, 1, 1, 0, 1, 0, 0, 0, 1, 1, 0, 1, 0, 1, 0, 0, 0, 1, 0, 1, 0, 0, 0, 1, 0, 0, 1, 0, 0, 0, 1, 0, 0, 0, 1, 0, 0, 0, 0, 0, 1, 1, 0, 0, 0, 0, 0, 0, 1, 1, 1, 1, 1, 0, 1, 0, 0, 0, 0, 0, 1, 1, 1, 0, 1, 1, 0, 1, 1, 0, 0, 0, 1, 0, 0, 0, 1, 0, 0, 1, 0, 1, 1, 1, 1, 0, 0, 0, 0, 0, 0, 1, 1, 1, 1, 0, 1, 0, 1, 1, 1, 0, 1, 1, 1, 0, 0, 0, 1, 1, 0, 1, 1, 0, 0, 1, 1, 0, 1, 0, 1, 1, 1, 1, 0, 0, 0, 1, 0, 0, 1, 1, 0, 1, 1, 0, 0, 0, 1, 1, 1, 1, 0, 0, 0, 0, 0, 0, 0, 1, 0, 1, 1, 0, 0, 0, 0, 0, 0, 1, 1, 1, 1, 1, 0, 0, 0, 0, 1, 1, 0, 0, 0, 1, 1, 0, 1, 0, 0, 0, 1, 0, 1, 1, 1, 0, 1, 1, 0, 0, 0, 0, 1, 1, 0, 0, 0, 0, 0, 0, 1, 0, 0, 0, 0, 1, 0, 1, 0, 1, 1, 0, 0, 0, 0, 0, 0, 0, 0, 1, 1, 0, 1, 1, 1, 1, 0, 0, 1, 0, 1, 0, 0, 1, 0, 0, 1, 1, 1, 1, 1, 1, 1, 0, 0, 0, 1, 0, 1, 0, 1, 1, 0, 1, 0, 0, 0, 0, 0, 0, 0, 0, 1, 0, 0, 1, 1, 0, 0, 0, 0, 0, 1, 0, 0, 0, 1, 1, 0, 1, 0, 0, 1, 0, 0, 0, 0, 0, 0, 1, 0, 0, 0, 0, 0, 0, 0, 1, 0, 1, 1, 0, 1, 1, 0, 1, 1, 0, 0, 1, 0, 1, 0, 1, 0, 0, 1, 0, 0, 1, 0, 0, 0, 1, 0, 0, 1, 0, 1, 0, 1, 0, 1, 1, 0, 0, 1, 0, 0, 1, 1, 0, 1, 1, 0, 0, 1, 1, 0, 1, 0, 1, 1, 0, 0, 0, 0, 0, 0, 0, 0, 0, 1, 1, 1, 1, 1, 0, 0, 1, 1, 0, 1, 1, 1, 0, 0, 0, 1, 0, 1, 0, 0, 0, 1, 0, 0, 0, 0, 1, 0, 0, 1, 1, 0, 0, 0, 1, 0, 0, 1, 1, 1, 0, 0, 1, 0, 0, 1, 0, 0, 1, 0, 0, 1, 1, 0, 0, 0, 0, 1, 0, 0, 1, 0, 1, 0, 0, 1, 0, 0, 0, 0, 0, 1, 0, 1, 1, 1, 0, 1, 0, 1, 0, 1, 0, 1, 0, 0, 0, 0, 0, 0, 1, 0, 0, 0, 1, 0, 0, 0, 0, 1, 1, 0, 0, 1, 0, 0, 0, 1, 0, 1, 0, 1, 0, 0, 0, 0, 0, 0, 0, 1, 1, 1, 1, 0, 0, 0, 0, 1, 0, 0, 1, 1, 0, 0, 0, 0, 1, 1, 1, 1, 1, 0, 1, 0, 0, 0, 1, 1, 0, 0, 1, 0, 0, 0, 1, 0, 1, 1, 0, 0, 1, 0, 0, 0, 0, 0, 0, 1, 0, 0, 1, 0, 1, 0, 1, 0, 0, 1, 0, 0, 1, 1, 0, 0, 1, 1, 0, 0, 0, 1, 0, 0, 1, 1, 0, 1, 0, 0, 0, 0, 0, 0, 0, 0, 1, 0, 0, 1, 0, 1, 1, 1, 0, 0, 0, 0, 1, 0, 1, 0, 0, 0, 0, 0, 0, 0, 1, 1, 0, 0, 0, 1, 1, 1, 1, 0, 0, 0, 0, 1, 0, 0, 0, 0, 0, 0, 0, 0, 0, 0, 1, 1, 0, 1, 0, 0, 0, 1, 1, 1, 1, 1, 0, 0, 0, 1, 0, 0, 1, 1, 0, 0, 1, 0, 0, 0, 0, 0, 0, 1, 0, 0, 0, 1, 0, 1, 1, 1, 1, 0, 0, 0, 1, 0, 0, 1, 1, 0, 0, 1, 0, 1, 0, 0, 1, 1, 0, 0, 0, 1, 1, 0, 0, 0, 0, 0, 0, 1, 0, 1, 0], \"coloraxis\": \"coloraxis\"}, \"name\": \"\", \"type\": \"parcats\"}],                        {\"coloraxis\": {\"colorbar\": {\"title\": {\"text\": \"survived\"}}, \"colorscale\": [[0.0, \"#0d0887\"], [0.1111111111111111, \"#46039f\"], [0.2222222222222222, \"#7201a8\"], [0.3333333333333333, \"#9c179e\"], [0.4444444444444444, \"#bd3786\"], [0.5555555555555556, \"#d8576b\"], [0.6666666666666666, \"#ed7953\"], [0.7777777777777778, \"#fb9f3a\"], [0.8888888888888888, \"#fdca26\"], [1.0, \"#f0f921\"]]}, \"legend\": {\"tracegroupgap\": 0}, \"margin\": {\"t\": 60}, \"template\": {\"data\": {\"bar\": [{\"error_x\": {\"color\": \"#2a3f5f\"}, \"error_y\": {\"color\": \"#2a3f5f\"}, \"marker\": {\"line\": {\"color\": \"#E5ECF6\", \"width\": 0.5}}, \"type\": \"bar\"}], \"barpolar\": [{\"marker\": {\"line\": {\"color\": \"#E5ECF6\", \"width\": 0.5}}, \"type\": \"barpolar\"}], \"carpet\": [{\"aaxis\": {\"endlinecolor\": \"#2a3f5f\", \"gridcolor\": \"white\", \"linecolor\": \"white\", \"minorgridcolor\": \"white\", \"startlinecolor\": \"#2a3f5f\"}, \"baxis\": {\"endlinecolor\": \"#2a3f5f\", \"gridcolor\": \"white\", \"linecolor\": \"white\", \"minorgridcolor\": \"white\", \"startlinecolor\": \"#2a3f5f\"}, \"type\": \"carpet\"}], \"choropleth\": [{\"colorbar\": {\"outlinewidth\": 0, \"ticks\": \"\"}, \"type\": \"choropleth\"}], \"contour\": [{\"colorbar\": {\"outlinewidth\": 0, \"ticks\": \"\"}, \"colorscale\": [[0.0, \"#0d0887\"], [0.1111111111111111, \"#46039f\"], [0.2222222222222222, \"#7201a8\"], [0.3333333333333333, \"#9c179e\"], [0.4444444444444444, \"#bd3786\"], [0.5555555555555556, \"#d8576b\"], [0.6666666666666666, \"#ed7953\"], [0.7777777777777778, \"#fb9f3a\"], [0.8888888888888888, \"#fdca26\"], [1.0, \"#f0f921\"]], \"type\": \"contour\"}], \"contourcarpet\": [{\"colorbar\": {\"outlinewidth\": 0, \"ticks\": \"\"}, \"type\": \"contourcarpet\"}], \"heatmap\": [{\"colorbar\": {\"outlinewidth\": 0, \"ticks\": \"\"}, \"colorscale\": [[0.0, \"#0d0887\"], [0.1111111111111111, \"#46039f\"], [0.2222222222222222, \"#7201a8\"], [0.3333333333333333, \"#9c179e\"], [0.4444444444444444, \"#bd3786\"], [0.5555555555555556, \"#d8576b\"], [0.6666666666666666, \"#ed7953\"], [0.7777777777777778, \"#fb9f3a\"], [0.8888888888888888, \"#fdca26\"], [1.0, \"#f0f921\"]], \"type\": \"heatmap\"}], \"heatmapgl\": [{\"colorbar\": {\"outlinewidth\": 0, \"ticks\": \"\"}, \"colorscale\": [[0.0, \"#0d0887\"], [0.1111111111111111, \"#46039f\"], [0.2222222222222222, \"#7201a8\"], [0.3333333333333333, \"#9c179e\"], [0.4444444444444444, \"#bd3786\"], [0.5555555555555556, \"#d8576b\"], [0.6666666666666666, \"#ed7953\"], [0.7777777777777778, \"#fb9f3a\"], [0.8888888888888888, \"#fdca26\"], [1.0, \"#f0f921\"]], \"type\": \"heatmapgl\"}], \"histogram\": [{\"marker\": {\"colorbar\": {\"outlinewidth\": 0, \"ticks\": \"\"}}, \"type\": \"histogram\"}], \"histogram2d\": [{\"colorbar\": {\"outlinewidth\": 0, \"ticks\": \"\"}, \"colorscale\": [[0.0, \"#0d0887\"], [0.1111111111111111, \"#46039f\"], [0.2222222222222222, \"#7201a8\"], [0.3333333333333333, \"#9c179e\"], [0.4444444444444444, \"#bd3786\"], [0.5555555555555556, \"#d8576b\"], [0.6666666666666666, \"#ed7953\"], [0.7777777777777778, \"#fb9f3a\"], [0.8888888888888888, \"#fdca26\"], [1.0, \"#f0f921\"]], \"type\": \"histogram2d\"}], \"histogram2dcontour\": [{\"colorbar\": {\"outlinewidth\": 0, \"ticks\": \"\"}, \"colorscale\": [[0.0, \"#0d0887\"], [0.1111111111111111, \"#46039f\"], [0.2222222222222222, \"#7201a8\"], [0.3333333333333333, \"#9c179e\"], [0.4444444444444444, \"#bd3786\"], [0.5555555555555556, \"#d8576b\"], [0.6666666666666666, \"#ed7953\"], [0.7777777777777778, \"#fb9f3a\"], [0.8888888888888888, \"#fdca26\"], [1.0, \"#f0f921\"]], \"type\": \"histogram2dcontour\"}], \"mesh3d\": [{\"colorbar\": {\"outlinewidth\": 0, \"ticks\": \"\"}, \"type\": \"mesh3d\"}], \"parcoords\": [{\"line\": {\"colorbar\": {\"outlinewidth\": 0, \"ticks\": \"\"}}, \"type\": \"parcoords\"}], \"pie\": [{\"automargin\": true, \"type\": \"pie\"}], \"scatter\": [{\"marker\": {\"colorbar\": {\"outlinewidth\": 0, \"ticks\": \"\"}}, \"type\": \"scatter\"}], \"scatter3d\": [{\"line\": {\"colorbar\": {\"outlinewidth\": 0, \"ticks\": \"\"}}, \"marker\": {\"colorbar\": {\"outlinewidth\": 0, \"ticks\": \"\"}}, \"type\": \"scatter3d\"}], \"scattercarpet\": [{\"marker\": {\"colorbar\": {\"outlinewidth\": 0, \"ticks\": \"\"}}, \"type\": \"scattercarpet\"}], \"scattergeo\": [{\"marker\": {\"colorbar\": {\"outlinewidth\": 0, \"ticks\": \"\"}}, \"type\": \"scattergeo\"}], \"scattergl\": [{\"marker\": {\"colorbar\": {\"outlinewidth\": 0, \"ticks\": \"\"}}, \"type\": \"scattergl\"}], \"scattermapbox\": [{\"marker\": {\"colorbar\": {\"outlinewidth\": 0, \"ticks\": \"\"}}, \"type\": \"scattermapbox\"}], \"scatterpolar\": [{\"marker\": {\"colorbar\": {\"outlinewidth\": 0, \"ticks\": \"\"}}, \"type\": \"scatterpolar\"}], \"scatterpolargl\": [{\"marker\": {\"colorbar\": {\"outlinewidth\": 0, \"ticks\": \"\"}}, \"type\": \"scatterpolargl\"}], \"scatterternary\": [{\"marker\": {\"colorbar\": {\"outlinewidth\": 0, \"ticks\": \"\"}}, \"type\": \"scatterternary\"}], \"surface\": [{\"colorbar\": {\"outlinewidth\": 0, \"ticks\": \"\"}, \"colorscale\": [[0.0, \"#0d0887\"], [0.1111111111111111, \"#46039f\"], [0.2222222222222222, \"#7201a8\"], [0.3333333333333333, \"#9c179e\"], [0.4444444444444444, \"#bd3786\"], [0.5555555555555556, \"#d8576b\"], [0.6666666666666666, \"#ed7953\"], [0.7777777777777778, \"#fb9f3a\"], [0.8888888888888888, \"#fdca26\"], [1.0, \"#f0f921\"]], \"type\": \"surface\"}], \"table\": [{\"cells\": {\"fill\": {\"color\": \"#EBF0F8\"}, \"line\": {\"color\": \"white\"}}, \"header\": {\"fill\": {\"color\": \"#C8D4E3\"}, \"line\": {\"color\": \"white\"}}, \"type\": \"table\"}]}, \"layout\": {\"annotationdefaults\": {\"arrowcolor\": \"#2a3f5f\", \"arrowhead\": 0, \"arrowwidth\": 1}, \"coloraxis\": {\"colorbar\": {\"outlinewidth\": 0, \"ticks\": \"\"}}, \"colorscale\": {\"diverging\": [[0, \"#8e0152\"], [0.1, \"#c51b7d\"], [0.2, \"#de77ae\"], [0.3, \"#f1b6da\"], [0.4, \"#fde0ef\"], [0.5, \"#f7f7f7\"], [0.6, \"#e6f5d0\"], [0.7, \"#b8e186\"], [0.8, \"#7fbc41\"], [0.9, \"#4d9221\"], [1, \"#276419\"]], \"sequential\": [[0.0, \"#0d0887\"], [0.1111111111111111, \"#46039f\"], [0.2222222222222222, \"#7201a8\"], [0.3333333333333333, \"#9c179e\"], [0.4444444444444444, \"#bd3786\"], [0.5555555555555556, \"#d8576b\"], [0.6666666666666666, \"#ed7953\"], [0.7777777777777778, \"#fb9f3a\"], [0.8888888888888888, \"#fdca26\"], [1.0, \"#f0f921\"]], \"sequentialminus\": [[0.0, \"#0d0887\"], [0.1111111111111111, \"#46039f\"], [0.2222222222222222, \"#7201a8\"], [0.3333333333333333, \"#9c179e\"], [0.4444444444444444, \"#bd3786\"], [0.5555555555555556, \"#d8576b\"], [0.6666666666666666, \"#ed7953\"], [0.7777777777777778, \"#fb9f3a\"], [0.8888888888888888, \"#fdca26\"], [1.0, \"#f0f921\"]]}, \"colorway\": [\"#636efa\", \"#EF553B\", \"#00cc96\", \"#ab63fa\", \"#FFA15A\", \"#19d3f3\", \"#FF6692\", \"#B6E880\", \"#FF97FF\", \"#FECB52\"], \"font\": {\"color\": \"#2a3f5f\"}, \"geo\": {\"bgcolor\": \"white\", \"lakecolor\": \"white\", \"landcolor\": \"#E5ECF6\", \"showlakes\": true, \"showland\": true, \"subunitcolor\": \"white\"}, \"hoverlabel\": {\"align\": \"left\"}, \"hovermode\": \"closest\", \"mapbox\": {\"style\": \"light\"}, \"paper_bgcolor\": \"white\", \"plot_bgcolor\": \"#E5ECF6\", \"polar\": {\"angularaxis\": {\"gridcolor\": \"white\", \"linecolor\": \"white\", \"ticks\": \"\"}, \"bgcolor\": \"#E5ECF6\", \"radialaxis\": {\"gridcolor\": \"white\", \"linecolor\": \"white\", \"ticks\": \"\"}}, \"scene\": {\"xaxis\": {\"backgroundcolor\": \"#E5ECF6\", \"gridcolor\": \"white\", \"gridwidth\": 2, \"linecolor\": \"white\", \"showbackground\": true, \"ticks\": \"\", \"zerolinecolor\": \"white\"}, \"yaxis\": {\"backgroundcolor\": \"#E5ECF6\", \"gridcolor\": \"white\", \"gridwidth\": 2, \"linecolor\": \"white\", \"showbackground\": true, \"ticks\": \"\", \"zerolinecolor\": \"white\"}, \"zaxis\": {\"backgroundcolor\": \"#E5ECF6\", \"gridcolor\": \"white\", \"gridwidth\": 2, \"linecolor\": \"white\", \"showbackground\": true, \"ticks\": \"\", \"zerolinecolor\": \"white\"}}, \"shapedefaults\": {\"line\": {\"color\": \"#2a3f5f\"}}, \"ternary\": {\"aaxis\": {\"gridcolor\": \"white\", \"linecolor\": \"white\", \"ticks\": \"\"}, \"baxis\": {\"gridcolor\": \"white\", \"linecolor\": \"white\", \"ticks\": \"\"}, \"bgcolor\": \"#E5ECF6\", \"caxis\": {\"gridcolor\": \"white\", \"linecolor\": \"white\", \"ticks\": \"\"}}, \"title\": {\"x\": 0.05}, \"xaxis\": {\"automargin\": true, \"gridcolor\": \"white\", \"linecolor\": \"white\", \"ticks\": \"\", \"title\": {\"standoff\": 15}, \"zerolinecolor\": \"white\", \"zerolinewidth\": 2}, \"yaxis\": {\"automargin\": true, \"gridcolor\": \"white\", \"linecolor\": \"white\", \"ticks\": \"\", \"title\": {\"standoff\": 15}, \"zerolinecolor\": \"white\", \"zerolinewidth\": 2}}}},                        {\"responsive\": true}                    ).then(function(){\n",
       "                            \n",
       "var gd = document.getElementById('a4709a0b-8a4e-4109-802b-60dfb9bca28a');\n",
       "var x = new MutationObserver(function (mutations, observer) {{\n",
       "        var display = window.getComputedStyle(gd).display;\n",
       "        if (!display || display === 'none') {{\n",
       "            console.log([gd, 'removed!']);\n",
       "            Plotly.purge(gd);\n",
       "            observer.disconnect();\n",
       "        }}\n",
       "}});\n",
       "\n",
       "// Listen for the removal of the full notebook cells\n",
       "var notebookContainer = gd.closest('#notebook-container');\n",
       "if (notebookContainer) {{\n",
       "    x.observe(notebookContainer, {childList: true});\n",
       "}}\n",
       "\n",
       "// Listen for the clearing of the current output cell\n",
       "var outputEl = gd.closest('.output');\n",
       "if (outputEl) {{\n",
       "    x.observe(outputEl, {childList: true});\n",
       "}}\n",
       "\n",
       "                        })                };                });            </script>        </div>"
      ]
     },
     "metadata": {},
     "output_type": "display_data"
    }
   ],
   "source": [
    "df_viz = df[~df.fare.isna()].copy()\n",
    "df_viz['fare_category'] = pd.cut(df_viz.fare, bins=[df_viz.fare.min(), 25, 50, 100, df_viz.fare.max()], labels=['cheap', 'medium', 'expensive', 'very expensive'])\n",
    "\n",
    "px.parallel_categories(df_viz, dimensions=['class', 'embark_town'], color='survived')"
   ]
  },
  {
   "cell_type": "code",
   "execution_count": null,
   "id": "raised-government",
   "metadata": {},
   "outputs": [],
   "source": []
  },
  {
   "cell_type": "code",
   "execution_count": null,
   "id": "million-strap",
   "metadata": {},
   "outputs": [],
   "source": []
  },
  {
   "cell_type": "code",
   "execution_count": 126,
   "id": "russian-plain",
   "metadata": {},
   "outputs": [],
   "source": [
    "df = sns.load_dataset('iris')"
   ]
  },
  {
   "cell_type": "code",
   "execution_count": 132,
   "id": "bearing-roommate",
   "metadata": {},
   "outputs": [
    {
     "data": {
      "application/vnd.plotly.v1+json": {
       "config": {
        "plotlyServerURL": "https://plot.ly"
       },
       "data": [
        {
         "alignmentgroup": "True",
         "bingroup": "x",
         "hovertemplate": "species=setosa<br>petal_length=%{x}<br>count=%{y}<extra></extra>",
         "legendgroup": "setosa",
         "marker": {
          "color": "#636efa"
         },
         "name": "setosa",
         "nbinsx": 50,
         "offsetgroup": "setosa",
         "orientation": "v",
         "showlegend": true,
         "type": "histogram",
         "x": [
          1.4,
          1.4,
          1.3,
          1.5,
          1.4,
          1.7,
          1.4,
          1.5,
          1.4,
          1.5,
          1.5,
          1.6,
          1.4,
          1.1,
          1.2,
          1.5,
          1.3,
          1.4,
          1.7,
          1.5,
          1.7,
          1.5,
          1,
          1.7,
          1.9,
          1.6,
          1.6,
          1.5,
          1.4,
          1.6,
          1.6,
          1.5,
          1.5,
          1.4,
          1.5,
          1.2,
          1.3,
          1.4,
          1.3,
          1.5,
          1.3,
          1.3,
          1.3,
          1.6,
          1.9,
          1.4,
          1.6,
          1.4,
          1.5,
          1.4
         ],
         "xaxis": "x",
         "yaxis": "y"
        },
        {
         "alignmentgroup": "True",
         "bingroup": "x",
         "hovertemplate": "species=versicolor<br>petal_length=%{x}<br>count=%{y}<extra></extra>",
         "legendgroup": "versicolor",
         "marker": {
          "color": "#EF553B"
         },
         "name": "versicolor",
         "nbinsx": 50,
         "offsetgroup": "versicolor",
         "orientation": "v",
         "showlegend": true,
         "type": "histogram",
         "x": [
          4.7,
          4.5,
          4.9,
          4,
          4.6,
          4.5,
          4.7,
          3.3,
          4.6,
          3.9,
          3.5,
          4.2,
          4,
          4.7,
          3.6,
          4.4,
          4.5,
          4.1,
          4.5,
          3.9,
          4.8,
          4,
          4.9,
          4.7,
          4.3,
          4.4,
          4.8,
          5,
          4.5,
          3.5,
          3.8,
          3.7,
          3.9,
          5.1,
          4.5,
          4.5,
          4.7,
          4.4,
          4.1,
          4,
          4.4,
          4.6,
          4,
          3.3,
          4.2,
          4.2,
          4.2,
          4.3,
          3,
          4.1
         ],
         "xaxis": "x",
         "yaxis": "y"
        },
        {
         "alignmentgroup": "True",
         "bingroup": "x",
         "hovertemplate": "species=virginica<br>petal_length=%{x}<br>count=%{y}<extra></extra>",
         "legendgroup": "virginica",
         "marker": {
          "color": "#00cc96"
         },
         "name": "virginica",
         "nbinsx": 50,
         "offsetgroup": "virginica",
         "orientation": "v",
         "showlegend": true,
         "type": "histogram",
         "x": [
          6,
          5.1,
          5.9,
          5.6,
          5.8,
          6.6,
          4.5,
          6.3,
          5.8,
          6.1,
          5.1,
          5.3,
          5.5,
          5,
          5.1,
          5.3,
          5.5,
          6.7,
          6.9,
          5,
          5.7,
          4.9,
          6.7,
          4.9,
          5.7,
          6,
          4.8,
          4.9,
          5.6,
          5.8,
          6.1,
          6.4,
          5.6,
          5.1,
          5.6,
          6.1,
          5.6,
          5.5,
          4.8,
          5.4,
          5.6,
          5.1,
          5.1,
          5.9,
          5.7,
          5.2,
          5,
          5.2,
          5.4,
          5.1
         ],
         "xaxis": "x",
         "yaxis": "y"
        }
       ],
       "layout": {
        "barmode": "relative",
        "legend": {
         "title": {
          "text": "species"
         },
         "tracegroupgap": 0
        },
        "margin": {
         "t": 60
        },
        "template": {
         "data": {
          "bar": [
           {
            "error_x": {
             "color": "#2a3f5f"
            },
            "error_y": {
             "color": "#2a3f5f"
            },
            "marker": {
             "line": {
              "color": "#E5ECF6",
              "width": 0.5
             }
            },
            "type": "bar"
           }
          ],
          "barpolar": [
           {
            "marker": {
             "line": {
              "color": "#E5ECF6",
              "width": 0.5
             }
            },
            "type": "barpolar"
           }
          ],
          "carpet": [
           {
            "aaxis": {
             "endlinecolor": "#2a3f5f",
             "gridcolor": "white",
             "linecolor": "white",
             "minorgridcolor": "white",
             "startlinecolor": "#2a3f5f"
            },
            "baxis": {
             "endlinecolor": "#2a3f5f",
             "gridcolor": "white",
             "linecolor": "white",
             "minorgridcolor": "white",
             "startlinecolor": "#2a3f5f"
            },
            "type": "carpet"
           }
          ],
          "choropleth": [
           {
            "colorbar": {
             "outlinewidth": 0,
             "ticks": ""
            },
            "type": "choropleth"
           }
          ],
          "contour": [
           {
            "colorbar": {
             "outlinewidth": 0,
             "ticks": ""
            },
            "colorscale": [
             [
              0,
              "#0d0887"
             ],
             [
              0.1111111111111111,
              "#46039f"
             ],
             [
              0.2222222222222222,
              "#7201a8"
             ],
             [
              0.3333333333333333,
              "#9c179e"
             ],
             [
              0.4444444444444444,
              "#bd3786"
             ],
             [
              0.5555555555555556,
              "#d8576b"
             ],
             [
              0.6666666666666666,
              "#ed7953"
             ],
             [
              0.7777777777777778,
              "#fb9f3a"
             ],
             [
              0.8888888888888888,
              "#fdca26"
             ],
             [
              1,
              "#f0f921"
             ]
            ],
            "type": "contour"
           }
          ],
          "contourcarpet": [
           {
            "colorbar": {
             "outlinewidth": 0,
             "ticks": ""
            },
            "type": "contourcarpet"
           }
          ],
          "heatmap": [
           {
            "colorbar": {
             "outlinewidth": 0,
             "ticks": ""
            },
            "colorscale": [
             [
              0,
              "#0d0887"
             ],
             [
              0.1111111111111111,
              "#46039f"
             ],
             [
              0.2222222222222222,
              "#7201a8"
             ],
             [
              0.3333333333333333,
              "#9c179e"
             ],
             [
              0.4444444444444444,
              "#bd3786"
             ],
             [
              0.5555555555555556,
              "#d8576b"
             ],
             [
              0.6666666666666666,
              "#ed7953"
             ],
             [
              0.7777777777777778,
              "#fb9f3a"
             ],
             [
              0.8888888888888888,
              "#fdca26"
             ],
             [
              1,
              "#f0f921"
             ]
            ],
            "type": "heatmap"
           }
          ],
          "heatmapgl": [
           {
            "colorbar": {
             "outlinewidth": 0,
             "ticks": ""
            },
            "colorscale": [
             [
              0,
              "#0d0887"
             ],
             [
              0.1111111111111111,
              "#46039f"
             ],
             [
              0.2222222222222222,
              "#7201a8"
             ],
             [
              0.3333333333333333,
              "#9c179e"
             ],
             [
              0.4444444444444444,
              "#bd3786"
             ],
             [
              0.5555555555555556,
              "#d8576b"
             ],
             [
              0.6666666666666666,
              "#ed7953"
             ],
             [
              0.7777777777777778,
              "#fb9f3a"
             ],
             [
              0.8888888888888888,
              "#fdca26"
             ],
             [
              1,
              "#f0f921"
             ]
            ],
            "type": "heatmapgl"
           }
          ],
          "histogram": [
           {
            "marker": {
             "colorbar": {
              "outlinewidth": 0,
              "ticks": ""
             }
            },
            "type": "histogram"
           }
          ],
          "histogram2d": [
           {
            "colorbar": {
             "outlinewidth": 0,
             "ticks": ""
            },
            "colorscale": [
             [
              0,
              "#0d0887"
             ],
             [
              0.1111111111111111,
              "#46039f"
             ],
             [
              0.2222222222222222,
              "#7201a8"
             ],
             [
              0.3333333333333333,
              "#9c179e"
             ],
             [
              0.4444444444444444,
              "#bd3786"
             ],
             [
              0.5555555555555556,
              "#d8576b"
             ],
             [
              0.6666666666666666,
              "#ed7953"
             ],
             [
              0.7777777777777778,
              "#fb9f3a"
             ],
             [
              0.8888888888888888,
              "#fdca26"
             ],
             [
              1,
              "#f0f921"
             ]
            ],
            "type": "histogram2d"
           }
          ],
          "histogram2dcontour": [
           {
            "colorbar": {
             "outlinewidth": 0,
             "ticks": ""
            },
            "colorscale": [
             [
              0,
              "#0d0887"
             ],
             [
              0.1111111111111111,
              "#46039f"
             ],
             [
              0.2222222222222222,
              "#7201a8"
             ],
             [
              0.3333333333333333,
              "#9c179e"
             ],
             [
              0.4444444444444444,
              "#bd3786"
             ],
             [
              0.5555555555555556,
              "#d8576b"
             ],
             [
              0.6666666666666666,
              "#ed7953"
             ],
             [
              0.7777777777777778,
              "#fb9f3a"
             ],
             [
              0.8888888888888888,
              "#fdca26"
             ],
             [
              1,
              "#f0f921"
             ]
            ],
            "type": "histogram2dcontour"
           }
          ],
          "mesh3d": [
           {
            "colorbar": {
             "outlinewidth": 0,
             "ticks": ""
            },
            "type": "mesh3d"
           }
          ],
          "parcoords": [
           {
            "line": {
             "colorbar": {
              "outlinewidth": 0,
              "ticks": ""
             }
            },
            "type": "parcoords"
           }
          ],
          "pie": [
           {
            "automargin": true,
            "type": "pie"
           }
          ],
          "scatter": [
           {
            "marker": {
             "colorbar": {
              "outlinewidth": 0,
              "ticks": ""
             }
            },
            "type": "scatter"
           }
          ],
          "scatter3d": [
           {
            "line": {
             "colorbar": {
              "outlinewidth": 0,
              "ticks": ""
             }
            },
            "marker": {
             "colorbar": {
              "outlinewidth": 0,
              "ticks": ""
             }
            },
            "type": "scatter3d"
           }
          ],
          "scattercarpet": [
           {
            "marker": {
             "colorbar": {
              "outlinewidth": 0,
              "ticks": ""
             }
            },
            "type": "scattercarpet"
           }
          ],
          "scattergeo": [
           {
            "marker": {
             "colorbar": {
              "outlinewidth": 0,
              "ticks": ""
             }
            },
            "type": "scattergeo"
           }
          ],
          "scattergl": [
           {
            "marker": {
             "colorbar": {
              "outlinewidth": 0,
              "ticks": ""
             }
            },
            "type": "scattergl"
           }
          ],
          "scattermapbox": [
           {
            "marker": {
             "colorbar": {
              "outlinewidth": 0,
              "ticks": ""
             }
            },
            "type": "scattermapbox"
           }
          ],
          "scatterpolar": [
           {
            "marker": {
             "colorbar": {
              "outlinewidth": 0,
              "ticks": ""
             }
            },
            "type": "scatterpolar"
           }
          ],
          "scatterpolargl": [
           {
            "marker": {
             "colorbar": {
              "outlinewidth": 0,
              "ticks": ""
             }
            },
            "type": "scatterpolargl"
           }
          ],
          "scatterternary": [
           {
            "marker": {
             "colorbar": {
              "outlinewidth": 0,
              "ticks": ""
             }
            },
            "type": "scatterternary"
           }
          ],
          "surface": [
           {
            "colorbar": {
             "outlinewidth": 0,
             "ticks": ""
            },
            "colorscale": [
             [
              0,
              "#0d0887"
             ],
             [
              0.1111111111111111,
              "#46039f"
             ],
             [
              0.2222222222222222,
              "#7201a8"
             ],
             [
              0.3333333333333333,
              "#9c179e"
             ],
             [
              0.4444444444444444,
              "#bd3786"
             ],
             [
              0.5555555555555556,
              "#d8576b"
             ],
             [
              0.6666666666666666,
              "#ed7953"
             ],
             [
              0.7777777777777778,
              "#fb9f3a"
             ],
             [
              0.8888888888888888,
              "#fdca26"
             ],
             [
              1,
              "#f0f921"
             ]
            ],
            "type": "surface"
           }
          ],
          "table": [
           {
            "cells": {
             "fill": {
              "color": "#EBF0F8"
             },
             "line": {
              "color": "white"
             }
            },
            "header": {
             "fill": {
              "color": "#C8D4E3"
             },
             "line": {
              "color": "white"
             }
            },
            "type": "table"
           }
          ]
         },
         "layout": {
          "annotationdefaults": {
           "arrowcolor": "#2a3f5f",
           "arrowhead": 0,
           "arrowwidth": 1
          },
          "coloraxis": {
           "colorbar": {
            "outlinewidth": 0,
            "ticks": ""
           }
          },
          "colorscale": {
           "diverging": [
            [
             0,
             "#8e0152"
            ],
            [
             0.1,
             "#c51b7d"
            ],
            [
             0.2,
             "#de77ae"
            ],
            [
             0.3,
             "#f1b6da"
            ],
            [
             0.4,
             "#fde0ef"
            ],
            [
             0.5,
             "#f7f7f7"
            ],
            [
             0.6,
             "#e6f5d0"
            ],
            [
             0.7,
             "#b8e186"
            ],
            [
             0.8,
             "#7fbc41"
            ],
            [
             0.9,
             "#4d9221"
            ],
            [
             1,
             "#276419"
            ]
           ],
           "sequential": [
            [
             0,
             "#0d0887"
            ],
            [
             0.1111111111111111,
             "#46039f"
            ],
            [
             0.2222222222222222,
             "#7201a8"
            ],
            [
             0.3333333333333333,
             "#9c179e"
            ],
            [
             0.4444444444444444,
             "#bd3786"
            ],
            [
             0.5555555555555556,
             "#d8576b"
            ],
            [
             0.6666666666666666,
             "#ed7953"
            ],
            [
             0.7777777777777778,
             "#fb9f3a"
            ],
            [
             0.8888888888888888,
             "#fdca26"
            ],
            [
             1,
             "#f0f921"
            ]
           ],
           "sequentialminus": [
            [
             0,
             "#0d0887"
            ],
            [
             0.1111111111111111,
             "#46039f"
            ],
            [
             0.2222222222222222,
             "#7201a8"
            ],
            [
             0.3333333333333333,
             "#9c179e"
            ],
            [
             0.4444444444444444,
             "#bd3786"
            ],
            [
             0.5555555555555556,
             "#d8576b"
            ],
            [
             0.6666666666666666,
             "#ed7953"
            ],
            [
             0.7777777777777778,
             "#fb9f3a"
            ],
            [
             0.8888888888888888,
             "#fdca26"
            ],
            [
             1,
             "#f0f921"
            ]
           ]
          },
          "colorway": [
           "#636efa",
           "#EF553B",
           "#00cc96",
           "#ab63fa",
           "#FFA15A",
           "#19d3f3",
           "#FF6692",
           "#B6E880",
           "#FF97FF",
           "#FECB52"
          ],
          "font": {
           "color": "#2a3f5f"
          },
          "geo": {
           "bgcolor": "white",
           "lakecolor": "white",
           "landcolor": "#E5ECF6",
           "showlakes": true,
           "showland": true,
           "subunitcolor": "white"
          },
          "hoverlabel": {
           "align": "left"
          },
          "hovermode": "closest",
          "mapbox": {
           "style": "light"
          },
          "paper_bgcolor": "white",
          "plot_bgcolor": "#E5ECF6",
          "polar": {
           "angularaxis": {
            "gridcolor": "white",
            "linecolor": "white",
            "ticks": ""
           },
           "bgcolor": "#E5ECF6",
           "radialaxis": {
            "gridcolor": "white",
            "linecolor": "white",
            "ticks": ""
           }
          },
          "scene": {
           "xaxis": {
            "backgroundcolor": "#E5ECF6",
            "gridcolor": "white",
            "gridwidth": 2,
            "linecolor": "white",
            "showbackground": true,
            "ticks": "",
            "zerolinecolor": "white"
           },
           "yaxis": {
            "backgroundcolor": "#E5ECF6",
            "gridcolor": "white",
            "gridwidth": 2,
            "linecolor": "white",
            "showbackground": true,
            "ticks": "",
            "zerolinecolor": "white"
           },
           "zaxis": {
            "backgroundcolor": "#E5ECF6",
            "gridcolor": "white",
            "gridwidth": 2,
            "linecolor": "white",
            "showbackground": true,
            "ticks": "",
            "zerolinecolor": "white"
           }
          },
          "shapedefaults": {
           "line": {
            "color": "#2a3f5f"
           }
          },
          "ternary": {
           "aaxis": {
            "gridcolor": "white",
            "linecolor": "white",
            "ticks": ""
           },
           "baxis": {
            "gridcolor": "white",
            "linecolor": "white",
            "ticks": ""
           },
           "bgcolor": "#E5ECF6",
           "caxis": {
            "gridcolor": "white",
            "linecolor": "white",
            "ticks": ""
           }
          },
          "title": {
           "x": 0.05
          },
          "xaxis": {
           "automargin": true,
           "gridcolor": "white",
           "linecolor": "white",
           "ticks": "",
           "title": {
            "standoff": 15
           },
           "zerolinecolor": "white",
           "zerolinewidth": 2
          },
          "yaxis": {
           "automargin": true,
           "gridcolor": "white",
           "linecolor": "white",
           "ticks": "",
           "title": {
            "standoff": 15
           },
           "zerolinecolor": "white",
           "zerolinewidth": 2
          }
         }
        },
        "xaxis": {
         "anchor": "y",
         "domain": [
          0,
          1
         ],
         "title": {
          "text": "petal_length"
         }
        },
        "yaxis": {
         "anchor": "x",
         "domain": [
          0,
          1
         ],
         "title": {
          "text": "count"
         }
        }
       }
      },
      "text/html": [
       "<div>                            <div id=\"c294f29b-d24d-4a4a-88bd-f84b558564cb\" class=\"plotly-graph-div\" style=\"height:525px; width:100%;\"></div>            <script type=\"text/javascript\">                require([\"plotly\"], function(Plotly) {                    window.PLOTLYENV=window.PLOTLYENV || {};                                    if (document.getElementById(\"c294f29b-d24d-4a4a-88bd-f84b558564cb\")) {                    Plotly.newPlot(                        \"c294f29b-d24d-4a4a-88bd-f84b558564cb\",                        [{\"alignmentgroup\": \"True\", \"bingroup\": \"x\", \"hovertemplate\": \"species=setosa<br>petal_length=%{x}<br>count=%{y}<extra></extra>\", \"legendgroup\": \"setosa\", \"marker\": {\"color\": \"#636efa\"}, \"name\": \"setosa\", \"nbinsx\": 50, \"offsetgroup\": \"setosa\", \"orientation\": \"v\", \"showlegend\": true, \"type\": \"histogram\", \"x\": [1.4, 1.4, 1.3, 1.5, 1.4, 1.7, 1.4, 1.5, 1.4, 1.5, 1.5, 1.6, 1.4, 1.1, 1.2, 1.5, 1.3, 1.4, 1.7, 1.5, 1.7, 1.5, 1.0, 1.7, 1.9, 1.6, 1.6, 1.5, 1.4, 1.6, 1.6, 1.5, 1.5, 1.4, 1.5, 1.2, 1.3, 1.4, 1.3, 1.5, 1.3, 1.3, 1.3, 1.6, 1.9, 1.4, 1.6, 1.4, 1.5, 1.4], \"xaxis\": \"x\", \"yaxis\": \"y\"}, {\"alignmentgroup\": \"True\", \"bingroup\": \"x\", \"hovertemplate\": \"species=versicolor<br>petal_length=%{x}<br>count=%{y}<extra></extra>\", \"legendgroup\": \"versicolor\", \"marker\": {\"color\": \"#EF553B\"}, \"name\": \"versicolor\", \"nbinsx\": 50, \"offsetgroup\": \"versicolor\", \"orientation\": \"v\", \"showlegend\": true, \"type\": \"histogram\", \"x\": [4.7, 4.5, 4.9, 4.0, 4.6, 4.5, 4.7, 3.3, 4.6, 3.9, 3.5, 4.2, 4.0, 4.7, 3.6, 4.4, 4.5, 4.1, 4.5, 3.9, 4.8, 4.0, 4.9, 4.7, 4.3, 4.4, 4.8, 5.0, 4.5, 3.5, 3.8, 3.7, 3.9, 5.1, 4.5, 4.5, 4.7, 4.4, 4.1, 4.0, 4.4, 4.6, 4.0, 3.3, 4.2, 4.2, 4.2, 4.3, 3.0, 4.1], \"xaxis\": \"x\", \"yaxis\": \"y\"}, {\"alignmentgroup\": \"True\", \"bingroup\": \"x\", \"hovertemplate\": \"species=virginica<br>petal_length=%{x}<br>count=%{y}<extra></extra>\", \"legendgroup\": \"virginica\", \"marker\": {\"color\": \"#00cc96\"}, \"name\": \"virginica\", \"nbinsx\": 50, \"offsetgroup\": \"virginica\", \"orientation\": \"v\", \"showlegend\": true, \"type\": \"histogram\", \"x\": [6.0, 5.1, 5.9, 5.6, 5.8, 6.6, 4.5, 6.3, 5.8, 6.1, 5.1, 5.3, 5.5, 5.0, 5.1, 5.3, 5.5, 6.7, 6.9, 5.0, 5.7, 4.9, 6.7, 4.9, 5.7, 6.0, 4.8, 4.9, 5.6, 5.8, 6.1, 6.4, 5.6, 5.1, 5.6, 6.1, 5.6, 5.5, 4.8, 5.4, 5.6, 5.1, 5.1, 5.9, 5.7, 5.2, 5.0, 5.2, 5.4, 5.1], \"xaxis\": \"x\", \"yaxis\": \"y\"}],                        {\"barmode\": \"relative\", \"legend\": {\"title\": {\"text\": \"species\"}, \"tracegroupgap\": 0}, \"margin\": {\"t\": 60}, \"template\": {\"data\": {\"bar\": [{\"error_x\": {\"color\": \"#2a3f5f\"}, \"error_y\": {\"color\": \"#2a3f5f\"}, \"marker\": {\"line\": {\"color\": \"#E5ECF6\", \"width\": 0.5}}, \"type\": \"bar\"}], \"barpolar\": [{\"marker\": {\"line\": {\"color\": \"#E5ECF6\", \"width\": 0.5}}, \"type\": \"barpolar\"}], \"carpet\": [{\"aaxis\": {\"endlinecolor\": \"#2a3f5f\", \"gridcolor\": \"white\", \"linecolor\": \"white\", \"minorgridcolor\": \"white\", \"startlinecolor\": \"#2a3f5f\"}, \"baxis\": {\"endlinecolor\": \"#2a3f5f\", \"gridcolor\": \"white\", \"linecolor\": \"white\", \"minorgridcolor\": \"white\", \"startlinecolor\": \"#2a3f5f\"}, \"type\": \"carpet\"}], \"choropleth\": [{\"colorbar\": {\"outlinewidth\": 0, \"ticks\": \"\"}, \"type\": \"choropleth\"}], \"contour\": [{\"colorbar\": {\"outlinewidth\": 0, \"ticks\": \"\"}, \"colorscale\": [[0.0, \"#0d0887\"], [0.1111111111111111, \"#46039f\"], [0.2222222222222222, \"#7201a8\"], [0.3333333333333333, \"#9c179e\"], [0.4444444444444444, \"#bd3786\"], [0.5555555555555556, \"#d8576b\"], [0.6666666666666666, \"#ed7953\"], [0.7777777777777778, \"#fb9f3a\"], [0.8888888888888888, \"#fdca26\"], [1.0, \"#f0f921\"]], \"type\": \"contour\"}], \"contourcarpet\": [{\"colorbar\": {\"outlinewidth\": 0, \"ticks\": \"\"}, \"type\": \"contourcarpet\"}], \"heatmap\": [{\"colorbar\": {\"outlinewidth\": 0, \"ticks\": \"\"}, \"colorscale\": [[0.0, \"#0d0887\"], [0.1111111111111111, \"#46039f\"], [0.2222222222222222, \"#7201a8\"], [0.3333333333333333, \"#9c179e\"], [0.4444444444444444, \"#bd3786\"], [0.5555555555555556, \"#d8576b\"], [0.6666666666666666, \"#ed7953\"], [0.7777777777777778, \"#fb9f3a\"], [0.8888888888888888, \"#fdca26\"], [1.0, \"#f0f921\"]], \"type\": \"heatmap\"}], \"heatmapgl\": [{\"colorbar\": {\"outlinewidth\": 0, \"ticks\": \"\"}, \"colorscale\": [[0.0, \"#0d0887\"], [0.1111111111111111, \"#46039f\"], [0.2222222222222222, \"#7201a8\"], [0.3333333333333333, \"#9c179e\"], [0.4444444444444444, \"#bd3786\"], [0.5555555555555556, \"#d8576b\"], [0.6666666666666666, \"#ed7953\"], [0.7777777777777778, \"#fb9f3a\"], [0.8888888888888888, \"#fdca26\"], [1.0, \"#f0f921\"]], \"type\": \"heatmapgl\"}], \"histogram\": [{\"marker\": {\"colorbar\": {\"outlinewidth\": 0, \"ticks\": \"\"}}, \"type\": \"histogram\"}], \"histogram2d\": [{\"colorbar\": {\"outlinewidth\": 0, \"ticks\": \"\"}, \"colorscale\": [[0.0, \"#0d0887\"], [0.1111111111111111, \"#46039f\"], [0.2222222222222222, \"#7201a8\"], [0.3333333333333333, \"#9c179e\"], [0.4444444444444444, \"#bd3786\"], [0.5555555555555556, \"#d8576b\"], [0.6666666666666666, \"#ed7953\"], [0.7777777777777778, \"#fb9f3a\"], [0.8888888888888888, \"#fdca26\"], [1.0, \"#f0f921\"]], \"type\": \"histogram2d\"}], \"histogram2dcontour\": [{\"colorbar\": {\"outlinewidth\": 0, \"ticks\": \"\"}, \"colorscale\": [[0.0, \"#0d0887\"], [0.1111111111111111, \"#46039f\"], [0.2222222222222222, \"#7201a8\"], [0.3333333333333333, \"#9c179e\"], [0.4444444444444444, \"#bd3786\"], [0.5555555555555556, \"#d8576b\"], [0.6666666666666666, \"#ed7953\"], [0.7777777777777778, \"#fb9f3a\"], [0.8888888888888888, \"#fdca26\"], [1.0, \"#f0f921\"]], \"type\": \"histogram2dcontour\"}], \"mesh3d\": [{\"colorbar\": {\"outlinewidth\": 0, \"ticks\": \"\"}, \"type\": \"mesh3d\"}], \"parcoords\": [{\"line\": {\"colorbar\": {\"outlinewidth\": 0, \"ticks\": \"\"}}, \"type\": \"parcoords\"}], \"pie\": [{\"automargin\": true, \"type\": \"pie\"}], \"scatter\": [{\"marker\": {\"colorbar\": {\"outlinewidth\": 0, \"ticks\": \"\"}}, \"type\": \"scatter\"}], \"scatter3d\": [{\"line\": {\"colorbar\": {\"outlinewidth\": 0, \"ticks\": \"\"}}, \"marker\": {\"colorbar\": {\"outlinewidth\": 0, \"ticks\": \"\"}}, \"type\": \"scatter3d\"}], \"scattercarpet\": [{\"marker\": {\"colorbar\": {\"outlinewidth\": 0, \"ticks\": \"\"}}, \"type\": \"scattercarpet\"}], \"scattergeo\": [{\"marker\": {\"colorbar\": {\"outlinewidth\": 0, \"ticks\": \"\"}}, \"type\": \"scattergeo\"}], \"scattergl\": [{\"marker\": {\"colorbar\": {\"outlinewidth\": 0, \"ticks\": \"\"}}, \"type\": \"scattergl\"}], \"scattermapbox\": [{\"marker\": {\"colorbar\": {\"outlinewidth\": 0, \"ticks\": \"\"}}, \"type\": \"scattermapbox\"}], \"scatterpolar\": [{\"marker\": {\"colorbar\": {\"outlinewidth\": 0, \"ticks\": \"\"}}, \"type\": \"scatterpolar\"}], \"scatterpolargl\": [{\"marker\": {\"colorbar\": {\"outlinewidth\": 0, \"ticks\": \"\"}}, \"type\": \"scatterpolargl\"}], \"scatterternary\": [{\"marker\": {\"colorbar\": {\"outlinewidth\": 0, \"ticks\": \"\"}}, \"type\": \"scatterternary\"}], \"surface\": [{\"colorbar\": {\"outlinewidth\": 0, \"ticks\": \"\"}, \"colorscale\": [[0.0, \"#0d0887\"], [0.1111111111111111, \"#46039f\"], [0.2222222222222222, \"#7201a8\"], [0.3333333333333333, \"#9c179e\"], [0.4444444444444444, \"#bd3786\"], [0.5555555555555556, \"#d8576b\"], [0.6666666666666666, \"#ed7953\"], [0.7777777777777778, \"#fb9f3a\"], [0.8888888888888888, \"#fdca26\"], [1.0, \"#f0f921\"]], \"type\": \"surface\"}], \"table\": [{\"cells\": {\"fill\": {\"color\": \"#EBF0F8\"}, \"line\": {\"color\": \"white\"}}, \"header\": {\"fill\": {\"color\": \"#C8D4E3\"}, \"line\": {\"color\": \"white\"}}, \"type\": \"table\"}]}, \"layout\": {\"annotationdefaults\": {\"arrowcolor\": \"#2a3f5f\", \"arrowhead\": 0, \"arrowwidth\": 1}, \"coloraxis\": {\"colorbar\": {\"outlinewidth\": 0, \"ticks\": \"\"}}, \"colorscale\": {\"diverging\": [[0, \"#8e0152\"], [0.1, \"#c51b7d\"], [0.2, \"#de77ae\"], [0.3, \"#f1b6da\"], [0.4, \"#fde0ef\"], [0.5, \"#f7f7f7\"], [0.6, \"#e6f5d0\"], [0.7, \"#b8e186\"], [0.8, \"#7fbc41\"], [0.9, \"#4d9221\"], [1, \"#276419\"]], \"sequential\": [[0.0, \"#0d0887\"], [0.1111111111111111, \"#46039f\"], [0.2222222222222222, \"#7201a8\"], [0.3333333333333333, \"#9c179e\"], [0.4444444444444444, \"#bd3786\"], [0.5555555555555556, \"#d8576b\"], [0.6666666666666666, \"#ed7953\"], [0.7777777777777778, \"#fb9f3a\"], [0.8888888888888888, \"#fdca26\"], [1.0, \"#f0f921\"]], \"sequentialminus\": [[0.0, \"#0d0887\"], [0.1111111111111111, \"#46039f\"], [0.2222222222222222, \"#7201a8\"], [0.3333333333333333, \"#9c179e\"], [0.4444444444444444, \"#bd3786\"], [0.5555555555555556, \"#d8576b\"], [0.6666666666666666, \"#ed7953\"], [0.7777777777777778, \"#fb9f3a\"], [0.8888888888888888, \"#fdca26\"], [1.0, \"#f0f921\"]]}, \"colorway\": [\"#636efa\", \"#EF553B\", \"#00cc96\", \"#ab63fa\", \"#FFA15A\", \"#19d3f3\", \"#FF6692\", \"#B6E880\", \"#FF97FF\", \"#FECB52\"], \"font\": {\"color\": \"#2a3f5f\"}, \"geo\": {\"bgcolor\": \"white\", \"lakecolor\": \"white\", \"landcolor\": \"#E5ECF6\", \"showlakes\": true, \"showland\": true, \"subunitcolor\": \"white\"}, \"hoverlabel\": {\"align\": \"left\"}, \"hovermode\": \"closest\", \"mapbox\": {\"style\": \"light\"}, \"paper_bgcolor\": \"white\", \"plot_bgcolor\": \"#E5ECF6\", \"polar\": {\"angularaxis\": {\"gridcolor\": \"white\", \"linecolor\": \"white\", \"ticks\": \"\"}, \"bgcolor\": \"#E5ECF6\", \"radialaxis\": {\"gridcolor\": \"white\", \"linecolor\": \"white\", \"ticks\": \"\"}}, \"scene\": {\"xaxis\": {\"backgroundcolor\": \"#E5ECF6\", \"gridcolor\": \"white\", \"gridwidth\": 2, \"linecolor\": \"white\", \"showbackground\": true, \"ticks\": \"\", \"zerolinecolor\": \"white\"}, \"yaxis\": {\"backgroundcolor\": \"#E5ECF6\", \"gridcolor\": \"white\", \"gridwidth\": 2, \"linecolor\": \"white\", \"showbackground\": true, \"ticks\": \"\", \"zerolinecolor\": \"white\"}, \"zaxis\": {\"backgroundcolor\": \"#E5ECF6\", \"gridcolor\": \"white\", \"gridwidth\": 2, \"linecolor\": \"white\", \"showbackground\": true, \"ticks\": \"\", \"zerolinecolor\": \"white\"}}, \"shapedefaults\": {\"line\": {\"color\": \"#2a3f5f\"}}, \"ternary\": {\"aaxis\": {\"gridcolor\": \"white\", \"linecolor\": \"white\", \"ticks\": \"\"}, \"baxis\": {\"gridcolor\": \"white\", \"linecolor\": \"white\", \"ticks\": \"\"}, \"bgcolor\": \"#E5ECF6\", \"caxis\": {\"gridcolor\": \"white\", \"linecolor\": \"white\", \"ticks\": \"\"}}, \"title\": {\"x\": 0.05}, \"xaxis\": {\"automargin\": true, \"gridcolor\": \"white\", \"linecolor\": \"white\", \"ticks\": \"\", \"title\": {\"standoff\": 15}, \"zerolinecolor\": \"white\", \"zerolinewidth\": 2}, \"yaxis\": {\"automargin\": true, \"gridcolor\": \"white\", \"linecolor\": \"white\", \"ticks\": \"\", \"title\": {\"standoff\": 15}, \"zerolinecolor\": \"white\", \"zerolinewidth\": 2}}}, \"xaxis\": {\"anchor\": \"y\", \"domain\": [0.0, 1.0], \"title\": {\"text\": \"petal_length\"}}, \"yaxis\": {\"anchor\": \"x\", \"domain\": [0.0, 1.0], \"title\": {\"text\": \"count\"}}},                        {\"responsive\": true}                    ).then(function(){\n",
       "                            \n",
       "var gd = document.getElementById('c294f29b-d24d-4a4a-88bd-f84b558564cb');\n",
       "var x = new MutationObserver(function (mutations, observer) {{\n",
       "        var display = window.getComputedStyle(gd).display;\n",
       "        if (!display || display === 'none') {{\n",
       "            console.log([gd, 'removed!']);\n",
       "            Plotly.purge(gd);\n",
       "            observer.disconnect();\n",
       "        }}\n",
       "}});\n",
       "\n",
       "// Listen for the removal of the full notebook cells\n",
       "var notebookContainer = gd.closest('#notebook-container');\n",
       "if (notebookContainer) {{\n",
       "    x.observe(notebookContainer, {childList: true});\n",
       "}}\n",
       "\n",
       "// Listen for the clearing of the current output cell\n",
       "var outputEl = gd.closest('.output');\n",
       "if (outputEl) {{\n",
       "    x.observe(outputEl, {childList: true});\n",
       "}}\n",
       "\n",
       "                        })                };                });            </script>        </div>"
      ]
     },
     "metadata": {},
     "output_type": "display_data"
    }
   ],
   "source": [
    "px.histogram(df, x='petal_length', color='species', nbins=50)"
   ]
  },
  {
   "cell_type": "code",
   "execution_count": null,
   "id": "southern-tanzania",
   "metadata": {},
   "outputs": [],
   "source": []
  }
 ],
 "metadata": {
  "kernelspec": {
   "display_name": "Python 3",
   "language": "python",
   "name": "python3"
  },
  "language_info": {
   "codemirror_mode": {
    "name": "ipython",
    "version": 3
   },
   "file_extension": ".py",
   "mimetype": "text/x-python",
   "name": "python",
   "nbconvert_exporter": "python",
   "pygments_lexer": "ipython3",
   "version": "3.8.5"
  }
 },
 "nbformat": 4,
 "nbformat_minor": 5
}
