{
 "cells": [
  {
   "cell_type": "code",
   "execution_count": null,
   "id": "tropical-accreditation",
   "metadata": {},
   "outputs": [],
   "source": [
    "import pandas as pd\n",
    "import seaborn as sns\n",
    "import plotly.express as px"
   ]
  },
  {
   "cell_type": "code",
   "execution_count": null,
   "id": "clinical-plain",
   "metadata": {},
   "outputs": [],
   "source": [
    "df_orig = sns.load_dataset('anscombe')"
   ]
  },
  {
   "cell_type": "code",
   "execution_count": null,
   "id": "ultimate-columbia",
   "metadata": {},
   "outputs": [],
   "source": [
    "dataset_names = ['I', 'II', 'III', 'IV']\n",
    "dfs = {}\n",
    "\n",
    "for name in dataset_names:\n",
    "    dfs[name] = df_orig[df_orig.dataset==name][['x', 'y']]\n"
   ]
  },
  {
   "cell_type": "code",
   "execution_count": null,
   "id": "alpine-premises",
   "metadata": {},
   "outputs": [],
   "source": [
    "for name, df in dfs.items():\n",
    "    print(f\"Dataset {name}\")\n",
    "    print(df_x.mean().round(1))\n",
    "    print(df_x.var().round(1))"
   ]
  },
  {
   "cell_type": "code",
   "execution_count": null,
   "id": "broadband-pursuit",
   "metadata": {},
   "outputs": [],
   "source": [
    "from sklearn.linear_model import LinearRegression\n",
    "lr = LinearRegression()\n",
    "\n",
    "for name, df in dfs.items():\n",
    "    print(f\"Dataset {name}\")\n",
    "    lr.fit(df[['x']], df['y'])\n",
    "    print(f\"Achsenabschnitt: {lr.intercept_.round(2)}\")\n",
    "    print(f\"Steigung: {lr.coef_.round(2)}\")"
   ]
  },
  {
   "cell_type": "code",
   "execution_count": null,
   "id": "indoor-provincial",
   "metadata": {},
   "outputs": [],
   "source": [
    "for name, df in dfs.items():\n",
    "    print(f\"Dataset {name}\")\n",
    "    sns.regplot(data=df, x='x', y='y', ci=None, scatter=False)"
   ]
  },
  {
   "cell_type": "code",
   "execution_count": null,
   "id": "hairy-april",
   "metadata": {},
   "outputs": [],
   "source": [
    "g = sns.FacetGrid(df_orig, col=\"dataset\")\n",
    "g.map(sns.regplot, 'x', 'y', ci=None, scatter=False)\n",
    "g.add_legend()"
   ]
  },
  {
   "cell_type": "code",
   "execution_count": null,
   "id": "decreased-avatar",
   "metadata": {},
   "outputs": [],
   "source": [
    "g = sns.FacetGrid(df_orig, col=\"dataset\")\n",
    "g.map(sns.regplot, 'x', 'y', ci=None, scatter=True)\n",
    "g.add_legend()"
   ]
  },
  {
   "cell_type": "code",
   "execution_count": null,
   "id": "minor-transportation",
   "metadata": {},
   "outputs": [],
   "source": [
    "px.scatter(df_orig, x='x', y='y', color='dataset', trendline=\"ols\")"
   ]
  },
  {
   "cell_type": "code",
   "execution_count": null,
   "id": "heated-button",
   "metadata": {},
   "outputs": [],
   "source": [
    "px.scatter(df_orig, x='x', y='y', color='dataset', trendline=\"ols\", facet_col='dataset', facet_col_wrap=2)"
   ]
  }
 ],
 "metadata": {
  "kernelspec": {
   "display_name": "Python 3",
   "language": "python",
   "name": "python3"
  },
  "language_info": {
   "codemirror_mode": {
    "name": "ipython",
    "version": 3
   },
   "file_extension": ".py",
   "mimetype": "text/x-python",
   "name": "python",
   "nbconvert_exporter": "python",
   "pygments_lexer": "ipython3",
   "version": "3.8.5"
  }
 },
 "nbformat": 4,
 "nbformat_minor": 5
}
